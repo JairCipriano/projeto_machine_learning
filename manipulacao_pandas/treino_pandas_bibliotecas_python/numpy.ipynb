{
 "cells": [
  {
   "cell_type": "code",
   "execution_count": 43,
   "metadata": {},
   "outputs": [],
   "source": [
    "import numpy as np\n",
    "import time"
   ]
  },
  {
   "cell_type": "code",
   "execution_count": 44,
   "metadata": {},
   "outputs": [],
   "source": [
    "tamanho = 10000000"
   ]
  },
  {
   "cell_type": "code",
   "execution_count": 45,
   "metadata": {},
   "outputs": [
    {
     "name": "stdout",
     "output_type": "stream",
     "text": [
      "[0, 1, 2, 3, 4, 5, 6, 7, 8, 9]\n",
      "[9999990, 9999991, 9999992, 9999993, 9999994, 9999995, 9999996, 9999997, 9999998, 9999999]\n"
     ]
    }
   ],
   "source": [
    "list_py = []\n",
    "lista_py = [x for x in range(tamanho)]\n",
    "print(lista_py[:10])\n",
    "print(lista_py[-10:])"
   ]
  },
  {
   "cell_type": "code",
   "execution_count": 46,
   "metadata": {},
   "outputs": [
    {
     "name": "stdout",
     "output_type": "stream",
     "text": [
      "0.5625\n"
     ]
    }
   ],
   "source": [
    "tempo_inicio = time.process_time()\n",
    "lista_py_mut = [x*2 for x in lista_py]\n",
    "tempo_final = time.process_time() - tempo_inicio \n",
    "print(tempo_final)"
   ]
  },
  {
   "cell_type": "code",
   "execution_count": 47,
   "metadata": {},
   "outputs": [
    {
     "name": "stdout",
     "output_type": "stream",
     "text": [
      "[0 1 2 3 4 5 6 7 8 9]\n",
      "[9999990 9999991 9999992 9999993 9999994 9999995 9999996 9999997 9999998\n",
      " 9999999]\n"
     ]
    }
   ],
   "source": [
    "numpy_array = np.array(lista_py)\n",
    "\n",
    "print(numpy_array[:10])\n",
    "print(numpy_array[-10:])\n"
   ]
  },
  {
   "cell_type": "code",
   "execution_count": 48,
   "metadata": {},
   "outputs": [
    {
     "name": "stdout",
     "output_type": "stream",
     "text": [
      "0.03125\n"
     ]
    }
   ],
   "source": [
    "tempo_inicio_np = time.process_time()\n",
    "numpy_array_mut = numpy_array * 2\n",
    "tempo_final_np = time.process_time() - tempo_inicio_np\n",
    "print(tempo_final_np)"
   ]
  },
  {
   "cell_type": "code",
   "execution_count": 52,
   "metadata": {},
   "outputs": [
    {
     "data": {
      "text/plain": [
       "array([1, 2, 3])"
      ]
     },
     "execution_count": 52,
     "metadata": {},
     "output_type": "execute_result"
    }
   ],
   "source": [
    "lista = [1, 2, 3]\n",
    "np_array= np.array(lista)\n",
    "np_array\n"
   ]
  },
  {
   "cell_type": "code",
   "execution_count": 63,
   "metadata": {},
   "outputs": [
    {
     "name": "stdout",
     "output_type": "stream",
     "text": [
      "[[1, 2, 3], [4, 5, 6], [7, 8, 9]] <class 'list'>\n",
      "-------------->\n",
      "[[1 2 3]\n",
      " [4 5 6]\n",
      " [7 8 9]]\n",
      "<class 'numpy.matrix'>\n",
      "-------------->\n",
      "[[1 2 3]\n",
      " [4 5 6]\n",
      " [7 8 9]]\n",
      "<class 'numpy.ndarray'>\n",
      "-------------->\n"
     ]
    }
   ],
   "source": [
    "matriz = [[1, 2, 3], [4, 5, 6], [7, 8, 9]]\n",
    "print(matriz, type( matriz))\n",
    "\n",
    "print('-------------->')\n",
    "\n",
    "print(np.matrix(matriz))\n",
    "print(type(np.matrix(matriz)))\n",
    "\n",
    "print('-------------->')\n",
    "\n",
    "print(np.array(matriz))\n",
    "print(type(np.array(matriz)))\n",
    "\n",
    "print('-------------->')"
   ]
  },
  {
   "cell_type": "code",
   "execution_count": 65,
   "metadata": {},
   "outputs": [
    {
     "name": "stdout",
     "output_type": "stream",
     "text": [
      "[0, 1, 2, 3, 4, 5, 6, 7, 8, 9, 10]\n",
      "<class 'list'>\n"
     ]
    }
   ],
   "source": [
    "lista_range = list(range(11))\n",
    "print(lista_range)\n",
    "print(type(lista_range))"
   ]
  },
  {
   "cell_type": "code",
   "execution_count": 70,
   "metadata": {},
   "outputs": [
    {
     "name": "stdout",
     "output_type": "stream",
     "text": [
      "[ 0  1  2  3  4  5  6  7  8  9 10]\n",
      "<class 'numpy.ndarray'>\n"
     ]
    }
   ],
   "source": [
    "array_range = np.array(range(11))\n",
    "print(array_range)\n",
    "print(type(array_range))"
   ]
  },
  {
   "cell_type": "code",
   "execution_count": 73,
   "metadata": {},
   "outputs": [
    {
     "name": "stdout",
     "output_type": "stream",
     "text": [
      "[0. 0. 0. 0. 0.] <class 'numpy.ndarray'>\n",
      "[[0. 0. 0.]\n",
      " [0. 0. 0.]\n",
      " [0. 0. 0.]]\n"
     ]
    }
   ],
   "source": [
    "zero = np.zeros(5) \n",
    "print(zero, type(zero))\n",
    "\n",
    "matriz_zeros = np.zeros((3,3))\n",
    "print(matriz_zeros)"
   ]
  },
  {
   "cell_type": "code",
   "execution_count": 76,
   "metadata": {},
   "outputs": [
    {
     "data": {
      "text/plain": [
       "array([[1., 0., 0.],\n",
       "       [0., 1., 0.],\n",
       "       [0., 0., 1.]])"
      ]
     },
     "execution_count": 76,
     "metadata": {},
     "output_type": "execute_result"
    }
   ],
   "source": [
    "np.eye(3)"
   ]
  },
  {
   "cell_type": "code",
   "execution_count": 82,
   "metadata": {},
   "outputs": [
    {
     "data": {
      "text/plain": [
       "array([[1.34490373, 1.75523276, 1.88998133, 1.8828105 ],\n",
       "       [1.38494657, 1.02899772, 1.73071714, 1.16106892],\n",
       "       [1.78363089, 1.85693274, 1.20313183, 1.03394423]])"
      ]
     },
     "execution_count": 82,
     "metadata": {},
     "output_type": "execute_result"
    }
   ],
   "source": [
    "np.random.rand(3,4)+1"
   ]
  },
  {
   "cell_type": "code",
   "execution_count": 84,
   "metadata": {},
   "outputs": [
    {
     "data": {
      "text/plain": [
       "array([[0.55323228, 0.44612874, 0.11538693, 0.98275117],\n",
       "       [0.65422669, 0.94030528, 0.26103814, 0.24985038],\n",
       "       [0.68051223, 0.35428197, 0.8991543 , 0.00708502]])"
      ]
     },
     "execution_count": 84,
     "metadata": {},
     "output_type": "execute_result"
    }
   ],
   "source": [
    "np.random.random((3,4))"
   ]
  },
  {
   "cell_type": "code",
   "execution_count": 86,
   "metadata": {},
   "outputs": [
    {
     "data": {
      "text/plain": [
       "array([[-1.22018498,  1.16012486, -0.72694712,  1.50994587],\n",
       "       [ 1.29460679,  1.0696445 ,  1.49327495,  0.80727816],\n",
       "       [ 1.00823943, -0.66714197,  1.87874636, -0.73295171]])"
      ]
     },
     "execution_count": 86,
     "metadata": {},
     "output_type": "execute_result"
    }
   ],
   "source": [
    "np.random.randn(3,4)"
   ]
  },
  {
   "cell_type": "code",
   "execution_count": 87,
   "metadata": {},
   "outputs": [
    {
     "data": {
      "text/plain": [
       "array([[10, 24,  3, 24],\n",
       "       [ 8,  0, 21, 19],\n",
       "       [10, 11,  9, 10]], dtype=int32)"
      ]
     },
     "execution_count": 87,
     "metadata": {},
     "output_type": "execute_result"
    }
   ],
   "source": [
    "np.random.seed(3)\n",
    "np.random.randint(25,size=(3,4))"
   ]
  }
 ],
 "metadata": {
  "kernelspec": {
   "display_name": "Python 3",
   "language": "python",
   "name": "python3"
  },
  "language_info": {
   "codemirror_mode": {
    "name": "ipython",
    "version": 3
   },
   "file_extension": ".py",
   "mimetype": "text/x-python",
   "name": "python",
   "nbconvert_exporter": "python",
   "pygments_lexer": "ipython3",
   "version": "3.11.9"
  }
 },
 "nbformat": 4,
 "nbformat_minor": 2
}
