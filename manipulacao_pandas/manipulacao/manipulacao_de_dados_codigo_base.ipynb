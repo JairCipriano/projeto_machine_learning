{
 "cells": [
  {
   "cell_type": "markdown",
   "id": "changing-combine",
   "metadata": {
    "slideshow": {
     "slide_type": "fragment"
    }
   },
   "source": [
    "## **Pandas Essencial**\n",
    "**Prof. Dr. Samuel Martins (@hisamuka @xavecoding)** <br/>\n",
    "xavecoding: https://youtube.com/c/xavecoding <br/>\n",
    "\n",
    "Neste tutorial, vamos aprender o essencial da biblioteca _Pandas_ para manipulação de dados.<br/><br/>\n",
    "\n",
    "<a rel=\"license\" href=\"http://creativecommons.org/licenses/by-nc-sa/4.0/\"><img alt=\"Creative Commons License\" style=\"border-width:0\" src=\"https://i.creativecommons.org/l/by-nc-sa/4.0/88x31.png\" /></a><br />This work is licensed under a <a rel=\"license\" href=\"http://creativecommons.org/licenses/by-nc-sa/4.0/\">Creative Commons Attribution-NonCommercial-ShareAlike 4.0 International License</a>."
   ]
  },
  {
   "cell_type": "markdown",
   "id": "innovative-honolulu",
   "metadata": {},
   "source": [
    "### Pacotes usados neste Notebook"
   ]
  },
  {
   "cell_type": "code",
   "execution_count": 1,
   "id": "backed-twenty",
   "metadata": {},
   "outputs": [],
   "source": [
    "# pacotes usados neste notebook\n",
    "import pandas as pd\n",
    "import zipfile\n",
    "import csv\n",
    "import numpy as np"
   ]
  },
  {
   "cell_type": "markdown",
   "id": "tracked-shakespeare",
   "metadata": {},
   "source": [
    "<h1>Manipulação de Dados com Pandas</h1><hr/>"
   ]
  },
  {
   "cell_type": "markdown",
   "id": "federal-vinyl",
   "metadata": {},
   "source": [
    "<h2>1. Manipulação Básica de Datasets</h2>\n",
    "<hr/>"
   ]
  },
  {
   "cell_type": "markdown",
   "id": "optimum-season",
   "metadata": {},
   "source": [
    "**Dataset**: Gas Prices in Brazil: https://www.kaggle.com/matheusfreitag/gas-prices-in-brazil <br/>\n",
    "\n",
    "Este dataset contém os **registros dos preços médios semanais dos combustíveis do Brasil entre os anos de 2004 e 2019**. <br/>\n",
    "Cada *amostra (registro/linha)* consiste em um registro de preço aferido para um dado tipo de combustível em uma dada localidade do Brasil. <br/>\n",
    "Alguns dos principais *atributos* (colunas) do dataset são: 'ESTADO', 'PRODUTO', 'NÚMERO DE POSTOS PESQUISADOS', 'PREÇO MÉDIO REVENDA'.\n",
    "\n",
    "\n",
    "\\* O arquivo disponibilizado no Kaggle está no formato *tsv*. Embora o _pandas_ consiga abrí-lo normalmente, convertemos tal arquivo para o formato *CSV*, que é um dos formatos mais utilizados, e mudamos seu separado para ';' apenas para mostrar algumas opções da função de carregamento."
   ]
  },
  {
   "cell_type": "markdown",
   "id": "aggregate-provision",
   "metadata": {},
   "source": [
    "### 1.1. Importando o Dataset\n",
    "Para carregar um dataset no formato csv, basta utilizar a função `read_csv` do pandas. Por padrão, ela considera _','_ como separador."
   ]
  },
  {
   "cell_type": "code",
   "execution_count": 211,
   "id": "medieval-strain",
   "metadata": {},
   "outputs": [
    {
     "name": "stdout",
     "output_type": "stream",
     "text": [
      "Arquivo CSV salvo em C:\\Users\\Jair\\Documents\\Estudos Jair\\projeto_machine_learning\\projeto_pandas\\datasets\\2004-2021.tsv.zip\n"
     ]
    }
   ],
   "source": [
    "#O aquivo que estava para download estava em formato TSV e em zip, então foi necessário converter para CSV \n",
    "# Caminho para o arquivo ZIP\n",
    "zip_file = r\"C:\\Users\\Jair\\Documents\\Estudos Jair\\projeto_machine_learning\\projeto_pandas\\datasets\\2004-2021.tsv.zip\"\n",
    "\n",
    "#Caminho para salvar o arquivo TSV\n",
    "tsv_file = r\"C:\\Users\\Jair\\Documents\\Estudos Jair\\projeto_machine_learning\\projeto_pandas\\datasets\\2004-2021.tsv.zip\"\n",
    "\n",
    "#Caminho para salvar o qrquivo CSV\n",
    "csv_file = r\"C:\\Users\\Jair\\Documents\\Estudos Jair\\projeto_machine_learning\\projeto_pandas\\datasets\\2004-2021.tsv.zip\"\n",
    "\n",
    "#ler o arquivo TSV\n",
    "data = pd.read_csv(tsv_file)\n",
    "\n",
    "#Salvar o arquivo com CSV\n",
    "data.to_csv(csv_file, index=False)\n",
    "print(f\"Arquivo CSV salvo em {csv_file}\")\n",
    "\n",
    "\n",
    "\n",
    "\n",
    "\n"
   ]
  },
  {
   "cell_type": "code",
   "execution_count": 212,
   "id": "sorted-martin",
   "metadata": {},
   "outputs": [
    {
     "data": {
      "text/html": [
       "<div>\n",
       "<style scoped>\n",
       "    .dataframe tbody tr th:only-of-type {\n",
       "        vertical-align: middle;\n",
       "    }\n",
       "\n",
       "    .dataframe tbody tr th {\n",
       "        vertical-align: top;\n",
       "    }\n",
       "\n",
       "    .dataframe thead th {\n",
       "        text-align: right;\n",
       "    }\n",
       "</style>\n",
       "<table border=\"1\" class=\"dataframe\">\n",
       "  <thead>\n",
       "    <tr style=\"text-align: right;\">\n",
       "      <th></th>\n",
       "      <th>,\",\"\",\"\"\"\"DATA INICIAL,DATA FINAL,REGIÃO,ESTADO,PRODUTO,NÚMERO DE POSTOS PESQUISADOS,UNIDADE DE MEDIDA,PREÇO MÉDIO REVENDA,DESVIO PADRÃO REVENDA,PREÇO MÍNIMO REVENDA,PREÇO MÁXIMO REVENDA,MARGEM MÉDIA REVENDA,COEF DE VARIAÇÃO REVENDA,PREÇO MÉDIO DISTRIBUIÇÃO,DESVIO PADRÃO DISTRIBUIÇÃO,PREÇO MÍNIMO DISTRIBUIÇÃO,PREÇO MÁXIMO DISTRIBUIÇÃO,COEF DE VARIAÇÃO DISTRIBUIÇÃO\"\"\"\"\"\"\"</th>\n",
       "    </tr>\n",
       "  </thead>\n",
       "  <tbody>\n",
       "    <tr>\n",
       "      <th>0</th>\n",
       "      <td>0.133</td>\n",
       "    </tr>\n",
       "    <tr>\n",
       "      <th>1</th>\n",
       "      <td>0.115</td>\n",
       "    </tr>\n",
       "    <tr>\n",
       "      <th>2</th>\n",
       "      <td>0.098</td>\n",
       "    </tr>\n",
       "    <tr>\n",
       "      <th>3</th>\n",
       "      <td>0.143</td>\n",
       "    </tr>\n",
       "    <tr>\n",
       "      <th>4</th>\n",
       "      <td>0.082</td>\n",
       "    </tr>\n",
       "    <tr>\n",
       "      <th>...</th>\n",
       "      <td>...</td>\n",
       "    </tr>\n",
       "    <tr>\n",
       "      <th>120818</th>\n",
       "      <td>-99999.0</td>\n",
       "    </tr>\n",
       "    <tr>\n",
       "      <th>120819</th>\n",
       "      <td>-99999.0</td>\n",
       "    </tr>\n",
       "    <tr>\n",
       "      <th>120820</th>\n",
       "      <td>-99999.0</td>\n",
       "    </tr>\n",
       "    <tr>\n",
       "      <th>120821</th>\n",
       "      <td>-99999.0</td>\n",
       "    </tr>\n",
       "    <tr>\n",
       "      <th>120822</th>\n",
       "      <td>-99999.0</td>\n",
       "    </tr>\n",
       "  </tbody>\n",
       "</table>\n",
       "<p>120823 rows × 1 columns</p>\n",
       "</div>"
      ],
      "text/plain": [
       "       ,\",\"\",\"\"\"\"DATA INICIAL,DATA FINAL,REGIÃO,ESTADO,PRODUTO,NÚMERO DE POSTOS PESQUISADOS,UNIDADE DE MEDIDA,PREÇO MÉDIO REVENDA,DESVIO PADRÃO REVENDA,PREÇO MÍNIMO REVENDA,PREÇO MÁXIMO REVENDA,MARGEM MÉDIA REVENDA,COEF DE VARIAÇÃO REVENDA,PREÇO MÉDIO DISTRIBUIÇÃO,DESVIO PADRÃO DISTRIBUIÇÃO,PREÇO MÍNIMO DISTRIBUIÇÃO,PREÇO MÁXIMO DISTRIBUIÇÃO,COEF DE VARIAÇÃO DISTRIBUIÇÃO\"\"\"\"\"\"\"\n",
       "0                                                   0.133                                                                                                                                                                                                                                                                                                                                   \n",
       "1                                                   0.115                                                                                                                                                                                                                                                                                                                                   \n",
       "2                                                   0.098                                                                                                                                                                                                                                                                                                                                   \n",
       "3                                                   0.143                                                                                                                                                                                                                                                                                                                                   \n",
       "4                                                   0.082                                                                                                                                                                                                                                                                                                                                   \n",
       "...                                                   ...                                                                                                                                                                                                                                                                                                                                   \n",
       "120818                                           -99999.0                                                                                                                                                                                                                                                                                                                                   \n",
       "120819                                           -99999.0                                                                                                                                                                                                                                                                                                                                   \n",
       "120820                                           -99999.0                                                                                                                                                                                                                                                                                                                                   \n",
       "120821                                           -99999.0                                                                                                                                                                                                                                                                                                                                   \n",
       "120822                                           -99999.0                                                                                                                                                                                                                                                                                                                                   \n",
       "\n",
       "[120823 rows x 1 columns]"
      ]
     },
     "execution_count": 212,
     "metadata": {},
     "output_type": "execute_result"
    }
   ],
   "source": [
    "data"
   ]
  },
  {
   "cell_type": "markdown",
   "id": "accurate-pension",
   "metadata": {},
   "source": [
    "O dataset não foi carregado corretamente pois o separador utilizado seu arquivo CSV era ';' e não a ','. <br/>\n",
    "Vamos então carregá-lo corretamente:"
   ]
  },
  {
   "cell_type": "code",
   "execution_count": 213,
   "id": "daily-press",
   "metadata": {},
   "outputs": [],
   "source": [
    "#Carregando o seprador corretamente, neste casoe o delimiter=\"\\t\"\n",
    "data = pd.read_csv(tsv_file, delimiter=\"\\t\")"
   ]
  },
  {
   "cell_type": "code",
   "execution_count": 214,
   "id": "quiet-fusion",
   "metadata": {},
   "outputs": [
    {
     "data": {
      "text/html": [
       "<div>\n",
       "<style scoped>\n",
       "    .dataframe tbody tr th:only-of-type {\n",
       "        vertical-align: middle;\n",
       "    }\n",
       "\n",
       "    .dataframe tbody tr th {\n",
       "        vertical-align: top;\n",
       "    }\n",
       "\n",
       "    .dataframe thead th {\n",
       "        text-align: right;\n",
       "    }\n",
       "</style>\n",
       "<table border=\"1\" class=\"dataframe\">\n",
       "  <thead>\n",
       "    <tr style=\"text-align: right;\">\n",
       "      <th></th>\n",
       "      <th>,\",\"\",\"\"\"\"DATA INICIAL,DATA FINAL,REGIÃO,ESTADO,PRODUTO,NÚMERO DE POSTOS PESQUISADOS,UNIDADE DE MEDIDA,PREÇO MÉDIO REVENDA,DESVIO PADRÃO REVENDA,PREÇO MÍNIMO REVENDA,PREÇO MÁXIMO REVENDA,MARGEM MÉDIA REVENDA,COEF DE VARIAÇÃO REVENDA,PREÇO MÉDIO DISTRIBUIÇÃO,DESVIO PADRÃO DISTRIBUIÇÃO,PREÇO MÍNIMO DISTRIBUIÇÃO,PREÇO MÁXIMO DISTRIBUIÇÃO,COEF DE VARIAÇÃO DISTRIBUIÇÃO\"\"\"\"\"\"\"</th>\n",
       "    </tr>\n",
       "  </thead>\n",
       "  <tbody>\n",
       "    <tr>\n",
       "      <th>0</th>\n",
       "      <td>0.133</td>\n",
       "    </tr>\n",
       "    <tr>\n",
       "      <th>1</th>\n",
       "      <td>0.115</td>\n",
       "    </tr>\n",
       "    <tr>\n",
       "      <th>2</th>\n",
       "      <td>0.098</td>\n",
       "    </tr>\n",
       "    <tr>\n",
       "      <th>3</th>\n",
       "      <td>0.143</td>\n",
       "    </tr>\n",
       "    <tr>\n",
       "      <th>4</th>\n",
       "      <td>0.082</td>\n",
       "    </tr>\n",
       "    <tr>\n",
       "      <th>...</th>\n",
       "      <td>...</td>\n",
       "    </tr>\n",
       "    <tr>\n",
       "      <th>120818</th>\n",
       "      <td>-99999.0</td>\n",
       "    </tr>\n",
       "    <tr>\n",
       "      <th>120819</th>\n",
       "      <td>-99999.0</td>\n",
       "    </tr>\n",
       "    <tr>\n",
       "      <th>120820</th>\n",
       "      <td>-99999.0</td>\n",
       "    </tr>\n",
       "    <tr>\n",
       "      <th>120821</th>\n",
       "      <td>-99999.0</td>\n",
       "    </tr>\n",
       "    <tr>\n",
       "      <th>120822</th>\n",
       "      <td>-99999.0</td>\n",
       "    </tr>\n",
       "  </tbody>\n",
       "</table>\n",
       "<p>120823 rows × 1 columns</p>\n",
       "</div>"
      ],
      "text/plain": [
       "       ,\",\"\",\"\"\"\"DATA INICIAL,DATA FINAL,REGIÃO,ESTADO,PRODUTO,NÚMERO DE POSTOS PESQUISADOS,UNIDADE DE MEDIDA,PREÇO MÉDIO REVENDA,DESVIO PADRÃO REVENDA,PREÇO MÍNIMO REVENDA,PREÇO MÁXIMO REVENDA,MARGEM MÉDIA REVENDA,COEF DE VARIAÇÃO REVENDA,PREÇO MÉDIO DISTRIBUIÇÃO,DESVIO PADRÃO DISTRIBUIÇÃO,PREÇO MÍNIMO DISTRIBUIÇÃO,PREÇO MÁXIMO DISTRIBUIÇÃO,COEF DE VARIAÇÃO DISTRIBUIÇÃO\"\"\"\"\"\"\"\n",
       "0                                                   0.133                                                                                                                                                                                                                                                                                                                                   \n",
       "1                                                   0.115                                                                                                                                                                                                                                                                                                                                   \n",
       "2                                                   0.098                                                                                                                                                                                                                                                                                                                                   \n",
       "3                                                   0.143                                                                                                                                                                                                                                                                                                                                   \n",
       "4                                                   0.082                                                                                                                                                                                                                                                                                                                                   \n",
       "...                                                   ...                                                                                                                                                                                                                                                                                                                                   \n",
       "120818                                           -99999.0                                                                                                                                                                                                                                                                                                                                   \n",
       "120819                                           -99999.0                                                                                                                                                                                                                                                                                                                                   \n",
       "120820                                           -99999.0                                                                                                                                                                                                                                                                                                                                   \n",
       "120821                                           -99999.0                                                                                                                                                                                                                                                                                                                                   \n",
       "120822                                           -99999.0                                                                                                                                                                                                                                                                                                                                   \n",
       "\n",
       "[120823 rows x 1 columns]"
      ]
     },
     "execution_count": 214,
     "metadata": {},
     "output_type": "execute_result"
    }
   ],
   "source": [
    "data"
   ]
  },
  {
   "cell_type": "markdown",
   "id": "greater-harvest",
   "metadata": {},
   "source": [
    "### 1.2. Exibindo as primeiras linhas do Dataset\n",
    "A função `.head()` exibe as 5 primeiras linhas do dataset/tabela/Data Frame."
   ]
  },
  {
   "cell_type": "code",
   "execution_count": 6,
   "id": "continued-isaac",
   "metadata": {},
   "outputs": [
    {
     "data": {
      "text/html": [
       "<div>\n",
       "<style scoped>\n",
       "    .dataframe tbody tr th:only-of-type {\n",
       "        vertical-align: middle;\n",
       "    }\n",
       "\n",
       "    .dataframe tbody tr th {\n",
       "        vertical-align: top;\n",
       "    }\n",
       "\n",
       "    .dataframe thead th {\n",
       "        text-align: right;\n",
       "    }\n",
       "</style>\n",
       "<table border=\"1\" class=\"dataframe\">\n",
       "  <thead>\n",
       "    <tr style=\"text-align: right;\">\n",
       "      <th></th>\n",
       "      <th>,\",\"\",\"\"\"\"DATA INICIAL,DATA FINAL,REGIÃO,ESTADO,PRODUTO,NÚMERO DE POSTOS PESQUISADOS,UNIDADE DE MEDIDA,PREÇO MÉDIO REVENDA,DESVIO PADRÃO REVENDA,PREÇO MÍNIMO REVENDA,PREÇO MÁXIMO REVENDA,MARGEM MÉDIA REVENDA,COEF DE VARIAÇÃO REVENDA,PREÇO MÉDIO DISTRIBUIÇÃO,DESVIO PADRÃO DISTRIBUIÇÃO,PREÇO MÍNIMO DISTRIBUIÇÃO,PREÇO MÁXIMO DISTRIBUIÇÃO,COEF DE VARIAÇÃO DISTRIBUIÇÃO\"\"\"\"\"\"\"</th>\n",
       "    </tr>\n",
       "  </thead>\n",
       "  <tbody>\n",
       "    <tr>\n",
       "      <th>0</th>\n",
       "      <td>0.133</td>\n",
       "    </tr>\n",
       "    <tr>\n",
       "      <th>1</th>\n",
       "      <td>0.115</td>\n",
       "    </tr>\n",
       "    <tr>\n",
       "      <th>2</th>\n",
       "      <td>0.098</td>\n",
       "    </tr>\n",
       "    <tr>\n",
       "      <th>3</th>\n",
       "      <td>0.143</td>\n",
       "    </tr>\n",
       "    <tr>\n",
       "      <th>4</th>\n",
       "      <td>0.082</td>\n",
       "    </tr>\n",
       "    <tr>\n",
       "      <th>5</th>\n",
       "      <td>0.134</td>\n",
       "    </tr>\n",
       "    <tr>\n",
       "      <th>6</th>\n",
       "      <td>0.062</td>\n",
       "    </tr>\n",
       "    <tr>\n",
       "      <th>7</th>\n",
       "      <td>0.082</td>\n",
       "    </tr>\n",
       "    <tr>\n",
       "      <th>8</th>\n",
       "      <td>0.077</td>\n",
       "    </tr>\n",
       "    <tr>\n",
       "      <th>9</th>\n",
       "      <td>0.096</td>\n",
       "    </tr>\n",
       "  </tbody>\n",
       "</table>\n",
       "</div>"
      ],
      "text/plain": [
       "  ,\",\"\",\"\"\"\"DATA INICIAL,DATA FINAL,REGIÃO,ESTADO,PRODUTO,NÚMERO DE POSTOS PESQUISADOS,UNIDADE DE MEDIDA,PREÇO MÉDIO REVENDA,DESVIO PADRÃO REVENDA,PREÇO MÍNIMO REVENDA,PREÇO MÁXIMO REVENDA,MARGEM MÉDIA REVENDA,COEF DE VARIAÇÃO REVENDA,PREÇO MÉDIO DISTRIBUIÇÃO,DESVIO PADRÃO DISTRIBUIÇÃO,PREÇO MÍNIMO DISTRIBUIÇÃO,PREÇO MÁXIMO DISTRIBUIÇÃO,COEF DE VARIAÇÃO DISTRIBUIÇÃO\"\"\"\"\"\"\"\n",
       "0                                              0.133                                                                                                                                                                                                                                                                                                                                   \n",
       "1                                              0.115                                                                                                                                                                                                                                                                                                                                   \n",
       "2                                              0.098                                                                                                                                                                                                                                                                                                                                   \n",
       "3                                              0.143                                                                                                                                                                                                                                                                                                                                   \n",
       "4                                              0.082                                                                                                                                                                                                                                                                                                                                   \n",
       "5                                              0.134                                                                                                                                                                                                                                                                                                                                   \n",
       "6                                              0.062                                                                                                                                                                                                                                                                                                                                   \n",
       "7                                              0.082                                                                                                                                                                                                                                                                                                                                   \n",
       "8                                              0.077                                                                                                                                                                                                                                                                                                                                   \n",
       "9                                              0.096                                                                                                                                                                                                                                                                                                                                   "
      ]
     },
     "execution_count": 6,
     "metadata": {},
     "output_type": "execute_result"
    }
   ],
   "source": [
    "#Exibe os primeiros  10 primeiras linhas\n",
    "data.head(10)"
   ]
  },
  {
   "cell_type": "markdown",
   "id": "naval-relation",
   "metadata": {},
   "source": [
    "### 1.3 Informações do Dataset e Elementos Chave"
   ]
  },
  {
   "cell_type": "markdown",
   "id": "southern-collaboration",
   "metadata": {},
   "source": [
    "### 1.3.1 Informações gerais sobre o Dataset"
   ]
  },
  {
   "cell_type": "code",
   "execution_count": 7,
   "id": "abstract-component",
   "metadata": {},
   "outputs": [
    {
     "name": "stdout",
     "output_type": "stream",
     "text": [
      "<class 'pandas.core.frame.DataFrame'>\n",
      "RangeIndex: 120823 entries, 0 to 120822\n",
      "Data columns (total 1 columns):\n",
      " #   Column                                                                                                                                                                                                                                                                                                                                                                                 Non-Null Count   Dtype \n",
      "---  ------                                                                                                                                                                                                                                                                                                                                                                                 --------------   ----- \n",
      " 0   ,\",\"\",\"\"\"\"DATA INICIAL,DATA FINAL,REGIÃO,ESTADO,PRODUTO,NÚMERO DE POSTOS PESQUISADOS,UNIDADE DE MEDIDA,PREÇO MÉDIO REVENDA,DESVIO PADRÃO REVENDA,PREÇO MÍNIMO REVENDA,PREÇO MÁXIMO REVENDA,MARGEM MÉDIA REVENDA,COEF DE VARIAÇÃO REVENDA,PREÇO MÉDIO DISTRIBUIÇÃO,DESVIO PADRÃO DISTRIBUIÇÃO,PREÇO MÍNIMO DISTRIBUIÇÃO,PREÇO MÁXIMO DISTRIBUIÇÃO,COEF DE VARIAÇÃO DISTRIBUIÇÃO\"\"\"\"\"\"\"  120823 non-null  object\n",
      "dtypes: object(1)\n",
      "memory usage: 944.1+ KB\n"
     ]
    }
   ],
   "source": [
    "data.info(20)"
   ]
  },
  {
   "cell_type": "markdown",
   "id": "expressed-amber",
   "metadata": {},
   "source": [
    "A primeira coluna da tabela, chamada _'Unnamed: 0'_, parece não significar nada. Na verdade, ela parece ser os **índices** da tabela, que foram salvos como uma _coluna_.<br/>\n",
    "Veremos jajá como **remover tal coluna**.\n",
    "\n",
    "Outro ponto é que, aparentemente, nenhum atributo/coluna possui valores nulos (_null_), uma vez que o número de registros do dataframe e os números de valores _non-null_ é de **106823**. <br/>\n",
    "Mas, veremos que não é bem assim para esse caso."
   ]
  },
  {
   "cell_type": "markdown",
   "id": "nasty-singing",
   "metadata": {},
   "source": [
    "### 1.3.2 Data Frame\n",
    "Todo dataset carregado (dados estruturados) é um `Data Frame`: 'Tabela' bi-dimensional, de tamanho mutável, com dados potencialmente heterogêneos. <br/>"
   ]
  },
  {
   "cell_type": "code",
   "execution_count": 8,
   "id": "micro-progress",
   "metadata": {},
   "outputs": [
    {
     "data": {
      "text/plain": [
       "pandas.core.frame.DataFrame"
      ]
     },
     "execution_count": 8,
     "metadata": {},
     "output_type": "execute_result"
    }
   ],
   "source": [
    "type(data)"
   ]
  },
  {
   "cell_type": "markdown",
   "id": "educated-fourth",
   "metadata": {},
   "source": [
    "Podemos acessar as **dimensões do Data Frame** (número de linhas x número de colunas) utilizando o atributo `.shape` do Data Frame."
   ]
  },
  {
   "cell_type": "code",
   "execution_count": 9,
   "id": "detected-prediction",
   "metadata": {},
   "outputs": [
    {
     "data": {
      "text/plain": [
       "(120823, 1)"
      ]
     },
     "execution_count": 9,
     "metadata": {},
     "output_type": "execute_result"
    }
   ],
   "source": [
    "data.shape"
   ]
  },
  {
   "cell_type": "code",
   "execution_count": 10,
   "id": "fallen-distance",
   "metadata": {},
   "outputs": [
    {
     "name": "stdout",
     "output_type": "stream",
     "text": [
      "O datafrme possui 120823 linhas/obsrvaçõs e 1 colunas/atributos/variaveis\n"
     ]
    }
   ],
   "source": [
    "print(f'O datafrme possui {data.shape[0]} linhas/obsrvaçõs e {data.shape[1]} colunas/atributos/variaveis')"
   ]
  },
  {
   "cell_type": "markdown",
   "id": "binary-sussex",
   "metadata": {},
   "source": [
    "#### **Criando um DataFrame**\n",
    "\n",
    "Podemos criar um DataFrame a partir de um _dicionário_, onde cada **chave** possui uma **lista de elementos de igual tamanho**.<br/>\n",
    "As **chaves** representam as **colunas** e **cada um dos valores de sua lista** representa o **valor da linha** correspondente para aquela coluna."
   ]
  },
  {
   "cell_type": "code",
   "execution_count": 11,
   "id": "beneficial-passport",
   "metadata": {},
   "outputs": [],
   "source": [
    "\n",
    "personagens_df = pd.DataFrame({\n",
    "    'nome' : ['Luke Skywalker', 'Yoda', 'Palpatine'],\n",
    "    'idade' : [16, 1000, 70],\n",
    "    'peso' : [70.5, 15.12, 60.1 ],\n",
    "    'ed jedi' : [True, True, False] #O nome das colunas podem ter espaços\n",
    "})\n",
    "    \n",
    "\n",
    "\n"
   ]
  },
  {
   "cell_type": "code",
   "execution_count": 12,
   "id": "great-relief",
   "metadata": {},
   "outputs": [
    {
     "data": {
      "text/html": [
       "<div>\n",
       "<style scoped>\n",
       "    .dataframe tbody tr th:only-of-type {\n",
       "        vertical-align: middle;\n",
       "    }\n",
       "\n",
       "    .dataframe tbody tr th {\n",
       "        vertical-align: top;\n",
       "    }\n",
       "\n",
       "    .dataframe thead th {\n",
       "        text-align: right;\n",
       "    }\n",
       "</style>\n",
       "<table border=\"1\" class=\"dataframe\">\n",
       "  <thead>\n",
       "    <tr style=\"text-align: right;\">\n",
       "      <th></th>\n",
       "      <th>nome</th>\n",
       "      <th>idade</th>\n",
       "      <th>peso</th>\n",
       "      <th>ed jedi</th>\n",
       "    </tr>\n",
       "  </thead>\n",
       "  <tbody>\n",
       "    <tr>\n",
       "      <th>0</th>\n",
       "      <td>Luke Skywalker</td>\n",
       "      <td>16</td>\n",
       "      <td>70.50</td>\n",
       "      <td>True</td>\n",
       "    </tr>\n",
       "    <tr>\n",
       "      <th>1</th>\n",
       "      <td>Yoda</td>\n",
       "      <td>1000</td>\n",
       "      <td>15.12</td>\n",
       "      <td>True</td>\n",
       "    </tr>\n",
       "    <tr>\n",
       "      <th>2</th>\n",
       "      <td>Palpatine</td>\n",
       "      <td>70</td>\n",
       "      <td>60.10</td>\n",
       "      <td>False</td>\n",
       "    </tr>\n",
       "  </tbody>\n",
       "</table>\n",
       "</div>"
      ],
      "text/plain": [
       "             nome  idade   peso  ed jedi\n",
       "0  Luke Skywalker     16  70.50     True\n",
       "1            Yoda   1000  15.12     True\n",
       "2       Palpatine     70  60.10    False"
      ]
     },
     "execution_count": 12,
     "metadata": {},
     "output_type": "execute_result"
    }
   ],
   "source": [
    "personagens_df"
   ]
  },
  {
   "cell_type": "code",
   "execution_count": 13,
   "id": "b5176407",
   "metadata": {},
   "outputs": [
    {
     "name": "stdout",
     "output_type": "stream",
     "text": [
      "<class 'pandas.core.frame.DataFrame'>\n",
      "RangeIndex: 3 entries, 0 to 2\n",
      "Data columns (total 4 columns):\n",
      " #   Column   Non-Null Count  Dtype  \n",
      "---  ------   --------------  -----  \n",
      " 0   nome     3 non-null      object \n",
      " 1   idade    3 non-null      int64  \n",
      " 2   peso     3 non-null      float64\n",
      " 3   ed jedi  3 non-null      bool   \n",
      "dtypes: bool(1), float64(1), int64(1), object(1)\n",
      "memory usage: 207.0+ bytes\n"
     ]
    }
   ],
   "source": [
    "personagens_df.info()"
   ]
  },
  {
   "cell_type": "markdown",
   "id": "elegant-profit",
   "metadata": {},
   "source": [
    "#### **VEJA MAIS**\n",
    "Criando um Data Frame a partir de um dicionário: https://www.geeksforgeeks.org/how-to-create-dataframe-from-dictionary-in-python-pandas/"
   ]
  },
  {
   "cell_type": "markdown",
   "id": "laden-trance",
   "metadata": {},
   "source": [
    "#### **Renomeando as colunas de um DataFrame**\n",
    "**===>** O método `DataFrame.columns` retorna uma \";lista\" com os **nomes de todas as colunas** do data frame."
   ]
  },
  {
   "cell_type": "code",
   "execution_count": 14,
   "id": "impaired-spain",
   "metadata": {},
   "outputs": [
    {
     "data": {
      "text/plain": [
       "Index(['nome', 'idade', 'peso', 'ed jedi'], dtype='object')"
      ]
     },
     "execution_count": 14,
     "metadata": {},
     "output_type": "execute_result"
    }
   ],
   "source": [
    "personagens_df.columns"
   ]
  },
  {
   "cell_type": "code",
   "execution_count": 15,
   "id": "detected-ceramic",
   "metadata": {},
   "outputs": [
    {
     "data": {
      "text/plain": [
       "pandas.core.indexes.base.Index"
      ]
     },
     "execution_count": 15,
     "metadata": {},
     "output_type": "execute_result"
    }
   ],
   "source": [
    "type(personagens_df.columns)"
   ]
  },
  {
   "cell_type": "code",
   "execution_count": 16,
   "id": "conditional-password",
   "metadata": {},
   "outputs": [
    {
     "data": {
      "text/plain": [
       "['nome', 'idade', 'peso', 'ed jedi']"
      ]
     },
     "execution_count": 16,
     "metadata": {},
     "output_type": "execute_result"
    }
   ],
   "source": [
    "list(personagens_df.columns)\n"
   ]
  },
  {
   "cell_type": "markdown",
   "id": "geographic-wages",
   "metadata": {},
   "source": [
    "<br/>\n",
    "\n",
    "**===>** Para **renomear colunas** do data frame, utilize o método `DataFrame.rename`, que retorna uma _cópia_ do data frame com as as colunas renomeadas:"
   ]
  },
  {
   "cell_type": "code",
   "execution_count": 17,
   "id": "adopted-charlotte",
   "metadata": {},
   "outputs": [
    {
     "data": {
      "text/html": [
       "<div>\n",
       "<style scoped>\n",
       "    .dataframe tbody tr th:only-of-type {\n",
       "        vertical-align: middle;\n",
       "    }\n",
       "\n",
       "    .dataframe tbody tr th {\n",
       "        vertical-align: top;\n",
       "    }\n",
       "\n",
       "    .dataframe thead th {\n",
       "        text-align: right;\n",
       "    }\n",
       "</style>\n",
       "<table border=\"1\" class=\"dataframe\">\n",
       "  <thead>\n",
       "    <tr style=\"text-align: right;\">\n",
       "      <th></th>\n",
       "      <th>nome</th>\n",
       "      <th>idade</th>\n",
       "      <th>peso</th>\n",
       "      <th>ed jedi</th>\n",
       "    </tr>\n",
       "  </thead>\n",
       "  <tbody>\n",
       "    <tr>\n",
       "      <th>0</th>\n",
       "      <td>Luke Skywalker</td>\n",
       "      <td>16</td>\n",
       "      <td>70.50</td>\n",
       "      <td>True</td>\n",
       "    </tr>\n",
       "    <tr>\n",
       "      <th>1</th>\n",
       "      <td>Yoda</td>\n",
       "      <td>1000</td>\n",
       "      <td>15.12</td>\n",
       "      <td>True</td>\n",
       "    </tr>\n",
       "    <tr>\n",
       "      <th>2</th>\n",
       "      <td>Palpatine</td>\n",
       "      <td>70</td>\n",
       "      <td>60.10</td>\n",
       "      <td>False</td>\n",
       "    </tr>\n",
       "  </tbody>\n",
       "</table>\n",
       "</div>"
      ],
      "text/plain": [
       "             nome  idade   peso  ed jedi\n",
       "0  Luke Skywalker     16  70.50     True\n",
       "1            Yoda   1000  15.12     True\n",
       "2       Palpatine     70  60.10    False"
      ]
     },
     "execution_count": 17,
     "metadata": {},
     "output_type": "execute_result"
    }
   ],
   "source": [
    "personagens_df"
   ]
  },
  {
   "cell_type": "code",
   "execution_count": 18,
   "id": "infinite-christian",
   "metadata": {},
   "outputs": [],
   "source": [
    "personagens_df_renomeado = personagens_df.rename(columns={\n",
    "   'nome' : 'nome completo', #Renomeando a coluna 'nome' para 'nome completo'\n",
    "   'idade' : 'Idade'\n",
    "})"
   ]
  },
  {
   "cell_type": "code",
   "execution_count": 19,
   "id": "violent-inspector",
   "metadata": {},
   "outputs": [
    {
     "data": {
      "text/html": [
       "<div>\n",
       "<style scoped>\n",
       "    .dataframe tbody tr th:only-of-type {\n",
       "        vertical-align: middle;\n",
       "    }\n",
       "\n",
       "    .dataframe tbody tr th {\n",
       "        vertical-align: top;\n",
       "    }\n",
       "\n",
       "    .dataframe thead th {\n",
       "        text-align: right;\n",
       "    }\n",
       "</style>\n",
       "<table border=\"1\" class=\"dataframe\">\n",
       "  <thead>\n",
       "    <tr style=\"text-align: right;\">\n",
       "      <th></th>\n",
       "      <th>nome</th>\n",
       "      <th>idade</th>\n",
       "      <th>peso</th>\n",
       "      <th>ed jedi</th>\n",
       "    </tr>\n",
       "  </thead>\n",
       "  <tbody>\n",
       "    <tr>\n",
       "      <th>0</th>\n",
       "      <td>Luke Skywalker</td>\n",
       "      <td>16</td>\n",
       "      <td>70.50</td>\n",
       "      <td>True</td>\n",
       "    </tr>\n",
       "    <tr>\n",
       "      <th>1</th>\n",
       "      <td>Yoda</td>\n",
       "      <td>1000</td>\n",
       "      <td>15.12</td>\n",
       "      <td>True</td>\n",
       "    </tr>\n",
       "    <tr>\n",
       "      <th>2</th>\n",
       "      <td>Palpatine</td>\n",
       "      <td>70</td>\n",
       "      <td>60.10</td>\n",
       "      <td>False</td>\n",
       "    </tr>\n",
       "  </tbody>\n",
       "</table>\n",
       "</div>"
      ],
      "text/plain": [
       "             nome  idade   peso  ed jedi\n",
       "0  Luke Skywalker     16  70.50     True\n",
       "1            Yoda   1000  15.12     True\n",
       "2       Palpatine     70  60.10    False"
      ]
     },
     "execution_count": 19,
     "metadata": {},
     "output_type": "execute_result"
    }
   ],
   "source": [
    "personagens_df"
   ]
  },
  {
   "cell_type": "code",
   "execution_count": 20,
   "id": "homeless-sound",
   "metadata": {},
   "outputs": [],
   "source": [
    "personagens_df.rename(columns={'nome' : 'nome completo','idade' : 'Idade' }, inplace=True)\n"
   ]
  },
  {
   "cell_type": "markdown",
   "id": "personalized-belize",
   "metadata": {},
   "source": [
    "Para renomear o _próprio_ data frame em questão, utilize o parâmetro `inplace=True`:"
   ]
  },
  {
   "cell_type": "code",
   "execution_count": 21,
   "id": "nonprofit-missouri",
   "metadata": {},
   "outputs": [
    {
     "data": {
      "text/html": [
       "<div>\n",
       "<style scoped>\n",
       "    .dataframe tbody tr th:only-of-type {\n",
       "        vertical-align: middle;\n",
       "    }\n",
       "\n",
       "    .dataframe tbody tr th {\n",
       "        vertical-align: top;\n",
       "    }\n",
       "\n",
       "    .dataframe thead th {\n",
       "        text-align: right;\n",
       "    }\n",
       "</style>\n",
       "<table border=\"1\" class=\"dataframe\">\n",
       "  <thead>\n",
       "    <tr style=\"text-align: right;\">\n",
       "      <th></th>\n",
       "      <th>nome completo</th>\n",
       "      <th>Idade</th>\n",
       "      <th>peso</th>\n",
       "      <th>ed jedi</th>\n",
       "    </tr>\n",
       "  </thead>\n",
       "  <tbody>\n",
       "    <tr>\n",
       "      <th>0</th>\n",
       "      <td>Luke Skywalker</td>\n",
       "      <td>16</td>\n",
       "      <td>70.50</td>\n",
       "      <td>True</td>\n",
       "    </tr>\n",
       "    <tr>\n",
       "      <th>1</th>\n",
       "      <td>Yoda</td>\n",
       "      <td>1000</td>\n",
       "      <td>15.12</td>\n",
       "      <td>True</td>\n",
       "    </tr>\n",
       "    <tr>\n",
       "      <th>2</th>\n",
       "      <td>Palpatine</td>\n",
       "      <td>70</td>\n",
       "      <td>60.10</td>\n",
       "      <td>False</td>\n",
       "    </tr>\n",
       "  </tbody>\n",
       "</table>\n",
       "</div>"
      ],
      "text/plain": [
       "    nome completo  Idade   peso  ed jedi\n",
       "0  Luke Skywalker     16  70.50     True\n",
       "1            Yoda   1000  15.12     True\n",
       "2       Palpatine     70  60.10    False"
      ]
     },
     "execution_count": 21,
     "metadata": {},
     "output_type": "execute_result"
    }
   ],
   "source": [
    "personagens_df"
   ]
  },
  {
   "cell_type": "markdown",
   "id": "prompt-childhood",
   "metadata": {},
   "source": [
    "<br/>\n",
    "\n",
    "**===>** Uma outra forma de **renomear todas as listas** de um data frame é passar uma _lista_ com os novos nomes das colunas para o atributo `DataFrame.columns`:"
   ]
  },
  {
   "cell_type": "code",
   "execution_count": 22,
   "id": "bright-procurement",
   "metadata": {},
   "outputs": [
    {
     "data": {
      "text/plain": [
       "Index(['nome completo', 'Idade', 'peso', 'ed jedi'], dtype='object')"
      ]
     },
     "execution_count": 22,
     "metadata": {},
     "output_type": "execute_result"
    }
   ],
   "source": [
    "personagens_df.columns"
   ]
  },
  {
   "cell_type": "code",
   "execution_count": 23,
   "id": "operational-authority",
   "metadata": {},
   "outputs": [],
   "source": [
    "personagens_df.columns = ['NOME', 'IDADE', 'PESO', 'ED_JEDI']"
   ]
  },
  {
   "cell_type": "code",
   "execution_count": 24,
   "id": "authorized-indicator",
   "metadata": {},
   "outputs": [
    {
     "data": {
      "text/html": [
       "<div>\n",
       "<style scoped>\n",
       "    .dataframe tbody tr th:only-of-type {\n",
       "        vertical-align: middle;\n",
       "    }\n",
       "\n",
       "    .dataframe tbody tr th {\n",
       "        vertical-align: top;\n",
       "    }\n",
       "\n",
       "    .dataframe thead th {\n",
       "        text-align: right;\n",
       "    }\n",
       "</style>\n",
       "<table border=\"1\" class=\"dataframe\">\n",
       "  <thead>\n",
       "    <tr style=\"text-align: right;\">\n",
       "      <th></th>\n",
       "      <th>NOME</th>\n",
       "      <th>IDADE</th>\n",
       "      <th>PESO</th>\n",
       "      <th>ED_JEDI</th>\n",
       "    </tr>\n",
       "  </thead>\n",
       "  <tbody>\n",
       "    <tr>\n",
       "      <th>0</th>\n",
       "      <td>Luke Skywalker</td>\n",
       "      <td>16</td>\n",
       "      <td>70.50</td>\n",
       "      <td>True</td>\n",
       "    </tr>\n",
       "    <tr>\n",
       "      <th>1</th>\n",
       "      <td>Yoda</td>\n",
       "      <td>1000</td>\n",
       "      <td>15.12</td>\n",
       "      <td>True</td>\n",
       "    </tr>\n",
       "    <tr>\n",
       "      <th>2</th>\n",
       "      <td>Palpatine</td>\n",
       "      <td>70</td>\n",
       "      <td>60.10</td>\n",
       "      <td>False</td>\n",
       "    </tr>\n",
       "  </tbody>\n",
       "</table>\n",
       "</div>"
      ],
      "text/plain": [
       "             NOME  IDADE   PESO  ED_JEDI\n",
       "0  Luke Skywalker     16  70.50     True\n",
       "1            Yoda   1000  15.12     True\n",
       "2       Palpatine     70  60.10    False"
      ]
     },
     "execution_count": 24,
     "metadata": {},
     "output_type": "execute_result"
    }
   ],
   "source": [
    "personagens_df"
   ]
  },
  {
   "cell_type": "markdown",
   "id": "lonely-sister",
   "metadata": {},
   "source": [
    "### 1.3.3 Series"
   ]
  },
  {
   "cell_type": "markdown",
   "id": "cheap-dressing",
   "metadata": {},
   "source": [
    "Array uni-dimensional com os dados e rótulos de um eixo."
   ]
  },
  {
   "cell_type": "code",
   "execution_count": 25,
   "id": "bacterial-country",
   "metadata": {},
   "outputs": [
    {
     "data": {
      "text/html": [
       "<div>\n",
       "<style scoped>\n",
       "    .dataframe tbody tr th:only-of-type {\n",
       "        vertical-align: middle;\n",
       "    }\n",
       "\n",
       "    .dataframe tbody tr th {\n",
       "        vertical-align: top;\n",
       "    }\n",
       "\n",
       "    .dataframe thead th {\n",
       "        text-align: right;\n",
       "    }\n",
       "</style>\n",
       "<table border=\"1\" class=\"dataframe\">\n",
       "  <thead>\n",
       "    <tr style=\"text-align: right;\">\n",
       "      <th></th>\n",
       "      <th>NOME</th>\n",
       "      <th>IDADE</th>\n",
       "      <th>PESO</th>\n",
       "      <th>ED_JEDI</th>\n",
       "    </tr>\n",
       "  </thead>\n",
       "  <tbody>\n",
       "    <tr>\n",
       "      <th>0</th>\n",
       "      <td>Luke Skywalker</td>\n",
       "      <td>16</td>\n",
       "      <td>70.50</td>\n",
       "      <td>True</td>\n",
       "    </tr>\n",
       "    <tr>\n",
       "      <th>1</th>\n",
       "      <td>Yoda</td>\n",
       "      <td>1000</td>\n",
       "      <td>15.12</td>\n",
       "      <td>True</td>\n",
       "    </tr>\n",
       "    <tr>\n",
       "      <th>2</th>\n",
       "      <td>Palpatine</td>\n",
       "      <td>70</td>\n",
       "      <td>60.10</td>\n",
       "      <td>False</td>\n",
       "    </tr>\n",
       "  </tbody>\n",
       "</table>\n",
       "</div>"
      ],
      "text/plain": [
       "             NOME  IDADE   PESO  ED_JEDI\n",
       "0  Luke Skywalker     16  70.50     True\n",
       "1            Yoda   1000  15.12     True\n",
       "2       Palpatine     70  60.10    False"
      ]
     },
     "execution_count": 25,
     "metadata": {},
     "output_type": "execute_result"
    }
   ],
   "source": [
    "personagens_df.head()"
   ]
  },
  {
   "cell_type": "code",
   "execution_count": 26,
   "id": "incorrect-moment",
   "metadata": {},
   "outputs": [
    {
     "data": {
      "text/plain": [
       "0      16\n",
       "1    1000\n",
       "2      70\n",
       "Name: IDADE, dtype: int64"
      ]
     },
     "execution_count": 26,
     "metadata": {},
     "output_type": "execute_result"
    }
   ],
   "source": [
    "#SELECIONAR A COLUNA INTEIRA\n",
    "personagens_df['IDADE']"
   ]
  },
  {
   "cell_type": "code",
   "execution_count": 27,
   "id": "conscious-fountain",
   "metadata": {},
   "outputs": [
    {
     "data": {
      "text/plain": [
       "0      16\n",
       "1    1000\n",
       "2      70\n",
       "Name: IDADE, dtype: int64"
      ]
     },
     "execution_count": 27,
     "metadata": {},
     "output_type": "execute_result"
    }
   ],
   "source": [
    "#selecionar a coluna inteira\n",
    "#Esta forma de acesso só funciomana se o nome da coluna não tiver espaços,acentos ou caracteres especiais\n",
    "personagens_df.IDADE"
   ]
  },
  {
   "cell_type": "code",
   "execution_count": 28,
   "id": "direct-convenience",
   "metadata": {},
   "outputs": [
    {
     "data": {
      "text/plain": [
       "pandas.core.series.Series"
      ]
     },
     "execution_count": 28,
     "metadata": {},
     "output_type": "execute_result"
    }
   ],
   "source": [
    "type(personagens_df.IDADE)"
   ]
  },
  {
   "cell_type": "code",
   "execution_count": 29,
   "id": "average-final",
   "metadata": {},
   "outputs": [
    {
     "data": {
      "text/plain": [
       "NOME        Yoda\n",
       "IDADE       1000\n",
       "PESO       15.12\n",
       "ED_JEDI     True\n",
       "Name: 1, dtype: object"
      ]
     },
     "execution_count": 29,
     "metadata": {},
     "output_type": "execute_result"
    }
   ],
   "source": [
    "#seleciona  a observações indexada no index [1] do dataframe\n",
    "personagens_df.iloc[1]"
   ]
  },
  {
   "cell_type": "code",
   "execution_count": 30,
   "id": "sensitive-clerk",
   "metadata": {},
   "outputs": [
    {
     "data": {
      "text/plain": [
       "pandas.core.series.Series"
      ]
     },
     "execution_count": 30,
     "metadata": {},
     "output_type": "execute_result"
    }
   ],
   "source": [
    "type(personagens_df.iloc[1])"
   ]
  },
  {
   "cell_type": "markdown",
   "id": "ready-brook",
   "metadata": {},
   "source": [
    "#### **Criando uma Series**\n",
    "\n",
    "Podemos criar um DataFrame a partir de uma lista de elementos."
   ]
  },
  {
   "cell_type": "code",
   "execution_count": 31,
   "id": "acoustic-container",
   "metadata": {},
   "outputs": [
    {
     "data": {
      "text/plain": [
       "0    5.5\n",
       "1    6.0\n",
       "2    9.5\n",
       "dtype: float64"
      ]
     },
     "execution_count": 31,
     "metadata": {},
     "output_type": "execute_result"
    }
   ],
   "source": [
    "pd.Series([5.5, 6.0, 9.5])"
   ]
  },
  {
   "cell_type": "markdown",
   "id": "european-ministry",
   "metadata": {},
   "source": [
    "Podemos alterar o **nome dos índices** (veremos melhor jajá) e o **nome da Series** (o que ela representa):"
   ]
  },
  {
   "cell_type": "code",
   "execution_count": 32,
   "id": "motivated-warning",
   "metadata": {},
   "outputs": [
    {
     "data": {
      "text/plain": [
       "Prova      5.5\n",
       "Prova 2    6.0\n",
       "Projeto    9.5\n",
       "Name: Notas do luke Skywalker, dtype: float64"
      ]
     },
     "execution_count": 32,
     "metadata": {},
     "output_type": "execute_result"
    }
   ],
   "source": [
    "pd.Series([5.5, 6.0, 9.5], index=['Prova ', 'Prova 2', 'Projeto'], name='Notas do luke Skywalker')"
   ]
  },
  {
   "cell_type": "markdown",
   "id": "deadly-prince",
   "metadata": {},
   "source": [
    "#### **VEJA MAIS**\n",
    "https://pandas.pydata.org/pandas-docs/stable/user_guide/dsintro.html"
   ]
  },
  {
   "cell_type": "markdown",
   "id": "insured-turkey",
   "metadata": {},
   "source": [
    "### 1.3.4 Atribuindo Dados"
   ]
  },
  {
   "cell_type": "code",
   "execution_count": 33,
   "id": "ae262359",
   "metadata": {},
   "outputs": [
    {
     "data": {
      "text/html": [
       "<div>\n",
       "<style scoped>\n",
       "    .dataframe tbody tr th:only-of-type {\n",
       "        vertical-align: middle;\n",
       "    }\n",
       "\n",
       "    .dataframe tbody tr th {\n",
       "        vertical-align: top;\n",
       "    }\n",
       "\n",
       "    .dataframe thead th {\n",
       "        text-align: right;\n",
       "    }\n",
       "</style>\n",
       "<table border=\"1\" class=\"dataframe\">\n",
       "  <thead>\n",
       "    <tr style=\"text-align: right;\">\n",
       "      <th></th>\n",
       "      <th>NOME</th>\n",
       "      <th>IDADE</th>\n",
       "      <th>PESO</th>\n",
       "      <th>ED_JEDI</th>\n",
       "    </tr>\n",
       "  </thead>\n",
       "  <tbody>\n",
       "    <tr>\n",
       "      <th>0</th>\n",
       "      <td>Luke Skywalker</td>\n",
       "      <td>16</td>\n",
       "      <td>70.50</td>\n",
       "      <td>True</td>\n",
       "    </tr>\n",
       "    <tr>\n",
       "      <th>1</th>\n",
       "      <td>Yoda</td>\n",
       "      <td>1000</td>\n",
       "      <td>15.12</td>\n",
       "      <td>True</td>\n",
       "    </tr>\n",
       "    <tr>\n",
       "      <th>2</th>\n",
       "      <td>Palpatine</td>\n",
       "      <td>70</td>\n",
       "      <td>60.10</td>\n",
       "      <td>False</td>\n",
       "    </tr>\n",
       "  </tbody>\n",
       "</table>\n",
       "</div>"
      ],
      "text/plain": [
       "             NOME  IDADE   PESO  ED_JEDI\n",
       "0  Luke Skywalker     16  70.50     True\n",
       "1            Yoda   1000  15.12     True\n",
       "2       Palpatine     70  60.10    False"
      ]
     },
     "execution_count": 33,
     "metadata": {},
     "output_type": "execute_result"
    }
   ],
   "source": [
    "personagens_df"
   ]
  },
  {
   "cell_type": "markdown",
   "id": "smooth-tuesday",
   "metadata": {},
   "source": [
    "#### 1.3.4.1 Atribuindo constantes"
   ]
  },
  {
   "cell_type": "code",
   "execution_count": 34,
   "id": "electoral-graduate",
   "metadata": {},
   "outputs": [
    {
     "data": {
      "text/plain": [
       "0    Luke Skywalker\n",
       "1              Yoda\n",
       "2         Palpatine\n",
       "Name: NOME, dtype: object"
      ]
     },
     "execution_count": 34,
     "metadata": {},
     "output_type": "execute_result"
    }
   ],
   "source": [
    "nome_view = personagens_df['NOME']   # A series referente a coluna, NÇAO É UMA CÓPIA, mas sim uma referencia a coluna do dataframe\n",
    "nome_view"
   ]
  },
  {
   "cell_type": "code",
   "execution_count": 35,
   "id": "level-hazard",
   "metadata": {},
   "outputs": [
    {
     "data": {
      "text/plain": [
       "0    Luke Skywalker\n",
       "1              Yoda\n",
       "2         Palpatine\n",
       "Name: NOME, dtype: object"
      ]
     },
     "execution_count": 35,
     "metadata": {},
     "output_type": "execute_result"
    }
   ],
   "source": [
    "nome_view_BKP = personagens_df['NOME'].copy() #Cria uma cópia da coluna ou da linha do dataframe\n",
    "nome_view_BKP"
   ]
  },
  {
   "cell_type": "code",
   "execution_count": 36,
   "id": "connected-lambda",
   "metadata": {},
   "outputs": [
    {
     "data": {
      "text/html": [
       "<div>\n",
       "<style scoped>\n",
       "    .dataframe tbody tr th:only-of-type {\n",
       "        vertical-align: middle;\n",
       "    }\n",
       "\n",
       "    .dataframe tbody tr th {\n",
       "        vertical-align: top;\n",
       "    }\n",
       "\n",
       "    .dataframe thead th {\n",
       "        text-align: right;\n",
       "    }\n",
       "</style>\n",
       "<table border=\"1\" class=\"dataframe\">\n",
       "  <thead>\n",
       "    <tr style=\"text-align: right;\">\n",
       "      <th></th>\n",
       "      <th>NOME</th>\n",
       "      <th>IDADE</th>\n",
       "      <th>PESO</th>\n",
       "      <th>ED_JEDI</th>\n",
       "    </tr>\n",
       "  </thead>\n",
       "  <tbody>\n",
       "    <tr>\n",
       "      <th>0</th>\n",
       "      <td>Luke Skywalker</td>\n",
       "      <td>16</td>\n",
       "      <td>70.50</td>\n",
       "      <td>True</td>\n",
       "    </tr>\n",
       "    <tr>\n",
       "      <th>1</th>\n",
       "      <td>Yoda</td>\n",
       "      <td>1000</td>\n",
       "      <td>15.12</td>\n",
       "      <td>True</td>\n",
       "    </tr>\n",
       "    <tr>\n",
       "      <th>2</th>\n",
       "      <td>Palpatine</td>\n",
       "      <td>70</td>\n",
       "      <td>60.10</td>\n",
       "      <td>False</td>\n",
       "    </tr>\n",
       "  </tbody>\n",
       "</table>\n",
       "</div>"
      ],
      "text/plain": [
       "             NOME  IDADE   PESO  ED_JEDI\n",
       "0  Luke Skywalker     16  70.50     True\n",
       "1            Yoda   1000  15.12     True\n",
       "2       Palpatine     70  60.10    False"
      ]
     },
     "execution_count": 36,
     "metadata": {},
     "output_type": "execute_result"
    }
   ],
   "source": [
    "personagens_df"
   ]
  },
  {
   "cell_type": "code",
   "execution_count": 37,
   "id": "danish-thumbnail",
   "metadata": {},
   "outputs": [
    {
     "data": {
      "text/html": [
       "<div>\n",
       "<style scoped>\n",
       "    .dataframe tbody tr th:only-of-type {\n",
       "        vertical-align: middle;\n",
       "    }\n",
       "\n",
       "    .dataframe tbody tr th {\n",
       "        vertical-align: top;\n",
       "    }\n",
       "\n",
       "    .dataframe thead th {\n",
       "        text-align: right;\n",
       "    }\n",
       "</style>\n",
       "<table border=\"1\" class=\"dataframe\">\n",
       "  <thead>\n",
       "    <tr style=\"text-align: right;\">\n",
       "      <th></th>\n",
       "      <th>NOME</th>\n",
       "      <th>IDADE</th>\n",
       "      <th>PESO</th>\n",
       "      <th>ED_JEDI</th>\n",
       "      <th>poder</th>\n",
       "    </tr>\n",
       "  </thead>\n",
       "  <tbody>\n",
       "    <tr>\n",
       "      <th>0</th>\n",
       "      <td>Luke Skywalker</td>\n",
       "      <td>16</td>\n",
       "      <td>70.50</td>\n",
       "      <td>True</td>\n",
       "      <td>100</td>\n",
       "    </tr>\n",
       "    <tr>\n",
       "      <th>1</th>\n",
       "      <td>Yoda</td>\n",
       "      <td>1000</td>\n",
       "      <td>15.12</td>\n",
       "      <td>True</td>\n",
       "      <td>100</td>\n",
       "    </tr>\n",
       "    <tr>\n",
       "      <th>2</th>\n",
       "      <td>Palpatine</td>\n",
       "      <td>70</td>\n",
       "      <td>60.10</td>\n",
       "      <td>False</td>\n",
       "      <td>100</td>\n",
       "    </tr>\n",
       "  </tbody>\n",
       "</table>\n",
       "</div>"
      ],
      "text/plain": [
       "             NOME  IDADE   PESO  ED_JEDI  poder\n",
       "0  Luke Skywalker     16  70.50     True    100\n",
       "1            Yoda   1000  15.12     True    100\n",
       "2       Palpatine     70  60.10    False    100"
      ]
     },
     "execution_count": 37,
     "metadata": {},
     "output_type": "execute_result"
    }
   ],
   "source": [
    "#criei uma nova coluna no dataframe\n",
    "personagens_df['poder'] = 100\n",
    "personagens_df"
   ]
  },
  {
   "cell_type": "code",
   "execution_count": 38,
   "id": "corresponding-cabinet",
   "metadata": {},
   "outputs": [
    {
     "data": {
      "text/html": [
       "<div>\n",
       "<style scoped>\n",
       "    .dataframe tbody tr th:only-of-type {\n",
       "        vertical-align: middle;\n",
       "    }\n",
       "\n",
       "    .dataframe tbody tr th {\n",
       "        vertical-align: top;\n",
       "    }\n",
       "\n",
       "    .dataframe thead th {\n",
       "        text-align: right;\n",
       "    }\n",
       "</style>\n",
       "<table border=\"1\" class=\"dataframe\">\n",
       "  <thead>\n",
       "    <tr style=\"text-align: right;\">\n",
       "      <th></th>\n",
       "      <th>NOME</th>\n",
       "      <th>IDADE</th>\n",
       "      <th>PESO</th>\n",
       "      <th>ED_JEDI</th>\n",
       "      <th>PODER</th>\n",
       "    </tr>\n",
       "  </thead>\n",
       "  <tbody>\n",
       "    <tr>\n",
       "      <th>0</th>\n",
       "      <td>Luke Skywalker</td>\n",
       "      <td>16</td>\n",
       "      <td>70.50</td>\n",
       "      <td>True</td>\n",
       "      <td>100</td>\n",
       "    </tr>\n",
       "    <tr>\n",
       "      <th>1</th>\n",
       "      <td>Yoda</td>\n",
       "      <td>1000</td>\n",
       "      <td>15.12</td>\n",
       "      <td>True</td>\n",
       "      <td>100</td>\n",
       "    </tr>\n",
       "    <tr>\n",
       "      <th>2</th>\n",
       "      <td>Palpatine</td>\n",
       "      <td>70</td>\n",
       "      <td>60.10</td>\n",
       "      <td>False</td>\n",
       "      <td>100</td>\n",
       "    </tr>\n",
       "  </tbody>\n",
       "</table>\n",
       "</div>"
      ],
      "text/plain": [
       "             NOME  IDADE   PESO  ED_JEDI  PODER\n",
       "0  Luke Skywalker     16  70.50     True    100\n",
       "1            Yoda   1000  15.12     True    100\n",
       "2       Palpatine     70  60.10    False    100"
      ]
     },
     "execution_count": 38,
     "metadata": {},
     "output_type": "execute_result"
    }
   ],
   "source": [
    "personagens_df.rename(columns={'poder' : 'PODER'}, inplace=True)\n",
    "personagens_df"
   ]
  },
  {
   "cell_type": "markdown",
   "id": "mental-logistics",
   "metadata": {},
   "source": [
    "#### 1.3.4.2 Atribuindo listas ou series"
   ]
  },
  {
   "cell_type": "code",
   "execution_count": 39,
   "id": "meaning-alliance",
   "metadata": {},
   "outputs": [
    {
     "data": {
      "text/plain": [
       "(3, 5)"
      ]
     },
     "execution_count": 39,
     "metadata": {},
     "output_type": "execute_result"
    }
   ],
   "source": [
    "nrows, ncols = personagens_df.shape\n",
    "nrows, ncols"
   ]
  },
  {
   "cell_type": "code",
   "execution_count": 40,
   "id": "cordless-nursing",
   "metadata": {},
   "outputs": [
    {
     "data": {
      "text/plain": [
       "['0', '1', '2']"
      ]
     },
     "execution_count": 40,
     "metadata": {},
     "output_type": "execute_result"
    }
   ],
   "source": [
    "level_poder = [f'{i}' for i in range(nrows)]\n",
    "level_poder"
   ]
  },
  {
   "cell_type": "code",
   "execution_count": 41,
   "id": "trained-particular",
   "metadata": {},
   "outputs": [
    {
     "data": {
      "text/html": [
       "<div>\n",
       "<style scoped>\n",
       "    .dataframe tbody tr th:only-of-type {\n",
       "        vertical-align: middle;\n",
       "    }\n",
       "\n",
       "    .dataframe tbody tr th {\n",
       "        vertical-align: top;\n",
       "    }\n",
       "\n",
       "    .dataframe thead th {\n",
       "        text-align: right;\n",
       "    }\n",
       "</style>\n",
       "<table border=\"1\" class=\"dataframe\">\n",
       "  <thead>\n",
       "    <tr style=\"text-align: right;\">\n",
       "      <th></th>\n",
       "      <th>NOME</th>\n",
       "      <th>IDADE</th>\n",
       "      <th>PESO</th>\n",
       "      <th>ED_JEDI</th>\n",
       "      <th>PODER</th>\n",
       "    </tr>\n",
       "  </thead>\n",
       "  <tbody>\n",
       "    <tr>\n",
       "      <th>0</th>\n",
       "      <td>Luke Skywalker</td>\n",
       "      <td>16</td>\n",
       "      <td>70.50</td>\n",
       "      <td>True</td>\n",
       "      <td>0</td>\n",
       "    </tr>\n",
       "    <tr>\n",
       "      <th>1</th>\n",
       "      <td>Yoda</td>\n",
       "      <td>1000</td>\n",
       "      <td>15.12</td>\n",
       "      <td>True</td>\n",
       "      <td>1</td>\n",
       "    </tr>\n",
       "    <tr>\n",
       "      <th>2</th>\n",
       "      <td>Palpatine</td>\n",
       "      <td>70</td>\n",
       "      <td>60.10</td>\n",
       "      <td>False</td>\n",
       "      <td>2</td>\n",
       "    </tr>\n",
       "  </tbody>\n",
       "</table>\n",
       "</div>"
      ],
      "text/plain": [
       "             NOME  IDADE   PESO  ED_JEDI PODER\n",
       "0  Luke Skywalker     16  70.50     True     0\n",
       "1            Yoda   1000  15.12     True     1\n",
       "2       Palpatine     70  60.10    False     2"
      ]
     },
     "execution_count": 41,
     "metadata": {},
     "output_type": "execute_result"
    }
   ],
   "source": [
    "personagens_df['PODER'] = level_poder\n",
    "personagens_df"
   ]
  },
  {
   "cell_type": "code",
   "execution_count": 42,
   "id": "conservative-above",
   "metadata": {},
   "outputs": [
    {
     "name": "stdout",
     "output_type": "stream",
     "text": [
      "0    Luke Skywalker\n",
      "1              Yoda\n",
      "2         Palpatine\n",
      "Name: NOME, dtype: object\n",
      "\n",
      "\n",
      "0    Luke Skywalker\n",
      "1              Yoda\n",
      "2         Palpatine\n",
      "Name: NOME, dtype: object\n"
     ]
    }
   ],
   "source": [
    "print(nome_view)\n",
    "print('\\n')\n",
    "print(nome_view_BKP)\n"
   ]
  },
  {
   "cell_type": "code",
   "execution_count": 43,
   "id": "transparent-service",
   "metadata": {},
   "outputs": [
    {
     "data": {
      "text/html": [
       "<div>\n",
       "<style scoped>\n",
       "    .dataframe tbody tr th:only-of-type {\n",
       "        vertical-align: middle;\n",
       "    }\n",
       "\n",
       "    .dataframe tbody tr th {\n",
       "        vertical-align: top;\n",
       "    }\n",
       "\n",
       "    .dataframe thead th {\n",
       "        text-align: right;\n",
       "    }\n",
       "</style>\n",
       "<table border=\"1\" class=\"dataframe\">\n",
       "  <thead>\n",
       "    <tr style=\"text-align: right;\">\n",
       "      <th></th>\n",
       "      <th>NOME</th>\n",
       "      <th>IDADE</th>\n",
       "      <th>PESO</th>\n",
       "      <th>ED_JEDI</th>\n",
       "      <th>PODER</th>\n",
       "    </tr>\n",
       "  </thead>\n",
       "  <tbody>\n",
       "    <tr>\n",
       "      <th>0</th>\n",
       "      <td>Luke Skywalker</td>\n",
       "      <td>16</td>\n",
       "      <td>70.50</td>\n",
       "      <td>True</td>\n",
       "      <td>0</td>\n",
       "    </tr>\n",
       "    <tr>\n",
       "      <th>1</th>\n",
       "      <td>Yoda</td>\n",
       "      <td>1000</td>\n",
       "      <td>15.12</td>\n",
       "      <td>True</td>\n",
       "      <td>1</td>\n",
       "    </tr>\n",
       "    <tr>\n",
       "      <th>2</th>\n",
       "      <td>Palpatine</td>\n",
       "      <td>70</td>\n",
       "      <td>60.10</td>\n",
       "      <td>False</td>\n",
       "      <td>2</td>\n",
       "    </tr>\n",
       "  </tbody>\n",
       "</table>\n",
       "</div>"
      ],
      "text/plain": [
       "             NOME  IDADE   PESO  ED_JEDI PODER\n",
       "0  Luke Skywalker     16  70.50     True     0\n",
       "1            Yoda   1000  15.12     True     1\n",
       "2       Palpatine     70  60.10    False     2"
      ]
     },
     "execution_count": 43,
     "metadata": {},
     "output_type": "execute_result"
    }
   ],
   "source": [
    "#Usado para voltar para NOME originais\n",
    "personagens_df['NOME'] = nome_view_BKP # nome_view_BKP é uma sireis\n",
    "personagens_df"
   ]
  },
  {
   "cell_type": "markdown",
   "id": "positive-neutral",
   "metadata": {},
   "source": [
    "#### 1.3.4.3 Criando novas colunas\n",
    "Para **criar uma nova coluna** em um data frame, basta atribuirmos uma _lista/Series de valores_ a uma **nova 'chave'** do data frame. <br/>\n",
    "\n",
    "**PS:** A _quantidade de valores_ da lista precisa ser **igual** ao _número de linhas/registros_ do data frame."
   ]
  },
  {
   "cell_type": "code",
   "execution_count": 44,
   "id": "dense-background",
   "metadata": {},
   "outputs": [
    {
     "data": {
      "text/html": [
       "<div>\n",
       "<style scoped>\n",
       "    .dataframe tbody tr th:only-of-type {\n",
       "        vertical-align: middle;\n",
       "    }\n",
       "\n",
       "    .dataframe tbody tr th {\n",
       "        vertical-align: top;\n",
       "    }\n",
       "\n",
       "    .dataframe thead th {\n",
       "        text-align: right;\n",
       "    }\n",
       "</style>\n",
       "<table border=\"1\" class=\"dataframe\">\n",
       "  <thead>\n",
       "    <tr style=\"text-align: right;\">\n",
       "      <th></th>\n",
       "      <th>NOME</th>\n",
       "      <th>IDADE</th>\n",
       "      <th>PESO</th>\n",
       "      <th>ED_JEDI</th>\n",
       "      <th>PODER</th>\n",
       "      <th>Coluna sem noção</th>\n",
       "    </tr>\n",
       "  </thead>\n",
       "  <tbody>\n",
       "    <tr>\n",
       "      <th>0</th>\n",
       "      <td>Luke Skywalker</td>\n",
       "      <td>16</td>\n",
       "      <td>70.50</td>\n",
       "      <td>True</td>\n",
       "      <td>0</td>\n",
       "      <td>Default</td>\n",
       "    </tr>\n",
       "    <tr>\n",
       "      <th>1</th>\n",
       "      <td>Yoda</td>\n",
       "      <td>1000</td>\n",
       "      <td>15.12</td>\n",
       "      <td>True</td>\n",
       "      <td>1</td>\n",
       "      <td>Default</td>\n",
       "    </tr>\n",
       "    <tr>\n",
       "      <th>2</th>\n",
       "      <td>Palpatine</td>\n",
       "      <td>70</td>\n",
       "      <td>60.10</td>\n",
       "      <td>False</td>\n",
       "      <td>2</td>\n",
       "      <td>Default</td>\n",
       "    </tr>\n",
       "  </tbody>\n",
       "</table>\n",
       "</div>"
      ],
      "text/plain": [
       "             NOME  IDADE   PESO  ED_JEDI PODER Coluna sem noção\n",
       "0  Luke Skywalker     16  70.50     True     0          Default\n",
       "1            Yoda   1000  15.12     True     1          Default\n",
       "2       Palpatine     70  60.10    False     2          Default"
      ]
     },
     "execution_count": 44,
     "metadata": {},
     "output_type": "execute_result"
    }
   ],
   "source": [
    "personagens_df['Coluna sem noção'] = 'Default'\n",
    "personagens_df"
   ]
  },
  {
   "cell_type": "code",
   "execution_count": 45,
   "id": "neither-disposal",
   "metadata": {},
   "outputs": [
    {
     "data": {
      "text/html": [
       "<div>\n",
       "<style scoped>\n",
       "    .dataframe tbody tr th:only-of-type {\n",
       "        vertical-align: middle;\n",
       "    }\n",
       "\n",
       "    .dataframe tbody tr th {\n",
       "        vertical-align: top;\n",
       "    }\n",
       "\n",
       "    .dataframe thead th {\n",
       "        text-align: right;\n",
       "    }\n",
       "</style>\n",
       "<table border=\"1\" class=\"dataframe\">\n",
       "  <thead>\n",
       "    <tr style=\"text-align: right;\">\n",
       "      <th></th>\n",
       "      <th>NOME</th>\n",
       "      <th>IDADE</th>\n",
       "      <th>PESO</th>\n",
       "      <th>ED_JEDI</th>\n",
       "      <th>PODER</th>\n",
       "      <th>Coluna sem noção</th>\n",
       "      <th>Coluna a partir de lista</th>\n",
       "    </tr>\n",
       "  </thead>\n",
       "  <tbody>\n",
       "    <tr>\n",
       "      <th>0</th>\n",
       "      <td>Luke Skywalker</td>\n",
       "      <td>16</td>\n",
       "      <td>70.50</td>\n",
       "      <td>True</td>\n",
       "      <td>0</td>\n",
       "      <td>Default</td>\n",
       "      <td>0</td>\n",
       "    </tr>\n",
       "    <tr>\n",
       "      <th>1</th>\n",
       "      <td>Yoda</td>\n",
       "      <td>1000</td>\n",
       "      <td>15.12</td>\n",
       "      <td>True</td>\n",
       "      <td>1</td>\n",
       "      <td>Default</td>\n",
       "      <td>1</td>\n",
       "    </tr>\n",
       "    <tr>\n",
       "      <th>2</th>\n",
       "      <td>Palpatine</td>\n",
       "      <td>70</td>\n",
       "      <td>60.10</td>\n",
       "      <td>False</td>\n",
       "      <td>2</td>\n",
       "      <td>Default</td>\n",
       "      <td>2</td>\n",
       "    </tr>\n",
       "  </tbody>\n",
       "</table>\n",
       "</div>"
      ],
      "text/plain": [
       "             NOME  IDADE   PESO  ED_JEDI PODER Coluna sem noção  \\\n",
       "0  Luke Skywalker     16  70.50     True     0          Default   \n",
       "1            Yoda   1000  15.12     True     1          Default   \n",
       "2       Palpatine     70  60.10    False     2          Default   \n",
       "\n",
       "   Coluna a partir de lista  \n",
       "0                         0  \n",
       "1                         1  \n",
       "2                         2  "
      ]
     },
     "execution_count": 45,
     "metadata": {},
     "output_type": "execute_result"
    }
   ],
   "source": [
    "personagens_df['Coluna a partir de lista'] = range(personagens_df.shape[0])\n",
    "personagens_df"
   ]
  },
  {
   "cell_type": "code",
   "execution_count": 46,
   "id": "electrical-extreme",
   "metadata": {},
   "outputs": [],
   "source": [
    "#Não funciona pq quantidade de elementos na lista (a serem atribuidos na nova coluna) deve ser igual\n",
    "# a quantidae de linhas do dataframe\n",
    "#personagens_df['não combina'] = [0, 1]\n",
    "#personagens_df"
   ]
  },
  {
   "cell_type": "markdown",
   "id": "protected-advertiser",
   "metadata": {},
   "source": [
    "<br/>\n",
    "\n",
    "Outro exemplo:"
   ]
  },
  {
   "cell_type": "code",
   "execution_count": 47,
   "id": "2299d722",
   "metadata": {},
   "outputs": [
    {
     "data": {
      "text/html": [
       "<div>\n",
       "<style scoped>\n",
       "    .dataframe tbody tr th:only-of-type {\n",
       "        vertical-align: middle;\n",
       "    }\n",
       "\n",
       "    .dataframe tbody tr th {\n",
       "        vertical-align: top;\n",
       "    }\n",
       "\n",
       "    .dataframe thead th {\n",
       "        text-align: right;\n",
       "    }\n",
       "</style>\n",
       "<table border=\"1\" class=\"dataframe\">\n",
       "  <thead>\n",
       "    <tr style=\"text-align: right;\">\n",
       "      <th></th>\n",
       "      <th>NOME</th>\n",
       "      <th>IDADE</th>\n",
       "      <th>PESO</th>\n",
       "      <th>ED_JEDI</th>\n",
       "      <th>PODER</th>\n",
       "      <th>Coluna sem noção</th>\n",
       "      <th>Coluna a partir de lista</th>\n",
       "      <th>PODER(Pós Arco)</th>\n",
       "    </tr>\n",
       "  </thead>\n",
       "  <tbody>\n",
       "    <tr>\n",
       "      <th>0</th>\n",
       "      <td>Luke Skywalker</td>\n",
       "      <td>16</td>\n",
       "      <td>70.50</td>\n",
       "      <td>True</td>\n",
       "      <td>0</td>\n",
       "      <td>Default</td>\n",
       "      <td>0</td>\n",
       "      <td>000</td>\n",
       "    </tr>\n",
       "    <tr>\n",
       "      <th>1</th>\n",
       "      <td>Yoda</td>\n",
       "      <td>1000</td>\n",
       "      <td>15.12</td>\n",
       "      <td>True</td>\n",
       "      <td>1</td>\n",
       "      <td>Default</td>\n",
       "      <td>1</td>\n",
       "      <td>111</td>\n",
       "    </tr>\n",
       "    <tr>\n",
       "      <th>2</th>\n",
       "      <td>Palpatine</td>\n",
       "      <td>70</td>\n",
       "      <td>60.10</td>\n",
       "      <td>False</td>\n",
       "      <td>2</td>\n",
       "      <td>Default</td>\n",
       "      <td>2</td>\n",
       "      <td>222</td>\n",
       "    </tr>\n",
       "  </tbody>\n",
       "</table>\n",
       "</div>"
      ],
      "text/plain": [
       "             NOME  IDADE   PESO  ED_JEDI PODER Coluna sem noção  \\\n",
       "0  Luke Skywalker     16  70.50     True     0          Default   \n",
       "1            Yoda   1000  15.12     True     1          Default   \n",
       "2       Palpatine     70  60.10    False     2          Default   \n",
       "\n",
       "   Coluna a partir de lista PODER(Pós Arco)  \n",
       "0                         0             000  \n",
       "1                         1             111  \n",
       "2                         2             222  "
      ]
     },
     "execution_count": 47,
     "metadata": {},
     "output_type": "execute_result"
    }
   ],
   "source": [
    "#não funcionou Pq a coluna PODER é do type object e não int ou float\n",
    "personagens_df['PODER(Pós Arco)'] = personagens_df['PODER'] *3\n",
    "personagens_df"
   ]
  },
  {
   "cell_type": "code",
   "execution_count": 48,
   "id": "restricted-potential",
   "metadata": {},
   "outputs": [
    {
     "data": {
      "text/html": [
       "<div>\n",
       "<style scoped>\n",
       "    .dataframe tbody tr th:only-of-type {\n",
       "        vertical-align: middle;\n",
       "    }\n",
       "\n",
       "    .dataframe tbody tr th {\n",
       "        vertical-align: top;\n",
       "    }\n",
       "\n",
       "    .dataframe thead th {\n",
       "        text-align: right;\n",
       "    }\n",
       "</style>\n",
       "<table border=\"1\" class=\"dataframe\">\n",
       "  <thead>\n",
       "    <tr style=\"text-align: right;\">\n",
       "      <th></th>\n",
       "      <th>NOME</th>\n",
       "      <th>IDADE</th>\n",
       "      <th>PESO</th>\n",
       "      <th>ED_JEDI</th>\n",
       "      <th>PODER</th>\n",
       "      <th>Coluna sem noção</th>\n",
       "      <th>Coluna a partir de lista</th>\n",
       "      <th>PODER(Pós Arco)</th>\n",
       "    </tr>\n",
       "  </thead>\n",
       "  <tbody>\n",
       "    <tr>\n",
       "      <th>0</th>\n",
       "      <td>Luke Skywalker</td>\n",
       "      <td>16</td>\n",
       "      <td>70.50</td>\n",
       "      <td>True</td>\n",
       "      <td>0</td>\n",
       "      <td>Default</td>\n",
       "      <td>0</td>\n",
       "      <td>0</td>\n",
       "    </tr>\n",
       "    <tr>\n",
       "      <th>1</th>\n",
       "      <td>Yoda</td>\n",
       "      <td>1000</td>\n",
       "      <td>15.12</td>\n",
       "      <td>True</td>\n",
       "      <td>1</td>\n",
       "      <td>Default</td>\n",
       "      <td>1</td>\n",
       "      <td>3</td>\n",
       "    </tr>\n",
       "    <tr>\n",
       "      <th>2</th>\n",
       "      <td>Palpatine</td>\n",
       "      <td>70</td>\n",
       "      <td>60.10</td>\n",
       "      <td>False</td>\n",
       "      <td>2</td>\n",
       "      <td>Default</td>\n",
       "      <td>2</td>\n",
       "      <td>6</td>\n",
       "    </tr>\n",
       "  </tbody>\n",
       "</table>\n",
       "</div>"
      ],
      "text/plain": [
       "             NOME  IDADE   PESO  ED_JEDI  PODER Coluna sem noção  \\\n",
       "0  Luke Skywalker     16  70.50     True      0          Default   \n",
       "1            Yoda   1000  15.12     True      1          Default   \n",
       "2       Palpatine     70  60.10    False      2          Default   \n",
       "\n",
       "   Coluna a partir de lista  PODER(Pós Arco)  \n",
       "0                         0                0  \n",
       "1                         1                3  \n",
       "2                         2                6  "
      ]
     },
     "execution_count": 48,
     "metadata": {},
     "output_type": "execute_result"
    }
   ],
   "source": [
    "#Converte a coluna 'PODER' para numérico (se necessário) para cálculos\n",
    "personagens_df['PODER'] = pd.to_numeric(personagens_df['PODER'])\n",
    "\n",
    "personagens_df['PODER(Pós Arco)'] = personagens_df['PODER'] *3\n",
    "personagens_df"
   ]
  },
  {
   "cell_type": "markdown",
   "id": "together-collar",
   "metadata": {},
   "source": [
    "**PS:** Obviamente, a lógica correta em converter o preço dos combustíveis em reais para dólares não é considerar uma taxa de câmbio fixa, uma vez que cada preço foi aferido em um momento diferente."
   ]
  },
  {
   "cell_type": "markdown",
   "id": "artificial-ecuador",
   "metadata": {},
   "source": [
    "### 1.3.4 Índices"
   ]
  },
  {
   "cell_type": "markdown",
   "id": "foreign-husband",
   "metadata": {},
   "source": [
    "Todo Data Frame possui **índices**, que não são considerado colunas da tabela. Tais índices são comumente **númericos**, de 0 a num_linhas-1, mas também podem ser **textuais (rótulos/labels)**."
   ]
  },
  {
   "cell_type": "code",
   "execution_count": 49,
   "id": "alternative-columbus",
   "metadata": {},
   "outputs": [
    {
     "data": {
      "text/plain": [
       "RangeIndex(start=0, stop=3, step=1)"
      ]
     },
     "execution_count": 49,
     "metadata": {},
     "output_type": "execute_result"
    }
   ],
   "source": [
    "personagens_df.index"
   ]
  },
  {
   "cell_type": "markdown",
   "id": "absolute-fourth",
   "metadata": {},
   "source": [
    "Use `list(data.index)` ou `data.index.to_list()` para converter um RangeIndex para uma python list."
   ]
  },
  {
   "cell_type": "markdown",
   "id": "nonprofit-latino",
   "metadata": {},
   "source": [
    "#### **Exemplo de Data Frame com Índices Textuais (labels)**"
   ]
  },
  {
   "cell_type": "code",
   "execution_count": 50,
   "id": "precious-judges",
   "metadata": {},
   "outputs": [],
   "source": [
    "pesquisa_de_satisfacao = pd.DataFrame({\n",
    "    'bom' :[50, 21, 100],\n",
    "    'ruim' :[131, 2, 30],\n",
    "    'pessimo' :[30, 20 ,1],\n",
    "}, index=['Xboxone', 'Plastation4', 'swith'])"
   ]
  },
  {
   "cell_type": "code",
   "execution_count": 51,
   "id": "enhanced-prompt",
   "metadata": {},
   "outputs": [
    {
     "data": {
      "text/html": [
       "<div>\n",
       "<style scoped>\n",
       "    .dataframe tbody tr th:only-of-type {\n",
       "        vertical-align: middle;\n",
       "    }\n",
       "\n",
       "    .dataframe tbody tr th {\n",
       "        vertical-align: top;\n",
       "    }\n",
       "\n",
       "    .dataframe thead th {\n",
       "        text-align: right;\n",
       "    }\n",
       "</style>\n",
       "<table border=\"1\" class=\"dataframe\">\n",
       "  <thead>\n",
       "    <tr style=\"text-align: right;\">\n",
       "      <th></th>\n",
       "      <th>bom</th>\n",
       "      <th>ruim</th>\n",
       "      <th>pessimo</th>\n",
       "    </tr>\n",
       "  </thead>\n",
       "  <tbody>\n",
       "    <tr>\n",
       "      <th>Xboxone</th>\n",
       "      <td>50</td>\n",
       "      <td>131</td>\n",
       "      <td>30</td>\n",
       "    </tr>\n",
       "    <tr>\n",
       "      <th>Plastation4</th>\n",
       "      <td>21</td>\n",
       "      <td>2</td>\n",
       "      <td>20</td>\n",
       "    </tr>\n",
       "    <tr>\n",
       "      <th>swith</th>\n",
       "      <td>100</td>\n",
       "      <td>30</td>\n",
       "      <td>1</td>\n",
       "    </tr>\n",
       "  </tbody>\n",
       "</table>\n",
       "</div>"
      ],
      "text/plain": [
       "             bom  ruim  pessimo\n",
       "Xboxone       50   131       30\n",
       "Plastation4   21     2       20\n",
       "swith        100    30        1"
      ]
     },
     "execution_count": 51,
     "metadata": {},
     "output_type": "execute_result"
    }
   ],
   "source": [
    "pesquisa_de_satisfacao.head()"
   ]
  },
  {
   "cell_type": "code",
   "execution_count": 52,
   "id": "2a5f0dba",
   "metadata": {},
   "outputs": [
    {
     "data": {
      "text/plain": [
       "Index(['Xboxone', 'Plastation4', 'swith'], dtype='object')"
      ]
     },
     "execution_count": 52,
     "metadata": {},
     "output_type": "execute_result"
    }
   ],
   "source": [
    "pesquisa_de_satisfacao.index"
   ]
  },
  {
   "cell_type": "markdown",
   "id": "sixth-supplement",
   "metadata": {},
   "source": [
    "### 1.4 Selecionando uma ou mais amostras (Indexação)"
   ]
  },
  {
   "cell_type": "markdown",
   "id": "buried-headquarters",
   "metadata": {},
   "source": [
    "#### **==>  Index-based selection (seleção baseada em Índices)**\n",
    "Mostrando linhas específicas de um DataFrame:\n",
    "\n",
    "`iloc`: seleciona elementos do Dataframe, baseado em seu **índice (número)** --> row-first, column-second"
   ]
  },
  {
   "cell_type": "markdown",
   "id": "inclusive-magnet",
   "metadata": {},
   "source": [
    "**Selecionando uma amostra/linha:**"
   ]
  },
  {
   "cell_type": "code",
   "execution_count": 53,
   "id": "bored-roberts",
   "metadata": {},
   "outputs": [
    {
     "data": {
      "text/plain": [
       "NOME                           Yoda\n",
       "IDADE                          1000\n",
       "PESO                          15.12\n",
       "ED_JEDI                        True\n",
       "PODER                             1\n",
       "Coluna sem noção            Default\n",
       "Coluna a partir de lista          1\n",
       "PODER(Pós Arco)                   3\n",
       "Name: 1, dtype: object"
      ]
     },
     "execution_count": 53,
     "metadata": {},
     "output_type": "execute_result"
    }
   ],
   "source": [
    "#selecionando a linha 1 ===> observação do indice 1 do parsonagens_df\n",
    "personagens_df.iloc[1]"
   ]
  },
  {
   "cell_type": "markdown",
   "id": "regional-spank",
   "metadata": {},
   "source": [
    "**Selecionando múltiplias amostras/linhas:**"
   ]
  },
  {
   "cell_type": "code",
   "execution_count": 54,
   "id": "framed-julian",
   "metadata": {},
   "outputs": [
    {
     "data": {
      "text/html": [
       "<div>\n",
       "<style scoped>\n",
       "    .dataframe tbody tr th:only-of-type {\n",
       "        vertical-align: middle;\n",
       "    }\n",
       "\n",
       "    .dataframe tbody tr th {\n",
       "        vertical-align: top;\n",
       "    }\n",
       "\n",
       "    .dataframe thead th {\n",
       "        text-align: right;\n",
       "    }\n",
       "</style>\n",
       "<table border=\"1\" class=\"dataframe\">\n",
       "  <thead>\n",
       "    <tr style=\"text-align: right;\">\n",
       "      <th></th>\n",
       "      <th>NOME</th>\n",
       "      <th>IDADE</th>\n",
       "      <th>PESO</th>\n",
       "      <th>ED_JEDI</th>\n",
       "      <th>PODER</th>\n",
       "      <th>Coluna sem noção</th>\n",
       "      <th>Coluna a partir de lista</th>\n",
       "      <th>PODER(Pós Arco)</th>\n",
       "    </tr>\n",
       "  </thead>\n",
       "  <tbody>\n",
       "    <tr>\n",
       "      <th>0</th>\n",
       "      <td>Luke Skywalker</td>\n",
       "      <td>16</td>\n",
       "      <td>70.50</td>\n",
       "      <td>True</td>\n",
       "      <td>0</td>\n",
       "      <td>Default</td>\n",
       "      <td>0</td>\n",
       "      <td>0</td>\n",
       "    </tr>\n",
       "    <tr>\n",
       "      <th>1</th>\n",
       "      <td>Yoda</td>\n",
       "      <td>1000</td>\n",
       "      <td>15.12</td>\n",
       "      <td>True</td>\n",
       "      <td>1</td>\n",
       "      <td>Default</td>\n",
       "      <td>1</td>\n",
       "      <td>3</td>\n",
       "    </tr>\n",
       "    <tr>\n",
       "      <th>2</th>\n",
       "      <td>Palpatine</td>\n",
       "      <td>70</td>\n",
       "      <td>60.10</td>\n",
       "      <td>False</td>\n",
       "      <td>2</td>\n",
       "      <td>Default</td>\n",
       "      <td>2</td>\n",
       "      <td>6</td>\n",
       "    </tr>\n",
       "  </tbody>\n",
       "</table>\n",
       "</div>"
      ],
      "text/plain": [
       "             NOME  IDADE   PESO  ED_JEDI  PODER Coluna sem noção  \\\n",
       "0  Luke Skywalker     16  70.50     True      0          Default   \n",
       "1            Yoda   1000  15.12     True      1          Default   \n",
       "2       Palpatine     70  60.10    False      2          Default   \n",
       "\n",
       "   Coluna a partir de lista  PODER(Pós Arco)  \n",
       "0                         0                0  \n",
       "1                         1                3  \n",
       "2                         2                6  "
      ]
     },
     "execution_count": 54,
     "metadata": {},
     "output_type": "execute_result"
    }
   ],
   "source": [
    "#Selecionando as linhas do indice de 0 a 2\n",
    "personagens_df.iloc[0:3]"
   ]
  },
  {
   "cell_type": "code",
   "execution_count": 55,
   "id": "fallen-palace",
   "metadata": {},
   "outputs": [
    {
     "data": {
      "text/html": [
       "<div>\n",
       "<style scoped>\n",
       "    .dataframe tbody tr th:only-of-type {\n",
       "        vertical-align: middle;\n",
       "    }\n",
       "\n",
       "    .dataframe tbody tr th {\n",
       "        vertical-align: top;\n",
       "    }\n",
       "\n",
       "    .dataframe thead th {\n",
       "        text-align: right;\n",
       "    }\n",
       "</style>\n",
       "<table border=\"1\" class=\"dataframe\">\n",
       "  <thead>\n",
       "    <tr style=\"text-align: right;\">\n",
       "      <th></th>\n",
       "      <th>NOME</th>\n",
       "      <th>IDADE</th>\n",
       "      <th>PESO</th>\n",
       "      <th>ED_JEDI</th>\n",
       "      <th>PODER</th>\n",
       "      <th>Coluna sem noção</th>\n",
       "      <th>Coluna a partir de lista</th>\n",
       "      <th>PODER(Pós Arco)</th>\n",
       "    </tr>\n",
       "  </thead>\n",
       "  <tbody>\n",
       "    <tr>\n",
       "      <th>0</th>\n",
       "      <td>Luke Skywalker</td>\n",
       "      <td>16</td>\n",
       "      <td>70.50</td>\n",
       "      <td>True</td>\n",
       "      <td>0</td>\n",
       "      <td>Default</td>\n",
       "      <td>0</td>\n",
       "      <td>0</td>\n",
       "    </tr>\n",
       "    <tr>\n",
       "      <th>1</th>\n",
       "      <td>Yoda</td>\n",
       "      <td>1000</td>\n",
       "      <td>15.12</td>\n",
       "      <td>True</td>\n",
       "      <td>1</td>\n",
       "      <td>Default</td>\n",
       "      <td>1</td>\n",
       "      <td>3</td>\n",
       "    </tr>\n",
       "  </tbody>\n",
       "</table>\n",
       "</div>"
      ],
      "text/plain": [
       "             NOME  IDADE   PESO  ED_JEDI  PODER Coluna sem noção  \\\n",
       "0  Luke Skywalker     16  70.50     True      0          Default   \n",
       "1            Yoda   1000  15.12     True      1          Default   \n",
       "\n",
       "   Coluna a partir de lista  PODER(Pós Arco)  \n",
       "0                         0                0  \n",
       "1                         1                3  "
      ]
     },
     "execution_count": 55,
     "metadata": {},
     "output_type": "execute_result"
    }
   ],
   "source": [
    "#Selecionando os indeces de 0 a 1\n",
    "personagens_df.iloc[:2]"
   ]
  },
  {
   "cell_type": "code",
   "execution_count": 56,
   "id": "varying-patrol",
   "metadata": {},
   "outputs": [
    {
     "data": {
      "text/html": [
       "<div>\n",
       "<style scoped>\n",
       "    .dataframe tbody tr th:only-of-type {\n",
       "        vertical-align: middle;\n",
       "    }\n",
       "\n",
       "    .dataframe tbody tr th {\n",
       "        vertical-align: top;\n",
       "    }\n",
       "\n",
       "    .dataframe thead th {\n",
       "        text-align: right;\n",
       "    }\n",
       "</style>\n",
       "<table border=\"1\" class=\"dataframe\">\n",
       "  <thead>\n",
       "    <tr style=\"text-align: right;\">\n",
       "      <th></th>\n",
       "      <th>NOME</th>\n",
       "      <th>IDADE</th>\n",
       "      <th>PESO</th>\n",
       "      <th>ED_JEDI</th>\n",
       "      <th>PODER</th>\n",
       "      <th>Coluna sem noção</th>\n",
       "      <th>Coluna a partir de lista</th>\n",
       "      <th>PODER(Pós Arco)</th>\n",
       "    </tr>\n",
       "  </thead>\n",
       "  <tbody>\n",
       "    <tr>\n",
       "      <th>0</th>\n",
       "      <td>Luke Skywalker</td>\n",
       "      <td>16</td>\n",
       "      <td>70.5</td>\n",
       "      <td>True</td>\n",
       "      <td>0</td>\n",
       "      <td>Default</td>\n",
       "      <td>0</td>\n",
       "      <td>0</td>\n",
       "    </tr>\n",
       "    <tr>\n",
       "      <th>2</th>\n",
       "      <td>Palpatine</td>\n",
       "      <td>70</td>\n",
       "      <td>60.1</td>\n",
       "      <td>False</td>\n",
       "      <td>2</td>\n",
       "      <td>Default</td>\n",
       "      <td>2</td>\n",
       "      <td>6</td>\n",
       "    </tr>\n",
       "  </tbody>\n",
       "</table>\n",
       "</div>"
      ],
      "text/plain": [
       "             NOME  IDADE  PESO  ED_JEDI  PODER Coluna sem noção  \\\n",
       "0  Luke Skywalker     16  70.5     True      0          Default   \n",
       "2       Palpatine     70  60.1    False      2          Default   \n",
       "\n",
       "   Coluna a partir de lista  PODER(Pós Arco)  \n",
       "0                         0                0  \n",
       "2                         2                6  "
      ]
     },
     "execution_count": 56,
     "metadata": {},
     "output_type": "execute_result"
    }
   ],
   "source": [
    "#Selecionando as linhas e indices 0 e 2\n",
    "personagens_df.iloc[[0,2]]"
   ]
  },
  {
   "cell_type": "code",
   "execution_count": 57,
   "id": "numerical-robinson",
   "metadata": {},
   "outputs": [
    {
     "data": {
      "text/plain": [
       "np.True_"
      ]
     },
     "execution_count": 57,
     "metadata": {},
     "output_type": "execute_result"
    }
   ],
   "source": [
    "#Retornar i valor do indice 1 e da coluna 3(ED_JEDI)\n",
    "personagens_df.iloc[1, 3]"
   ]
  },
  {
   "cell_type": "code",
   "execution_count": 58,
   "id": "settled-sunglasses",
   "metadata": {},
   "outputs": [],
   "source": [
    "# e assim por diante!"
   ]
  },
  {
   "cell_type": "markdown",
   "id": "extended-helping",
   "metadata": {},
   "source": [
    "#### **==>  Label-based selection (seleção baseadas em Rótulos)**\n",
    "\n",
    "`loc`: seleciona elementos do Dataframe, baseado em seus **rótulos** --> row-first, column-second"
   ]
  },
  {
   "cell_type": "code",
   "execution_count": 59,
   "id": "packed-unemployment",
   "metadata": {},
   "outputs": [
    {
     "data": {
      "text/html": [
       "<div>\n",
       "<style scoped>\n",
       "    .dataframe tbody tr th:only-of-type {\n",
       "        vertical-align: middle;\n",
       "    }\n",
       "\n",
       "    .dataframe tbody tr th {\n",
       "        vertical-align: top;\n",
       "    }\n",
       "\n",
       "    .dataframe thead th {\n",
       "        text-align: right;\n",
       "    }\n",
       "</style>\n",
       "<table border=\"1\" class=\"dataframe\">\n",
       "  <thead>\n",
       "    <tr style=\"text-align: right;\">\n",
       "      <th></th>\n",
       "      <th>bom</th>\n",
       "      <th>ruim</th>\n",
       "      <th>pessimo</th>\n",
       "    </tr>\n",
       "  </thead>\n",
       "  <tbody>\n",
       "    <tr>\n",
       "      <th>Xboxone</th>\n",
       "      <td>50</td>\n",
       "      <td>131</td>\n",
       "      <td>30</td>\n",
       "    </tr>\n",
       "    <tr>\n",
       "      <th>Plastation4</th>\n",
       "      <td>21</td>\n",
       "      <td>2</td>\n",
       "      <td>20</td>\n",
       "    </tr>\n",
       "    <tr>\n",
       "      <th>swith</th>\n",
       "      <td>100</td>\n",
       "      <td>30</td>\n",
       "      <td>1</td>\n",
       "    </tr>\n",
       "  </tbody>\n",
       "</table>\n",
       "</div>"
      ],
      "text/plain": [
       "             bom  ruim  pessimo\n",
       "Xboxone       50   131       30\n",
       "Plastation4   21     2       20\n",
       "swith        100    30        1"
      ]
     },
     "execution_count": 59,
     "metadata": {},
     "output_type": "execute_result"
    }
   ],
   "source": [
    "pesquisa_de_satisfacao"
   ]
  },
  {
   "cell_type": "code",
   "execution_count": 60,
   "id": "blank-defeat",
   "metadata": {},
   "outputs": [
    {
     "data": {
      "text/plain": [
       "bom         50\n",
       "ruim       131\n",
       "pessimo     30\n",
       "Name: Xboxone, dtype: int64"
      ]
     },
     "execution_count": 60,
     "metadata": {},
     "output_type": "execute_result"
    }
   ],
   "source": [
    "#Retorna a linha 0 mesmo que seja o xboxone\n",
    "pesquisa_de_satisfacao.iloc[0]"
   ]
  },
  {
   "cell_type": "code",
   "execution_count": 61,
   "id": "personalized-southeast",
   "metadata": {},
   "outputs": [
    {
     "data": {
      "text/plain": [
       "np.int64(131)"
      ]
     },
     "execution_count": 61,
     "metadata": {},
     "output_type": "execute_result"
    }
   ],
   "source": [
    "#Retorna o valor da linha 0 e coluna 1\n",
    "pesquisa_de_satisfacao.iloc[0,1]"
   ]
  },
  {
   "cell_type": "code",
   "execution_count": 62,
   "id": "dutch-proportion",
   "metadata": {},
   "outputs": [
    {
     "data": {
      "text/plain": [
       "bom         50\n",
       "ruim       131\n",
       "pessimo     30\n",
       "Name: Xboxone, dtype: int64"
      ]
     },
     "execution_count": 62,
     "metadata": {},
     "output_type": "execute_result"
    }
   ],
   "source": [
    "#Retorna a linha cujo o rotulo do index é \"Xboxone\"\n",
    "pesquisa_de_satisfacao.loc['Xboxone']"
   ]
  },
  {
   "cell_type": "code",
   "execution_count": 63,
   "id": "instrumental-automation",
   "metadata": {},
   "outputs": [],
   "source": [
    "#Não funciona o iloc tentando acessar index com rotulos\n",
    "#pesquisa_de_satisfacao.iloc['Xboxone']"
   ]
  },
  {
   "cell_type": "code",
   "execution_count": 64,
   "id": "statewide-being",
   "metadata": {},
   "outputs": [],
   "source": [
    "#Não funciona o loc tentando acessar index rotulados com numeros   \n",
    "#pesquisa_de_satisfacao.loc[2]"
   ]
  },
  {
   "cell_type": "code",
   "execution_count": 65,
   "id": "sublime-berry",
   "metadata": {},
   "outputs": [
    {
     "data": {
      "text/plain": [
       "np.int64(2)"
      ]
     },
     "execution_count": 65,
     "metadata": {},
     "output_type": "execute_result"
    }
   ],
   "source": [
    "#Retorna o valor da linha Plastation4 e coluna ruin\n",
    "pesquisa_de_satisfacao.loc['Plastation4', 'ruim']"
   ]
  },
  {
   "cell_type": "code",
   "execution_count": 66,
   "id": "united-bulgarian",
   "metadata": {},
   "outputs": [
    {
     "data": {
      "text/html": [
       "<div>\n",
       "<style scoped>\n",
       "    .dataframe tbody tr th:only-of-type {\n",
       "        vertical-align: middle;\n",
       "    }\n",
       "\n",
       "    .dataframe tbody tr th {\n",
       "        vertical-align: top;\n",
       "    }\n",
       "\n",
       "    .dataframe thead th {\n",
       "        text-align: right;\n",
       "    }\n",
       "</style>\n",
       "<table border=\"1\" class=\"dataframe\">\n",
       "  <thead>\n",
       "    <tr style=\"text-align: right;\">\n",
       "      <th></th>\n",
       "      <th>bom</th>\n",
       "      <th>ruim</th>\n",
       "      <th>pessimo</th>\n",
       "    </tr>\n",
       "  </thead>\n",
       "  <tbody>\n",
       "    <tr>\n",
       "      <th>Xboxone</th>\n",
       "      <td>50</td>\n",
       "      <td>131</td>\n",
       "      <td>30</td>\n",
       "    </tr>\n",
       "    <tr>\n",
       "      <th>swith</th>\n",
       "      <td>100</td>\n",
       "      <td>30</td>\n",
       "      <td>1</td>\n",
       "    </tr>\n",
       "  </tbody>\n",
       "</table>\n",
       "</div>"
      ],
      "text/plain": [
       "         bom  ruim  pessimo\n",
       "Xboxone   50   131       30\n",
       "swith    100    30        1"
      ]
     },
     "execution_count": 66,
     "metadata": {},
     "output_type": "execute_result"
    }
   ],
   "source": [
    "#Seleciona a linhas com indices  rotulados 'Xboxone' e 'swith'\n",
    "pesquisa_de_satisfacao.loc[['Xboxone', 'swith']]"
   ]
  },
  {
   "cell_type": "code",
   "execution_count": 67,
   "id": "played-oxide",
   "metadata": {},
   "outputs": [
    {
     "data": {
      "text/html": [
       "<div>\n",
       "<style scoped>\n",
       "    .dataframe tbody tr th:only-of-type {\n",
       "        vertical-align: middle;\n",
       "    }\n",
       "\n",
       "    .dataframe tbody tr th {\n",
       "        vertical-align: top;\n",
       "    }\n",
       "\n",
       "    .dataframe thead th {\n",
       "        text-align: right;\n",
       "    }\n",
       "</style>\n",
       "<table border=\"1\" class=\"dataframe\">\n",
       "  <thead>\n",
       "    <tr style=\"text-align: right;\">\n",
       "      <th></th>\n",
       "      <th>bom</th>\n",
       "      <th>pessimo</th>\n",
       "    </tr>\n",
       "  </thead>\n",
       "  <tbody>\n",
       "    <tr>\n",
       "      <th>Xboxone</th>\n",
       "      <td>50</td>\n",
       "      <td>30</td>\n",
       "    </tr>\n",
       "    <tr>\n",
       "      <th>Plastation4</th>\n",
       "      <td>21</td>\n",
       "      <td>20</td>\n",
       "    </tr>\n",
       "    <tr>\n",
       "      <th>swith</th>\n",
       "      <td>100</td>\n",
       "      <td>1</td>\n",
       "    </tr>\n",
       "  </tbody>\n",
       "</table>\n",
       "</div>"
      ],
      "text/plain": [
       "             bom  pessimo\n",
       "Xboxone       50       30\n",
       "Plastation4   21       20\n",
       "swith        100        1"
      ]
     },
     "execution_count": 67,
     "metadata": {},
     "output_type": "execute_result"
    }
   ],
   "source": [
    "#Retorna todas as linhas e apenas colunas com bom e pessimo\n",
    "pesquisa_de_satisfacao[['bom', 'pessimo']]"
   ]
  },
  {
   "cell_type": "code",
   "execution_count": 68,
   "id": "e43adb30",
   "metadata": {},
   "outputs": [
    {
     "data": {
      "text/html": [
       "<div>\n",
       "<style scoped>\n",
       "    .dataframe tbody tr th:only-of-type {\n",
       "        vertical-align: middle;\n",
       "    }\n",
       "\n",
       "    .dataframe tbody tr th {\n",
       "        vertical-align: top;\n",
       "    }\n",
       "\n",
       "    .dataframe thead th {\n",
       "        text-align: right;\n",
       "    }\n",
       "</style>\n",
       "<table border=\"1\" class=\"dataframe\">\n",
       "  <thead>\n",
       "    <tr style=\"text-align: right;\">\n",
       "      <th></th>\n",
       "      <th>bom</th>\n",
       "      <th>pessimo</th>\n",
       "    </tr>\n",
       "  </thead>\n",
       "  <tbody>\n",
       "    <tr>\n",
       "      <th>Xboxone</th>\n",
       "      <td>50</td>\n",
       "      <td>30</td>\n",
       "    </tr>\n",
       "    <tr>\n",
       "      <th>Plastation4</th>\n",
       "      <td>21</td>\n",
       "      <td>20</td>\n",
       "    </tr>\n",
       "    <tr>\n",
       "      <th>swith</th>\n",
       "      <td>100</td>\n",
       "      <td>1</td>\n",
       "    </tr>\n",
       "  </tbody>\n",
       "</table>\n",
       "</div>"
      ],
      "text/plain": [
       "             bom  pessimo\n",
       "Xboxone       50       30\n",
       "Plastation4   21       20\n",
       "swith        100        1"
      ]
     },
     "execution_count": 68,
     "metadata": {},
     "output_type": "execute_result"
    }
   ],
   "source": [
    "#Retorna todas as linhas e apenas colunas com bom e pessimo\n",
    "pesquisa_de_satisfacao.loc[:, ['bom', 'pessimo']]"
   ]
  },
  {
   "cell_type": "code",
   "execution_count": 69,
   "id": "dac8c0e4",
   "metadata": {},
   "outputs": [
    {
     "data": {
      "text/html": [
       "<div>\n",
       "<style scoped>\n",
       "    .dataframe tbody tr th:only-of-type {\n",
       "        vertical-align: middle;\n",
       "    }\n",
       "\n",
       "    .dataframe tbody tr th {\n",
       "        vertical-align: top;\n",
       "    }\n",
       "\n",
       "    .dataframe thead th {\n",
       "        text-align: right;\n",
       "    }\n",
       "</style>\n",
       "<table border=\"1\" class=\"dataframe\">\n",
       "  <thead>\n",
       "    <tr style=\"text-align: right;\">\n",
       "      <th></th>\n",
       "      <th>NOME</th>\n",
       "      <th>IDADE</th>\n",
       "      <th>PESO</th>\n",
       "      <th>ED_JEDI</th>\n",
       "      <th>PODER</th>\n",
       "      <th>Coluna sem noção</th>\n",
       "      <th>Coluna a partir de lista</th>\n",
       "      <th>PODER(Pós Arco)</th>\n",
       "    </tr>\n",
       "  </thead>\n",
       "  <tbody>\n",
       "    <tr>\n",
       "      <th>0</th>\n",
       "      <td>Luke Skywalker</td>\n",
       "      <td>16</td>\n",
       "      <td>70.50</td>\n",
       "      <td>True</td>\n",
       "      <td>0</td>\n",
       "      <td>Default</td>\n",
       "      <td>0</td>\n",
       "      <td>0</td>\n",
       "    </tr>\n",
       "    <tr>\n",
       "      <th>1</th>\n",
       "      <td>Yoda</td>\n",
       "      <td>1000</td>\n",
       "      <td>15.12</td>\n",
       "      <td>True</td>\n",
       "      <td>1</td>\n",
       "      <td>Default</td>\n",
       "      <td>1</td>\n",
       "      <td>3</td>\n",
       "    </tr>\n",
       "    <tr>\n",
       "      <th>2</th>\n",
       "      <td>Palpatine</td>\n",
       "      <td>70</td>\n",
       "      <td>60.10</td>\n",
       "      <td>False</td>\n",
       "      <td>2</td>\n",
       "      <td>Default</td>\n",
       "      <td>2</td>\n",
       "      <td>6</td>\n",
       "    </tr>\n",
       "  </tbody>\n",
       "</table>\n",
       "</div>"
      ],
      "text/plain": [
       "             NOME  IDADE   PESO  ED_JEDI  PODER Coluna sem noção  \\\n",
       "0  Luke Skywalker     16  70.50     True      0          Default   \n",
       "1            Yoda   1000  15.12     True      1          Default   \n",
       "2       Palpatine     70  60.10    False      2          Default   \n",
       "\n",
       "   Coluna a partir de lista  PODER(Pós Arco)  \n",
       "0                         0                0  \n",
       "1                         1                3  \n",
       "2                         2                6  "
      ]
     },
     "execution_count": 69,
     "metadata": {},
     "output_type": "execute_result"
    }
   ],
   "source": [
    "personagens_df"
   ]
  },
  {
   "cell_type": "code",
   "execution_count": 70,
   "id": "4af2eaa6",
   "metadata": {},
   "outputs": [
    {
     "data": {
      "text/plain": [
       "NOME                        Luke Skywalker\n",
       "IDADE                                   16\n",
       "PESO                                  70.5\n",
       "ED_JEDI                               True\n",
       "PODER                                    0\n",
       "Coluna sem noção                   Default\n",
       "Coluna a partir de lista                 0\n",
       "PODER(Pós Arco)                          0\n",
       "Name: 0, dtype: object"
      ]
     },
     "execution_count": 70,
     "metadata": {},
     "output_type": "execute_result"
    }
   ],
   "source": [
    "#Implicitamente o Pandas entende que indices numerados possuem rotulos que indentificam eles\n",
    "personagens_df.loc[0]"
   ]
  },
  {
   "cell_type": "markdown",
   "id": "brilliant-welding",
   "metadata": {},
   "source": [
    "### 1.5 Selecionando um ou mais atributos (colunas)"
   ]
  },
  {
   "cell_type": "code",
   "execution_count": 71,
   "id": "brilliant-simpson",
   "metadata": {},
   "outputs": [
    {
     "data": {
      "text/html": [
       "<div>\n",
       "<style scoped>\n",
       "    .dataframe tbody tr th:only-of-type {\n",
       "        vertical-align: middle;\n",
       "    }\n",
       "\n",
       "    .dataframe tbody tr th {\n",
       "        vertical-align: top;\n",
       "    }\n",
       "\n",
       "    .dataframe thead th {\n",
       "        text-align: right;\n",
       "    }\n",
       "</style>\n",
       "<table border=\"1\" class=\"dataframe\">\n",
       "  <thead>\n",
       "    <tr style=\"text-align: right;\">\n",
       "      <th></th>\n",
       "      <th>NOME</th>\n",
       "      <th>IDADE</th>\n",
       "      <th>PESO</th>\n",
       "      <th>ED_JEDI</th>\n",
       "      <th>PODER</th>\n",
       "      <th>Coluna sem noção</th>\n",
       "      <th>Coluna a partir de lista</th>\n",
       "      <th>PODER(Pós Arco)</th>\n",
       "    </tr>\n",
       "  </thead>\n",
       "  <tbody>\n",
       "    <tr>\n",
       "      <th>0</th>\n",
       "      <td>Luke Skywalker</td>\n",
       "      <td>16</td>\n",
       "      <td>70.50</td>\n",
       "      <td>True</td>\n",
       "      <td>0</td>\n",
       "      <td>Default</td>\n",
       "      <td>0</td>\n",
       "      <td>0</td>\n",
       "    </tr>\n",
       "    <tr>\n",
       "      <th>1</th>\n",
       "      <td>Yoda</td>\n",
       "      <td>1000</td>\n",
       "      <td>15.12</td>\n",
       "      <td>True</td>\n",
       "      <td>1</td>\n",
       "      <td>Default</td>\n",
       "      <td>1</td>\n",
       "      <td>3</td>\n",
       "    </tr>\n",
       "    <tr>\n",
       "      <th>2</th>\n",
       "      <td>Palpatine</td>\n",
       "      <td>70</td>\n",
       "      <td>60.10</td>\n",
       "      <td>False</td>\n",
       "      <td>2</td>\n",
       "      <td>Default</td>\n",
       "      <td>2</td>\n",
       "      <td>6</td>\n",
       "    </tr>\n",
       "  </tbody>\n",
       "</table>\n",
       "</div>"
      ],
      "text/plain": [
       "             NOME  IDADE   PESO  ED_JEDI  PODER Coluna sem noção  \\\n",
       "0  Luke Skywalker     16  70.50     True      0          Default   \n",
       "1            Yoda   1000  15.12     True      1          Default   \n",
       "2       Palpatine     70  60.10    False      2          Default   \n",
       "\n",
       "   Coluna a partir de lista  PODER(Pós Arco)  \n",
       "0                         0                0  \n",
       "1                         1                3  \n",
       "2                         2                6  "
      ]
     },
     "execution_count": 71,
     "metadata": {},
     "output_type": "execute_result"
    }
   ],
   "source": [
    "personagens_df"
   ]
  },
  {
   "cell_type": "code",
   "execution_count": 72,
   "id": "a53b17cb",
   "metadata": {},
   "outputs": [
    {
     "data": {
      "text/plain": [
       "0      16\n",
       "1    1000\n",
       "2      70\n",
       "Name: IDADE, dtype: int64"
      ]
     },
     "execution_count": 72,
     "metadata": {},
     "output_type": "execute_result"
    }
   ],
   "source": [
    "personagens_df['IDADE']"
   ]
  },
  {
   "cell_type": "code",
   "execution_count": 73,
   "id": "dd5c5309",
   "metadata": {},
   "outputs": [
    {
     "data": {
      "text/plain": [
       "0      16\n",
       "1    1000\n",
       "2      70\n",
       "Name: IDADE, dtype: int64"
      ]
     },
     "execution_count": 73,
     "metadata": {},
     "output_type": "execute_result"
    }
   ],
   "source": [
    "personagens_df.IDADE"
   ]
  },
  {
   "cell_type": "code",
   "execution_count": 74,
   "id": "3035ad66",
   "metadata": {},
   "outputs": [
    {
     "data": {
      "text/html": [
       "<div>\n",
       "<style scoped>\n",
       "    .dataframe tbody tr th:only-of-type {\n",
       "        vertical-align: middle;\n",
       "    }\n",
       "\n",
       "    .dataframe tbody tr th {\n",
       "        vertical-align: top;\n",
       "    }\n",
       "\n",
       "    .dataframe thead th {\n",
       "        text-align: right;\n",
       "    }\n",
       "</style>\n",
       "<table border=\"1\" class=\"dataframe\">\n",
       "  <thead>\n",
       "    <tr style=\"text-align: right;\">\n",
       "      <th></th>\n",
       "      <th>IDADE</th>\n",
       "    </tr>\n",
       "  </thead>\n",
       "  <tbody>\n",
       "    <tr>\n",
       "      <th>0</th>\n",
       "      <td>16</td>\n",
       "    </tr>\n",
       "    <tr>\n",
       "      <th>1</th>\n",
       "      <td>1000</td>\n",
       "    </tr>\n",
       "    <tr>\n",
       "      <th>2</th>\n",
       "      <td>70</td>\n",
       "    </tr>\n",
       "  </tbody>\n",
       "</table>\n",
       "</div>"
      ],
      "text/plain": [
       "   IDADE\n",
       "0     16\n",
       "1   1000\n",
       "2     70"
      ]
     },
     "execution_count": 74,
     "metadata": {},
     "output_type": "execute_result"
    }
   ],
   "source": [
    "personagens_df.loc[:, ['IDADE']]"
   ]
  },
  {
   "cell_type": "code",
   "execution_count": 75,
   "id": "d1a13850",
   "metadata": {},
   "outputs": [
    {
     "data": {
      "text/html": [
       "<div>\n",
       "<style scoped>\n",
       "    .dataframe tbody tr th:only-of-type {\n",
       "        vertical-align: middle;\n",
       "    }\n",
       "\n",
       "    .dataframe tbody tr th {\n",
       "        vertical-align: top;\n",
       "    }\n",
       "\n",
       "    .dataframe thead th {\n",
       "        text-align: right;\n",
       "    }\n",
       "</style>\n",
       "<table border=\"1\" class=\"dataframe\">\n",
       "  <thead>\n",
       "    <tr style=\"text-align: right;\">\n",
       "      <th></th>\n",
       "      <th>IDADE</th>\n",
       "      <th>NOME</th>\n",
       "      <th>ED_JEDI</th>\n",
       "    </tr>\n",
       "  </thead>\n",
       "  <tbody>\n",
       "    <tr>\n",
       "      <th>0</th>\n",
       "      <td>16</td>\n",
       "      <td>Luke Skywalker</td>\n",
       "      <td>True</td>\n",
       "    </tr>\n",
       "    <tr>\n",
       "      <th>1</th>\n",
       "      <td>1000</td>\n",
       "      <td>Yoda</td>\n",
       "      <td>True</td>\n",
       "    </tr>\n",
       "    <tr>\n",
       "      <th>2</th>\n",
       "      <td>70</td>\n",
       "      <td>Palpatine</td>\n",
       "      <td>False</td>\n",
       "    </tr>\n",
       "  </tbody>\n",
       "</table>\n",
       "</div>"
      ],
      "text/plain": [
       "   IDADE            NOME  ED_JEDI\n",
       "0     16  Luke Skywalker     True\n",
       "1   1000            Yoda     True\n",
       "2     70       Palpatine    False"
      ]
     },
     "execution_count": 75,
     "metadata": {},
     "output_type": "execute_result"
    }
   ],
   "source": [
    "personagens_df[['IDADE', 'NOME', 'ED_JEDI']]"
   ]
  },
  {
   "cell_type": "markdown",
   "id": "italian-berkeley",
   "metadata": {},
   "source": [
    "Como o rótulo da coluna 'DATA INICIAL' **possui espaço**, não é possível acessá-la como método: `data.DATA INICIAL`"
   ]
  },
  {
   "cell_type": "markdown",
   "id": "heard-objective",
   "metadata": {},
   "source": [
    "### 1.6 Removendo um Atributo (Coluna) do Data Frame"
   ]
  },
  {
   "cell_type": "markdown",
   "id": "ancient-european",
   "metadata": {},
   "source": [
    "Como vimos anteriormente, o atributo 'Unnamed: 0' parece ser um **ruído** em nosso dataset. Desta maneira, vamos eliminá-lo,"
   ]
  },
  {
   "cell_type": "code",
   "execution_count": 76,
   "id": "private-accused",
   "metadata": {},
   "outputs": [],
   "source": [
    "#deleta/remove  in place (ou seja o proprio darta frame) a coluna de rotulo\n",
    "del personagens_df['Coluna sem noção']"
   ]
  },
  {
   "cell_type": "code",
   "execution_count": 77,
   "id": "other-server",
   "metadata": {},
   "outputs": [
    {
     "data": {
      "text/html": [
       "<div>\n",
       "<style scoped>\n",
       "    .dataframe tbody tr th:only-of-type {\n",
       "        vertical-align: middle;\n",
       "    }\n",
       "\n",
       "    .dataframe tbody tr th {\n",
       "        vertical-align: top;\n",
       "    }\n",
       "\n",
       "    .dataframe thead th {\n",
       "        text-align: right;\n",
       "    }\n",
       "</style>\n",
       "<table border=\"1\" class=\"dataframe\">\n",
       "  <thead>\n",
       "    <tr style=\"text-align: right;\">\n",
       "      <th></th>\n",
       "      <th>NOME</th>\n",
       "      <th>IDADE</th>\n",
       "      <th>PESO</th>\n",
       "      <th>ED_JEDI</th>\n",
       "      <th>PODER</th>\n",
       "      <th>Coluna a partir de lista</th>\n",
       "      <th>PODER(Pós Arco)</th>\n",
       "    </tr>\n",
       "  </thead>\n",
       "  <tbody>\n",
       "    <tr>\n",
       "      <th>0</th>\n",
       "      <td>Luke Skywalker</td>\n",
       "      <td>16</td>\n",
       "      <td>70.50</td>\n",
       "      <td>True</td>\n",
       "      <td>0</td>\n",
       "      <td>0</td>\n",
       "      <td>0</td>\n",
       "    </tr>\n",
       "    <tr>\n",
       "      <th>1</th>\n",
       "      <td>Yoda</td>\n",
       "      <td>1000</td>\n",
       "      <td>15.12</td>\n",
       "      <td>True</td>\n",
       "      <td>1</td>\n",
       "      <td>1</td>\n",
       "      <td>3</td>\n",
       "    </tr>\n",
       "    <tr>\n",
       "      <th>2</th>\n",
       "      <td>Palpatine</td>\n",
       "      <td>70</td>\n",
       "      <td>60.10</td>\n",
       "      <td>False</td>\n",
       "      <td>2</td>\n",
       "      <td>2</td>\n",
       "      <td>6</td>\n",
       "    </tr>\n",
       "  </tbody>\n",
       "</table>\n",
       "</div>"
      ],
      "text/plain": [
       "             NOME  IDADE   PESO  ED_JEDI  PODER  Coluna a partir de lista  \\\n",
       "0  Luke Skywalker     16  70.50     True      0                         0   \n",
       "1            Yoda   1000  15.12     True      1                         1   \n",
       "2       Palpatine     70  60.10    False      2                         2   \n",
       "\n",
       "   PODER(Pós Arco)  \n",
       "0                0  \n",
       "1                3  \n",
       "2                6  "
      ]
     },
     "execution_count": 77,
     "metadata": {},
     "output_type": "execute_result"
    }
   ],
   "source": [
    "personagens_df"
   ]
  },
  {
   "cell_type": "markdown",
   "id": "forbidden-neighborhood",
   "metadata": {},
   "source": [
    "### 1.7 Salvando um Data Frame"
   ]
  },
  {
   "cell_type": "markdown",
   "id": "sensitive-rocket",
   "metadata": {},
   "source": [
    "Para salvarmos um Data Frame para um **arquivo CSV**, basta usarmos o método `.to_csv`. <br/>\n",
    "Por padrão, esse método **salva os índices da tabela como uma coluna no CSV**.<br/>\n",
    "Como no geral tais índices são números de 0 a n-1, não há necessidade para isso (veja que removemos anteriormente a coluna 'Unnamed: 0' que foi justamente esse caso).<br/>\n",
    "Desta forma, utilize o parâmetro: `index=False`.\n",
    "\n",
    "Por padrão, o método utilizará a ',' como separador das colunas. Caso queira alterá-lo, utilize o parâmetro `sep`."
   ]
  },
  {
   "cell_type": "code",
   "execution_count": 78,
   "id": "39d99065",
   "metadata": {},
   "outputs": [],
   "source": [
    "personagens_df.to_csv(r'C:\\Users\\Jair\\Documents\\Estudos Jair\\projeto_machine_learning\\projeto_pandas\\personagens.csv', index=False)\n"
   ]
  },
  {
   "cell_type": "markdown",
   "id": "backed-arrow",
   "metadata": {},
   "source": [
    "### 1.8 Seleção Condicional: Filtrando amostras"
   ]
  },
  {
   "cell_type": "markdown",
   "id": "aerial-default",
   "metadata": {},
   "source": [
    "Durante nossas análise exploratórias, frequentemente filtraremos nossas amostras, a partir de certas **condições**, para fins de análise mais específica. <br/>\n",
    "Existem algumas maneiras de fazermos tal filtragem. Antes disso, vamos carregar nosso dataset pré-processado que salvamos no item anterior."
   ]
  },
  {
   "cell_type": "code",
   "execution_count": 79,
   "id": "southeast-undergraduate",
   "metadata": {},
   "outputs": [],
   "source": [
    "personagens_df = pd.read_csv(r'C:\\Users\\Jair\\Documents\\Estudos Jair\\projeto_machine_learning\\projeto_pandas\\personagens.csv')"
   ]
  },
  {
   "cell_type": "code",
   "execution_count": 80,
   "id": "plain-centre",
   "metadata": {},
   "outputs": [
    {
     "data": {
      "text/html": [
       "<div>\n",
       "<style scoped>\n",
       "    .dataframe tbody tr th:only-of-type {\n",
       "        vertical-align: middle;\n",
       "    }\n",
       "\n",
       "    .dataframe tbody tr th {\n",
       "        vertical-align: top;\n",
       "    }\n",
       "\n",
       "    .dataframe thead th {\n",
       "        text-align: right;\n",
       "    }\n",
       "</style>\n",
       "<table border=\"1\" class=\"dataframe\">\n",
       "  <thead>\n",
       "    <tr style=\"text-align: right;\">\n",
       "      <th></th>\n",
       "      <th>NOME</th>\n",
       "      <th>IDADE</th>\n",
       "      <th>PESO</th>\n",
       "      <th>ED_JEDI</th>\n",
       "      <th>PODER</th>\n",
       "      <th>Coluna a partir de lista</th>\n",
       "      <th>PODER(Pós Arco)</th>\n",
       "    </tr>\n",
       "  </thead>\n",
       "  <tbody>\n",
       "    <tr>\n",
       "      <th>0</th>\n",
       "      <td>Luke Skywalker</td>\n",
       "      <td>16</td>\n",
       "      <td>70.50</td>\n",
       "      <td>True</td>\n",
       "      <td>0</td>\n",
       "      <td>0</td>\n",
       "      <td>0</td>\n",
       "    </tr>\n",
       "    <tr>\n",
       "      <th>1</th>\n",
       "      <td>Yoda</td>\n",
       "      <td>1000</td>\n",
       "      <td>15.12</td>\n",
       "      <td>True</td>\n",
       "      <td>1</td>\n",
       "      <td>1</td>\n",
       "      <td>3</td>\n",
       "    </tr>\n",
       "    <tr>\n",
       "      <th>2</th>\n",
       "      <td>Palpatine</td>\n",
       "      <td>70</td>\n",
       "      <td>60.10</td>\n",
       "      <td>False</td>\n",
       "      <td>2</td>\n",
       "      <td>2</td>\n",
       "      <td>6</td>\n",
       "    </tr>\n",
       "  </tbody>\n",
       "</table>\n",
       "</div>"
      ],
      "text/plain": [
       "             NOME  IDADE   PESO  ED_JEDI  PODER  Coluna a partir de lista  \\\n",
       "0  Luke Skywalker     16  70.50     True      0                         0   \n",
       "1            Yoda   1000  15.12     True      1                         1   \n",
       "2       Palpatine     70  60.10    False      2                         2   \n",
       "\n",
       "   PODER(Pós Arco)  \n",
       "0                0  \n",
       "1                3  \n",
       "2                6  "
      ]
     },
     "execution_count": 80,
     "metadata": {},
     "output_type": "execute_result"
    }
   ],
   "source": [
    "personagens_df.head()"
   ]
  },
  {
   "cell_type": "code",
   "execution_count": 81,
   "id": "f24a1da2",
   "metadata": {},
   "outputs": [
    {
     "data": {
      "text/plain": [
       "array(['Luke Skywalker', 'Yoda', 'Palpatine'], dtype=object)"
      ]
     },
     "execution_count": 81,
     "metadata": {},
     "output_type": "execute_result"
    }
   ],
   "source": [
    "#mostra todos os nomes unicos da coluna NOME\n",
    "personagens_df['NOME'].unique()"
   ]
  },
  {
   "cell_type": "markdown",
   "id": "altered-lafayette",
   "metadata": {},
   "source": [
    "#### **Selecionando apenas os preços dos Postos de São Paulo**"
   ]
  },
  {
   "cell_type": "markdown",
   "id": "express-birmingham",
   "metadata": {},
   "source": [
    "##### **==> Alternativa 1: Seleção Condicional (Comparações diretas)**"
   ]
  },
  {
   "cell_type": "markdown",
   "id": "balanced-executive",
   "metadata": {},
   "source": [
    "O código abaixo retorna uma ***Series ('array') de booleans***, com o número de linhas (amostras) do Data Frame, que informa os registros de preços dos postos do _estado de São Paulo_ (True)."
   ]
  },
  {
   "cell_type": "code",
   "execution_count": 82,
   "id": "sufficient-providence",
   "metadata": {},
   "outputs": [
    {
     "data": {
      "text/plain": [
       "0     True\n",
       "1    False\n",
       "2    False\n",
       "Name: NOME, dtype: bool"
      ]
     },
     "execution_count": 82,
     "metadata": {},
     "output_type": "execute_result"
    }
   ],
   "source": [
    "#Faz uma comparação de elemento a elemento da series, retornando um valor booleans\n",
    "personagens_df['NOME'] == 'Luke Skywalker'"
   ]
  },
  {
   "cell_type": "code",
   "execution_count": 83,
   "id": "capable-congo",
   "metadata": {},
   "outputs": [],
   "source": [
    "selecao = personagens_df['NOME'] == 'Luke Skywalker'"
   ]
  },
  {
   "cell_type": "code",
   "execution_count": 84,
   "id": "cognitive-temperature",
   "metadata": {},
   "outputs": [
    {
     "data": {
      "text/plain": [
       "pandas.core.series.Series"
      ]
     },
     "execution_count": 84,
     "metadata": {},
     "output_type": "execute_result"
    }
   ],
   "source": [
    "type(selecao)"
   ]
  },
  {
   "cell_type": "code",
   "execution_count": 85,
   "id": "neural-crazy",
   "metadata": {},
   "outputs": [
    {
     "data": {
      "text/plain": [
       "(3,)"
      ]
     },
     "execution_count": 85,
     "metadata": {},
     "output_type": "execute_result"
    }
   ],
   "source": [
    "selecao.shape"
   ]
  },
  {
   "cell_type": "code",
   "execution_count": 86,
   "id": "ideal-stand",
   "metadata": {},
   "outputs": [
    {
     "data": {
      "text/plain": [
       "(3, 7)"
      ]
     },
     "execution_count": 86,
     "metadata": {},
     "output_type": "execute_result"
    }
   ],
   "source": [
    "personagens_df.shape"
   ]
  },
  {
   "cell_type": "code",
   "execution_count": 87,
   "id": "718c05c0",
   "metadata": {},
   "outputs": [
    {
     "data": {
      "text/html": [
       "<div>\n",
       "<style scoped>\n",
       "    .dataframe tbody tr th:only-of-type {\n",
       "        vertical-align: middle;\n",
       "    }\n",
       "\n",
       "    .dataframe tbody tr th {\n",
       "        vertical-align: top;\n",
       "    }\n",
       "\n",
       "    .dataframe thead th {\n",
       "        text-align: right;\n",
       "    }\n",
       "</style>\n",
       "<table border=\"1\" class=\"dataframe\">\n",
       "  <thead>\n",
       "    <tr style=\"text-align: right;\">\n",
       "      <th></th>\n",
       "      <th>NOME</th>\n",
       "      <th>IDADE</th>\n",
       "      <th>PESO</th>\n",
       "      <th>ED_JEDI</th>\n",
       "      <th>PODER</th>\n",
       "      <th>Coluna a partir de lista</th>\n",
       "      <th>PODER(Pós Arco)</th>\n",
       "    </tr>\n",
       "  </thead>\n",
       "  <tbody>\n",
       "    <tr>\n",
       "      <th>0</th>\n",
       "      <td>Luke Skywalker</td>\n",
       "      <td>16</td>\n",
       "      <td>70.50</td>\n",
       "      <td>True</td>\n",
       "      <td>0</td>\n",
       "      <td>0</td>\n",
       "      <td>0</td>\n",
       "    </tr>\n",
       "    <tr>\n",
       "      <th>1</th>\n",
       "      <td>Yoda</td>\n",
       "      <td>1000</td>\n",
       "      <td>15.12</td>\n",
       "      <td>True</td>\n",
       "      <td>1</td>\n",
       "      <td>1</td>\n",
       "      <td>3</td>\n",
       "    </tr>\n",
       "    <tr>\n",
       "      <th>2</th>\n",
       "      <td>Palpatine</td>\n",
       "      <td>70</td>\n",
       "      <td>60.10</td>\n",
       "      <td>False</td>\n",
       "      <td>2</td>\n",
       "      <td>2</td>\n",
       "      <td>6</td>\n",
       "    </tr>\n",
       "    <tr>\n",
       "      <th>3</th>\n",
       "      <td>Luke Skywalker</td>\n",
       "      <td>33</td>\n",
       "      <td>75.50</td>\n",
       "      <td>True</td>\n",
       "      <td>3</td>\n",
       "      <td>3</td>\n",
       "      <td>6</td>\n",
       "    </tr>\n",
       "  </tbody>\n",
       "</table>\n",
       "</div>"
      ],
      "text/plain": [
       "             NOME  IDADE   PESO  ED_JEDI  PODER  Coluna a partir de lista  \\\n",
       "0  Luke Skywalker     16  70.50     True      0                         0   \n",
       "1            Yoda   1000  15.12     True      1                         1   \n",
       "2       Palpatine     70  60.10    False      2                         2   \n",
       "3  Luke Skywalker     33  75.50     True      3                         3   \n",
       "\n",
       "   PODER(Pós Arco)  \n",
       "0                0  \n",
       "1                3  \n",
       "2                6  \n",
       "3                6  "
      ]
     },
     "execution_count": 87,
     "metadata": {},
     "output_type": "execute_result"
    }
   ],
   "source": [
    "novas_linhas = pd.DataFrame([\n",
    "    {\n",
    "        'NOME' : 'Luke Skywalker',\n",
    "        'IDADE' : 33,\n",
    "        'PESO' : 75.5,\n",
    "        'ED_JEDI' : True,\n",
    "        'PODER' : 3,\n",
    "        'Coluna a partir de lista' : 3,\n",
    "        'PODER(Pós Arco)' : 6\n",
    "    }\n",
    "\n",
    "]) \n",
    "personagens_df = pd.concat([personagens_df, novas_linhas], ignore_index=True)\n",
    "personagens_df"
   ]
  },
  {
   "cell_type": "code",
   "execution_count": 88,
   "id": "overhead-portal",
   "metadata": {},
   "outputs": [],
   "source": [
    "\n",
    "#Falta linkar as novas linhas com as operações das colunas\n"
   ]
  },
  {
   "cell_type": "markdown",
   "id": "functional-affair",
   "metadata": {},
   "source": [
    "Para **filtrarmos** os registros de postos do estado de São Paulo:"
   ]
  },
  {
   "cell_type": "code",
   "execution_count": 89,
   "id": "muslim-livestock",
   "metadata": {},
   "outputs": [],
   "source": [
    "# tive que fazer isso de novo pq o antigo 'selecao' não continha a nova linha\n",
    "# do luque skywalker, e assim dava diferença de linhas\n",
    "# entre o dataframe e a selecao\n",
    "selecao = personagens_df['NOME'] == 'Luke Skywalker'"
   ]
  },
  {
   "cell_type": "code",
   "execution_count": 90,
   "id": "ce5be31e",
   "metadata": {},
   "outputs": [
    {
     "data": {
      "text/html": [
       "<div>\n",
       "<style scoped>\n",
       "    .dataframe tbody tr th:only-of-type {\n",
       "        vertical-align: middle;\n",
       "    }\n",
       "\n",
       "    .dataframe tbody tr th {\n",
       "        vertical-align: top;\n",
       "    }\n",
       "\n",
       "    .dataframe thead th {\n",
       "        text-align: right;\n",
       "    }\n",
       "</style>\n",
       "<table border=\"1\" class=\"dataframe\">\n",
       "  <thead>\n",
       "    <tr style=\"text-align: right;\">\n",
       "      <th></th>\n",
       "      <th>NOME</th>\n",
       "      <th>IDADE</th>\n",
       "      <th>PESO</th>\n",
       "      <th>ED_JEDI</th>\n",
       "      <th>PODER</th>\n",
       "      <th>Coluna a partir de lista</th>\n",
       "      <th>PODER(Pós Arco)</th>\n",
       "    </tr>\n",
       "  </thead>\n",
       "  <tbody>\n",
       "    <tr>\n",
       "      <th>0</th>\n",
       "      <td>Luke Skywalker</td>\n",
       "      <td>16</td>\n",
       "      <td>70.5</td>\n",
       "      <td>True</td>\n",
       "      <td>0</td>\n",
       "      <td>0</td>\n",
       "      <td>0</td>\n",
       "    </tr>\n",
       "    <tr>\n",
       "      <th>3</th>\n",
       "      <td>Luke Skywalker</td>\n",
       "      <td>33</td>\n",
       "      <td>75.5</td>\n",
       "      <td>True</td>\n",
       "      <td>3</td>\n",
       "      <td>3</td>\n",
       "      <td>6</td>\n",
       "    </tr>\n",
       "  </tbody>\n",
       "</table>\n",
       "</div>"
      ],
      "text/plain": [
       "             NOME  IDADE  PESO  ED_JEDI  PODER  Coluna a partir de lista  \\\n",
       "0  Luke Skywalker     16  70.5     True      0                         0   \n",
       "3  Luke Skywalker     33  75.5     True      3                         3   \n",
       "\n",
       "   PODER(Pós Arco)  \n",
       "0                0  \n",
       "3                6  "
      ]
     },
     "execution_count": 90,
     "metadata": {},
     "output_type": "execute_result"
    }
   ],
   "source": [
    "personagens_df[selecao]"
   ]
  },
  {
   "cell_type": "markdown",
   "id": "acute-smile",
   "metadata": {},
   "source": [
    "O resultado é um Data Frame com _apenas_ os registros desejados após a **filtragem**.<br/>\n",
    "Podemos ainda utilizar o método `loc` para o mesmo fim:"
   ]
  },
  {
   "cell_type": "code",
   "execution_count": 91,
   "id": "several-heath",
   "metadata": {},
   "outputs": [
    {
     "data": {
      "text/html": [
       "<div>\n",
       "<style scoped>\n",
       "    .dataframe tbody tr th:only-of-type {\n",
       "        vertical-align: middle;\n",
       "    }\n",
       "\n",
       "    .dataframe tbody tr th {\n",
       "        vertical-align: top;\n",
       "    }\n",
       "\n",
       "    .dataframe thead th {\n",
       "        text-align: right;\n",
       "    }\n",
       "</style>\n",
       "<table border=\"1\" class=\"dataframe\">\n",
       "  <thead>\n",
       "    <tr style=\"text-align: right;\">\n",
       "      <th></th>\n",
       "      <th>NOME</th>\n",
       "      <th>IDADE</th>\n",
       "      <th>PESO</th>\n",
       "      <th>ED_JEDI</th>\n",
       "      <th>PODER</th>\n",
       "      <th>Coluna a partir de lista</th>\n",
       "      <th>PODER(Pós Arco)</th>\n",
       "    </tr>\n",
       "  </thead>\n",
       "  <tbody>\n",
       "    <tr>\n",
       "      <th>0</th>\n",
       "      <td>Luke Skywalker</td>\n",
       "      <td>16</td>\n",
       "      <td>70.5</td>\n",
       "      <td>True</td>\n",
       "      <td>0</td>\n",
       "      <td>0</td>\n",
       "      <td>0</td>\n",
       "    </tr>\n",
       "    <tr>\n",
       "      <th>3</th>\n",
       "      <td>Luke Skywalker</td>\n",
       "      <td>33</td>\n",
       "      <td>75.5</td>\n",
       "      <td>True</td>\n",
       "      <td>3</td>\n",
       "      <td>3</td>\n",
       "      <td>6</td>\n",
       "    </tr>\n",
       "  </tbody>\n",
       "</table>\n",
       "</div>"
      ],
      "text/plain": [
       "             NOME  IDADE  PESO  ED_JEDI  PODER  Coluna a partir de lista  \\\n",
       "0  Luke Skywalker     16  70.5     True      0                         0   \n",
       "3  Luke Skywalker     33  75.5     True      3                         3   \n",
       "\n",
       "   PODER(Pós Arco)  \n",
       "0                0  \n",
       "3                6  "
      ]
     },
     "execution_count": 91,
     "metadata": {},
     "output_type": "execute_result"
    }
   ],
   "source": [
    "#Faz a mesma coisa da função anterior\n",
    "personagens_df.loc[selecao]"
   ]
  },
  {
   "cell_type": "markdown",
   "id": "egyptian-schedule",
   "metadata": {},
   "source": [
    "##### **==> Alternativa 2: Utilizando o método `query`**"
   ]
  },
  {
   "cell_type": "markdown",
   "id": "conventional-bathroom",
   "metadata": {},
   "source": [
    "`query` filtra linhas de um DataFrame baseado em uma **query (pergunta)**."
   ]
  },
  {
   "cell_type": "code",
   "execution_count": 92,
   "id": "contrary-richards",
   "metadata": {},
   "outputs": [
    {
     "data": {
      "text/html": [
       "<div>\n",
       "<style scoped>\n",
       "    .dataframe tbody tr th:only-of-type {\n",
       "        vertical-align: middle;\n",
       "    }\n",
       "\n",
       "    .dataframe tbody tr th {\n",
       "        vertical-align: top;\n",
       "    }\n",
       "\n",
       "    .dataframe thead th {\n",
       "        text-align: right;\n",
       "    }\n",
       "</style>\n",
       "<table border=\"1\" class=\"dataframe\">\n",
       "  <thead>\n",
       "    <tr style=\"text-align: right;\">\n",
       "      <th></th>\n",
       "      <th>NOME</th>\n",
       "      <th>IDADE</th>\n",
       "      <th>PESO</th>\n",
       "      <th>ED_JEDI</th>\n",
       "      <th>PODER</th>\n",
       "      <th>Coluna a partir de lista</th>\n",
       "      <th>PODER(Pós Arco)</th>\n",
       "    </tr>\n",
       "  </thead>\n",
       "  <tbody>\n",
       "    <tr>\n",
       "      <th>0</th>\n",
       "      <td>Luke Skywalker</td>\n",
       "      <td>16</td>\n",
       "      <td>70.5</td>\n",
       "      <td>True</td>\n",
       "      <td>0</td>\n",
       "      <td>0</td>\n",
       "      <td>0</td>\n",
       "    </tr>\n",
       "    <tr>\n",
       "      <th>3</th>\n",
       "      <td>Luke Skywalker</td>\n",
       "      <td>33</td>\n",
       "      <td>75.5</td>\n",
       "      <td>True</td>\n",
       "      <td>3</td>\n",
       "      <td>3</td>\n",
       "      <td>6</td>\n",
       "    </tr>\n",
       "  </tbody>\n",
       "</table>\n",
       "</div>"
      ],
      "text/plain": [
       "             NOME  IDADE  PESO  ED_JEDI  PODER  Coluna a partir de lista  \\\n",
       "0  Luke Skywalker     16  70.5     True      0                         0   \n",
       "3  Luke Skywalker     33  75.5     True      3                         3   \n",
       "\n",
       "   PODER(Pós Arco)  \n",
       "0                0  \n",
       "3                6  "
      ]
     },
     "execution_count": 92,
     "metadata": {},
     "output_type": "execute_result"
    }
   ],
   "source": [
    "personagens_df.query('NOME == \"Luke Skywalker\"')"
   ]
  },
  {
   "cell_type": "markdown",
   "id": "extreme-jones",
   "metadata": {},
   "source": [
    "<br/>\n",
    "\n",
    "Uma boa prática é **salvar o Data Frame filtrado em uma nova variável**. Isso simplifica a complexidade do código para futuras análise feita para os postos de São Paulo."
   ]
  },
  {
   "cell_type": "code",
   "execution_count": 93,
   "id": "potential-treasure",
   "metadata": {},
   "outputs": [],
   "source": [
    "dados_luke = personagens_df.query('NOME == \"Luke Skywalker\"')"
   ]
  },
  {
   "cell_type": "code",
   "execution_count": 94,
   "id": "union-diesel",
   "metadata": {},
   "outputs": [
    {
     "data": {
      "text/html": [
       "<div>\n",
       "<style scoped>\n",
       "    .dataframe tbody tr th:only-of-type {\n",
       "        vertical-align: middle;\n",
       "    }\n",
       "\n",
       "    .dataframe tbody tr th {\n",
       "        vertical-align: top;\n",
       "    }\n",
       "\n",
       "    .dataframe thead th {\n",
       "        text-align: right;\n",
       "    }\n",
       "</style>\n",
       "<table border=\"1\" class=\"dataframe\">\n",
       "  <thead>\n",
       "    <tr style=\"text-align: right;\">\n",
       "      <th></th>\n",
       "      <th>NOME</th>\n",
       "      <th>IDADE</th>\n",
       "      <th>PESO</th>\n",
       "      <th>ED_JEDI</th>\n",
       "      <th>PODER</th>\n",
       "      <th>Coluna a partir de lista</th>\n",
       "      <th>PODER(Pós Arco)</th>\n",
       "    </tr>\n",
       "  </thead>\n",
       "  <tbody>\n",
       "    <tr>\n",
       "      <th>0</th>\n",
       "      <td>Luke Skywalker</td>\n",
       "      <td>16</td>\n",
       "      <td>70.5</td>\n",
       "      <td>True</td>\n",
       "      <td>0</td>\n",
       "      <td>0</td>\n",
       "      <td>0</td>\n",
       "    </tr>\n",
       "    <tr>\n",
       "      <th>3</th>\n",
       "      <td>Luke Skywalker</td>\n",
       "      <td>33</td>\n",
       "      <td>75.5</td>\n",
       "      <td>True</td>\n",
       "      <td>3</td>\n",
       "      <td>3</td>\n",
       "      <td>6</td>\n",
       "    </tr>\n",
       "  </tbody>\n",
       "</table>\n",
       "</div>"
      ],
      "text/plain": [
       "             NOME  IDADE  PESO  ED_JEDI  PODER  Coluna a partir de lista  \\\n",
       "0  Luke Skywalker     16  70.5     True      0                         0   \n",
       "3  Luke Skywalker     33  75.5     True      3                         3   \n",
       "\n",
       "   PODER(Pós Arco)  \n",
       "0                0  \n",
       "3                6  "
      ]
     },
     "execution_count": 94,
     "metadata": {},
     "output_type": "execute_result"
    }
   ],
   "source": [
    "#Agora o 'dados_like' é um dataframe e não mais uma series\n",
    "#Podendo usar atributos de dataframes\n",
    "dados_luke"
   ]
  },
  {
   "cell_type": "code",
   "execution_count": 95,
   "id": "british-vision",
   "metadata": {},
   "outputs": [
    {
     "data": {
      "text/html": [
       "<div>\n",
       "<style scoped>\n",
       "    .dataframe tbody tr th:only-of-type {\n",
       "        vertical-align: middle;\n",
       "    }\n",
       "\n",
       "    .dataframe tbody tr th {\n",
       "        vertical-align: top;\n",
       "    }\n",
       "\n",
       "    .dataframe thead th {\n",
       "        text-align: right;\n",
       "    }\n",
       "</style>\n",
       "<table border=\"1\" class=\"dataframe\">\n",
       "  <thead>\n",
       "    <tr style=\"text-align: right;\">\n",
       "      <th></th>\n",
       "      <th>NOME</th>\n",
       "      <th>IDADE</th>\n",
       "      <th>PESO</th>\n",
       "      <th>ED_JEDI</th>\n",
       "      <th>PODER</th>\n",
       "      <th>Coluna a partir de lista</th>\n",
       "      <th>PODER(Pós Arco)</th>\n",
       "    </tr>\n",
       "  </thead>\n",
       "  <tbody>\n",
       "    <tr>\n",
       "      <th>0</th>\n",
       "      <td>Luke Skywalker</td>\n",
       "      <td>16</td>\n",
       "      <td>70.50</td>\n",
       "      <td>True</td>\n",
       "      <td>0</td>\n",
       "      <td>0</td>\n",
       "      <td>0</td>\n",
       "    </tr>\n",
       "    <tr>\n",
       "      <th>1</th>\n",
       "      <td>Yoda</td>\n",
       "      <td>1000</td>\n",
       "      <td>15.12</td>\n",
       "      <td>True</td>\n",
       "      <td>1</td>\n",
       "      <td>1</td>\n",
       "      <td>3</td>\n",
       "    </tr>\n",
       "    <tr>\n",
       "      <th>2</th>\n",
       "      <td>Palpatine</td>\n",
       "      <td>70</td>\n",
       "      <td>60.10</td>\n",
       "      <td>False</td>\n",
       "      <td>2</td>\n",
       "      <td>2</td>\n",
       "      <td>6</td>\n",
       "    </tr>\n",
       "    <tr>\n",
       "      <th>3</th>\n",
       "      <td>Luke Skywalker</td>\n",
       "      <td>33</td>\n",
       "      <td>75.50</td>\n",
       "      <td>True</td>\n",
       "      <td>3</td>\n",
       "      <td>3</td>\n",
       "      <td>6</td>\n",
       "    </tr>\n",
       "  </tbody>\n",
       "</table>\n",
       "</div>"
      ],
      "text/plain": [
       "             NOME  IDADE   PESO  ED_JEDI  PODER  Coluna a partir de lista  \\\n",
       "0  Luke Skywalker     16  70.50     True      0                         0   \n",
       "1            Yoda   1000  15.12     True      1                         1   \n",
       "2       Palpatine     70  60.10    False      2                         2   \n",
       "3  Luke Skywalker     33  75.50     True      3                         3   \n",
       "\n",
       "   PODER(Pós Arco)  \n",
       "0                0  \n",
       "1                3  \n",
       "2                6  \n",
       "3                6  "
      ]
     },
     "execution_count": 95,
     "metadata": {},
     "output_type": "execute_result"
    }
   ],
   "source": [
    "personagens_df"
   ]
  },
  {
   "cell_type": "code",
   "execution_count": 96,
   "id": "297951ee",
   "metadata": {},
   "outputs": [
    {
     "data": {
      "text/html": [
       "<div>\n",
       "<style scoped>\n",
       "    .dataframe tbody tr th:only-of-type {\n",
       "        vertical-align: middle;\n",
       "    }\n",
       "\n",
       "    .dataframe tbody tr th {\n",
       "        vertical-align: top;\n",
       "    }\n",
       "\n",
       "    .dataframe thead th {\n",
       "        text-align: right;\n",
       "    }\n",
       "</style>\n",
       "<table border=\"1\" class=\"dataframe\">\n",
       "  <thead>\n",
       "    <tr style=\"text-align: right;\">\n",
       "      <th></th>\n",
       "      <th>NOME</th>\n",
       "      <th>IDADE</th>\n",
       "      <th>PESO</th>\n",
       "      <th>ED_JEDI</th>\n",
       "      <th>PODER</th>\n",
       "      <th>Coluna a partir de lista</th>\n",
       "      <th>PODER(Pós Arco)</th>\n",
       "    </tr>\n",
       "  </thead>\n",
       "  <tbody>\n",
       "    <tr>\n",
       "      <th>0</th>\n",
       "      <td>Luke Skywalker</td>\n",
       "      <td>16</td>\n",
       "      <td>70.5</td>\n",
       "      <td>True</td>\n",
       "      <td>0</td>\n",
       "      <td>0</td>\n",
       "      <td>0</td>\n",
       "    </tr>\n",
       "    <tr>\n",
       "      <th>3</th>\n",
       "      <td>Luke Skywalker</td>\n",
       "      <td>33</td>\n",
       "      <td>75.5</td>\n",
       "      <td>True</td>\n",
       "      <td>3</td>\n",
       "      <td>3</td>\n",
       "      <td>6</td>\n",
       "    </tr>\n",
       "  </tbody>\n",
       "</table>\n",
       "</div>"
      ],
      "text/plain": [
       "             NOME  IDADE  PESO  ED_JEDI  PODER  Coluna a partir de lista  \\\n",
       "0  Luke Skywalker     16  70.5     True      0                         0   \n",
       "3  Luke Skywalker     33  75.5     True      3                         3   \n",
       "\n",
       "   PODER(Pós Arco)  \n",
       "0                0  \n",
       "3                6  "
      ]
     },
     "execution_count": 96,
     "metadata": {},
     "output_type": "execute_result"
    }
   ],
   "source": [
    "dados_luke"
   ]
  },
  {
   "cell_type": "code",
   "execution_count": 97,
   "id": "occupied-attitude",
   "metadata": {},
   "outputs": [
    {
     "data": {
      "text/html": [
       "<div>\n",
       "<style scoped>\n",
       "    .dataframe tbody tr th:only-of-type {\n",
       "        vertical-align: middle;\n",
       "    }\n",
       "\n",
       "    .dataframe tbody tr th {\n",
       "        vertical-align: top;\n",
       "    }\n",
       "\n",
       "    .dataframe thead th {\n",
       "        text-align: right;\n",
       "    }\n",
       "</style>\n",
       "<table border=\"1\" class=\"dataframe\">\n",
       "  <thead>\n",
       "    <tr style=\"text-align: right;\">\n",
       "      <th></th>\n",
       "      <th>index</th>\n",
       "      <th>NOME</th>\n",
       "      <th>IDADE</th>\n",
       "      <th>PESO</th>\n",
       "      <th>ED_JEDI</th>\n",
       "      <th>PODER</th>\n",
       "      <th>Coluna a partir de lista</th>\n",
       "      <th>PODER(Pós Arco)</th>\n",
       "    </tr>\n",
       "  </thead>\n",
       "  <tbody>\n",
       "    <tr>\n",
       "      <th>0</th>\n",
       "      <td>0</td>\n",
       "      <td>Luke Skywalker</td>\n",
       "      <td>16</td>\n",
       "      <td>70.5</td>\n",
       "      <td>True</td>\n",
       "      <td>0</td>\n",
       "      <td>0</td>\n",
       "      <td>0</td>\n",
       "    </tr>\n",
       "    <tr>\n",
       "      <th>1</th>\n",
       "      <td>3</td>\n",
       "      <td>Luke Skywalker</td>\n",
       "      <td>33</td>\n",
       "      <td>75.5</td>\n",
       "      <td>True</td>\n",
       "      <td>3</td>\n",
       "      <td>3</td>\n",
       "      <td>6</td>\n",
       "    </tr>\n",
       "  </tbody>\n",
       "</table>\n",
       "</div>"
      ],
      "text/plain": [
       "   index            NOME  IDADE  PESO  ED_JEDI  PODER  \\\n",
       "0      0  Luke Skywalker     16  70.5     True      0   \n",
       "1      3  Luke Skywalker     33  75.5     True      3   \n",
       "\n",
       "   Coluna a partir de lista  PODER(Pós Arco)  \n",
       "0                         0                0  \n",
       "1                         3                6  "
      ]
     },
     "execution_count": 97,
     "metadata": {},
     "output_type": "execute_result"
    }
   ],
   "source": [
    "#Dessa forma eu resetei os indices do dataframe\n",
    "#Mas não foi uma copia, foi uma referencia\n",
    "dados_luke.reset_index()"
   ]
  },
  {
   "cell_type": "code",
   "execution_count": 98,
   "id": "3aee146f",
   "metadata": {},
   "outputs": [
    {
     "data": {
      "text/html": [
       "<div>\n",
       "<style scoped>\n",
       "    .dataframe tbody tr th:only-of-type {\n",
       "        vertical-align: middle;\n",
       "    }\n",
       "\n",
       "    .dataframe tbody tr th {\n",
       "        vertical-align: top;\n",
       "    }\n",
       "\n",
       "    .dataframe thead th {\n",
       "        text-align: right;\n",
       "    }\n",
       "</style>\n",
       "<table border=\"1\" class=\"dataframe\">\n",
       "  <thead>\n",
       "    <tr style=\"text-align: right;\">\n",
       "      <th></th>\n",
       "      <th>NOME</th>\n",
       "      <th>IDADE</th>\n",
       "      <th>PESO</th>\n",
       "      <th>ED_JEDI</th>\n",
       "      <th>PODER</th>\n",
       "      <th>Coluna a partir de lista</th>\n",
       "      <th>PODER(Pós Arco)</th>\n",
       "    </tr>\n",
       "  </thead>\n",
       "  <tbody>\n",
       "    <tr>\n",
       "      <th>0</th>\n",
       "      <td>Luke Skywalker</td>\n",
       "      <td>16</td>\n",
       "      <td>70.5</td>\n",
       "      <td>True</td>\n",
       "      <td>0</td>\n",
       "      <td>0</td>\n",
       "      <td>0</td>\n",
       "    </tr>\n",
       "    <tr>\n",
       "      <th>3</th>\n",
       "      <td>Luke Skywalker</td>\n",
       "      <td>33</td>\n",
       "      <td>75.5</td>\n",
       "      <td>True</td>\n",
       "      <td>3</td>\n",
       "      <td>3</td>\n",
       "      <td>6</td>\n",
       "    </tr>\n",
       "  </tbody>\n",
       "</table>\n",
       "</div>"
      ],
      "text/plain": [
       "             NOME  IDADE  PESO  ED_JEDI  PODER  Coluna a partir de lista  \\\n",
       "0  Luke Skywalker     16  70.5     True      0                         0   \n",
       "3  Luke Skywalker     33  75.5     True      3                         3   \n",
       "\n",
       "   PODER(Pós Arco)  \n",
       "0                0  \n",
       "3                6  "
      ]
     },
     "execution_count": 98,
     "metadata": {},
     "output_type": "execute_result"
    }
   ],
   "source": [
    "#Como pode ver o index foi resetado, mas o index original ainda está lá\n",
    "dados_luke"
   ]
  },
  {
   "cell_type": "code",
   "execution_count": 99,
   "id": "202ab702",
   "metadata": {},
   "outputs": [
    {
     "data": {
      "text/html": [
       "<div>\n",
       "<style scoped>\n",
       "    .dataframe tbody tr th:only-of-type {\n",
       "        vertical-align: middle;\n",
       "    }\n",
       "\n",
       "    .dataframe tbody tr th {\n",
       "        vertical-align: top;\n",
       "    }\n",
       "\n",
       "    .dataframe thead th {\n",
       "        text-align: right;\n",
       "    }\n",
       "</style>\n",
       "<table border=\"1\" class=\"dataframe\">\n",
       "  <thead>\n",
       "    <tr style=\"text-align: right;\">\n",
       "      <th></th>\n",
       "      <th>NOME</th>\n",
       "      <th>IDADE</th>\n",
       "      <th>PESO</th>\n",
       "      <th>ED_JEDI</th>\n",
       "      <th>PODER</th>\n",
       "      <th>Coluna a partir de lista</th>\n",
       "      <th>PODER(Pós Arco)</th>\n",
       "    </tr>\n",
       "  </thead>\n",
       "  <tbody>\n",
       "    <tr>\n",
       "      <th>0</th>\n",
       "      <td>Luke Skywalker</td>\n",
       "      <td>16</td>\n",
       "      <td>70.5</td>\n",
       "      <td>True</td>\n",
       "      <td>0</td>\n",
       "      <td>0</td>\n",
       "      <td>0</td>\n",
       "    </tr>\n",
       "    <tr>\n",
       "      <th>1</th>\n",
       "      <td>Luke Skywalker</td>\n",
       "      <td>33</td>\n",
       "      <td>75.5</td>\n",
       "      <td>True</td>\n",
       "      <td>3</td>\n",
       "      <td>3</td>\n",
       "      <td>6</td>\n",
       "    </tr>\n",
       "  </tbody>\n",
       "</table>\n",
       "</div>"
      ],
      "text/plain": [
       "             NOME  IDADE  PESO  ED_JEDI  PODER  Coluna a partir de lista  \\\n",
       "0  Luke Skywalker     16  70.5     True      0                         0   \n",
       "1  Luke Skywalker     33  75.5     True      3                         3   \n",
       "\n",
       "   PODER(Pós Arco)  \n",
       "0                0  \n",
       "1                6  "
      ]
     },
     "execution_count": 99,
     "metadata": {},
     "output_type": "execute_result"
    }
   ],
   "source": [
    "dados_luke.reset_index(drop=True)"
   ]
  },
  {
   "cell_type": "code",
   "execution_count": 100,
   "id": "14a9aa94",
   "metadata": {},
   "outputs": [
    {
     "data": {
      "text/html": [
       "<div>\n",
       "<style scoped>\n",
       "    .dataframe tbody tr th:only-of-type {\n",
       "        vertical-align: middle;\n",
       "    }\n",
       "\n",
       "    .dataframe tbody tr th {\n",
       "        vertical-align: top;\n",
       "    }\n",
       "\n",
       "    .dataframe thead th {\n",
       "        text-align: right;\n",
       "    }\n",
       "</style>\n",
       "<table border=\"1\" class=\"dataframe\">\n",
       "  <thead>\n",
       "    <tr style=\"text-align: right;\">\n",
       "      <th></th>\n",
       "      <th>NOME</th>\n",
       "      <th>IDADE</th>\n",
       "      <th>PESO</th>\n",
       "      <th>ED_JEDI</th>\n",
       "      <th>PODER</th>\n",
       "      <th>Coluna a partir de lista</th>\n",
       "      <th>PODER(Pós Arco)</th>\n",
       "    </tr>\n",
       "  </thead>\n",
       "  <tbody>\n",
       "    <tr>\n",
       "      <th>0</th>\n",
       "      <td>Luke Skywalker</td>\n",
       "      <td>16</td>\n",
       "      <td>70.5</td>\n",
       "      <td>True</td>\n",
       "      <td>0</td>\n",
       "      <td>0</td>\n",
       "      <td>0</td>\n",
       "    </tr>\n",
       "    <tr>\n",
       "      <th>3</th>\n",
       "      <td>Luke Skywalker</td>\n",
       "      <td>33</td>\n",
       "      <td>75.5</td>\n",
       "      <td>True</td>\n",
       "      <td>3</td>\n",
       "      <td>3</td>\n",
       "      <td>6</td>\n",
       "    </tr>\n",
       "  </tbody>\n",
       "</table>\n",
       "</div>"
      ],
      "text/plain": [
       "             NOME  IDADE  PESO  ED_JEDI  PODER  Coluna a partir de lista  \\\n",
       "0  Luke Skywalker     16  70.5     True      0                         0   \n",
       "3  Luke Skywalker     33  75.5     True      3                         3   \n",
       "\n",
       "   PODER(Pós Arco)  \n",
       "0                0  \n",
       "3                6  "
      ]
     },
     "execution_count": 100,
     "metadata": {},
     "output_type": "execute_result"
    }
   ],
   "source": [
    "#Porem o dataframe original ainda não foi alterado\n",
    "dados_luke\n"
   ]
  },
  {
   "cell_type": "code",
   "execution_count": 101,
   "id": "0618661a",
   "metadata": {},
   "outputs": [
    {
     "data": {
      "text/html": [
       "<div>\n",
       "<style scoped>\n",
       "    .dataframe tbody tr th:only-of-type {\n",
       "        vertical-align: middle;\n",
       "    }\n",
       "\n",
       "    .dataframe tbody tr th {\n",
       "        vertical-align: top;\n",
       "    }\n",
       "\n",
       "    .dataframe thead th {\n",
       "        text-align: right;\n",
       "    }\n",
       "</style>\n",
       "<table border=\"1\" class=\"dataframe\">\n",
       "  <thead>\n",
       "    <tr style=\"text-align: right;\">\n",
       "      <th></th>\n",
       "      <th>NOME</th>\n",
       "      <th>IDADE</th>\n",
       "      <th>PESO</th>\n",
       "      <th>ED_JEDI</th>\n",
       "      <th>PODER</th>\n",
       "      <th>Coluna a partir de lista</th>\n",
       "      <th>PODER(Pós Arco)</th>\n",
       "    </tr>\n",
       "  </thead>\n",
       "  <tbody>\n",
       "    <tr>\n",
       "      <th>0</th>\n",
       "      <td>Luke Skywalker</td>\n",
       "      <td>16</td>\n",
       "      <td>70.5</td>\n",
       "      <td>True</td>\n",
       "      <td>0</td>\n",
       "      <td>0</td>\n",
       "      <td>0</td>\n",
       "    </tr>\n",
       "    <tr>\n",
       "      <th>1</th>\n",
       "      <td>Luke Skywalker</td>\n",
       "      <td>33</td>\n",
       "      <td>75.5</td>\n",
       "      <td>True</td>\n",
       "      <td>3</td>\n",
       "      <td>3</td>\n",
       "      <td>6</td>\n",
       "    </tr>\n",
       "  </tbody>\n",
       "</table>\n",
       "</div>"
      ],
      "text/plain": [
       "             NOME  IDADE  PESO  ED_JEDI  PODER  Coluna a partir de lista  \\\n",
       "0  Luke Skywalker     16  70.5     True      0                         0   \n",
       "1  Luke Skywalker     33  75.5     True      3                         3   \n",
       "\n",
       "   PODER(Pós Arco)  \n",
       "0                0  \n",
       "1                6  "
      ]
     },
     "execution_count": 101,
     "metadata": {},
     "output_type": "execute_result"
    }
   ],
   "source": [
    "#Mas usando o parametro implace=True, o dataframe original é alterado\n",
    "dados_luke.reset_index(drop=True,inplace=True)\n",
    "\n",
    "#Agora o index foi resetado e o dataframe original foi alterado\n",
    "dados_luke"
   ]
  },
  {
   "cell_type": "code",
   "execution_count": 102,
   "id": "5892f80e",
   "metadata": {},
   "outputs": [
    {
     "data": {
      "text/html": [
       "<div>\n",
       "<style scoped>\n",
       "    .dataframe tbody tr th:only-of-type {\n",
       "        vertical-align: middle;\n",
       "    }\n",
       "\n",
       "    .dataframe tbody tr th {\n",
       "        vertical-align: top;\n",
       "    }\n",
       "\n",
       "    .dataframe thead th {\n",
       "        text-align: right;\n",
       "    }\n",
       "</style>\n",
       "<table border=\"1\" class=\"dataframe\">\n",
       "  <thead>\n",
       "    <tr style=\"text-align: right;\">\n",
       "      <th></th>\n",
       "      <th>NOME</th>\n",
       "      <th>IDADE</th>\n",
       "      <th>PESO</th>\n",
       "      <th>ED_JEDI</th>\n",
       "      <th>PODER</th>\n",
       "      <th>Coluna a partir de lista</th>\n",
       "      <th>PODER(Pós Arco)</th>\n",
       "    </tr>\n",
       "  </thead>\n",
       "  <tbody>\n",
       "    <tr>\n",
       "      <th>0</th>\n",
       "      <td>Luke Skywalker</td>\n",
       "      <td>16</td>\n",
       "      <td>70.5</td>\n",
       "      <td>True</td>\n",
       "      <td>0</td>\n",
       "      <td>0</td>\n",
       "      <td>0</td>\n",
       "    </tr>\n",
       "    <tr>\n",
       "      <th>1</th>\n",
       "      <td>Luke Skywalker</td>\n",
       "      <td>33</td>\n",
       "      <td>75.5</td>\n",
       "      <td>True</td>\n",
       "      <td>3</td>\n",
       "      <td>3</td>\n",
       "      <td>6</td>\n",
       "    </tr>\n",
       "  </tbody>\n",
       "</table>\n",
       "</div>"
      ],
      "text/plain": [
       "             NOME  IDADE  PESO  ED_JEDI  PODER  Coluna a partir de lista  \\\n",
       "0  Luke Skywalker     16  70.5     True      0                         0   \n",
       "1  Luke Skywalker     33  75.5     True      3                         3   \n",
       "\n",
       "   PODER(Pós Arco)  \n",
       "0                0  \n",
       "1                6  "
      ]
     },
     "execution_count": 102,
     "metadata": {},
     "output_type": "execute_result"
    }
   ],
   "source": [
    "#O método mais comun é pegando a copy do dataframe e restando os indices na mesma linha\n",
    "dados_luke = personagens_df.query('NOME == \"Luke Skywalker\"').reset_index(drop=True)\n",
    "\n",
    "dados_luke"
   ]
  },
  {
   "cell_type": "markdown",
   "id": "08e95eed",
   "metadata": {},
   "source": [
    "#### **Selecionando registros de postos do Rio de Janeiro com Preços acima de 2 reais**###"
   ]
  },
  {
   "cell_type": "code",
   "execution_count": 103,
   "id": "fe80559b",
   "metadata": {},
   "outputs": [
    {
     "data": {
      "text/html": [
       "<div>\n",
       "<style scoped>\n",
       "    .dataframe tbody tr th:only-of-type {\n",
       "        vertical-align: middle;\n",
       "    }\n",
       "\n",
       "    .dataframe tbody tr th {\n",
       "        vertical-align: top;\n",
       "    }\n",
       "\n",
       "    .dataframe thead th {\n",
       "        text-align: right;\n",
       "    }\n",
       "</style>\n",
       "<table border=\"1\" class=\"dataframe\">\n",
       "  <thead>\n",
       "    <tr style=\"text-align: right;\">\n",
       "      <th></th>\n",
       "      <th>NOME</th>\n",
       "      <th>IDADE</th>\n",
       "      <th>PESO</th>\n",
       "      <th>ED_JEDI</th>\n",
       "      <th>PODER</th>\n",
       "      <th>Coluna a partir de lista</th>\n",
       "      <th>PODER(Pós Arco)</th>\n",
       "    </tr>\n",
       "  </thead>\n",
       "  <tbody>\n",
       "    <tr>\n",
       "      <th>0</th>\n",
       "      <td>Luke Skywalker</td>\n",
       "      <td>16</td>\n",
       "      <td>70.50</td>\n",
       "      <td>True</td>\n",
       "      <td>0</td>\n",
       "      <td>0</td>\n",
       "      <td>0</td>\n",
       "    </tr>\n",
       "    <tr>\n",
       "      <th>1</th>\n",
       "      <td>Yoda</td>\n",
       "      <td>1000</td>\n",
       "      <td>15.12</td>\n",
       "      <td>True</td>\n",
       "      <td>1</td>\n",
       "      <td>1</td>\n",
       "      <td>3</td>\n",
       "    </tr>\n",
       "    <tr>\n",
       "      <th>2</th>\n",
       "      <td>Palpatine</td>\n",
       "      <td>70</td>\n",
       "      <td>60.10</td>\n",
       "      <td>False</td>\n",
       "      <td>2</td>\n",
       "      <td>2</td>\n",
       "      <td>6</td>\n",
       "    </tr>\n",
       "    <tr>\n",
       "      <th>3</th>\n",
       "      <td>Luke Skywalker</td>\n",
       "      <td>33</td>\n",
       "      <td>75.50</td>\n",
       "      <td>True</td>\n",
       "      <td>3</td>\n",
       "      <td>3</td>\n",
       "      <td>6</td>\n",
       "    </tr>\n",
       "  </tbody>\n",
       "</table>\n",
       "</div>"
      ],
      "text/plain": [
       "             NOME  IDADE   PESO  ED_JEDI  PODER  Coluna a partir de lista  \\\n",
       "0  Luke Skywalker     16  70.50     True      0                         0   \n",
       "1            Yoda   1000  15.12     True      1                         1   \n",
       "2       Palpatine     70  60.10    False      2                         2   \n",
       "3  Luke Skywalker     33  75.50     True      3                         3   \n",
       "\n",
       "   PODER(Pós Arco)  \n",
       "0                0  \n",
       "1                3  \n",
       "2                6  \n",
       "3                6  "
      ]
     },
     "execution_count": 103,
     "metadata": {},
     "output_type": "execute_result"
    }
   ],
   "source": [
    "#Selecionando se o PODER do luke é igual a 0 ou 3\n",
    "\n",
    "personagens_df"
   ]
  },
  {
   "cell_type": "code",
   "execution_count": 104,
   "id": "259c86a7",
   "metadata": {},
   "outputs": [
    {
     "data": {
      "text/plain": [
       "array(['Luke Skywalker', 'Yoda', 'Palpatine'], dtype=object)"
      ]
     },
     "execution_count": 104,
     "metadata": {},
     "output_type": "execute_result"
    }
   ],
   "source": [
    "#Usei a função unique para saber quem esta na coluna NOME e a gramatica da escrita\n",
    "personagens_df['NOME'].unique()\n"
   ]
  },
  {
   "cell_type": "code",
   "execution_count": 105,
   "id": "126035eb",
   "metadata": {},
   "outputs": [
    {
     "data": {
      "text/plain": [
       "0     True\n",
       "1    False\n",
       "2    False\n",
       "3     True\n",
       "Name: NOME, dtype: bool"
      ]
     },
     "execution_count": 105,
     "metadata": {},
     "output_type": "execute_result"
    }
   ],
   "source": [
    "personagens_df['NOME'] == 'Luke Skywalker'\n"
   ]
  },
  {
   "cell_type": "code",
   "execution_count": 106,
   "id": "a5bc1fdc",
   "metadata": {},
   "outputs": [
    {
     "data": {
      "text/plain": [
       "0     True\n",
       "1    False\n",
       "2    False\n",
       "3     True\n",
       "Name: PODER, dtype: bool"
      ]
     },
     "execution_count": 106,
     "metadata": {},
     "output_type": "execute_result"
    }
   ],
   "source": [
    "#Para pegar os valores 0 ou 1 têm que usar o operador | (ou) usando parenteses \n",
    "(personagens_df['PODER'] == 0) | (personagens_df['PODER'] == 3)"
   ]
  },
  {
   "cell_type": "code",
   "execution_count": 107,
   "id": "9821d137",
   "metadata": {},
   "outputs": [],
   "source": [
    "####**Achando poder maior que 1**####"
   ]
  },
  {
   "cell_type": "code",
   "execution_count": 108,
   "id": "d1a861a2",
   "metadata": {},
   "outputs": [
    {
     "data": {
      "text/html": [
       "<div>\n",
       "<style scoped>\n",
       "    .dataframe tbody tr th:only-of-type {\n",
       "        vertical-align: middle;\n",
       "    }\n",
       "\n",
       "    .dataframe tbody tr th {\n",
       "        vertical-align: top;\n",
       "    }\n",
       "\n",
       "    .dataframe thead th {\n",
       "        text-align: right;\n",
       "    }\n",
       "</style>\n",
       "<table border=\"1\" class=\"dataframe\">\n",
       "  <thead>\n",
       "    <tr style=\"text-align: right;\">\n",
       "      <th></th>\n",
       "      <th>NOME</th>\n",
       "      <th>IDADE</th>\n",
       "      <th>PESO</th>\n",
       "      <th>ED_JEDI</th>\n",
       "      <th>PODER</th>\n",
       "      <th>Coluna a partir de lista</th>\n",
       "      <th>PODER(Pós Arco)</th>\n",
       "    </tr>\n",
       "  </thead>\n",
       "  <tbody>\n",
       "    <tr>\n",
       "      <th>0</th>\n",
       "      <td>Luke Skywalker</td>\n",
       "      <td>16</td>\n",
       "      <td>70.50</td>\n",
       "      <td>True</td>\n",
       "      <td>0</td>\n",
       "      <td>0</td>\n",
       "      <td>0</td>\n",
       "    </tr>\n",
       "    <tr>\n",
       "      <th>1</th>\n",
       "      <td>Yoda</td>\n",
       "      <td>1000</td>\n",
       "      <td>15.12</td>\n",
       "      <td>True</td>\n",
       "      <td>1</td>\n",
       "      <td>1</td>\n",
       "      <td>3</td>\n",
       "    </tr>\n",
       "    <tr>\n",
       "      <th>2</th>\n",
       "      <td>Palpatine</td>\n",
       "      <td>70</td>\n",
       "      <td>60.10</td>\n",
       "      <td>False</td>\n",
       "      <td>2</td>\n",
       "      <td>2</td>\n",
       "      <td>6</td>\n",
       "    </tr>\n",
       "    <tr>\n",
       "      <th>3</th>\n",
       "      <td>Luke Skywalker</td>\n",
       "      <td>33</td>\n",
       "      <td>75.50</td>\n",
       "      <td>True</td>\n",
       "      <td>3</td>\n",
       "      <td>3</td>\n",
       "      <td>6</td>\n",
       "    </tr>\n",
       "  </tbody>\n",
       "</table>\n",
       "</div>"
      ],
      "text/plain": [
       "             NOME  IDADE   PESO  ED_JEDI  PODER  Coluna a partir de lista  \\\n",
       "0  Luke Skywalker     16  70.50     True      0                         0   \n",
       "1            Yoda   1000  15.12     True      1                         1   \n",
       "2       Palpatine     70  60.10    False      2                         2   \n",
       "3  Luke Skywalker     33  75.50     True      3                         3   \n",
       "\n",
       "   PODER(Pós Arco)  \n",
       "0                0  \n",
       "1                3  \n",
       "2                6  \n",
       "3                6  "
      ]
     },
     "execution_count": 108,
     "metadata": {},
     "output_type": "execute_result"
    }
   ],
   "source": [
    "personagens_df"
   ]
  },
  {
   "cell_type": "code",
   "execution_count": 109,
   "id": "f03a34bb",
   "metadata": {},
   "outputs": [
    {
     "data": {
      "text/plain": [
       "0    False\n",
       "1    False\n",
       "2     True\n",
       "3     True\n",
       "Name: PODER, dtype: bool"
      ]
     },
     "execution_count": 109,
     "metadata": {},
     "output_type": "execute_result"
    }
   ],
   "source": [
    "personagens_df['PODER'] > 1"
   ]
  },
  {
   "cell_type": "code",
   "execution_count": 110,
   "id": "a841ba37",
   "metadata": {},
   "outputs": [
    {
     "data": {
      "text/plain": [
       "0    False\n",
       "1    False\n",
       "2     True\n",
       "3     True\n",
       "Name: PODER(Pós Arco), dtype: bool"
      ]
     },
     "execution_count": 110,
     "metadata": {},
     "output_type": "execute_result"
    }
   ],
   "source": [
    "#Personagens com o PODER(Pós Arco) igual a 6\n",
    "personagens_df['PODER(Pós Arco)'] == 6"
   ]
  },
  {
   "cell_type": "code",
   "execution_count": 111,
   "id": "185d152e",
   "metadata": {},
   "outputs": [
    {
     "data": {
      "text/plain": [
       "0    False\n",
       "1    False\n",
       "2     True\n",
       "3     True\n",
       "dtype: bool"
      ]
     },
     "execution_count": 111,
     "metadata": {},
     "output_type": "execute_result"
    }
   ],
   "source": [
    "#Juntei as dus operações com o operador '&' que é 'and' \n",
    "select = (personagens_df['PODER'] > 1 ) & (personagens_df['PODER(Pós Arco)'] == 6)\n",
    "\n",
    "select"
   ]
  },
  {
   "cell_type": "markdown",
   "id": "executed-colors",
   "metadata": {},
   "source": [
    "Note que o resultado da seleção continua sendo uma _Series de booleans_ com o _mesmo número de linhas/amostras do DataFrame_, de modo que cada linha possuirá um valor booleano indicando se o posto é do Rio de Janeiro e o preço aferido do combustível é maior que 2 reais (True) ou não.\n",
    "\n",
    "O símbolo **&** significa **AND** na comparação. Essa nomenclatura do python/pandas é diferente das nomenclaturas tradicionais (&&). <br/>\n",
    "Similarmente:\n",
    "- **|** representa o **OR** (não é ||)\n",
    "- **~** representa o **NOT** (não é !)"
   ]
  },
  {
   "cell_type": "code",
   "execution_count": 112,
   "id": "civic-applicant",
   "metadata": {},
   "outputs": [
    {
     "data": {
      "text/html": [
       "<div>\n",
       "<style scoped>\n",
       "    .dataframe tbody tr th:only-of-type {\n",
       "        vertical-align: middle;\n",
       "    }\n",
       "\n",
       "    .dataframe tbody tr th {\n",
       "        vertical-align: top;\n",
       "    }\n",
       "\n",
       "    .dataframe thead th {\n",
       "        text-align: right;\n",
       "    }\n",
       "</style>\n",
       "<table border=\"1\" class=\"dataframe\">\n",
       "  <thead>\n",
       "    <tr style=\"text-align: right;\">\n",
       "      <th></th>\n",
       "      <th>NOME</th>\n",
       "      <th>IDADE</th>\n",
       "      <th>PESO</th>\n",
       "      <th>ED_JEDI</th>\n",
       "      <th>PODER</th>\n",
       "      <th>Coluna a partir de lista</th>\n",
       "      <th>PODER(Pós Arco)</th>\n",
       "    </tr>\n",
       "  </thead>\n",
       "  <tbody>\n",
       "    <tr>\n",
       "      <th>2</th>\n",
       "      <td>Palpatine</td>\n",
       "      <td>70</td>\n",
       "      <td>60.1</td>\n",
       "      <td>False</td>\n",
       "      <td>2</td>\n",
       "      <td>2</td>\n",
       "      <td>6</td>\n",
       "    </tr>\n",
       "    <tr>\n",
       "      <th>3</th>\n",
       "      <td>Luke Skywalker</td>\n",
       "      <td>33</td>\n",
       "      <td>75.5</td>\n",
       "      <td>True</td>\n",
       "      <td>3</td>\n",
       "      <td>3</td>\n",
       "      <td>6</td>\n",
       "    </tr>\n",
       "  </tbody>\n",
       "</table>\n",
       "</div>"
      ],
      "text/plain": [
       "             NOME  IDADE  PESO  ED_JEDI  PODER  Coluna a partir de lista  \\\n",
       "2       Palpatine     70  60.1    False      2                         2   \n",
       "3  Luke Skywalker     33  75.5     True      3                         3   \n",
       "\n",
       "   PODER(Pós Arco)  \n",
       "2                6  \n",
       "3                6  "
      ]
     },
     "execution_count": 112,
     "metadata": {},
     "output_type": "execute_result"
    }
   ],
   "source": [
    "#Fazendo dessa forma vai mostrar os registros True\n",
    "personagens_df[select]"
   ]
  },
  {
   "cell_type": "markdown",
   "id": "illegal-boards",
   "metadata": {},
   "source": [
    "Alternativamente, poderíamos usar o método `query` para fazermos tal seleção. Porém, isso não é possível especificamente para esse caso, pois o rótulo da coluna 'PREÇO MÉDIO REVENDA' possui caracteres inválidos para o método (cedilha, acentos) "
   ]
  },
  {
   "cell_type": "code",
   "execution_count": 113,
   "id": "automotive-manitoba",
   "metadata": {},
   "outputs": [],
   "source": [
    "# Não funciona\n",
    "# data.query('ESTADO==\"RIO DE JANEIRO\" and PREÇO MÉDIO REVENDA > 2')"
   ]
  },
  {
   "cell_type": "markdown",
   "id": "mexican-romania",
   "metadata": {},
   "source": [
    "**Aprofundando mais ainda**\n",
    "\n",
    "A primeira comparação `(data['ESTADO'] == 'RIO DE JANEIRO')` checa, linha a linha (amostra a amostra) do DataFrame, quais são aquelas cujo o estado é RIO DE JANEIRO. Nenhuma averiguação de preços é feita nesse momento. Como resultado, temos uma Series de booleans que responde **apenas** a essa \"pergunta\" feita.\n",
    "\n",
    "A segunda comparação `(data['PREÇO MÉDIO REVENDA'] > 2)` checa, linha a linha (amostra a amostra) do DataFrame, quais são os registro cujo preço do combustível é maior que 2 reais. Note que essa comparação checará os postos de **TODOS os estados**. Como resultado, temos uma Series de booleans que responde **apenas** a essa \"pergunta\" feita.\n",
    "\n",
    "Por fim, as duas \"perguntas\" são unidas pelo AND (&) que retorna a \"pergunta completa\" que fizemos."
   ]
  },
  {
   "cell_type": "markdown",
   "id": "worst-catholic",
   "metadata": {},
   "source": [
    "Alguns podem argumentar que tal abordagem é **ineficiente**, uma vez que, para cada condição (\"pergunta\"), estamos varrendo todas as linhas do DataFrame. <br/>\n",
    "O Pandas _tenta otimizar_ isso ao máximo por de trás dos panos. Mas, de fato, de tivermos um dataset **muito grande** (centenas de milhares de linhas), tal abordagem se tornará _lenta_."
   ]
  },
  {
   "cell_type": "markdown",
   "id": "another-income",
   "metadata": {},
   "source": [
    "Assim, poderíamos fazer filtragem com múltiplos condicionais em partes:"
   ]
  },
  {
   "cell_type": "code",
   "execution_count": 114,
   "id": "strong-nicholas",
   "metadata": {},
   "outputs": [
    {
     "data": {
      "text/html": [
       "<div>\n",
       "<style scoped>\n",
       "    .dataframe tbody tr th:only-of-type {\n",
       "        vertical-align: middle;\n",
       "    }\n",
       "\n",
       "    .dataframe tbody tr th {\n",
       "        vertical-align: top;\n",
       "    }\n",
       "\n",
       "    .dataframe thead th {\n",
       "        text-align: right;\n",
       "    }\n",
       "</style>\n",
       "<table border=\"1\" class=\"dataframe\">\n",
       "  <thead>\n",
       "    <tr style=\"text-align: right;\">\n",
       "      <th></th>\n",
       "      <th>NOME</th>\n",
       "      <th>IDADE</th>\n",
       "      <th>PESO</th>\n",
       "      <th>ED_JEDI</th>\n",
       "      <th>PODER</th>\n",
       "      <th>Coluna a partir de lista</th>\n",
       "      <th>PODER(Pós Arco)</th>\n",
       "    </tr>\n",
       "  </thead>\n",
       "  <tbody>\n",
       "    <tr>\n",
       "      <th>1</th>\n",
       "      <td>Yoda</td>\n",
       "      <td>1000</td>\n",
       "      <td>15.12</td>\n",
       "      <td>True</td>\n",
       "      <td>1</td>\n",
       "      <td>1</td>\n",
       "      <td>3</td>\n",
       "    </tr>\n",
       "    <tr>\n",
       "      <th>2</th>\n",
       "      <td>Palpatine</td>\n",
       "      <td>70</td>\n",
       "      <td>60.10</td>\n",
       "      <td>False</td>\n",
       "      <td>2</td>\n",
       "      <td>2</td>\n",
       "      <td>6</td>\n",
       "    </tr>\n",
       "    <tr>\n",
       "      <th>3</th>\n",
       "      <td>Luke Skywalker</td>\n",
       "      <td>33</td>\n",
       "      <td>75.50</td>\n",
       "      <td>True</td>\n",
       "      <td>3</td>\n",
       "      <td>3</td>\n",
       "      <td>6</td>\n",
       "    </tr>\n",
       "  </tbody>\n",
       "</table>\n",
       "</div>"
      ],
      "text/plain": [
       "             NOME  IDADE   PESO  ED_JEDI  PODER  Coluna a partir de lista  \\\n",
       "1            Yoda   1000  15.12     True      1                         1   \n",
       "2       Palpatine     70  60.10    False      2                         2   \n",
       "3  Luke Skywalker     33  75.50     True      3                         3   \n",
       "\n",
       "   PODER(Pós Arco)  \n",
       "1                3  \n",
       "2                6  \n",
       "3                6  "
      ]
     },
     "execution_count": 114,
     "metadata": {},
     "output_type": "execute_result"
    }
   ],
   "source": [
    "select2 = personagens_df['PODER'] > 0\n",
    "forca = personagens_df[select2]\n",
    "forca"
   ]
  },
  {
   "cell_type": "code",
   "execution_count": 115,
   "id": "detailed-lyric",
   "metadata": {},
   "outputs": [
    {
     "data": {
      "text/plain": [
       "1    False\n",
       "2     True\n",
       "3     True\n",
       "Name: PODER(Pós Arco), dtype: bool"
      ]
     },
     "execution_count": 115,
     "metadata": {},
     "output_type": "execute_result"
    }
   ],
   "source": [
    "igual = forca['PODER(Pós Arco)'] == 6\n",
    "igual"
   ]
  },
  {
   "cell_type": "code",
   "execution_count": 116,
   "id": "bae322e6",
   "metadata": {},
   "outputs": [
    {
     "data": {
      "text/html": [
       "<div>\n",
       "<style scoped>\n",
       "    .dataframe tbody tr th:only-of-type {\n",
       "        vertical-align: middle;\n",
       "    }\n",
       "\n",
       "    .dataframe tbody tr th {\n",
       "        vertical-align: top;\n",
       "    }\n",
       "\n",
       "    .dataframe thead th {\n",
       "        text-align: right;\n",
       "    }\n",
       "</style>\n",
       "<table border=\"1\" class=\"dataframe\">\n",
       "  <thead>\n",
       "    <tr style=\"text-align: right;\">\n",
       "      <th></th>\n",
       "      <th>NOME</th>\n",
       "      <th>IDADE</th>\n",
       "      <th>PESO</th>\n",
       "      <th>ED_JEDI</th>\n",
       "      <th>PODER</th>\n",
       "      <th>Coluna a partir de lista</th>\n",
       "      <th>PODER(Pós Arco)</th>\n",
       "    </tr>\n",
       "  </thead>\n",
       "  <tbody>\n",
       "    <tr>\n",
       "      <th>2</th>\n",
       "      <td>Palpatine</td>\n",
       "      <td>70</td>\n",
       "      <td>60.1</td>\n",
       "      <td>False</td>\n",
       "      <td>2</td>\n",
       "      <td>2</td>\n",
       "      <td>6</td>\n",
       "    </tr>\n",
       "    <tr>\n",
       "      <th>3</th>\n",
       "      <td>Luke Skywalker</td>\n",
       "      <td>33</td>\n",
       "      <td>75.5</td>\n",
       "      <td>True</td>\n",
       "      <td>3</td>\n",
       "      <td>3</td>\n",
       "      <td>6</td>\n",
       "    </tr>\n",
       "  </tbody>\n",
       "</table>\n",
       "</div>"
      ],
      "text/plain": [
       "             NOME  IDADE  PESO  ED_JEDI  PODER  Coluna a partir de lista  \\\n",
       "2       Palpatine     70  60.1    False      2                         2   \n",
       "3  Luke Skywalker     33  75.5     True      3                         3   \n",
       "\n",
       "   PODER(Pós Arco)  \n",
       "2                6  \n",
       "3                6  "
      ]
     },
     "execution_count": 116,
     "metadata": {},
     "output_type": "execute_result"
    }
   ],
   "source": [
    "semelhante = forca[igual]\n",
    "semelhante"
   ]
  },
  {
   "cell_type": "markdown",
   "id": "sapphire-gravity",
   "metadata": {},
   "source": [
    "#### **Selecionando registros de postos de São Paulo ou do Rio de Janeiro com Gasolina Comum acima de 2 reais**"
   ]
  },
  {
   "cell_type": "markdown",
   "id": "genetic-rwanda",
   "metadata": {},
   "source": [
    "Podemos fazer a solução do \"jeito mais lento\", percorrendo o DataFrame inteiro _múltiplas vezes_:"
   ]
  },
  {
   "cell_type": "code",
   "execution_count": 117,
   "id": "congressional-recorder",
   "metadata": {},
   "outputs": [
    {
     "data": {
      "text/html": [
       "<div>\n",
       "<style scoped>\n",
       "    .dataframe tbody tr th:only-of-type {\n",
       "        vertical-align: middle;\n",
       "    }\n",
       "\n",
       "    .dataframe tbody tr th {\n",
       "        vertical-align: top;\n",
       "    }\n",
       "\n",
       "    .dataframe thead th {\n",
       "        text-align: right;\n",
       "    }\n",
       "</style>\n",
       "<table border=\"1\" class=\"dataframe\">\n",
       "  <thead>\n",
       "    <tr style=\"text-align: right;\">\n",
       "      <th></th>\n",
       "      <th>NOME</th>\n",
       "      <th>IDADE</th>\n",
       "      <th>PESO</th>\n",
       "      <th>ED_JEDI</th>\n",
       "      <th>PODER</th>\n",
       "      <th>Coluna a partir de lista</th>\n",
       "      <th>PODER(Pós Arco)</th>\n",
       "    </tr>\n",
       "  </thead>\n",
       "  <tbody>\n",
       "    <tr>\n",
       "      <th>0</th>\n",
       "      <td>Luke Skywalker</td>\n",
       "      <td>16</td>\n",
       "      <td>70.50</td>\n",
       "      <td>True</td>\n",
       "      <td>0</td>\n",
       "      <td>0</td>\n",
       "      <td>0</td>\n",
       "    </tr>\n",
       "    <tr>\n",
       "      <th>1</th>\n",
       "      <td>Yoda</td>\n",
       "      <td>1000</td>\n",
       "      <td>15.12</td>\n",
       "      <td>True</td>\n",
       "      <td>1</td>\n",
       "      <td>1</td>\n",
       "      <td>3</td>\n",
       "    </tr>\n",
       "    <tr>\n",
       "      <th>2</th>\n",
       "      <td>Palpatine</td>\n",
       "      <td>70</td>\n",
       "      <td>60.10</td>\n",
       "      <td>False</td>\n",
       "      <td>2</td>\n",
       "      <td>2</td>\n",
       "      <td>6</td>\n",
       "    </tr>\n",
       "    <tr>\n",
       "      <th>3</th>\n",
       "      <td>Luke Skywalker</td>\n",
       "      <td>33</td>\n",
       "      <td>75.50</td>\n",
       "      <td>True</td>\n",
       "      <td>3</td>\n",
       "      <td>3</td>\n",
       "      <td>6</td>\n",
       "    </tr>\n",
       "  </tbody>\n",
       "</table>\n",
       "</div>"
      ],
      "text/plain": [
       "             NOME  IDADE   PESO  ED_JEDI  PODER  Coluna a partir de lista  \\\n",
       "0  Luke Skywalker     16  70.50     True      0                         0   \n",
       "1            Yoda   1000  15.12     True      1                         1   \n",
       "2       Palpatine     70  60.10    False      2                         2   \n",
       "3  Luke Skywalker     33  75.50     True      3                         3   \n",
       "\n",
       "   PODER(Pós Arco)  \n",
       "0                0  \n",
       "1                3  \n",
       "2                6  \n",
       "3                6  "
      ]
     },
     "execution_count": 117,
     "metadata": {},
     "output_type": "execute_result"
    }
   ],
   "source": [
    "personagens_df"
   ]
  },
  {
   "cell_type": "code",
   "execution_count": 118,
   "id": "fifth-catalog",
   "metadata": {},
   "outputs": [
    {
     "data": {
      "text/html": [
       "<div>\n",
       "<style scoped>\n",
       "    .dataframe tbody tr th:only-of-type {\n",
       "        vertical-align: middle;\n",
       "    }\n",
       "\n",
       "    .dataframe tbody tr th {\n",
       "        vertical-align: top;\n",
       "    }\n",
       "\n",
       "    .dataframe thead th {\n",
       "        text-align: right;\n",
       "    }\n",
       "</style>\n",
       "<table border=\"1\" class=\"dataframe\">\n",
       "  <thead>\n",
       "    <tr style=\"text-align: right;\">\n",
       "      <th></th>\n",
       "      <th>NOME</th>\n",
       "      <th>IDADE</th>\n",
       "      <th>PESO</th>\n",
       "      <th>ED_JEDI</th>\n",
       "      <th>PODER</th>\n",
       "      <th>Coluna a partir de lista</th>\n",
       "      <th>PODER(Pós Arco)</th>\n",
       "    </tr>\n",
       "  </thead>\n",
       "  <tbody>\n",
       "    <tr>\n",
       "      <th>0</th>\n",
       "      <td>Luke Skywalker</td>\n",
       "      <td>16</td>\n",
       "      <td>70.50</td>\n",
       "      <td>True</td>\n",
       "      <td>0</td>\n",
       "      <td>0</td>\n",
       "      <td>0</td>\n",
       "    </tr>\n",
       "    <tr>\n",
       "      <th>1</th>\n",
       "      <td>Yoda</td>\n",
       "      <td>1000</td>\n",
       "      <td>15.12</td>\n",
       "      <td>True</td>\n",
       "      <td>1</td>\n",
       "      <td>1</td>\n",
       "      <td>3</td>\n",
       "    </tr>\n",
       "  </tbody>\n",
       "</table>\n",
       "</div>"
      ],
      "text/plain": [
       "             NOME  IDADE   PESO  ED_JEDI  PODER  Coluna a partir de lista  \\\n",
       "0  Luke Skywalker     16  70.50     True      0                         0   \n",
       "1            Yoda   1000  15.12     True      1                         1   \n",
       "\n",
       "   PODER(Pós Arco)  \n",
       "0                0  \n",
       "1                3  "
      ]
     },
     "execution_count": 118,
     "metadata": {},
     "output_type": "execute_result"
    }
   ],
   "source": [
    "persona = (personagens_df['NOME'] == 'Luke Skywalker' ) | (personagens_df['NOME'] == 'Yoda' )\n",
    "persona2 = personagens_df['ED_JEDI'] == True\n",
    "persona3 = personagens_df['PESO'] < 73.00\n",
    "\n",
    "persona_final = persona & persona2 & persona3\n",
    "personagens_df[persona_final]\n"
   ]
  },
  {
   "cell_type": "code",
   "execution_count": 119,
   "id": "built-asthma",
   "metadata": {},
   "outputs": [
    {
     "name": "stdout",
     "output_type": "stream",
     "text": [
      "['Luke Skywalker' 'Yoda']\n",
      "[ True]\n",
      "[70.5  15.12]\n"
     ]
    }
   ],
   "source": [
    "persona_filtrado = personagens_df[persona_final]\n",
    "print(persona_filtrado['NOME'].unique())\n",
    "print(persona_filtrado['ED_JEDI'].unique())\n",
    "print(persona_filtrado['PESO'].unique())\n"
   ]
  },
  {
   "cell_type": "markdown",
   "id": "productive-field",
   "metadata": {},
   "source": [
    "<br/>\n",
    "\n",
    "Alternativamente:"
   ]
  },
  {
   "cell_type": "code",
   "execution_count": 120,
   "id": "australian-brother",
   "metadata": {},
   "outputs": [
    {
     "data": {
      "text/html": [
       "<div>\n",
       "<style scoped>\n",
       "    .dataframe tbody tr th:only-of-type {\n",
       "        vertical-align: middle;\n",
       "    }\n",
       "\n",
       "    .dataframe tbody tr th {\n",
       "        vertical-align: top;\n",
       "    }\n",
       "\n",
       "    .dataframe thead th {\n",
       "        text-align: right;\n",
       "    }\n",
       "</style>\n",
       "<table border=\"1\" class=\"dataframe\">\n",
       "  <thead>\n",
       "    <tr style=\"text-align: right;\">\n",
       "      <th></th>\n",
       "      <th>NOME</th>\n",
       "      <th>IDADE</th>\n",
       "      <th>PESO</th>\n",
       "      <th>ED_JEDI</th>\n",
       "      <th>PODER</th>\n",
       "      <th>Coluna a partir de lista</th>\n",
       "      <th>PODER(Pós Arco)</th>\n",
       "    </tr>\n",
       "  </thead>\n",
       "  <tbody>\n",
       "    <tr>\n",
       "      <th>0</th>\n",
       "      <td>Luke Skywalker</td>\n",
       "      <td>16</td>\n",
       "      <td>70.50</td>\n",
       "      <td>True</td>\n",
       "      <td>0</td>\n",
       "      <td>0</td>\n",
       "      <td>0</td>\n",
       "    </tr>\n",
       "    <tr>\n",
       "      <th>1</th>\n",
       "      <td>Yoda</td>\n",
       "      <td>1000</td>\n",
       "      <td>15.12</td>\n",
       "      <td>True</td>\n",
       "      <td>1</td>\n",
       "      <td>1</td>\n",
       "      <td>3</td>\n",
       "    </tr>\n",
       "    <tr>\n",
       "      <th>2</th>\n",
       "      <td>Palpatine</td>\n",
       "      <td>70</td>\n",
       "      <td>60.10</td>\n",
       "      <td>False</td>\n",
       "      <td>2</td>\n",
       "      <td>2</td>\n",
       "      <td>6</td>\n",
       "    </tr>\n",
       "    <tr>\n",
       "      <th>3</th>\n",
       "      <td>Luke Skywalker</td>\n",
       "      <td>33</td>\n",
       "      <td>75.50</td>\n",
       "      <td>True</td>\n",
       "      <td>3</td>\n",
       "      <td>3</td>\n",
       "      <td>6</td>\n",
       "    </tr>\n",
       "  </tbody>\n",
       "</table>\n",
       "</div>"
      ],
      "text/plain": [
       "             NOME  IDADE   PESO  ED_JEDI  PODER  Coluna a partir de lista  \\\n",
       "0  Luke Skywalker     16  70.50     True      0                         0   \n",
       "1            Yoda   1000  15.12     True      1                         1   \n",
       "2       Palpatine     70  60.10    False      2                         2   \n",
       "3  Luke Skywalker     33  75.50     True      3                         3   \n",
       "\n",
       "   PODER(Pós Arco)  \n",
       "0                0  \n",
       "1                3  \n",
       "2                6  \n",
       "3                6  "
      ]
     },
     "execution_count": 120,
     "metadata": {},
     "output_type": "execute_result"
    }
   ],
   "source": [
    "personagens_df"
   ]
  },
  {
   "cell_type": "code",
   "execution_count": 121,
   "id": "toxic-mercy",
   "metadata": {},
   "outputs": [],
   "source": [
    "sera = (personagens_df['NOME'] == 'Luke Skywalker' ) | (personagens_df['NOME'] == 'Yoda' )\n",
    "sera2 = personagens_df[sera]"
   ]
  },
  {
   "cell_type": "code",
   "execution_count": 122,
   "id": "secondary-premises",
   "metadata": {},
   "outputs": [],
   "source": [
    "sera3= sera2['ED_JEDI'] == True\n",
    "sera4 = sera2[sera3]\n",
    "\n"
   ]
  },
  {
   "cell_type": "code",
   "execution_count": 123,
   "id": "a134eae4",
   "metadata": {},
   "outputs": [
    {
     "data": {
      "text/html": [
       "<div>\n",
       "<style scoped>\n",
       "    .dataframe tbody tr th:only-of-type {\n",
       "        vertical-align: middle;\n",
       "    }\n",
       "\n",
       "    .dataframe tbody tr th {\n",
       "        vertical-align: top;\n",
       "    }\n",
       "\n",
       "    .dataframe thead th {\n",
       "        text-align: right;\n",
       "    }\n",
       "</style>\n",
       "<table border=\"1\" class=\"dataframe\">\n",
       "  <thead>\n",
       "    <tr style=\"text-align: right;\">\n",
       "      <th></th>\n",
       "      <th>NOME</th>\n",
       "      <th>IDADE</th>\n",
       "      <th>PESO</th>\n",
       "      <th>ED_JEDI</th>\n",
       "      <th>PODER</th>\n",
       "      <th>Coluna a partir de lista</th>\n",
       "      <th>PODER(Pós Arco)</th>\n",
       "    </tr>\n",
       "  </thead>\n",
       "  <tbody>\n",
       "    <tr>\n",
       "      <th>0</th>\n",
       "      <td>Luke Skywalker</td>\n",
       "      <td>16</td>\n",
       "      <td>70.50</td>\n",
       "      <td>True</td>\n",
       "      <td>0</td>\n",
       "      <td>0</td>\n",
       "      <td>0</td>\n",
       "    </tr>\n",
       "    <tr>\n",
       "      <th>1</th>\n",
       "      <td>Yoda</td>\n",
       "      <td>1000</td>\n",
       "      <td>15.12</td>\n",
       "      <td>True</td>\n",
       "      <td>1</td>\n",
       "      <td>1</td>\n",
       "      <td>3</td>\n",
       "    </tr>\n",
       "  </tbody>\n",
       "</table>\n",
       "</div>"
      ],
      "text/plain": [
       "             NOME  IDADE   PESO  ED_JEDI  PODER  Coluna a partir de lista  \\\n",
       "0  Luke Skywalker     16  70.50     True      0                         0   \n",
       "1            Yoda   1000  15.12     True      1                         1   \n",
       "\n",
       "   PODER(Pós Arco)  \n",
       "0                0  \n",
       "1                3  "
      ]
     },
     "execution_count": 123,
     "metadata": {},
     "output_type": "execute_result"
    }
   ],
   "source": [
    "sera5 = sera4['PESO'] < 73.00\n",
    "sera4[sera5]\n"
   ]
  },
  {
   "cell_type": "markdown",
   "id": "visible-setup",
   "metadata": {},
   "source": [
    "#### **Selecionando registros dos anos de 2008, 2010 e 2012**"
   ]
  },
  {
   "cell_type": "code",
   "execution_count": 124,
   "id": "critical-mississippi",
   "metadata": {},
   "outputs": [
    {
     "data": {
      "text/html": [
       "<div>\n",
       "<style scoped>\n",
       "    .dataframe tbody tr th:only-of-type {\n",
       "        vertical-align: middle;\n",
       "    }\n",
       "\n",
       "    .dataframe tbody tr th {\n",
       "        vertical-align: top;\n",
       "    }\n",
       "\n",
       "    .dataframe thead th {\n",
       "        text-align: right;\n",
       "    }\n",
       "</style>\n",
       "<table border=\"1\" class=\"dataframe\">\n",
       "  <thead>\n",
       "    <tr style=\"text-align: right;\">\n",
       "      <th></th>\n",
       "      <th>NOME</th>\n",
       "      <th>IDADE</th>\n",
       "      <th>PESO</th>\n",
       "      <th>ED_JEDI</th>\n",
       "      <th>PODER</th>\n",
       "      <th>Coluna a partir de lista</th>\n",
       "      <th>PODER(Pós Arco)</th>\n",
       "      <th>ANO</th>\n",
       "    </tr>\n",
       "  </thead>\n",
       "  <tbody>\n",
       "    <tr>\n",
       "      <th>0</th>\n",
       "      <td>Luke Skywalker</td>\n",
       "      <td>16</td>\n",
       "      <td>70.50</td>\n",
       "      <td>True</td>\n",
       "      <td>0</td>\n",
       "      <td>0</td>\n",
       "      <td>0</td>\n",
       "      <td>2008</td>\n",
       "    </tr>\n",
       "    <tr>\n",
       "      <th>1</th>\n",
       "      <td>Yoda</td>\n",
       "      <td>1000</td>\n",
       "      <td>15.12</td>\n",
       "      <td>True</td>\n",
       "      <td>1</td>\n",
       "      <td>1</td>\n",
       "      <td>3</td>\n",
       "      <td>2010</td>\n",
       "    </tr>\n",
       "    <tr>\n",
       "      <th>2</th>\n",
       "      <td>Palpatine</td>\n",
       "      <td>70</td>\n",
       "      <td>60.10</td>\n",
       "      <td>False</td>\n",
       "      <td>2</td>\n",
       "      <td>2</td>\n",
       "      <td>6</td>\n",
       "      <td>2012</td>\n",
       "    </tr>\n",
       "    <tr>\n",
       "      <th>3</th>\n",
       "      <td>Luke Skywalker</td>\n",
       "      <td>33</td>\n",
       "      <td>75.50</td>\n",
       "      <td>True</td>\n",
       "      <td>3</td>\n",
       "      <td>3</td>\n",
       "      <td>6</td>\n",
       "      <td>2011</td>\n",
       "    </tr>\n",
       "  </tbody>\n",
       "</table>\n",
       "</div>"
      ],
      "text/plain": [
       "             NOME  IDADE   PESO  ED_JEDI  PODER  Coluna a partir de lista  \\\n",
       "0  Luke Skywalker     16  70.50     True      0                         0   \n",
       "1            Yoda   1000  15.12     True      1                         1   \n",
       "2       Palpatine     70  60.10    False      2                         2   \n",
       "3  Luke Skywalker     33  75.50     True      3                         3   \n",
       "\n",
       "   PODER(Pós Arco)   ANO  \n",
       "0                0  2008  \n",
       "1                3  2010  \n",
       "2                6  2012  \n",
       "3                6  2011  "
      ]
     },
     "execution_count": 124,
     "metadata": {},
     "output_type": "execute_result"
    }
   ],
   "source": [
    "\n",
    "\n",
    "personagens_df['ANO'] = [2008, 2010, 2012,2011]\n",
    "\n",
    "personagens_df\n"
   ]
  },
  {
   "cell_type": "markdown",
   "id": "operational-border",
   "metadata": {},
   "source": [
    "**ALTERNATIVA 1**"
   ]
  },
  {
   "cell_type": "code",
   "execution_count": 125,
   "id": "oriental-sitting",
   "metadata": {},
   "outputs": [
    {
     "data": {
      "text/plain": [
       "array([2008, 2010, 2012])"
      ]
     },
     "execution_count": 125,
     "metadata": {},
     "output_type": "execute_result"
    }
   ],
   "source": [
    "\n",
    "datas = (personagens_df['ANO'] == 2008) | (personagens_df['ANO'] == 2010) | (personagens_df[\"ANO\"] == 2012)\n",
    "personagens_df[datas]['ANO'].unique()"
   ]
  },
  {
   "cell_type": "code",
   "execution_count": 126,
   "id": "ad10d106",
   "metadata": {},
   "outputs": [
    {
     "data": {
      "text/html": [
       "<div>\n",
       "<style scoped>\n",
       "    .dataframe tbody tr th:only-of-type {\n",
       "        vertical-align: middle;\n",
       "    }\n",
       "\n",
       "    .dataframe tbody tr th {\n",
       "        vertical-align: top;\n",
       "    }\n",
       "\n",
       "    .dataframe thead th {\n",
       "        text-align: right;\n",
       "    }\n",
       "</style>\n",
       "<table border=\"1\" class=\"dataframe\">\n",
       "  <thead>\n",
       "    <tr style=\"text-align: right;\">\n",
       "      <th></th>\n",
       "      <th>NOME</th>\n",
       "      <th>IDADE</th>\n",
       "      <th>PESO</th>\n",
       "      <th>ED_JEDI</th>\n",
       "      <th>PODER</th>\n",
       "      <th>Coluna a partir de lista</th>\n",
       "      <th>PODER(Pós Arco)</th>\n",
       "      <th>ANO</th>\n",
       "    </tr>\n",
       "  </thead>\n",
       "  <tbody>\n",
       "    <tr>\n",
       "      <th>0</th>\n",
       "      <td>Luke Skywalker</td>\n",
       "      <td>16</td>\n",
       "      <td>70.50</td>\n",
       "      <td>True</td>\n",
       "      <td>0</td>\n",
       "      <td>0</td>\n",
       "      <td>0</td>\n",
       "      <td>2008</td>\n",
       "    </tr>\n",
       "    <tr>\n",
       "      <th>1</th>\n",
       "      <td>Yoda</td>\n",
       "      <td>1000</td>\n",
       "      <td>15.12</td>\n",
       "      <td>True</td>\n",
       "      <td>1</td>\n",
       "      <td>1</td>\n",
       "      <td>3</td>\n",
       "      <td>2010</td>\n",
       "    </tr>\n",
       "    <tr>\n",
       "      <th>2</th>\n",
       "      <td>Palpatine</td>\n",
       "      <td>70</td>\n",
       "      <td>60.10</td>\n",
       "      <td>False</td>\n",
       "      <td>2</td>\n",
       "      <td>2</td>\n",
       "      <td>6</td>\n",
       "      <td>2012</td>\n",
       "    </tr>\n",
       "  </tbody>\n",
       "</table>\n",
       "</div>"
      ],
      "text/plain": [
       "             NOME  IDADE   PESO  ED_JEDI  PODER  Coluna a partir de lista  \\\n",
       "0  Luke Skywalker     16  70.50     True      0                         0   \n",
       "1            Yoda   1000  15.12     True      1                         1   \n",
       "2       Palpatine     70  60.10    False      2                         2   \n",
       "\n",
       "   PODER(Pós Arco)   ANO  \n",
       "0                0  2008  \n",
       "1                3  2010  \n",
       "2                6  2012  "
      ]
     },
     "execution_count": 126,
     "metadata": {},
     "output_type": "execute_result"
    }
   ],
   "source": [
    "lista_anos = [2008, 2012, 2010]\n",
    "\n",
    "variavel = personagens_df['ANO'].isin(lista_anos)   \n",
    "personagens_df[variavel]\n"
   ]
  },
  {
   "cell_type": "markdown",
   "id": "nonprofit-martin",
   "metadata": {},
   "source": [
    "**ALTERNATIVA 2**"
   ]
  },
  {
   "cell_type": "code",
   "execution_count": 127,
   "id": "increased-agent",
   "metadata": {},
   "outputs": [
    {
     "data": {
      "text/html": [
       "<div>\n",
       "<style scoped>\n",
       "    .dataframe tbody tr th:only-of-type {\n",
       "        vertical-align: middle;\n",
       "    }\n",
       "\n",
       "    .dataframe tbody tr th {\n",
       "        vertical-align: top;\n",
       "    }\n",
       "\n",
       "    .dataframe thead th {\n",
       "        text-align: right;\n",
       "    }\n",
       "</style>\n",
       "<table border=\"1\" class=\"dataframe\">\n",
       "  <thead>\n",
       "    <tr style=\"text-align: right;\">\n",
       "      <th></th>\n",
       "      <th>NOME</th>\n",
       "      <th>IDADE</th>\n",
       "      <th>PESO</th>\n",
       "      <th>ED_JEDI</th>\n",
       "      <th>PODER</th>\n",
       "      <th>Coluna a partir de lista</th>\n",
       "      <th>PODER(Pós Arco)</th>\n",
       "      <th>ANO</th>\n",
       "    </tr>\n",
       "  </thead>\n",
       "  <tbody>\n",
       "    <tr>\n",
       "      <th>0</th>\n",
       "      <td>Luke Skywalker</td>\n",
       "      <td>16</td>\n",
       "      <td>70.50</td>\n",
       "      <td>True</td>\n",
       "      <td>0</td>\n",
       "      <td>0</td>\n",
       "      <td>0</td>\n",
       "      <td>2008</td>\n",
       "    </tr>\n",
       "    <tr>\n",
       "      <th>1</th>\n",
       "      <td>Yoda</td>\n",
       "      <td>1000</td>\n",
       "      <td>15.12</td>\n",
       "      <td>True</td>\n",
       "      <td>1</td>\n",
       "      <td>1</td>\n",
       "      <td>3</td>\n",
       "      <td>2010</td>\n",
       "    </tr>\n",
       "    <tr>\n",
       "      <th>2</th>\n",
       "      <td>Palpatine</td>\n",
       "      <td>70</td>\n",
       "      <td>60.10</td>\n",
       "      <td>False</td>\n",
       "      <td>2</td>\n",
       "      <td>2</td>\n",
       "      <td>6</td>\n",
       "      <td>2012</td>\n",
       "    </tr>\n",
       "  </tbody>\n",
       "</table>\n",
       "</div>"
      ],
      "text/plain": [
       "             NOME  IDADE   PESO  ED_JEDI  PODER  Coluna a partir de lista  \\\n",
       "0  Luke Skywalker     16  70.50     True      0                         0   \n",
       "1            Yoda   1000  15.12     True      1                         1   \n",
       "2       Palpatine     70  60.10    False      2                         2   \n",
       "\n",
       "   PODER(Pós Arco)   ANO  \n",
       "0                0  2008  \n",
       "1                3  2010  \n",
       "2                6  2012  "
      ]
     },
     "execution_count": 127,
     "metadata": {},
     "output_type": "execute_result"
    }
   ],
   "source": [
    "personagens_df.query('ANO in @lista_anos') #Outra opção é usar o query\n"
   ]
  },
  {
   "cell_type": "markdown",
   "id": "outside-central",
   "metadata": {},
   "source": [
    "### **Iterando com DataFrames**"
   ]
  },
  {
   "cell_type": "markdown",
   "id": "psychological-hands",
   "metadata": {},
   "source": [
    "#### For-each `DataFrame.iterrows()` (LENTO ==> apenas indicado para iterar pequenos conjunto de dados)"
   ]
  },
  {
   "cell_type": "code",
   "execution_count": 128,
   "id": "blank-gnome",
   "metadata": {},
   "outputs": [
    {
     "name": "stdout",
     "output_type": "stream",
     "text": [
      "indice0/ linha/ Luke Skywalker  \n",
      "indice1/ linha/ Yoda  \n",
      "indice2/ linha/ Palpatine  \n",
      "indice3/ linha/ Luke Skywalker  \n"
     ]
    }
   ],
   "source": [
    "for index, row in personagens_df.head(4).iterrows():\n",
    "        print(f'indice{index}/ linha/ {row[\"NOME\"]}  ')"
   ]
  },
  {
   "cell_type": "markdown",
   "id": "treated-summer",
   "metadata": {},
   "source": [
    "<h2>2. Preparação dos dados</h2>\n",
    "<hr/>"
   ]
  },
  {
   "cell_type": "markdown",
   "id": "enclosed-nicholas",
   "metadata": {},
   "source": [
    "### 2.1 Removendo amostras com valores vazios (null / nan) no dataset"
   ]
  },
  {
   "cell_type": "code",
   "execution_count": 129,
   "id": "aware-shooting",
   "metadata": {},
   "outputs": [
    {
     "name": "stdout",
     "output_type": "stream",
     "text": [
      "<class 'pandas.core.frame.DataFrame'>\n",
      "RangeIndex: 4 entries, 0 to 3\n",
      "Data columns (total 8 columns):\n",
      " #   Column                    Non-Null Count  Dtype  \n",
      "---  ------                    --------------  -----  \n",
      " 0   NOME                      4 non-null      object \n",
      " 1   IDADE                     4 non-null      int64  \n",
      " 2   PESO                      4 non-null      float64\n",
      " 3   ED_JEDI                   4 non-null      bool   \n",
      " 4   PODER                     4 non-null      int64  \n",
      " 5   Coluna a partir de lista  4 non-null      int64  \n",
      " 6   PODER(Pós Arco)           4 non-null      int64  \n",
      " 7   ANO                       4 non-null      int64  \n",
      "dtypes: bool(1), float64(1), int64(5), object(1)\n",
      "memory usage: 360.0+ bytes\n"
     ]
    },
    {
     "data": {
      "text/html": [
       "<div>\n",
       "<style scoped>\n",
       "    .dataframe tbody tr th:only-of-type {\n",
       "        vertical-align: middle;\n",
       "    }\n",
       "\n",
       "    .dataframe tbody tr th {\n",
       "        vertical-align: top;\n",
       "    }\n",
       "\n",
       "    .dataframe thead th {\n",
       "        text-align: right;\n",
       "    }\n",
       "</style>\n",
       "<table border=\"1\" class=\"dataframe\">\n",
       "  <thead>\n",
       "    <tr style=\"text-align: right;\">\n",
       "      <th></th>\n",
       "      <th>NOME</th>\n",
       "      <th>IDADE</th>\n",
       "      <th>PESO</th>\n",
       "      <th>ED_JEDI</th>\n",
       "      <th>PODER</th>\n",
       "      <th>Coluna a partir de lista</th>\n",
       "      <th>PODER(Pós Arco)</th>\n",
       "      <th>ANO</th>\n",
       "    </tr>\n",
       "  </thead>\n",
       "  <tbody>\n",
       "    <tr>\n",
       "      <th>0</th>\n",
       "      <td>Luke Skywalker</td>\n",
       "      <td>16</td>\n",
       "      <td>70.50</td>\n",
       "      <td>True</td>\n",
       "      <td>0</td>\n",
       "      <td>0</td>\n",
       "      <td>0</td>\n",
       "      <td>2008</td>\n",
       "    </tr>\n",
       "    <tr>\n",
       "      <th>1</th>\n",
       "      <td>Yoda</td>\n",
       "      <td>1000</td>\n",
       "      <td>15.12</td>\n",
       "      <td>True</td>\n",
       "      <td>1</td>\n",
       "      <td>1</td>\n",
       "      <td>3</td>\n",
       "      <td>2010</td>\n",
       "    </tr>\n",
       "    <tr>\n",
       "      <th>2</th>\n",
       "      <td>Palpatine</td>\n",
       "      <td>70</td>\n",
       "      <td>60.10</td>\n",
       "      <td>False</td>\n",
       "      <td>2</td>\n",
       "      <td>2</td>\n",
       "      <td>6</td>\n",
       "      <td>2012</td>\n",
       "    </tr>\n",
       "    <tr>\n",
       "      <th>3</th>\n",
       "      <td>Luke Skywalker</td>\n",
       "      <td>33</td>\n",
       "      <td>75.50</td>\n",
       "      <td>True</td>\n",
       "      <td>3</td>\n",
       "      <td>3</td>\n",
       "      <td>6</td>\n",
       "      <td>2011</td>\n",
       "    </tr>\n",
       "  </tbody>\n",
       "</table>\n",
       "</div>"
      ],
      "text/plain": [
       "             NOME  IDADE   PESO  ED_JEDI  PODER  Coluna a partir de lista  \\\n",
       "0  Luke Skywalker     16  70.50     True      0                         0   \n",
       "1            Yoda   1000  15.12     True      1                         1   \n",
       "2       Palpatine     70  60.10    False      2                         2   \n",
       "3  Luke Skywalker     33  75.50     True      3                         3   \n",
       "\n",
       "   PODER(Pós Arco)   ANO  \n",
       "0                0  2008  \n",
       "1                3  2010  \n",
       "2                6  2012  \n",
       "3                6  2011  "
      ]
     },
     "execution_count": 129,
     "metadata": {},
     "output_type": "execute_result"
    }
   ],
   "source": [
    "personagens_df.info()\n",
    "personagens_df"
   ]
  },
  {
   "cell_type": "markdown",
   "id": "determined-friendly",
   "metadata": {},
   "source": [
    "De um total de 106823 observações, **não há valores null** / nan para nenhum atributo. Mas, veremos que não é bem assim neste caso específico.<br/><br/>"
   ]
  },
  {
   "cell_type": "markdown",
   "id": "graduate-charger",
   "metadata": {},
   "source": [
    "### 2.2 Conversão de tipos de atributos"
   ]
  },
  {
   "cell_type": "markdown",
   "id": "sharp-explanation",
   "metadata": {},
   "source": [
    "O pandas automaticamente reconhece os tipos de dados de cada coluna. <br/>\n",
    "Porém, existem alguns atributos que estão com seus tipos errados: P. ex., \"PREÇO MÉDIO DISTRIBUIÇÃO\" deveria ser ```float64``` e não ```object```.<br/>\n",
    "Nestes casos, muito provavelmente algumas amostras têm um string ao invés de um número para tais atributos. <br/>\n",
    "\n",
    "Os atributos *\"DATA INICIAL\"* e *\"DATA FINAL\"* deveriam ser do tipo `datetime`.\n",
    "\n",
    "Em outros casos, alguns **atributos categóricos** são ```objects```, mas poderiam ter o tipo ```category```, que é um tipo especial do pandas. <br/>\n",
    "Este tipo é necessário para se utilizar algumas funções específicas do pandas. <br/>\n",
    "**Não** converteremos para este tipo por ora."
   ]
  },
  {
   "cell_type": "code",
   "execution_count": 130,
   "id": "downtown-wiring",
   "metadata": {},
   "outputs": [
    {
     "data": {
      "text/html": [
       "<div>\n",
       "<style scoped>\n",
       "    .dataframe tbody tr th:only-of-type {\n",
       "        vertical-align: middle;\n",
       "    }\n",
       "\n",
       "    .dataframe tbody tr th {\n",
       "        vertical-align: top;\n",
       "    }\n",
       "\n",
       "    .dataframe thead th {\n",
       "        text-align: right;\n",
       "    }\n",
       "</style>\n",
       "<table border=\"1\" class=\"dataframe\">\n",
       "  <thead>\n",
       "    <tr style=\"text-align: right;\">\n",
       "      <th></th>\n",
       "      <th>NOME</th>\n",
       "      <th>IDADE</th>\n",
       "      <th>PESO</th>\n",
       "      <th>ED_JEDI</th>\n",
       "      <th>PODER</th>\n",
       "      <th>Coluna a partir de lista</th>\n",
       "      <th>PODER(Pós Arco)</th>\n",
       "      <th>ANO</th>\n",
       "    </tr>\n",
       "  </thead>\n",
       "  <tbody>\n",
       "    <tr>\n",
       "      <th>0</th>\n",
       "      <td>Luke Skywalker</td>\n",
       "      <td>16</td>\n",
       "      <td>70.50</td>\n",
       "      <td>True</td>\n",
       "      <td>0</td>\n",
       "      <td>0</td>\n",
       "      <td>0</td>\n",
       "      <td>2008</td>\n",
       "    </tr>\n",
       "    <tr>\n",
       "      <th>1</th>\n",
       "      <td>Yoda</td>\n",
       "      <td>1000</td>\n",
       "      <td>15.12</td>\n",
       "      <td>True</td>\n",
       "      <td>1</td>\n",
       "      <td>1</td>\n",
       "      <td>3</td>\n",
       "      <td>2010</td>\n",
       "    </tr>\n",
       "    <tr>\n",
       "      <th>2</th>\n",
       "      <td>Palpatine</td>\n",
       "      <td>70</td>\n",
       "      <td>60.10</td>\n",
       "      <td>False</td>\n",
       "      <td>2</td>\n",
       "      <td>2</td>\n",
       "      <td>6</td>\n",
       "      <td>2012</td>\n",
       "    </tr>\n",
       "    <tr>\n",
       "      <th>3</th>\n",
       "      <td>Luke Skywalker</td>\n",
       "      <td>33</td>\n",
       "      <td>75.50</td>\n",
       "      <td>True</td>\n",
       "      <td>3</td>\n",
       "      <td>3</td>\n",
       "      <td>6</td>\n",
       "      <td>2011</td>\n",
       "    </tr>\n",
       "  </tbody>\n",
       "</table>\n",
       "</div>"
      ],
      "text/plain": [
       "             NOME  IDADE   PESO  ED_JEDI  PODER  Coluna a partir de lista  \\\n",
       "0  Luke Skywalker     16  70.50     True      0                         0   \n",
       "1            Yoda   1000  15.12     True      1                         1   \n",
       "2       Palpatine     70  60.10    False      2                         2   \n",
       "3  Luke Skywalker     33  75.50     True      3                         3   \n",
       "\n",
       "   PODER(Pós Arco)   ANO  \n",
       "0                0  2008  \n",
       "1                3  2010  \n",
       "2                6  2012  \n",
       "3                6  2011  "
      ]
     },
     "execution_count": 130,
     "metadata": {},
     "output_type": "execute_result"
    }
   ],
   "source": [
    "#personagens_df.drop('DATA' , axis=1 , inplace=True) #Oaxis=0 remove linhas e o axis=1 remove colunas\n",
    "\n",
    "personagens_df\n"
   ]
  },
  {
   "cell_type": "code",
   "execution_count": 131,
   "id": "5fdb9e55",
   "metadata": {},
   "outputs": [
    {
     "data": {
      "text/html": [
       "<div>\n",
       "<style scoped>\n",
       "    .dataframe tbody tr th:only-of-type {\n",
       "        vertical-align: middle;\n",
       "    }\n",
       "\n",
       "    .dataframe tbody tr th {\n",
       "        vertical-align: top;\n",
       "    }\n",
       "\n",
       "    .dataframe thead th {\n",
       "        text-align: right;\n",
       "    }\n",
       "</style>\n",
       "<table border=\"1\" class=\"dataframe\">\n",
       "  <thead>\n",
       "    <tr style=\"text-align: right;\">\n",
       "      <th></th>\n",
       "      <th>NOME</th>\n",
       "      <th>IDADE</th>\n",
       "      <th>PESO</th>\n",
       "      <th>ED_JEDI</th>\n",
       "      <th>PODER</th>\n",
       "      <th>Coluna a partir de lista</th>\n",
       "      <th>PODER(Pós Arco)</th>\n",
       "      <th>ANO</th>\n",
       "      <th>DATA</th>\n",
       "    </tr>\n",
       "  </thead>\n",
       "  <tbody>\n",
       "    <tr>\n",
       "      <th>0</th>\n",
       "      <td>Luke Skywalker</td>\n",
       "      <td>16</td>\n",
       "      <td>70.50</td>\n",
       "      <td>True</td>\n",
       "      <td>0</td>\n",
       "      <td>0</td>\n",
       "      <td>0</td>\n",
       "      <td>2008</td>\n",
       "      <td>2004/05/09</td>\n",
       "    </tr>\n",
       "    <tr>\n",
       "      <th>1</th>\n",
       "      <td>Yoda</td>\n",
       "      <td>1000</td>\n",
       "      <td>15.12</td>\n",
       "      <td>True</td>\n",
       "      <td>1</td>\n",
       "      <td>1</td>\n",
       "      <td>3</td>\n",
       "      <td>2010</td>\n",
       "      <td>2004/05/09</td>\n",
       "    </tr>\n",
       "    <tr>\n",
       "      <th>2</th>\n",
       "      <td>Palpatine</td>\n",
       "      <td>70</td>\n",
       "      <td>60.10</td>\n",
       "      <td>False</td>\n",
       "      <td>2</td>\n",
       "      <td>2</td>\n",
       "      <td>6</td>\n",
       "      <td>2012</td>\n",
       "      <td>2004/05/09</td>\n",
       "    </tr>\n",
       "    <tr>\n",
       "      <th>3</th>\n",
       "      <td>Luke Skywalker</td>\n",
       "      <td>33</td>\n",
       "      <td>75.50</td>\n",
       "      <td>True</td>\n",
       "      <td>3</td>\n",
       "      <td>3</td>\n",
       "      <td>6</td>\n",
       "      <td>2011</td>\n",
       "      <td>2004/05/09</td>\n",
       "    </tr>\n",
       "  </tbody>\n",
       "</table>\n",
       "</div>"
      ],
      "text/plain": [
       "             NOME  IDADE   PESO  ED_JEDI  PODER  Coluna a partir de lista  \\\n",
       "0  Luke Skywalker     16  70.50     True      0                         0   \n",
       "1            Yoda   1000  15.12     True      1                         1   \n",
       "2       Palpatine     70  60.10    False      2                         2   \n",
       "3  Luke Skywalker     33  75.50     True      3                         3   \n",
       "\n",
       "   PODER(Pós Arco)   ANO        DATA  \n",
       "0                0  2008  2004/05/09  \n",
       "1                3  2010  2004/05/09  \n",
       "2                6  2012  2004/05/09  \n",
       "3                6  2011  2004/05/09  "
      ]
     },
     "execution_count": 131,
     "metadata": {},
     "output_type": "execute_result"
    }
   ],
   "source": [
    "personagens_df['DATA'] = '2004/05/09' , '2004/05/09', '2004/05/09' , '2004/05/09' \n",
    "personagens_df"
   ]
  },
  {
   "cell_type": "code",
   "execution_count": 132,
   "id": "12ec1960",
   "metadata": {},
   "outputs": [],
   "source": [
    "pre_persona = personagens_df.copy()\n"
   ]
  },
  {
   "cell_type": "code",
   "execution_count": 133,
   "id": "a94932e8",
   "metadata": {},
   "outputs": [
    {
     "name": "stdout",
     "output_type": "stream",
     "text": [
      "<class 'pandas.core.frame.DataFrame'>\n",
      "RangeIndex: 4 entries, 0 to 3\n",
      "Data columns (total 9 columns):\n",
      " #   Column                    Non-Null Count  Dtype         \n",
      "---  ------                    --------------  -----         \n",
      " 0   NOME                      4 non-null      object        \n",
      " 1   IDADE                     4 non-null      int64         \n",
      " 2   PESO                      4 non-null      float64       \n",
      " 3   ED_JEDI                   4 non-null      bool          \n",
      " 4   PODER                     4 non-null      int64         \n",
      " 5   Coluna a partir de lista  4 non-null      int64         \n",
      " 6   PODER(Pós Arco)           4 non-null      int64         \n",
      " 7   ANO                       4 non-null      int64         \n",
      " 8   DATA                      4 non-null      datetime64[ns]\n",
      "dtypes: bool(1), datetime64[ns](1), float64(1), int64(5), object(1)\n",
      "memory usage: 392.0+ bytes\n"
     ]
    }
   ],
   "source": [
    "#Usando a função pd.to_datetime para tranformar a DATA em datetime\n",
    "\n",
    "pre_persona['DATA'] = pd.to_datetime(pre_persona['DATA'])\n",
    "\n",
    "pre_persona.info()"
   ]
  },
  {
   "cell_type": "markdown",
   "id": "blank-monday",
   "metadata": {},
   "source": [
    "#### **Datas**\n",
    "Como os atributos de data do datset já estão em um formato de data aceitável (YYYY-MM-DD), não precisamos forçar nenhuma conversão nesse sentido."
   ]
  },
  {
   "cell_type": "code",
   "execution_count": 134,
   "id": "fancy-copper",
   "metadata": {},
   "outputs": [],
   "source": [
    "pre_persona['COISA'] = 'aaaaaa'"
   ]
  },
  {
   "cell_type": "code",
   "execution_count": 135,
   "id": "massive-draft",
   "metadata": {},
   "outputs": [
    {
     "name": "stdout",
     "output_type": "stream",
     "text": [
      "<class 'pandas.core.frame.DataFrame'>\n",
      "RangeIndex: 4 entries, 0 to 3\n",
      "Data columns (total 10 columns):\n",
      " #   Column                    Non-Null Count  Dtype         \n",
      "---  ------                    --------------  -----         \n",
      " 0   NOME                      4 non-null      object        \n",
      " 1   IDADE                     4 non-null      int64         \n",
      " 2   PESO                      4 non-null      float64       \n",
      " 3   ED_JEDI                   4 non-null      bool          \n",
      " 4   PODER                     4 non-null      int64         \n",
      " 5   Coluna a partir de lista  4 non-null      int64         \n",
      " 6   PODER(Pós Arco)           4 non-null      int64         \n",
      " 7   ANO                       4 non-null      int64         \n",
      " 8   DATA                      4 non-null      datetime64[ns]\n",
      " 9   COISA                     4 non-null      object        \n",
      "dtypes: bool(1), datetime64[ns](1), float64(1), int64(5), object(2)\n",
      "memory usage: 424.0+ bytes\n"
     ]
    }
   ],
   "source": [
    "pre_persona.info()"
   ]
  },
  {
   "cell_type": "code",
   "execution_count": 136,
   "id": "90b47756",
   "metadata": {},
   "outputs": [],
   "source": [
    "#Convertendo atributos em colunas numericas\n",
    "\n",
    "#for atributos in ['NADA', 'COISA']:\n",
    "    #Convertendo as colunas para um tipo numerico\n",
    "    #Em cado de erro na conversão (ex. uma string que não representa um numero) seá convertida para (nul/nam)\n",
    "    #pre_persona[atributos] = pd.to_numeric(pre_persona[atributos], errors='coerce')"
   ]
  },
  {
   "cell_type": "code",
   "execution_count": 137,
   "id": "4cfb015b",
   "metadata": {},
   "outputs": [
    {
     "name": "stdout",
     "output_type": "stream",
     "text": [
      "<class 'pandas.core.frame.DataFrame'>\n",
      "RangeIndex: 4 entries, 0 to 3\n",
      "Data columns (total 10 columns):\n",
      " #   Column                    Non-Null Count  Dtype         \n",
      "---  ------                    --------------  -----         \n",
      " 0   NOME                      4 non-null      object        \n",
      " 1   IDADE                     4 non-null      int64         \n",
      " 2   PESO                      4 non-null      float64       \n",
      " 3   ED_JEDI                   4 non-null      bool          \n",
      " 4   PODER                     4 non-null      int64         \n",
      " 5   Coluna a partir de lista  4 non-null      int64         \n",
      " 6   PODER(Pós Arco)           4 non-null      int64         \n",
      " 7   ANO                       4 non-null      int64         \n",
      " 8   DATA                      4 non-null      datetime64[ns]\n",
      " 9   COISA                     4 non-null      object        \n",
      "dtypes: bool(1), datetime64[ns](1), float64(1), int64(5), object(2)\n",
      "memory usage: 424.0+ bytes\n"
     ]
    }
   ],
   "source": [
    "pre_persona.info()"
   ]
  },
  {
   "cell_type": "code",
   "execution_count": 138,
   "id": "95b32053",
   "metadata": {},
   "outputs": [],
   "source": [
    "#Perceba que a coluna coisa esta nula "
   ]
  },
  {
   "cell_type": "markdown",
   "id": "interim-elimination",
   "metadata": {},
   "source": [
    "#### **Dados Numéricos**"
   ]
  },
  {
   "cell_type": "code",
   "execution_count": null,
   "id": "about-membrane",
   "metadata": {},
   "outputs": [],
   "source": []
  },
  {
   "cell_type": "code",
   "execution_count": 139,
   "id": "expired-thumbnail",
   "metadata": {},
   "outputs": [
    {
     "data": {
      "text/html": [
       "<div>\n",
       "<style scoped>\n",
       "    .dataframe tbody tr th:only-of-type {\n",
       "        vertical-align: middle;\n",
       "    }\n",
       "\n",
       "    .dataframe tbody tr th {\n",
       "        vertical-align: top;\n",
       "    }\n",
       "\n",
       "    .dataframe thead th {\n",
       "        text-align: right;\n",
       "    }\n",
       "</style>\n",
       "<table border=\"1\" class=\"dataframe\">\n",
       "  <thead>\n",
       "    <tr style=\"text-align: right;\">\n",
       "      <th></th>\n",
       "      <th>NOME</th>\n",
       "      <th>IDADE</th>\n",
       "      <th>PESO</th>\n",
       "      <th>ED_JEDI</th>\n",
       "      <th>PODER</th>\n",
       "      <th>Coluna a partir de lista</th>\n",
       "      <th>PODER(Pós Arco)</th>\n",
       "      <th>ANO</th>\n",
       "      <th>DATA</th>\n",
       "      <th>COISA</th>\n",
       "    </tr>\n",
       "  </thead>\n",
       "  <tbody>\n",
       "    <tr>\n",
       "      <th>0</th>\n",
       "      <td>Luke Skywalker</td>\n",
       "      <td>16</td>\n",
       "      <td>70.50</td>\n",
       "      <td>True</td>\n",
       "      <td>0</td>\n",
       "      <td>0</td>\n",
       "      <td>0</td>\n",
       "      <td>2008</td>\n",
       "      <td>2004-05-09</td>\n",
       "      <td>aaaaaa</td>\n",
       "    </tr>\n",
       "    <tr>\n",
       "      <th>1</th>\n",
       "      <td>Yoda</td>\n",
       "      <td>1000</td>\n",
       "      <td>15.12</td>\n",
       "      <td>True</td>\n",
       "      <td>1</td>\n",
       "      <td>1</td>\n",
       "      <td>3</td>\n",
       "      <td>2010</td>\n",
       "      <td>2004-05-09</td>\n",
       "      <td>aaaaaa</td>\n",
       "    </tr>\n",
       "    <tr>\n",
       "      <th>2</th>\n",
       "      <td>Palpatine</td>\n",
       "      <td>70</td>\n",
       "      <td>60.10</td>\n",
       "      <td>False</td>\n",
       "      <td>2</td>\n",
       "      <td>2</td>\n",
       "      <td>6</td>\n",
       "      <td>2012</td>\n",
       "      <td>2004-05-09</td>\n",
       "      <td>aaaaaa</td>\n",
       "    </tr>\n",
       "    <tr>\n",
       "      <th>3</th>\n",
       "      <td>Luke Skywalker</td>\n",
       "      <td>33</td>\n",
       "      <td>75.50</td>\n",
       "      <td>True</td>\n",
       "      <td>3</td>\n",
       "      <td>3</td>\n",
       "      <td>6</td>\n",
       "      <td>2011</td>\n",
       "      <td>2004-05-09</td>\n",
       "      <td>aaaaaa</td>\n",
       "    </tr>\n",
       "  </tbody>\n",
       "</table>\n",
       "</div>"
      ],
      "text/plain": [
       "             NOME  IDADE   PESO  ED_JEDI  PODER  Coluna a partir de lista  \\\n",
       "0  Luke Skywalker     16  70.50     True      0                         0   \n",
       "1            Yoda   1000  15.12     True      1                         1   \n",
       "2       Palpatine     70  60.10    False      2                         2   \n",
       "3  Luke Skywalker     33  75.50     True      3                         3   \n",
       "\n",
       "   PODER(Pós Arco)   ANO       DATA   COISA  \n",
       "0                0  2008 2004-05-09  aaaaaa  \n",
       "1                3  2010 2004-05-09  aaaaaa  \n",
       "2                6  2012 2004-05-09  aaaaaa  \n",
       "3                6  2011 2004-05-09  aaaaaa  "
      ]
     },
     "execution_count": 139,
     "metadata": {},
     "output_type": "execute_result"
    }
   ],
   "source": [
    "pre_persona"
   ]
  },
  {
   "cell_type": "markdown",
   "id": "operating-library",
   "metadata": {},
   "source": [
    "<br/>\n",
    "\n",
    "Note que temos vários valores ***null*** agora **após a *conversão de tipos***. Vamos checá-los com mais cuidado nos dados originais e preprocessados."
   ]
  },
  {
   "cell_type": "markdown",
   "id": "excess-smith",
   "metadata": {},
   "source": [
    "### 2.3 Limpeza de dados"
   ]
  },
  {
   "cell_type": "code",
   "execution_count": 140,
   "id": "f181c029",
   "metadata": {},
   "outputs": [
    {
     "data": {
      "text/html": [
       "<div>\n",
       "<style scoped>\n",
       "    .dataframe tbody tr th:only-of-type {\n",
       "        vertical-align: middle;\n",
       "    }\n",
       "\n",
       "    .dataframe tbody tr th {\n",
       "        vertical-align: top;\n",
       "    }\n",
       "\n",
       "    .dataframe thead th {\n",
       "        text-align: right;\n",
       "    }\n",
       "</style>\n",
       "<table border=\"1\" class=\"dataframe\">\n",
       "  <thead>\n",
       "    <tr style=\"text-align: right;\">\n",
       "      <th></th>\n",
       "      <th>NOME</th>\n",
       "      <th>IDADE</th>\n",
       "      <th>PESO</th>\n",
       "      <th>ED_JEDI</th>\n",
       "      <th>PODER</th>\n",
       "      <th>Coluna a partir de lista</th>\n",
       "      <th>PODER(Pós Arco)</th>\n",
       "      <th>ANO</th>\n",
       "      <th>DATA</th>\n",
       "      <th>COISA</th>\n",
       "    </tr>\n",
       "  </thead>\n",
       "  <tbody>\n",
       "    <tr>\n",
       "      <th>0</th>\n",
       "      <td>Luke Skywalker</td>\n",
       "      <td>16</td>\n",
       "      <td>70.50</td>\n",
       "      <td>True</td>\n",
       "      <td>0</td>\n",
       "      <td>0</td>\n",
       "      <td>0</td>\n",
       "      <td>2008</td>\n",
       "      <td>2004-05-09</td>\n",
       "      <td>22222</td>\n",
       "    </tr>\n",
       "    <tr>\n",
       "      <th>1</th>\n",
       "      <td>Yoda</td>\n",
       "      <td>1000</td>\n",
       "      <td>15.12</td>\n",
       "      <td>True</td>\n",
       "      <td>1</td>\n",
       "      <td>1</td>\n",
       "      <td>3</td>\n",
       "      <td>2010</td>\n",
       "      <td>2004-05-09</td>\n",
       "      <td>aaaaaa</td>\n",
       "    </tr>\n",
       "    <tr>\n",
       "      <th>2</th>\n",
       "      <td>Palpatine</td>\n",
       "      <td>70</td>\n",
       "      <td>60.10</td>\n",
       "      <td>False</td>\n",
       "      <td>2</td>\n",
       "      <td>2</td>\n",
       "      <td>6</td>\n",
       "      <td>2012</td>\n",
       "      <td>2004-05-09</td>\n",
       "      <td>aaaaaa</td>\n",
       "    </tr>\n",
       "    <tr>\n",
       "      <th>3</th>\n",
       "      <td>Luke Skywalker</td>\n",
       "      <td>33</td>\n",
       "      <td>75.50</td>\n",
       "      <td>True</td>\n",
       "      <td>3</td>\n",
       "      <td>3</td>\n",
       "      <td>6</td>\n",
       "      <td>2011</td>\n",
       "      <td>2004-05-09</td>\n",
       "      <td>aaaaaa</td>\n",
       "    </tr>\n",
       "  </tbody>\n",
       "</table>\n",
       "</div>"
      ],
      "text/plain": [
       "             NOME  IDADE   PESO  ED_JEDI  PODER  Coluna a partir de lista  \\\n",
       "0  Luke Skywalker     16  70.50     True      0                         0   \n",
       "1            Yoda   1000  15.12     True      1                         1   \n",
       "2       Palpatine     70  60.10    False      2                         2   \n",
       "3  Luke Skywalker     33  75.50     True      3                         3   \n",
       "\n",
       "   PODER(Pós Arco)   ANO       DATA   COISA  \n",
       "0                0  2008 2004-05-09   22222  \n",
       "1                3  2010 2004-05-09  aaaaaa  \n",
       "2                6  2012 2004-05-09  aaaaaa  \n",
       "3                6  2011 2004-05-09  aaaaaa  "
      ]
     },
     "execution_count": 140,
     "metadata": {},
     "output_type": "execute_result"
    }
   ],
   "source": [
    "#Uma forma de alterar um valor especifico de uma coluna e linha com a função loc\n",
    "pre_persona.loc[0,'COISA'] = 22222 \n",
    "pre_persona"
   ]
  },
  {
   "cell_type": "code",
   "execution_count": 141,
   "id": "rapid-ceremony",
   "metadata": {},
   "outputs": [],
   "source": [
    "#Usado para tranformar os valores da coluna COISA em nulo\n",
    "pre_persona['COISA'] = np.nan"
   ]
  },
  {
   "cell_type": "code",
   "execution_count": 142,
   "id": "residential-wallet",
   "metadata": {},
   "outputs": [
    {
     "data": {
      "text/plain": [
       "0    True\n",
       "1    True\n",
       "2    True\n",
       "3    True\n",
       "Name: COISA, dtype: bool"
      ]
     },
     "execution_count": 142,
     "metadata": {},
     "output_type": "execute_result"
    }
   ],
   "source": [
    "mask = pre_persona['COISA'].isnull()\n",
    "mask"
   ]
  },
  {
   "cell_type": "markdown",
   "id": "general-found",
   "metadata": {},
   "source": [
    "Várias amostras possuem a _string '-'_ em algumas colunas ao invés de um número de fato. Ou seja, não há aferições destes atributos para estas amostras. <br/>\n",
    "\n",
    "<br/>\n",
    "\n",
    "Poderíamos **preencher os valores NaN com um valor padrão**. Para isso, basta usar o método `.fillna`."
   ]
  },
  {
   "cell_type": "code",
   "execution_count": 143,
   "id": "standing-significance",
   "metadata": {},
   "outputs": [
    {
     "data": {
      "text/html": [
       "<div>\n",
       "<style scoped>\n",
       "    .dataframe tbody tr th:only-of-type {\n",
       "        vertical-align: middle;\n",
       "    }\n",
       "\n",
       "    .dataframe tbody tr th {\n",
       "        vertical-align: top;\n",
       "    }\n",
       "\n",
       "    .dataframe thead th {\n",
       "        text-align: right;\n",
       "    }\n",
       "</style>\n",
       "<table border=\"1\" class=\"dataframe\">\n",
       "  <thead>\n",
       "    <tr style=\"text-align: right;\">\n",
       "      <th></th>\n",
       "      <th>NOME</th>\n",
       "      <th>IDADE</th>\n",
       "      <th>PESO</th>\n",
       "      <th>ED_JEDI</th>\n",
       "      <th>PODER</th>\n",
       "      <th>Coluna a partir de lista</th>\n",
       "      <th>PODER(Pós Arco)</th>\n",
       "      <th>ANO</th>\n",
       "      <th>DATA</th>\n",
       "      <th>COISA</th>\n",
       "    </tr>\n",
       "  </thead>\n",
       "  <tbody>\n",
       "    <tr>\n",
       "      <th>0</th>\n",
       "      <td>Luke Skywalker</td>\n",
       "      <td>16</td>\n",
       "      <td>70.50</td>\n",
       "      <td>True</td>\n",
       "      <td>0</td>\n",
       "      <td>0</td>\n",
       "      <td>0</td>\n",
       "      <td>2008</td>\n",
       "      <td>2004-05-09</td>\n",
       "      <td>0.0</td>\n",
       "    </tr>\n",
       "    <tr>\n",
       "      <th>1</th>\n",
       "      <td>Yoda</td>\n",
       "      <td>1000</td>\n",
       "      <td>15.12</td>\n",
       "      <td>True</td>\n",
       "      <td>1</td>\n",
       "      <td>1</td>\n",
       "      <td>3</td>\n",
       "      <td>2010</td>\n",
       "      <td>2004-05-09</td>\n",
       "      <td>0.0</td>\n",
       "    </tr>\n",
       "    <tr>\n",
       "      <th>2</th>\n",
       "      <td>Palpatine</td>\n",
       "      <td>70</td>\n",
       "      <td>60.10</td>\n",
       "      <td>False</td>\n",
       "      <td>2</td>\n",
       "      <td>2</td>\n",
       "      <td>6</td>\n",
       "      <td>2012</td>\n",
       "      <td>2004-05-09</td>\n",
       "      <td>0.0</td>\n",
       "    </tr>\n",
       "    <tr>\n",
       "      <th>3</th>\n",
       "      <td>Luke Skywalker</td>\n",
       "      <td>33</td>\n",
       "      <td>75.50</td>\n",
       "      <td>True</td>\n",
       "      <td>3</td>\n",
       "      <td>3</td>\n",
       "      <td>6</td>\n",
       "      <td>2011</td>\n",
       "      <td>2004-05-09</td>\n",
       "      <td>0.0</td>\n",
       "    </tr>\n",
       "  </tbody>\n",
       "</table>\n",
       "</div>"
      ],
      "text/plain": [
       "             NOME  IDADE   PESO  ED_JEDI  PODER  Coluna a partir de lista  \\\n",
       "0  Luke Skywalker     16  70.50     True      0                         0   \n",
       "1            Yoda   1000  15.12     True      1                         1   \n",
       "2       Palpatine     70  60.10    False      2                         2   \n",
       "3  Luke Skywalker     33  75.50     True      3                         3   \n",
       "\n",
       "   PODER(Pós Arco)   ANO       DATA  COISA  \n",
       "0                0  2008 2004-05-09    0.0  \n",
       "1                3  2010 2004-05-09    0.0  \n",
       "2                6  2012 2004-05-09    0.0  \n",
       "3                6  2011 2004-05-09    0.0  "
      ]
     },
     "execution_count": 143,
     "metadata": {},
     "output_type": "execute_result"
    }
   ],
   "source": [
    "#Faz uma cpía do dataframe pre_persona  com todas as colunas com nun/nan  mudadsas para 0\n",
    "#para alterar o proprio dataframe pre_persona use o inplace=True\n",
    "dados_pre = pre_persona.fillna(0)\n",
    "dados_pre\n"
   ]
  },
  {
   "cell_type": "code",
   "execution_count": 144,
   "id": "fourth-smoke",
   "metadata": {},
   "outputs": [
    {
     "data": {
      "text/html": [
       "<div>\n",
       "<style scoped>\n",
       "    .dataframe tbody tr th:only-of-type {\n",
       "        vertical-align: middle;\n",
       "    }\n",
       "\n",
       "    .dataframe tbody tr th {\n",
       "        vertical-align: top;\n",
       "    }\n",
       "\n",
       "    .dataframe thead th {\n",
       "        text-align: right;\n",
       "    }\n",
       "</style>\n",
       "<table border=\"1\" class=\"dataframe\">\n",
       "  <thead>\n",
       "    <tr style=\"text-align: right;\">\n",
       "      <th></th>\n",
       "      <th>NOME</th>\n",
       "      <th>IDADE</th>\n",
       "      <th>PESO</th>\n",
       "      <th>ED_JEDI</th>\n",
       "      <th>PODER</th>\n",
       "      <th>Coluna a partir de lista</th>\n",
       "      <th>PODER(Pós Arco)</th>\n",
       "      <th>ANO</th>\n",
       "      <th>DATA</th>\n",
       "      <th>COISA</th>\n",
       "    </tr>\n",
       "  </thead>\n",
       "  <tbody>\n",
       "    <tr>\n",
       "      <th>0</th>\n",
       "      <td>Luke Skywalker</td>\n",
       "      <td>16</td>\n",
       "      <td>70.50</td>\n",
       "      <td>True</td>\n",
       "      <td>0</td>\n",
       "      <td>0</td>\n",
       "      <td>0</td>\n",
       "      <td>2008</td>\n",
       "      <td>2004-05-09</td>\n",
       "      <td>0.0</td>\n",
       "    </tr>\n",
       "    <tr>\n",
       "      <th>1</th>\n",
       "      <td>Yoda</td>\n",
       "      <td>1000</td>\n",
       "      <td>15.12</td>\n",
       "      <td>True</td>\n",
       "      <td>1</td>\n",
       "      <td>1</td>\n",
       "      <td>3</td>\n",
       "      <td>2010</td>\n",
       "      <td>2004-05-09</td>\n",
       "      <td>0.0</td>\n",
       "    </tr>\n",
       "    <tr>\n",
       "      <th>2</th>\n",
       "      <td>Palpatine</td>\n",
       "      <td>70</td>\n",
       "      <td>60.10</td>\n",
       "      <td>False</td>\n",
       "      <td>2</td>\n",
       "      <td>2</td>\n",
       "      <td>6</td>\n",
       "      <td>2012</td>\n",
       "      <td>2004-05-09</td>\n",
       "      <td>0.0</td>\n",
       "    </tr>\n",
       "    <tr>\n",
       "      <th>3</th>\n",
       "      <td>Luke Skywalker</td>\n",
       "      <td>33</td>\n",
       "      <td>75.50</td>\n",
       "      <td>True</td>\n",
       "      <td>3</td>\n",
       "      <td>3</td>\n",
       "      <td>6</td>\n",
       "      <td>2011</td>\n",
       "      <td>2004-05-09</td>\n",
       "      <td>0.0</td>\n",
       "    </tr>\n",
       "  </tbody>\n",
       "</table>\n",
       "</div>"
      ],
      "text/plain": [
       "             NOME  IDADE   PESO  ED_JEDI  PODER  Coluna a partir de lista  \\\n",
       "0  Luke Skywalker     16  70.50     True      0                         0   \n",
       "1            Yoda   1000  15.12     True      1                         1   \n",
       "2       Palpatine     70  60.10    False      2                         2   \n",
       "3  Luke Skywalker     33  75.50     True      3                         3   \n",
       "\n",
       "   PODER(Pós Arco)   ANO       DATA  COISA  \n",
       "0                0  2008 2004-05-09    0.0  \n",
       "1                3  2010 2004-05-09    0.0  \n",
       "2                6  2012 2004-05-09    0.0  \n",
       "3                6  2011 2004-05-09    0.0  "
      ]
     },
     "execution_count": 144,
     "metadata": {},
     "output_type": "execute_result"
    }
   ],
   "source": [
    "dados_pre[mask]"
   ]
  },
  {
   "cell_type": "markdown",
   "id": "altered-compatibility",
   "metadata": {},
   "source": [
    "<br/>\n",
    "\n",
    "Por mais que a função `fillna` seja interessante e útil em muitos casos, no problema em questão estamos interessados em analisar precisamente, p. ex., o **'PREÇO MÉDIO DISTRIBUIÇÃO'**.<br/>\n",
    "A fim de não termos valores _sintéticos_ gerados pelo `fillna`, que possam atrapalhar nossa análise, iremos **remover (drop) todas as amostras que possuem qualquer valor NaN** para quaisquer atributos/colunas. <br/>\n",
    "\n",
    "Para isso, basta utilizarmos o método `dropna`."
   ]
  },
  {
   "cell_type": "code",
   "execution_count": 145,
   "id": "inclusive-shopper",
   "metadata": {},
   "outputs": [
    {
     "data": {
      "text/html": [
       "<div>\n",
       "<style scoped>\n",
       "    .dataframe tbody tr th:only-of-type {\n",
       "        vertical-align: middle;\n",
       "    }\n",
       "\n",
       "    .dataframe tbody tr th {\n",
       "        vertical-align: top;\n",
       "    }\n",
       "\n",
       "    .dataframe thead th {\n",
       "        text-align: right;\n",
       "    }\n",
       "</style>\n",
       "<table border=\"1\" class=\"dataframe\">\n",
       "  <thead>\n",
       "    <tr style=\"text-align: right;\">\n",
       "      <th></th>\n",
       "      <th>NOME</th>\n",
       "      <th>IDADE</th>\n",
       "      <th>PESO</th>\n",
       "      <th>ED_JEDI</th>\n",
       "      <th>PODER</th>\n",
       "      <th>Coluna a partir de lista</th>\n",
       "      <th>PODER(Pós Arco)</th>\n",
       "      <th>ANO</th>\n",
       "      <th>DATA</th>\n",
       "      <th>COISA</th>\n",
       "    </tr>\n",
       "  </thead>\n",
       "  <tbody>\n",
       "  </tbody>\n",
       "</table>\n",
       "</div>"
      ],
      "text/plain": [
       "Empty DataFrame\n",
       "Columns: [NOME, IDADE, PESO, ED_JEDI, PODER, Coluna a partir de lista, PODER(Pós Arco), ANO, DATA, COISA]\n",
       "Index: []"
      ]
     },
     "execution_count": 145,
     "metadata": {},
     "output_type": "execute_result"
    }
   ],
   "source": [
    "pre_persona.dropna(inplace=True)\n",
    "pre_persona"
   ]
  },
  {
   "cell_type": "code",
   "execution_count": 146,
   "id": "superb-french",
   "metadata": {},
   "outputs": [
    {
     "data": {
      "text/html": [
       "<div>\n",
       "<style scoped>\n",
       "    .dataframe tbody tr th:only-of-type {\n",
       "        vertical-align: middle;\n",
       "    }\n",
       "\n",
       "    .dataframe tbody tr th {\n",
       "        vertical-align: top;\n",
       "    }\n",
       "\n",
       "    .dataframe thead th {\n",
       "        text-align: right;\n",
       "    }\n",
       "</style>\n",
       "<table border=\"1\" class=\"dataframe\">\n",
       "  <thead>\n",
       "    <tr style=\"text-align: right;\">\n",
       "      <th></th>\n",
       "      <th>NOME</th>\n",
       "      <th>IDADE</th>\n",
       "      <th>PESO</th>\n",
       "      <th>ED_JEDI</th>\n",
       "      <th>PODER</th>\n",
       "      <th>Coluna a partir de lista</th>\n",
       "      <th>PODER(Pós Arco)</th>\n",
       "      <th>ANO</th>\n",
       "      <th>DATA</th>\n",
       "      <th>COISA</th>\n",
       "    </tr>\n",
       "  </thead>\n",
       "  <tbody>\n",
       "    <tr>\n",
       "      <th>0</th>\n",
       "      <td>Luke Skywalker</td>\n",
       "      <td>16</td>\n",
       "      <td>70.50</td>\n",
       "      <td>True</td>\n",
       "      <td>0</td>\n",
       "      <td>0</td>\n",
       "      <td>0</td>\n",
       "      <td>2008</td>\n",
       "      <td>2004-05-09</td>\n",
       "      <td>0.0</td>\n",
       "    </tr>\n",
       "    <tr>\n",
       "      <th>1</th>\n",
       "      <td>Yoda</td>\n",
       "      <td>1000</td>\n",
       "      <td>15.12</td>\n",
       "      <td>True</td>\n",
       "      <td>1</td>\n",
       "      <td>1</td>\n",
       "      <td>3</td>\n",
       "      <td>2010</td>\n",
       "      <td>2004-05-09</td>\n",
       "      <td>0.0</td>\n",
       "    </tr>\n",
       "    <tr>\n",
       "      <th>2</th>\n",
       "      <td>Palpatine</td>\n",
       "      <td>70</td>\n",
       "      <td>60.10</td>\n",
       "      <td>False</td>\n",
       "      <td>2</td>\n",
       "      <td>2</td>\n",
       "      <td>6</td>\n",
       "      <td>2012</td>\n",
       "      <td>2004-05-09</td>\n",
       "      <td>0.0</td>\n",
       "    </tr>\n",
       "    <tr>\n",
       "      <th>3</th>\n",
       "      <td>Luke Skywalker</td>\n",
       "      <td>33</td>\n",
       "      <td>75.50</td>\n",
       "      <td>True</td>\n",
       "      <td>3</td>\n",
       "      <td>3</td>\n",
       "      <td>6</td>\n",
       "      <td>2011</td>\n",
       "      <td>2004-05-09</td>\n",
       "      <td>0.0</td>\n",
       "    </tr>\n",
       "  </tbody>\n",
       "</table>\n",
       "</div>"
      ],
      "text/plain": [
       "             NOME  IDADE   PESO  ED_JEDI  PODER  Coluna a partir de lista  \\\n",
       "0  Luke Skywalker     16  70.50     True      0                         0   \n",
       "1            Yoda   1000  15.12     True      1                         1   \n",
       "2       Palpatine     70  60.10    False      2                         2   \n",
       "3  Luke Skywalker     33  75.50     True      3                         3   \n",
       "\n",
       "   PODER(Pós Arco)   ANO       DATA  COISA  \n",
       "0                0  2008 2004-05-09    0.0  \n",
       "1                3  2010 2004-05-09    0.0  \n",
       "2                6  2012 2004-05-09    0.0  \n",
       "3                6  2011 2004-05-09    0.0  "
      ]
     },
     "execution_count": 146,
     "metadata": {},
     "output_type": "execute_result"
    }
   ],
   "source": [
    "dados_pre"
   ]
  },
  {
   "cell_type": "markdown",
   "id": "bearing-peter",
   "metadata": {},
   "source": [
    "Nosso data frame agora, após essa _limpeza_, ficou mais enxuto, contentdo 103392 registros frente aos 106823 registros originais. <br/>\n",
    "\n",
    "Essas são apenas algumas das possíveis _técnicas de limpeza de dados_. Outras estratégias, p. ex., **confiam na detecção de outliers**, que não veremos neste curso."
   ]
  },
  {
   "cell_type": "markdown",
   "id": "bound-laser",
   "metadata": {},
   "source": [
    "#### **Salvando o Dataset Preprocessado**"
   ]
  },
  {
   "cell_type": "code",
   "execution_count": 147,
   "id": "hungarian-fantasy",
   "metadata": {},
   "outputs": [],
   "source": [
    "dados_pre.to_csv(r\"C:\\Users\\Jair\\Documents\\Estudos Jair\\projeto_machine_learning\\projeto_pandas\\datasets\\pre_persona.csv\")"
   ]
  },
  {
   "cell_type": "code",
   "execution_count": 148,
   "id": "88ccd997",
   "metadata": {},
   "outputs": [
    {
     "data": {
      "text/html": [
       "<div>\n",
       "<style scoped>\n",
       "    .dataframe tbody tr th:only-of-type {\n",
       "        vertical-align: middle;\n",
       "    }\n",
       "\n",
       "    .dataframe tbody tr th {\n",
       "        vertical-align: top;\n",
       "    }\n",
       "\n",
       "    .dataframe thead th {\n",
       "        text-align: right;\n",
       "    }\n",
       "</style>\n",
       "<table border=\"1\" class=\"dataframe\">\n",
       "  <thead>\n",
       "    <tr style=\"text-align: right;\">\n",
       "      <th></th>\n",
       "      <th>NOME</th>\n",
       "      <th>IDADE</th>\n",
       "      <th>PESO</th>\n",
       "      <th>ED_JEDI</th>\n",
       "      <th>PODER</th>\n",
       "      <th>Coluna a partir de lista</th>\n",
       "      <th>PODER(Pós Arco)</th>\n",
       "      <th>ANO</th>\n",
       "      <th>DATA</th>\n",
       "      <th>COISA</th>\n",
       "    </tr>\n",
       "  </thead>\n",
       "  <tbody>\n",
       "    <tr>\n",
       "      <th>0</th>\n",
       "      <td>Luke Skywalker</td>\n",
       "      <td>16</td>\n",
       "      <td>70.50</td>\n",
       "      <td>True</td>\n",
       "      <td>0</td>\n",
       "      <td>0</td>\n",
       "      <td>0</td>\n",
       "      <td>2008</td>\n",
       "      <td>2004-05-09</td>\n",
       "      <td>0.0</td>\n",
       "    </tr>\n",
       "    <tr>\n",
       "      <th>1</th>\n",
       "      <td>Yoda</td>\n",
       "      <td>1000</td>\n",
       "      <td>15.12</td>\n",
       "      <td>True</td>\n",
       "      <td>1</td>\n",
       "      <td>1</td>\n",
       "      <td>3</td>\n",
       "      <td>2010</td>\n",
       "      <td>2004-05-09</td>\n",
       "      <td>0.0</td>\n",
       "    </tr>\n",
       "    <tr>\n",
       "      <th>2</th>\n",
       "      <td>Palpatine</td>\n",
       "      <td>70</td>\n",
       "      <td>60.10</td>\n",
       "      <td>False</td>\n",
       "      <td>2</td>\n",
       "      <td>2</td>\n",
       "      <td>6</td>\n",
       "      <td>2012</td>\n",
       "      <td>2004-05-09</td>\n",
       "      <td>0.0</td>\n",
       "    </tr>\n",
       "    <tr>\n",
       "      <th>3</th>\n",
       "      <td>Luke Skywalker</td>\n",
       "      <td>33</td>\n",
       "      <td>75.50</td>\n",
       "      <td>True</td>\n",
       "      <td>3</td>\n",
       "      <td>3</td>\n",
       "      <td>6</td>\n",
       "      <td>2011</td>\n",
       "      <td>2004-05-09</td>\n",
       "      <td>0.0</td>\n",
       "    </tr>\n",
       "  </tbody>\n",
       "</table>\n",
       "</div>"
      ],
      "text/plain": [
       "             NOME  IDADE   PESO  ED_JEDI  PODER  Coluna a partir de lista  \\\n",
       "0  Luke Skywalker     16  70.50     True      0                         0   \n",
       "1            Yoda   1000  15.12     True      1                         1   \n",
       "2       Palpatine     70  60.10    False      2                         2   \n",
       "3  Luke Skywalker     33  75.50     True      3                         3   \n",
       "\n",
       "   PODER(Pós Arco)   ANO       DATA  COISA  \n",
       "0                0  2008 2004-05-09    0.0  \n",
       "1                3  2010 2004-05-09    0.0  \n",
       "2                6  2012 2004-05-09    0.0  \n",
       "3                6  2011 2004-05-09    0.0  "
      ]
     },
     "execution_count": 148,
     "metadata": {},
     "output_type": "execute_result"
    }
   ],
   "source": [
    "dados_pre"
   ]
  },
  {
   "cell_type": "markdown",
   "id": "stock-cover",
   "metadata": {},
   "source": [
    "<h2>3. Estatísticas Descritivas</h2>\n",
    "<hr/>"
   ]
  },
  {
   "cell_type": "markdown",
   "id": "removed-republic",
   "metadata": {},
   "source": [
    "O Pandas fornecem algumas funções/métodos ue computam certas estatísticas descritivas."
   ]
  },
  {
   "cell_type": "markdown",
   "id": "contrary-heritage",
   "metadata": {},
   "source": [
    "`describe`: exibe várias **estatísticas descritivas** para os _atributos_ de um dataframe ou para uma _Series_."
   ]
  },
  {
   "cell_type": "code",
   "execution_count": 149,
   "id": "nasty-smart",
   "metadata": {},
   "outputs": [],
   "source": [
    "persona_fim = pd.read_csv(r\"C:\\Users\\Jair\\Documents\\Estudos Jair\\projeto_machine_learning\\projeto_pandas\\datasets\\pre_persona.csv\")"
   ]
  },
  {
   "cell_type": "code",
   "execution_count": 150,
   "id": "second-approach",
   "metadata": {},
   "outputs": [
    {
     "data": {
      "text/html": [
       "<div>\n",
       "<style scoped>\n",
       "    .dataframe tbody tr th:only-of-type {\n",
       "        vertical-align: middle;\n",
       "    }\n",
       "\n",
       "    .dataframe tbody tr th {\n",
       "        vertical-align: top;\n",
       "    }\n",
       "\n",
       "    .dataframe thead th {\n",
       "        text-align: right;\n",
       "    }\n",
       "</style>\n",
       "<table border=\"1\" class=\"dataframe\">\n",
       "  <thead>\n",
       "    <tr style=\"text-align: right;\">\n",
       "      <th></th>\n",
       "      <th>Unnamed: 0</th>\n",
       "      <th>NOME</th>\n",
       "      <th>IDADE</th>\n",
       "      <th>PESO</th>\n",
       "      <th>ED_JEDI</th>\n",
       "      <th>PODER</th>\n",
       "      <th>Coluna a partir de lista</th>\n",
       "      <th>PODER(Pós Arco)</th>\n",
       "      <th>ANO</th>\n",
       "      <th>DATA</th>\n",
       "      <th>COISA</th>\n",
       "    </tr>\n",
       "  </thead>\n",
       "  <tbody>\n",
       "    <tr>\n",
       "      <th>0</th>\n",
       "      <td>0</td>\n",
       "      <td>Luke Skywalker</td>\n",
       "      <td>16</td>\n",
       "      <td>70.50</td>\n",
       "      <td>True</td>\n",
       "      <td>0</td>\n",
       "      <td>0</td>\n",
       "      <td>0</td>\n",
       "      <td>2008</td>\n",
       "      <td>2004-05-09</td>\n",
       "      <td>0.0</td>\n",
       "    </tr>\n",
       "    <tr>\n",
       "      <th>1</th>\n",
       "      <td>1</td>\n",
       "      <td>Yoda</td>\n",
       "      <td>1000</td>\n",
       "      <td>15.12</td>\n",
       "      <td>True</td>\n",
       "      <td>1</td>\n",
       "      <td>1</td>\n",
       "      <td>3</td>\n",
       "      <td>2010</td>\n",
       "      <td>2004-05-09</td>\n",
       "      <td>0.0</td>\n",
       "    </tr>\n",
       "    <tr>\n",
       "      <th>2</th>\n",
       "      <td>2</td>\n",
       "      <td>Palpatine</td>\n",
       "      <td>70</td>\n",
       "      <td>60.10</td>\n",
       "      <td>False</td>\n",
       "      <td>2</td>\n",
       "      <td>2</td>\n",
       "      <td>6</td>\n",
       "      <td>2012</td>\n",
       "      <td>2004-05-09</td>\n",
       "      <td>0.0</td>\n",
       "    </tr>\n",
       "    <tr>\n",
       "      <th>3</th>\n",
       "      <td>3</td>\n",
       "      <td>Luke Skywalker</td>\n",
       "      <td>33</td>\n",
       "      <td>75.50</td>\n",
       "      <td>True</td>\n",
       "      <td>3</td>\n",
       "      <td>3</td>\n",
       "      <td>6</td>\n",
       "      <td>2011</td>\n",
       "      <td>2004-05-09</td>\n",
       "      <td>0.0</td>\n",
       "    </tr>\n",
       "  </tbody>\n",
       "</table>\n",
       "</div>"
      ],
      "text/plain": [
       "   Unnamed: 0            NOME  IDADE   PESO  ED_JEDI  PODER  \\\n",
       "0           0  Luke Skywalker     16  70.50     True      0   \n",
       "1           1            Yoda   1000  15.12     True      1   \n",
       "2           2       Palpatine     70  60.10    False      2   \n",
       "3           3  Luke Skywalker     33  75.50     True      3   \n",
       "\n",
       "   Coluna a partir de lista  PODER(Pós Arco)   ANO        DATA  COISA  \n",
       "0                         0                0  2008  2004-05-09    0.0  \n",
       "1                         1                3  2010  2004-05-09    0.0  \n",
       "2                         2                6  2012  2004-05-09    0.0  \n",
       "3                         3                6  2011  2004-05-09    0.0  "
      ]
     },
     "execution_count": 150,
     "metadata": {},
     "output_type": "execute_result"
    }
   ],
   "source": [
    "persona_fim"
   ]
  },
  {
   "cell_type": "markdown",
   "id": "straight-hamburg",
   "metadata": {},
   "source": [
    "<br/>\n",
    "\n",
    "Como o resultado do `describe` de um _dataframe_ é outro _dataframe_, podemos filtrar apenas algumas colunas."
   ]
  },
  {
   "cell_type": "code",
   "execution_count": 151,
   "id": "complete-calvin",
   "metadata": {},
   "outputs": [
    {
     "data": {
      "text/html": [
       "<div>\n",
       "<style scoped>\n",
       "    .dataframe tbody tr th:only-of-type {\n",
       "        vertical-align: middle;\n",
       "    }\n",
       "\n",
       "    .dataframe tbody tr th {\n",
       "        vertical-align: top;\n",
       "    }\n",
       "\n",
       "    .dataframe thead th {\n",
       "        text-align: right;\n",
       "    }\n",
       "</style>\n",
       "<table border=\"1\" class=\"dataframe\">\n",
       "  <thead>\n",
       "    <tr style=\"text-align: right;\">\n",
       "      <th></th>\n",
       "      <th>Unnamed: 0</th>\n",
       "      <th>IDADE</th>\n",
       "      <th>PESO</th>\n",
       "      <th>PODER</th>\n",
       "      <th>Coluna a partir de lista</th>\n",
       "      <th>PODER(Pós Arco)</th>\n",
       "      <th>ANO</th>\n",
       "      <th>COISA</th>\n",
       "    </tr>\n",
       "  </thead>\n",
       "  <tbody>\n",
       "    <tr>\n",
       "      <th>count</th>\n",
       "      <td>4.000000</td>\n",
       "      <td>4.00000</td>\n",
       "      <td>4.000000</td>\n",
       "      <td>4.000000</td>\n",
       "      <td>4.000000</td>\n",
       "      <td>4.000000</td>\n",
       "      <td>4.000000</td>\n",
       "      <td>4.0</td>\n",
       "    </tr>\n",
       "    <tr>\n",
       "      <th>mean</th>\n",
       "      <td>1.500000</td>\n",
       "      <td>279.75000</td>\n",
       "      <td>55.305000</td>\n",
       "      <td>1.500000</td>\n",
       "      <td>1.500000</td>\n",
       "      <td>3.750000</td>\n",
       "      <td>2010.250000</td>\n",
       "      <td>0.0</td>\n",
       "    </tr>\n",
       "    <tr>\n",
       "      <th>std</th>\n",
       "      <td>1.290994</td>\n",
       "      <td>480.69559</td>\n",
       "      <td>27.547246</td>\n",
       "      <td>1.290994</td>\n",
       "      <td>1.290994</td>\n",
       "      <td>2.872281</td>\n",
       "      <td>1.707825</td>\n",
       "      <td>0.0</td>\n",
       "    </tr>\n",
       "    <tr>\n",
       "      <th>min</th>\n",
       "      <td>0.000000</td>\n",
       "      <td>16.00000</td>\n",
       "      <td>15.120000</td>\n",
       "      <td>0.000000</td>\n",
       "      <td>0.000000</td>\n",
       "      <td>0.000000</td>\n",
       "      <td>2008.000000</td>\n",
       "      <td>0.0</td>\n",
       "    </tr>\n",
       "    <tr>\n",
       "      <th>25%</th>\n",
       "      <td>0.750000</td>\n",
       "      <td>28.75000</td>\n",
       "      <td>48.855000</td>\n",
       "      <td>0.750000</td>\n",
       "      <td>0.750000</td>\n",
       "      <td>2.250000</td>\n",
       "      <td>2009.500000</td>\n",
       "      <td>0.0</td>\n",
       "    </tr>\n",
       "    <tr>\n",
       "      <th>50%</th>\n",
       "      <td>1.500000</td>\n",
       "      <td>51.50000</td>\n",
       "      <td>65.300000</td>\n",
       "      <td>1.500000</td>\n",
       "      <td>1.500000</td>\n",
       "      <td>4.500000</td>\n",
       "      <td>2010.500000</td>\n",
       "      <td>0.0</td>\n",
       "    </tr>\n",
       "    <tr>\n",
       "      <th>75%</th>\n",
       "      <td>2.250000</td>\n",
       "      <td>302.50000</td>\n",
       "      <td>71.750000</td>\n",
       "      <td>2.250000</td>\n",
       "      <td>2.250000</td>\n",
       "      <td>6.000000</td>\n",
       "      <td>2011.250000</td>\n",
       "      <td>0.0</td>\n",
       "    </tr>\n",
       "    <tr>\n",
       "      <th>max</th>\n",
       "      <td>3.000000</td>\n",
       "      <td>1000.00000</td>\n",
       "      <td>75.500000</td>\n",
       "      <td>3.000000</td>\n",
       "      <td>3.000000</td>\n",
       "      <td>6.000000</td>\n",
       "      <td>2012.000000</td>\n",
       "      <td>0.0</td>\n",
       "    </tr>\n",
       "  </tbody>\n",
       "</table>\n",
       "</div>"
      ],
      "text/plain": [
       "       Unnamed: 0       IDADE       PESO     PODER  Coluna a partir de lista  \\\n",
       "count    4.000000     4.00000   4.000000  4.000000                  4.000000   \n",
       "mean     1.500000   279.75000  55.305000  1.500000                  1.500000   \n",
       "std      1.290994   480.69559  27.547246  1.290994                  1.290994   \n",
       "min      0.000000    16.00000  15.120000  0.000000                  0.000000   \n",
       "25%      0.750000    28.75000  48.855000  0.750000                  0.750000   \n",
       "50%      1.500000    51.50000  65.300000  1.500000                  1.500000   \n",
       "75%      2.250000   302.50000  71.750000  2.250000                  2.250000   \n",
       "max      3.000000  1000.00000  75.500000  3.000000                  3.000000   \n",
       "\n",
       "       PODER(Pós Arco)          ANO  COISA  \n",
       "count         4.000000     4.000000    4.0  \n",
       "mean          3.750000  2010.250000    0.0  \n",
       "std           2.872281     1.707825    0.0  \n",
       "min           0.000000  2008.000000    0.0  \n",
       "25%           2.250000  2009.500000    0.0  \n",
       "50%           4.500000  2010.500000    0.0  \n",
       "75%           6.000000  2011.250000    0.0  \n",
       "max           6.000000  2012.000000    0.0  "
      ]
     },
     "execution_count": 151,
     "metadata": {},
     "output_type": "execute_result"
    }
   ],
   "source": [
    "persona_fim.describe()"
   ]
  },
  {
   "cell_type": "code",
   "execution_count": 152,
   "id": "varying-integrity",
   "metadata": {},
   "outputs": [
    {
     "data": {
      "text/plain": [
       "count       4.00000\n",
       "mean      279.75000\n",
       "std       480.69559\n",
       "min        16.00000\n",
       "25%        28.75000\n",
       "50%        51.50000\n",
       "75%       302.50000\n",
       "max      1000.00000\n",
       "Name: IDADE, dtype: float64"
      ]
     },
     "execution_count": 152,
     "metadata": {},
     "output_type": "execute_result"
    }
   ],
   "source": [
    "#Dessa forma a genter ver a caracteristicas somente dessa tabela\n",
    "persona_fim['IDADE'].describe()"
   ]
  },
  {
   "cell_type": "code",
   "execution_count": 153,
   "id": "sensitive-ocean",
   "metadata": {},
   "outputs": [
    {
     "data": {
      "text/html": [
       "<div>\n",
       "<style scoped>\n",
       "    .dataframe tbody tr th:only-of-type {\n",
       "        vertical-align: middle;\n",
       "    }\n",
       "\n",
       "    .dataframe tbody tr th {\n",
       "        vertical-align: top;\n",
       "    }\n",
       "\n",
       "    .dataframe thead th {\n",
       "        text-align: right;\n",
       "    }\n",
       "</style>\n",
       "<table border=\"1\" class=\"dataframe\">\n",
       "  <thead>\n",
       "    <tr style=\"text-align: right;\">\n",
       "      <th></th>\n",
       "      <th>Unnamed: 0</th>\n",
       "      <th>IDADE</th>\n",
       "      <th>PESO</th>\n",
       "      <th>PODER</th>\n",
       "      <th>Coluna a partir de lista</th>\n",
       "      <th>PODER(Pós Arco)</th>\n",
       "      <th>ANO</th>\n",
       "      <th>COISA</th>\n",
       "    </tr>\n",
       "  </thead>\n",
       "  <tbody>\n",
       "    <tr>\n",
       "      <th>count</th>\n",
       "      <td>4.000000</td>\n",
       "      <td>4.00000</td>\n",
       "      <td>4.000000</td>\n",
       "      <td>4.000000</td>\n",
       "      <td>4.000000</td>\n",
       "      <td>4.000000</td>\n",
       "      <td>4.000000</td>\n",
       "      <td>4.0</td>\n",
       "    </tr>\n",
       "    <tr>\n",
       "      <th>mean</th>\n",
       "      <td>1.500000</td>\n",
       "      <td>279.75000</td>\n",
       "      <td>55.305000</td>\n",
       "      <td>1.500000</td>\n",
       "      <td>1.500000</td>\n",
       "      <td>3.750000</td>\n",
       "      <td>2010.250000</td>\n",
       "      <td>0.0</td>\n",
       "    </tr>\n",
       "    <tr>\n",
       "      <th>std</th>\n",
       "      <td>1.290994</td>\n",
       "      <td>480.69559</td>\n",
       "      <td>27.547246</td>\n",
       "      <td>1.290994</td>\n",
       "      <td>1.290994</td>\n",
       "      <td>2.872281</td>\n",
       "      <td>1.707825</td>\n",
       "      <td>0.0</td>\n",
       "    </tr>\n",
       "    <tr>\n",
       "      <th>min</th>\n",
       "      <td>0.000000</td>\n",
       "      <td>16.00000</td>\n",
       "      <td>15.120000</td>\n",
       "      <td>0.000000</td>\n",
       "      <td>0.000000</td>\n",
       "      <td>0.000000</td>\n",
       "      <td>2008.000000</td>\n",
       "      <td>0.0</td>\n",
       "    </tr>\n",
       "    <tr>\n",
       "      <th>25%</th>\n",
       "      <td>0.750000</td>\n",
       "      <td>28.75000</td>\n",
       "      <td>48.855000</td>\n",
       "      <td>0.750000</td>\n",
       "      <td>0.750000</td>\n",
       "      <td>2.250000</td>\n",
       "      <td>2009.500000</td>\n",
       "      <td>0.0</td>\n",
       "    </tr>\n",
       "    <tr>\n",
       "      <th>50%</th>\n",
       "      <td>1.500000</td>\n",
       "      <td>51.50000</td>\n",
       "      <td>65.300000</td>\n",
       "      <td>1.500000</td>\n",
       "      <td>1.500000</td>\n",
       "      <td>4.500000</td>\n",
       "      <td>2010.500000</td>\n",
       "      <td>0.0</td>\n",
       "    </tr>\n",
       "    <tr>\n",
       "      <th>75%</th>\n",
       "      <td>2.250000</td>\n",
       "      <td>302.50000</td>\n",
       "      <td>71.750000</td>\n",
       "      <td>2.250000</td>\n",
       "      <td>2.250000</td>\n",
       "      <td>6.000000</td>\n",
       "      <td>2011.250000</td>\n",
       "      <td>0.0</td>\n",
       "    </tr>\n",
       "    <tr>\n",
       "      <th>max</th>\n",
       "      <td>3.000000</td>\n",
       "      <td>1000.00000</td>\n",
       "      <td>75.500000</td>\n",
       "      <td>3.000000</td>\n",
       "      <td>3.000000</td>\n",
       "      <td>6.000000</td>\n",
       "      <td>2012.000000</td>\n",
       "      <td>0.0</td>\n",
       "    </tr>\n",
       "  </tbody>\n",
       "</table>\n",
       "</div>"
      ],
      "text/plain": [
       "       Unnamed: 0       IDADE       PESO     PODER  Coluna a partir de lista  \\\n",
       "count    4.000000     4.00000   4.000000  4.000000                  4.000000   \n",
       "mean     1.500000   279.75000  55.305000  1.500000                  1.500000   \n",
       "std      1.290994   480.69559  27.547246  1.290994                  1.290994   \n",
       "min      0.000000    16.00000  15.120000  0.000000                  0.000000   \n",
       "25%      0.750000    28.75000  48.855000  0.750000                  0.750000   \n",
       "50%      1.500000    51.50000  65.300000  1.500000                  1.500000   \n",
       "75%      2.250000   302.50000  71.750000  2.250000                  2.250000   \n",
       "max      3.000000  1000.00000  75.500000  3.000000                  3.000000   \n",
       "\n",
       "       PODER(Pós Arco)          ANO  COISA  \n",
       "count         4.000000     4.000000    4.0  \n",
       "mean          3.750000  2010.250000    0.0  \n",
       "std           2.872281     1.707825    0.0  \n",
       "min           0.000000  2008.000000    0.0  \n",
       "25%           2.250000  2009.500000    0.0  \n",
       "50%           4.500000  2010.500000    0.0  \n",
       "75%           6.000000  2011.250000    0.0  \n",
       "max           6.000000  2012.000000    0.0  "
      ]
     },
     "execution_count": 153,
     "metadata": {},
     "output_type": "execute_result"
    }
   ],
   "source": [
    "#dessa forma podemos ver mais de uma tabela as suas carcteristicas\n",
    "caracter = persona_fim.describe()\n",
    "caracter"
   ]
  },
  {
   "cell_type": "code",
   "execution_count": 154,
   "id": "28767d68",
   "metadata": {},
   "outputs": [
    {
     "data": {
      "text/html": [
       "<div>\n",
       "<style scoped>\n",
       "    .dataframe tbody tr th:only-of-type {\n",
       "        vertical-align: middle;\n",
       "    }\n",
       "\n",
       "    .dataframe tbody tr th {\n",
       "        vertical-align: top;\n",
       "    }\n",
       "\n",
       "    .dataframe thead th {\n",
       "        text-align: right;\n",
       "    }\n",
       "</style>\n",
       "<table border=\"1\" class=\"dataframe\">\n",
       "  <thead>\n",
       "    <tr style=\"text-align: right;\">\n",
       "      <th></th>\n",
       "      <th>IDADE</th>\n",
       "      <th>ANO</th>\n",
       "      <th>PODER</th>\n",
       "    </tr>\n",
       "  </thead>\n",
       "  <tbody>\n",
       "    <tr>\n",
       "      <th>count</th>\n",
       "      <td>4.00000</td>\n",
       "      <td>4.000000</td>\n",
       "      <td>4.000000</td>\n",
       "    </tr>\n",
       "    <tr>\n",
       "      <th>mean</th>\n",
       "      <td>279.75000</td>\n",
       "      <td>2010.250000</td>\n",
       "      <td>1.500000</td>\n",
       "    </tr>\n",
       "    <tr>\n",
       "      <th>std</th>\n",
       "      <td>480.69559</td>\n",
       "      <td>1.707825</td>\n",
       "      <td>1.290994</td>\n",
       "    </tr>\n",
       "    <tr>\n",
       "      <th>min</th>\n",
       "      <td>16.00000</td>\n",
       "      <td>2008.000000</td>\n",
       "      <td>0.000000</td>\n",
       "    </tr>\n",
       "    <tr>\n",
       "      <th>25%</th>\n",
       "      <td>28.75000</td>\n",
       "      <td>2009.500000</td>\n",
       "      <td>0.750000</td>\n",
       "    </tr>\n",
       "    <tr>\n",
       "      <th>50%</th>\n",
       "      <td>51.50000</td>\n",
       "      <td>2010.500000</td>\n",
       "      <td>1.500000</td>\n",
       "    </tr>\n",
       "    <tr>\n",
       "      <th>75%</th>\n",
       "      <td>302.50000</td>\n",
       "      <td>2011.250000</td>\n",
       "      <td>2.250000</td>\n",
       "    </tr>\n",
       "    <tr>\n",
       "      <th>max</th>\n",
       "      <td>1000.00000</td>\n",
       "      <td>2012.000000</td>\n",
       "      <td>3.000000</td>\n",
       "    </tr>\n",
       "  </tbody>\n",
       "</table>\n",
       "</div>"
      ],
      "text/plain": [
       "            IDADE          ANO     PODER\n",
       "count     4.00000     4.000000  4.000000\n",
       "mean    279.75000  2010.250000  1.500000\n",
       "std     480.69559     1.707825  1.290994\n",
       "min      16.00000  2008.000000  0.000000\n",
       "25%      28.75000  2009.500000  0.750000\n",
       "50%      51.50000  2010.500000  1.500000\n",
       "75%     302.50000  2011.250000  2.250000\n",
       "max    1000.00000  2012.000000  3.000000"
      ]
     },
     "execution_count": 154,
     "metadata": {},
     "output_type": "execute_result"
    }
   ],
   "source": [
    "#Usando dessa forma\n",
    "caracter[['IDADE', 'ANO' , 'PODER']]"
   ]
  },
  {
   "cell_type": "code",
   "execution_count": 155,
   "id": "f1d19ec6",
   "metadata": {},
   "outputs": [
    {
     "data": {
      "text/html": [
       "<div>\n",
       "<style scoped>\n",
       "    .dataframe tbody tr th:only-of-type {\n",
       "        vertical-align: middle;\n",
       "    }\n",
       "\n",
       "    .dataframe tbody tr th {\n",
       "        vertical-align: top;\n",
       "    }\n",
       "\n",
       "    .dataframe thead th {\n",
       "        text-align: right;\n",
       "    }\n",
       "</style>\n",
       "<table border=\"1\" class=\"dataframe\">\n",
       "  <thead>\n",
       "    <tr style=\"text-align: right;\">\n",
       "      <th></th>\n",
       "      <th>IDADE</th>\n",
       "      <th>ANO</th>\n",
       "      <th>PODER</th>\n",
       "    </tr>\n",
       "  </thead>\n",
       "  <tbody>\n",
       "    <tr>\n",
       "      <th>count</th>\n",
       "      <td>4.00000</td>\n",
       "      <td>4.000000</td>\n",
       "      <td>4.000000</td>\n",
       "    </tr>\n",
       "    <tr>\n",
       "      <th>mean</th>\n",
       "      <td>279.75000</td>\n",
       "      <td>2010.250000</td>\n",
       "      <td>1.500000</td>\n",
       "    </tr>\n",
       "    <tr>\n",
       "      <th>std</th>\n",
       "      <td>480.69559</td>\n",
       "      <td>1.707825</td>\n",
       "      <td>1.290994</td>\n",
       "    </tr>\n",
       "    <tr>\n",
       "      <th>min</th>\n",
       "      <td>16.00000</td>\n",
       "      <td>2008.000000</td>\n",
       "      <td>0.000000</td>\n",
       "    </tr>\n",
       "    <tr>\n",
       "      <th>25%</th>\n",
       "      <td>28.75000</td>\n",
       "      <td>2009.500000</td>\n",
       "      <td>0.750000</td>\n",
       "    </tr>\n",
       "    <tr>\n",
       "      <th>50%</th>\n",
       "      <td>51.50000</td>\n",
       "      <td>2010.500000</td>\n",
       "      <td>1.500000</td>\n",
       "    </tr>\n",
       "    <tr>\n",
       "      <th>75%</th>\n",
       "      <td>302.50000</td>\n",
       "      <td>2011.250000</td>\n",
       "      <td>2.250000</td>\n",
       "    </tr>\n",
       "    <tr>\n",
       "      <th>max</th>\n",
       "      <td>1000.00000</td>\n",
       "      <td>2012.000000</td>\n",
       "      <td>3.000000</td>\n",
       "    </tr>\n",
       "  </tbody>\n",
       "</table>\n",
       "</div>"
      ],
      "text/plain": [
       "            IDADE          ANO     PODER\n",
       "count     4.00000     4.000000  4.000000\n",
       "mean    279.75000  2010.250000  1.500000\n",
       "std     480.69559     1.707825  1.290994\n",
       "min      16.00000  2008.000000  0.000000\n",
       "25%      28.75000  2009.500000  0.750000\n",
       "50%      51.50000  2010.500000  1.500000\n",
       "75%     302.50000  2011.250000  2.250000\n",
       "max    1000.00000  2012.000000  3.000000"
      ]
     },
     "execution_count": 155,
     "metadata": {},
     "output_type": "execute_result"
    }
   ],
   "source": [
    "#Uma forma mais rapida de se fazer\n",
    "persona_fim[['IDADE', 'ANO', 'PODER']].describe()"
   ]
  },
  {
   "cell_type": "markdown",
   "id": "innocent-democrat",
   "metadata": {},
   "source": [
    "**Acessando apenas algumas estatísticas**"
   ]
  },
  {
   "cell_type": "code",
   "execution_count": 156,
   "id": "63833459",
   "metadata": {},
   "outputs": [
    {
     "data": {
      "text/html": [
       "<div>\n",
       "<style scoped>\n",
       "    .dataframe tbody tr th:only-of-type {\n",
       "        vertical-align: middle;\n",
       "    }\n",
       "\n",
       "    .dataframe tbody tr th {\n",
       "        vertical-align: top;\n",
       "    }\n",
       "\n",
       "    .dataframe thead th {\n",
       "        text-align: right;\n",
       "    }\n",
       "</style>\n",
       "<table border=\"1\" class=\"dataframe\">\n",
       "  <thead>\n",
       "    <tr style=\"text-align: right;\">\n",
       "      <th></th>\n",
       "      <th>Unnamed: 0</th>\n",
       "      <th>IDADE</th>\n",
       "      <th>PESO</th>\n",
       "      <th>PODER</th>\n",
       "      <th>Coluna a partir de lista</th>\n",
       "      <th>PODER(Pós Arco)</th>\n",
       "      <th>ANO</th>\n",
       "      <th>COISA</th>\n",
       "    </tr>\n",
       "  </thead>\n",
       "  <tbody>\n",
       "    <tr>\n",
       "      <th>count</th>\n",
       "      <td>4.000000</td>\n",
       "      <td>4.00000</td>\n",
       "      <td>4.000000</td>\n",
       "      <td>4.000000</td>\n",
       "      <td>4.000000</td>\n",
       "      <td>4.000000</td>\n",
       "      <td>4.000000</td>\n",
       "      <td>4.0</td>\n",
       "    </tr>\n",
       "    <tr>\n",
       "      <th>mean</th>\n",
       "      <td>1.500000</td>\n",
       "      <td>279.75000</td>\n",
       "      <td>55.305000</td>\n",
       "      <td>1.500000</td>\n",
       "      <td>1.500000</td>\n",
       "      <td>3.750000</td>\n",
       "      <td>2010.250000</td>\n",
       "      <td>0.0</td>\n",
       "    </tr>\n",
       "    <tr>\n",
       "      <th>std</th>\n",
       "      <td>1.290994</td>\n",
       "      <td>480.69559</td>\n",
       "      <td>27.547246</td>\n",
       "      <td>1.290994</td>\n",
       "      <td>1.290994</td>\n",
       "      <td>2.872281</td>\n",
       "      <td>1.707825</td>\n",
       "      <td>0.0</td>\n",
       "    </tr>\n",
       "    <tr>\n",
       "      <th>min</th>\n",
       "      <td>0.000000</td>\n",
       "      <td>16.00000</td>\n",
       "      <td>15.120000</td>\n",
       "      <td>0.000000</td>\n",
       "      <td>0.000000</td>\n",
       "      <td>0.000000</td>\n",
       "      <td>2008.000000</td>\n",
       "      <td>0.0</td>\n",
       "    </tr>\n",
       "    <tr>\n",
       "      <th>25%</th>\n",
       "      <td>0.750000</td>\n",
       "      <td>28.75000</td>\n",
       "      <td>48.855000</td>\n",
       "      <td>0.750000</td>\n",
       "      <td>0.750000</td>\n",
       "      <td>2.250000</td>\n",
       "      <td>2009.500000</td>\n",
       "      <td>0.0</td>\n",
       "    </tr>\n",
       "    <tr>\n",
       "      <th>50%</th>\n",
       "      <td>1.500000</td>\n",
       "      <td>51.50000</td>\n",
       "      <td>65.300000</td>\n",
       "      <td>1.500000</td>\n",
       "      <td>1.500000</td>\n",
       "      <td>4.500000</td>\n",
       "      <td>2010.500000</td>\n",
       "      <td>0.0</td>\n",
       "    </tr>\n",
       "    <tr>\n",
       "      <th>75%</th>\n",
       "      <td>2.250000</td>\n",
       "      <td>302.50000</td>\n",
       "      <td>71.750000</td>\n",
       "      <td>2.250000</td>\n",
       "      <td>2.250000</td>\n",
       "      <td>6.000000</td>\n",
       "      <td>2011.250000</td>\n",
       "      <td>0.0</td>\n",
       "    </tr>\n",
       "    <tr>\n",
       "      <th>max</th>\n",
       "      <td>3.000000</td>\n",
       "      <td>1000.00000</td>\n",
       "      <td>75.500000</td>\n",
       "      <td>3.000000</td>\n",
       "      <td>3.000000</td>\n",
       "      <td>6.000000</td>\n",
       "      <td>2012.000000</td>\n",
       "      <td>0.0</td>\n",
       "    </tr>\n",
       "  </tbody>\n",
       "</table>\n",
       "</div>"
      ],
      "text/plain": [
       "       Unnamed: 0       IDADE       PESO     PODER  Coluna a partir de lista  \\\n",
       "count    4.000000     4.00000   4.000000  4.000000                  4.000000   \n",
       "mean     1.500000   279.75000  55.305000  1.500000                  1.500000   \n",
       "std      1.290994   480.69559  27.547246  1.290994                  1.290994   \n",
       "min      0.000000    16.00000  15.120000  0.000000                  0.000000   \n",
       "25%      0.750000    28.75000  48.855000  0.750000                  0.750000   \n",
       "50%      1.500000    51.50000  65.300000  1.500000                  1.500000   \n",
       "75%      2.250000   302.50000  71.750000  2.250000                  2.250000   \n",
       "max      3.000000  1000.00000  75.500000  3.000000                  3.000000   \n",
       "\n",
       "       PODER(Pós Arco)          ANO  COISA  \n",
       "count         4.000000     4.000000    4.0  \n",
       "mean          3.750000  2010.250000    0.0  \n",
       "std           2.872281     1.707825    0.0  \n",
       "min           0.000000  2008.000000    0.0  \n",
       "25%           2.250000  2009.500000    0.0  \n",
       "50%           4.500000  2010.500000    0.0  \n",
       "75%           6.000000  2011.250000    0.0  \n",
       "max           6.000000  2012.000000    0.0  "
      ]
     },
     "execution_count": 156,
     "metadata": {},
     "output_type": "execute_result"
    }
   ],
   "source": [
    "caracter"
   ]
  },
  {
   "cell_type": "code",
   "execution_count": 157,
   "id": "single-playlist",
   "metadata": {},
   "outputs": [
    {
     "data": {
      "text/html": [
       "<div>\n",
       "<style scoped>\n",
       "    .dataframe tbody tr th:only-of-type {\n",
       "        vertical-align: middle;\n",
       "    }\n",
       "\n",
       "    .dataframe tbody tr th {\n",
       "        vertical-align: top;\n",
       "    }\n",
       "\n",
       "    .dataframe thead th {\n",
       "        text-align: right;\n",
       "    }\n",
       "</style>\n",
       "<table border=\"1\" class=\"dataframe\">\n",
       "  <thead>\n",
       "    <tr style=\"text-align: right;\">\n",
       "      <th></th>\n",
       "      <th>Unnamed: 0</th>\n",
       "      <th>IDADE</th>\n",
       "      <th>PESO</th>\n",
       "      <th>PODER</th>\n",
       "      <th>Coluna a partir de lista</th>\n",
       "      <th>PODER(Pós Arco)</th>\n",
       "      <th>ANO</th>\n",
       "      <th>COISA</th>\n",
       "    </tr>\n",
       "  </thead>\n",
       "  <tbody>\n",
       "    <tr>\n",
       "      <th>mean</th>\n",
       "      <td>1.5</td>\n",
       "      <td>279.75</td>\n",
       "      <td>55.305</td>\n",
       "      <td>1.5</td>\n",
       "      <td>1.5</td>\n",
       "      <td>3.75</td>\n",
       "      <td>2010.25</td>\n",
       "      <td>0.0</td>\n",
       "    </tr>\n",
       "    <tr>\n",
       "      <th>min</th>\n",
       "      <td>0.0</td>\n",
       "      <td>16.00</td>\n",
       "      <td>15.120</td>\n",
       "      <td>0.0</td>\n",
       "      <td>0.0</td>\n",
       "      <td>0.00</td>\n",
       "      <td>2008.00</td>\n",
       "      <td>0.0</td>\n",
       "    </tr>\n",
       "    <tr>\n",
       "      <th>max</th>\n",
       "      <td>3.0</td>\n",
       "      <td>1000.00</td>\n",
       "      <td>75.500</td>\n",
       "      <td>3.0</td>\n",
       "      <td>3.0</td>\n",
       "      <td>6.00</td>\n",
       "      <td>2012.00</td>\n",
       "      <td>0.0</td>\n",
       "    </tr>\n",
       "  </tbody>\n",
       "</table>\n",
       "</div>"
      ],
      "text/plain": [
       "      Unnamed: 0    IDADE    PESO  PODER  Coluna a partir de lista  \\\n",
       "mean         1.5   279.75  55.305    1.5                       1.5   \n",
       "min          0.0    16.00  15.120    0.0                       0.0   \n",
       "max          3.0  1000.00  75.500    3.0                       3.0   \n",
       "\n",
       "      PODER(Pós Arco)      ANO  COISA  \n",
       "mean             3.75  2010.25    0.0  \n",
       "min              0.00  2008.00    0.0  \n",
       "max              6.00  2012.00    0.0  "
      ]
     },
     "execution_count": 157,
     "metadata": {},
     "output_type": "execute_result"
    }
   ],
   "source": [
    "#Acessando rows por meio do loc\n",
    "caracter.loc[['mean', 'min', 'max']]"
   ]
  },
  {
   "cell_type": "markdown",
   "id": "built-congo",
   "metadata": {},
   "source": [
    "<br/>\n",
    "\n",
    "`mean`, `std`, `min`, etc: cada uma das estatísticas do `describe` podem ser computadas individualmente:"
   ]
  },
  {
   "cell_type": "code",
   "execution_count": 158,
   "id": "a53696a4",
   "metadata": {},
   "outputs": [
    {
     "data": {
      "text/plain": [
       "mean     279.75\n",
       "min       16.00\n",
       "max     1000.00\n",
       "Name: IDADE, dtype: float64"
      ]
     },
     "execution_count": 158,
     "metadata": {},
     "output_type": "execute_result"
    }
   ],
   "source": [
    "#acessando determinadsa linhas de uma coluna\n",
    "caracter.loc[['mean', 'min', 'max'], 'IDADE', ]"
   ]
  },
  {
   "cell_type": "code",
   "execution_count": 159,
   "id": "forty-function",
   "metadata": {},
   "outputs": [
    {
     "data": {
      "text/html": [
       "<div>\n",
       "<style scoped>\n",
       "    .dataframe tbody tr th:only-of-type {\n",
       "        vertical-align: middle;\n",
       "    }\n",
       "\n",
       "    .dataframe tbody tr th {\n",
       "        vertical-align: top;\n",
       "    }\n",
       "\n",
       "    .dataframe thead th {\n",
       "        text-align: right;\n",
       "    }\n",
       "</style>\n",
       "<table border=\"1\" class=\"dataframe\">\n",
       "  <thead>\n",
       "    <tr style=\"text-align: right;\">\n",
       "      <th></th>\n",
       "      <th>IDADE</th>\n",
       "      <th>PODER</th>\n",
       "    </tr>\n",
       "  </thead>\n",
       "  <tbody>\n",
       "    <tr>\n",
       "      <th>mean</th>\n",
       "      <td>279.75</td>\n",
       "      <td>1.5</td>\n",
       "    </tr>\n",
       "    <tr>\n",
       "      <th>min</th>\n",
       "      <td>16.00</td>\n",
       "      <td>0.0</td>\n",
       "    </tr>\n",
       "    <tr>\n",
       "      <th>max</th>\n",
       "      <td>1000.00</td>\n",
       "      <td>3.0</td>\n",
       "    </tr>\n",
       "  </tbody>\n",
       "</table>\n",
       "</div>"
      ],
      "text/plain": [
       "        IDADE  PODER\n",
       "mean   279.75    1.5\n",
       "min     16.00    0.0\n",
       "max   1000.00    3.0"
      ]
     },
     "execution_count": 159,
     "metadata": {},
     "output_type": "execute_result"
    }
   ],
   "source": [
    "#acessando determinadsa linhas de colunas\n",
    "caracter.loc[['mean', 'min', 'max'], ['IDADE', 'PODER']]"
   ]
  },
  {
   "cell_type": "markdown",
   "id": "employed-teach",
   "metadata": {},
   "source": [
    "#### Qual é o menor preço mínimo de revenda?"
   ]
  },
  {
   "cell_type": "code",
   "execution_count": 160,
   "id": "broken-genius",
   "metadata": {},
   "outputs": [
    {
     "data": {
      "text/plain": [
       "np.int64(0)"
      ]
     },
     "execution_count": 160,
     "metadata": {},
     "output_type": "execute_result"
    }
   ],
   "source": [
    "#Usando as nomeclaturas do discrible como funções \n",
    "persona_fim['PODER'].min()"
   ]
  },
  {
   "cell_type": "markdown",
   "id": "normal-claim",
   "metadata": {},
   "source": [
    "#### Qual é a média e desvio padrão dos preços mínimos de revenda?"
   ]
  },
  {
   "cell_type": "code",
   "execution_count": 161,
   "id": "successful-release",
   "metadata": {},
   "outputs": [
    {
     "data": {
      "text/html": [
       "<div>\n",
       "<style scoped>\n",
       "    .dataframe tbody tr th:only-of-type {\n",
       "        vertical-align: middle;\n",
       "    }\n",
       "\n",
       "    .dataframe tbody tr th {\n",
       "        vertical-align: top;\n",
       "    }\n",
       "\n",
       "    .dataframe thead th {\n",
       "        text-align: right;\n",
       "    }\n",
       "</style>\n",
       "<table border=\"1\" class=\"dataframe\">\n",
       "  <thead>\n",
       "    <tr style=\"text-align: right;\">\n",
       "      <th></th>\n",
       "      <th>Unnamed: 0</th>\n",
       "      <th>NOME</th>\n",
       "      <th>IDADE</th>\n",
       "      <th>PESO</th>\n",
       "      <th>ED_JEDI</th>\n",
       "      <th>PODER</th>\n",
       "      <th>Coluna a partir de lista</th>\n",
       "      <th>PODER(Pós Arco)</th>\n",
       "      <th>ANO</th>\n",
       "      <th>DATA</th>\n",
       "      <th>COISA</th>\n",
       "    </tr>\n",
       "  </thead>\n",
       "  <tbody>\n",
       "    <tr>\n",
       "      <th>0</th>\n",
       "      <td>0</td>\n",
       "      <td>Luke Skywalker</td>\n",
       "      <td>16</td>\n",
       "      <td>70.50</td>\n",
       "      <td>True</td>\n",
       "      <td>0</td>\n",
       "      <td>0</td>\n",
       "      <td>0</td>\n",
       "      <td>2008</td>\n",
       "      <td>2004-05-09</td>\n",
       "      <td>0.0</td>\n",
       "    </tr>\n",
       "    <tr>\n",
       "      <th>1</th>\n",
       "      <td>1</td>\n",
       "      <td>Yoda</td>\n",
       "      <td>1000</td>\n",
       "      <td>15.12</td>\n",
       "      <td>True</td>\n",
       "      <td>1</td>\n",
       "      <td>1</td>\n",
       "      <td>3</td>\n",
       "      <td>2010</td>\n",
       "      <td>2004-05-09</td>\n",
       "      <td>0.0</td>\n",
       "    </tr>\n",
       "    <tr>\n",
       "      <th>2</th>\n",
       "      <td>2</td>\n",
       "      <td>Palpatine</td>\n",
       "      <td>70</td>\n",
       "      <td>60.10</td>\n",
       "      <td>False</td>\n",
       "      <td>2</td>\n",
       "      <td>2</td>\n",
       "      <td>6</td>\n",
       "      <td>2012</td>\n",
       "      <td>2004-05-09</td>\n",
       "      <td>0.0</td>\n",
       "    </tr>\n",
       "    <tr>\n",
       "      <th>3</th>\n",
       "      <td>3</td>\n",
       "      <td>Luke Skywalker</td>\n",
       "      <td>33</td>\n",
       "      <td>75.50</td>\n",
       "      <td>True</td>\n",
       "      <td>3</td>\n",
       "      <td>3</td>\n",
       "      <td>6</td>\n",
       "      <td>2011</td>\n",
       "      <td>2004-05-09</td>\n",
       "      <td>0.0</td>\n",
       "    </tr>\n",
       "  </tbody>\n",
       "</table>\n",
       "</div>"
      ],
      "text/plain": [
       "   Unnamed: 0            NOME  IDADE   PESO  ED_JEDI  PODER  \\\n",
       "0           0  Luke Skywalker     16  70.50     True      0   \n",
       "1           1            Yoda   1000  15.12     True      1   \n",
       "2           2       Palpatine     70  60.10    False      2   \n",
       "3           3  Luke Skywalker     33  75.50     True      3   \n",
       "\n",
       "   Coluna a partir de lista  PODER(Pós Arco)   ANO        DATA  COISA  \n",
       "0                         0                0  2008  2004-05-09    0.0  \n",
       "1                         1                3  2010  2004-05-09    0.0  \n",
       "2                         2                6  2012  2004-05-09    0.0  \n",
       "3                         3                6  2011  2004-05-09    0.0  "
      ]
     },
     "execution_count": 161,
     "metadata": {},
     "output_type": "execute_result"
    }
   ],
   "source": [
    "persona_fim\n"
   ]
  },
  {
   "cell_type": "code",
   "execution_count": 162,
   "id": "1f671364",
   "metadata": {},
   "outputs": [
    {
     "name": "stdout",
     "output_type": "stream",
     "text": [
      "À media do poder é 1.5 + -1.29\n"
     ]
    }
   ],
   "source": [
    "mean = persona_fim['PODER'].mean()\n",
    "std = persona_fim['PODER'].std()\n",
    "\n",
    "print(f'À media do poder é {mean} + -{std:.2f}')"
   ]
  },
  {
   "cell_type": "markdown",
   "id": "qualified-family",
   "metadata": {},
   "source": [
    "#### Quais são os estados considerados?"
   ]
  },
  {
   "cell_type": "code",
   "execution_count": 163,
   "id": "exciting-assembly",
   "metadata": {},
   "outputs": [
    {
     "data": {
      "text/plain": [
       "0    Luke Skywalker\n",
       "1              Yoda\n",
       "2         Palpatine\n",
       "3    Luke Skywalker\n",
       "Name: NOME, dtype: object"
      ]
     },
     "execution_count": 163,
     "metadata": {},
     "output_type": "execute_result"
    }
   ],
   "source": [
    "#Dei print na coluna NOME\n",
    "persona_fim['NOME']"
   ]
  },
  {
   "cell_type": "code",
   "execution_count": 164,
   "id": "maritime-generic",
   "metadata": {},
   "outputs": [
    {
     "data": {
      "text/plain": [
       "array(['Luke Skywalker', 'Yoda', 'Palpatine'], dtype=object)"
      ]
     },
     "execution_count": 164,
     "metadata": {},
     "output_type": "execute_result"
    }
   ],
   "source": [
    "#Tirei as repetições da coluna NOME\n",
    "persona_fim['NOME'].unique()"
   ]
  },
  {
   "cell_type": "code",
   "execution_count": 165,
   "id": "6f7d183e",
   "metadata": {},
   "outputs": [
    {
     "data": {
      "text/plain": [
       "['Luke Skywalker', 'Palpatine', 'Yoda']"
      ]
     },
     "execution_count": 165,
     "metadata": {},
     "output_type": "execute_result"
    }
   ],
   "source": [
    "# função sorted usado par deixar organizado por vogal\n",
    "sorted(persona_fim['NOME'].unique())"
   ]
  },
  {
   "cell_type": "markdown",
   "id": "occasional-mistake",
   "metadata": {},
   "source": [
    "#### Quantos registros (aferições) cada estado possui?"
   ]
  },
  {
   "cell_type": "markdown",
   "id": "seven-atmosphere",
   "metadata": {},
   "source": [
    "`.value_counts()`:  Conta a frequência dos valores de uma dada variável (de preferência, _categórica_)."
   ]
  },
  {
   "cell_type": "code",
   "execution_count": 166,
   "id": "adaptive-thumb",
   "metadata": {},
   "outputs": [
    {
     "data": {
      "text/plain": [
       "0    Luke Skywalker\n",
       "1              Yoda\n",
       "2         Palpatine\n",
       "3    Luke Skywalker\n",
       "Name: NOME, dtype: object"
      ]
     },
     "execution_count": 166,
     "metadata": {},
     "output_type": "execute_result"
    }
   ],
   "source": [
    "persona_fim['NOME']"
   ]
  },
  {
   "cell_type": "code",
   "execution_count": 167,
   "id": "perfect-invasion",
   "metadata": {},
   "outputs": [
    {
     "data": {
      "text/plain": [
       "NOME\n",
       "Luke Skywalker    2\n",
       "Yoda              1\n",
       "Palpatine         1\n",
       "Name: count, dtype: int64"
      ]
     },
     "execution_count": 167,
     "metadata": {},
     "output_type": "execute_result"
    }
   ],
   "source": [
    "#Retorna em ordem decrecemte os regitros de todos na coluna nome\n",
    "#retorna em forma de siries\n",
    "persona_fim['NOME'].value_counts()"
   ]
  },
  {
   "cell_type": "code",
   "execution_count": 168,
   "id": "894627f6",
   "metadata": {},
   "outputs": [
    {
     "data": {
      "text/html": [
       "<div>\n",
       "<style scoped>\n",
       "    .dataframe tbody tr th:only-of-type {\n",
       "        vertical-align: middle;\n",
       "    }\n",
       "\n",
       "    .dataframe tbody tr th {\n",
       "        vertical-align: top;\n",
       "    }\n",
       "\n",
       "    .dataframe thead th {\n",
       "        text-align: right;\n",
       "    }\n",
       "</style>\n",
       "<table border=\"1\" class=\"dataframe\">\n",
       "  <thead>\n",
       "    <tr style=\"text-align: right;\">\n",
       "      <th></th>\n",
       "      <th>count</th>\n",
       "    </tr>\n",
       "    <tr>\n",
       "      <th>NOME</th>\n",
       "      <th></th>\n",
       "    </tr>\n",
       "  </thead>\n",
       "  <tbody>\n",
       "    <tr>\n",
       "      <th>Luke Skywalker</th>\n",
       "      <td>2</td>\n",
       "    </tr>\n",
       "    <tr>\n",
       "      <th>Yoda</th>\n",
       "      <td>1</td>\n",
       "    </tr>\n",
       "    <tr>\n",
       "      <th>Palpatine</th>\n",
       "      <td>1</td>\n",
       "    </tr>\n",
       "  </tbody>\n",
       "</table>\n",
       "</div>"
      ],
      "text/plain": [
       "                count\n",
       "NOME                 \n",
       "Luke Skywalker      2\n",
       "Yoda                1\n",
       "Palpatine           1"
      ]
     },
     "execution_count": 168,
     "metadata": {},
     "output_type": "execute_result"
    }
   ],
   "source": [
    "#A função.to_frame converte uma siries em um dataframe\n",
    "persona_fim['NOME'].value_counts().to_frame()\n"
   ]
  },
  {
   "cell_type": "code",
   "execution_count": 169,
   "id": "518fb38b",
   "metadata": {},
   "outputs": [
    {
     "data": {
      "text/html": [
       "<div>\n",
       "<style scoped>\n",
       "    .dataframe tbody tr th:only-of-type {\n",
       "        vertical-align: middle;\n",
       "    }\n",
       "\n",
       "    .dataframe tbody tr th {\n",
       "        vertical-align: top;\n",
       "    }\n",
       "\n",
       "    .dataframe thead th {\n",
       "        text-align: right;\n",
       "    }\n",
       "</style>\n",
       "<table border=\"1\" class=\"dataframe\">\n",
       "  <thead>\n",
       "    <tr style=\"text-align: right;\">\n",
       "      <th></th>\n",
       "      <th>count</th>\n",
       "    </tr>\n",
       "    <tr>\n",
       "      <th>NOME</th>\n",
       "      <th></th>\n",
       "    </tr>\n",
       "  </thead>\n",
       "  <tbody>\n",
       "    <tr>\n",
       "      <th>Luke Skywalker</th>\n",
       "      <td>2</td>\n",
       "    </tr>\n",
       "    <tr>\n",
       "      <th>Yoda</th>\n",
       "      <td>1</td>\n",
       "    </tr>\n",
       "    <tr>\n",
       "      <th>Palpatine</th>\n",
       "      <td>1</td>\n",
       "    </tr>\n",
       "  </tbody>\n",
       "</table>\n",
       "</div>"
      ],
      "text/plain": [
       "                count\n",
       "NOME                 \n",
       "Luke Skywalker      2\n",
       "Yoda                1\n",
       "Palpatine           1"
      ]
     },
     "execution_count": 169,
     "metadata": {},
     "output_type": "execute_result"
    }
   ],
   "source": [
    "#Coloquei toda a operaçao em uma variavel\n",
    "persona_test = persona_fim['NOME'].value_counts().to_frame()\n",
    "persona_test"
   ]
  },
  {
   "cell_type": "code",
   "execution_count": 170,
   "id": "d4bc2c33",
   "metadata": {},
   "outputs": [
    {
     "data": {
      "text/html": [
       "<div>\n",
       "<style scoped>\n",
       "    .dataframe tbody tr th:only-of-type {\n",
       "        vertical-align: middle;\n",
       "    }\n",
       "\n",
       "    .dataframe tbody tr th {\n",
       "        vertical-align: top;\n",
       "    }\n",
       "\n",
       "    .dataframe thead th {\n",
       "        text-align: right;\n",
       "    }\n",
       "</style>\n",
       "<table border=\"1\" class=\"dataframe\">\n",
       "  <thead>\n",
       "    <tr style=\"text-align: right;\">\n",
       "      <th></th>\n",
       "      <th>FREQUENCIA</th>\n",
       "    </tr>\n",
       "    <tr>\n",
       "      <th>NOME</th>\n",
       "      <th></th>\n",
       "    </tr>\n",
       "  </thead>\n",
       "  <tbody>\n",
       "    <tr>\n",
       "      <th>Luke Skywalker</th>\n",
       "      <td>2</td>\n",
       "    </tr>\n",
       "    <tr>\n",
       "      <th>Yoda</th>\n",
       "      <td>1</td>\n",
       "    </tr>\n",
       "    <tr>\n",
       "      <th>Palpatine</th>\n",
       "      <td>1</td>\n",
       "    </tr>\n",
       "  </tbody>\n",
       "</table>\n",
       "</div>"
      ],
      "text/plain": [
       "                FREQUENCIA\n",
       "NOME                      \n",
       "Luke Skywalker           2\n",
       "Yoda                     1\n",
       "Palpatine                1"
      ]
     },
     "execution_count": 170,
     "metadata": {},
     "output_type": "execute_result"
    }
   ],
   "source": [
    "#Fiz uma operação de renomear count por FREQUENCIA\n",
    "persona_test.rename(columns={'count': 'FREQUENCIA'})"
   ]
  },
  {
   "cell_type": "markdown",
   "id": "ongoing-packaging",
   "metadata": {},
   "source": [
    "<h2>4. Executando funções para cada item de um DataFrame ou Series</h2>\n",
    "<hr/>"
   ]
  },
  {
   "cell_type": "markdown",
   "id": "necessary-start",
   "metadata": {},
   "source": [
    "Uma alternativa ao `for-loop` que vimos anteriormente e que é _lento_, é usarmos _funções próprias do pandas_ que **aplicam/mapeiam uma dada função a todos os elementos de um DataFrame ou Series**, retornando novos elementos \"transformados\".\n"
   ]
  },
  {
   "cell_type": "markdown",
   "id": "dutch-yugoslavia",
   "metadata": {},
   "source": [
    "<img src='./imagens/apply_map_applymap.png' width=300/>\n",
    "\n",
    "\n",
    "Fonte: https://towardsdatascience.com/introduction-to-pandas-apply-applymap-and-map-5d3e044e93ff"
   ]
  },
  {
   "cell_type": "code",
   "execution_count": 171,
   "id": "comparative-mexican",
   "metadata": {},
   "outputs": [],
   "source": [
    "df = pd.DataFrame({ 'A': [1, 2, 3, 4], \n",
    "                    'B': [10, 20, 30, 40],\n",
    "                    'C': [100, 200, 300, 400]}, \n",
    "                     index=['Linha 1', 'Linha 2', 'Linha 3', 'Linha 4'])"
   ]
  },
  {
   "cell_type": "code",
   "execution_count": 172,
   "id": "spiritual-boutique",
   "metadata": {},
   "outputs": [
    {
     "data": {
      "text/html": [
       "<div>\n",
       "<style scoped>\n",
       "    .dataframe tbody tr th:only-of-type {\n",
       "        vertical-align: middle;\n",
       "    }\n",
       "\n",
       "    .dataframe tbody tr th {\n",
       "        vertical-align: top;\n",
       "    }\n",
       "\n",
       "    .dataframe thead th {\n",
       "        text-align: right;\n",
       "    }\n",
       "</style>\n",
       "<table border=\"1\" class=\"dataframe\">\n",
       "  <thead>\n",
       "    <tr style=\"text-align: right;\">\n",
       "      <th></th>\n",
       "      <th>A</th>\n",
       "      <th>B</th>\n",
       "      <th>C</th>\n",
       "    </tr>\n",
       "  </thead>\n",
       "  <tbody>\n",
       "    <tr>\n",
       "      <th>Linha 1</th>\n",
       "      <td>1</td>\n",
       "      <td>10</td>\n",
       "      <td>100</td>\n",
       "    </tr>\n",
       "    <tr>\n",
       "      <th>Linha 2</th>\n",
       "      <td>2</td>\n",
       "      <td>20</td>\n",
       "      <td>200</td>\n",
       "    </tr>\n",
       "    <tr>\n",
       "      <th>Linha 3</th>\n",
       "      <td>3</td>\n",
       "      <td>30</td>\n",
       "      <td>300</td>\n",
       "    </tr>\n",
       "    <tr>\n",
       "      <th>Linha 4</th>\n",
       "      <td>4</td>\n",
       "      <td>40</td>\n",
       "      <td>400</td>\n",
       "    </tr>\n",
       "  </tbody>\n",
       "</table>\n",
       "</div>"
      ],
      "text/plain": [
       "         A   B    C\n",
       "Linha 1  1  10  100\n",
       "Linha 2  2  20  200\n",
       "Linha 3  3  30  300\n",
       "Linha 4  4  40  400"
      ]
     },
     "execution_count": 172,
     "metadata": {},
     "output_type": "execute_result"
    }
   ],
   "source": [
    "df"
   ]
  },
  {
   "cell_type": "markdown",
   "id": "absent-salmon",
   "metadata": {},
   "source": [
    "`apply()`: usado para aplicar uma função ao longo de um eixo de um DataFrame ou em valores de uma Series."
   ]
  },
  {
   "cell_type": "markdown",
   "id": "authorized-documentation",
   "metadata": {},
   "source": [
    "<img src='./imagens/pandas_axis.jpg' width=500/>\n",
    "\n",
    "Fonte: https://www.allthesnippets.com/browse/pandas/df_axis.html"
   ]
  },
  {
   "cell_type": "code",
   "execution_count": 173,
   "id": "chronic-behavior",
   "metadata": {},
   "outputs": [],
   "source": [
    "#retorna a todas as somas de uma determinada linha\n",
    "def nossa_soma(siries):\n",
    "    return siries.sum()\n",
    "    "
   ]
  },
  {
   "cell_type": "code",
   "execution_count": 174,
   "id": "dangerous-adult",
   "metadata": {},
   "outputs": [
    {
     "data": {
      "text/html": [
       "<div>\n",
       "<style scoped>\n",
       "    .dataframe tbody tr th:only-of-type {\n",
       "        vertical-align: middle;\n",
       "    }\n",
       "\n",
       "    .dataframe tbody tr th {\n",
       "        vertical-align: top;\n",
       "    }\n",
       "\n",
       "    .dataframe thead th {\n",
       "        text-align: right;\n",
       "    }\n",
       "</style>\n",
       "<table border=\"1\" class=\"dataframe\">\n",
       "  <thead>\n",
       "    <tr style=\"text-align: right;\">\n",
       "      <th></th>\n",
       "      <th>A</th>\n",
       "      <th>B</th>\n",
       "      <th>C</th>\n",
       "      <th>soma de (a, b, c)</th>\n",
       "    </tr>\n",
       "  </thead>\n",
       "  <tbody>\n",
       "    <tr>\n",
       "      <th>Linha 1</th>\n",
       "      <td>1</td>\n",
       "      <td>10</td>\n",
       "      <td>100</td>\n",
       "      <td>111</td>\n",
       "    </tr>\n",
       "    <tr>\n",
       "      <th>Linha 2</th>\n",
       "      <td>2</td>\n",
       "      <td>20</td>\n",
       "      <td>200</td>\n",
       "      <td>222</td>\n",
       "    </tr>\n",
       "    <tr>\n",
       "      <th>Linha 3</th>\n",
       "      <td>3</td>\n",
       "      <td>30</td>\n",
       "      <td>300</td>\n",
       "      <td>333</td>\n",
       "    </tr>\n",
       "    <tr>\n",
       "      <th>Linha 4</th>\n",
       "      <td>4</td>\n",
       "      <td>40</td>\n",
       "      <td>400</td>\n",
       "      <td>444</td>\n",
       "    </tr>\n",
       "  </tbody>\n",
       "</table>\n",
       "</div>"
      ],
      "text/plain": [
       "         A   B    C  soma de (a, b, c)\n",
       "Linha 1  1  10  100                111\n",
       "Linha 2  2  20  200                222\n",
       "Linha 3  3  30  300                333\n",
       "Linha 4  4  40  400                444"
      ]
     },
     "execution_count": 174,
     "metadata": {},
     "output_type": "execute_result"
    }
   ],
   "source": [
    "#apply é usado para aplicar uma função ao longo de um eixo\n",
    "#axis=1 é usado para aplicar as fução ao logo das linhas\n",
    "#axis=0 é usado para aplicar as funções ao longo das colunas\n",
    "df['soma de (a, b, c)'] = df.apply(nossa_soma, axis=1)\n",
    "df"
   ]
  },
  {
   "cell_type": "code",
   "execution_count": 175,
   "id": "economic-conviction",
   "metadata": {},
   "outputs": [
    {
     "data": {
      "text/html": [
       "<div>\n",
       "<style scoped>\n",
       "    .dataframe tbody tr th:only-of-type {\n",
       "        vertical-align: middle;\n",
       "    }\n",
       "\n",
       "    .dataframe tbody tr th {\n",
       "        vertical-align: top;\n",
       "    }\n",
       "\n",
       "    .dataframe thead th {\n",
       "        text-align: right;\n",
       "    }\n",
       "</style>\n",
       "<table border=\"1\" class=\"dataframe\">\n",
       "  <thead>\n",
       "    <tr style=\"text-align: right;\">\n",
       "      <th></th>\n",
       "      <th>A</th>\n",
       "      <th>B</th>\n",
       "      <th>C</th>\n",
       "      <th>soma de (a, b, c)</th>\n",
       "    </tr>\n",
       "  </thead>\n",
       "  <tbody>\n",
       "    <tr>\n",
       "      <th>Linha 1</th>\n",
       "      <td>1</td>\n",
       "      <td>10</td>\n",
       "      <td>100</td>\n",
       "      <td>111</td>\n",
       "    </tr>\n",
       "    <tr>\n",
       "      <th>Linha 2</th>\n",
       "      <td>2</td>\n",
       "      <td>20</td>\n",
       "      <td>200</td>\n",
       "      <td>222</td>\n",
       "    </tr>\n",
       "    <tr>\n",
       "      <th>Linha 3</th>\n",
       "      <td>3</td>\n",
       "      <td>30</td>\n",
       "      <td>300</td>\n",
       "      <td>333</td>\n",
       "    </tr>\n",
       "    <tr>\n",
       "      <th>Linha 4</th>\n",
       "      <td>4</td>\n",
       "      <td>40</td>\n",
       "      <td>400</td>\n",
       "      <td>444</td>\n",
       "    </tr>\n",
       "    <tr>\n",
       "      <th>LINHA 5</th>\n",
       "      <td>10</td>\n",
       "      <td>100</td>\n",
       "      <td>1000</td>\n",
       "      <td>1110</td>\n",
       "    </tr>\n",
       "  </tbody>\n",
       "</table>\n",
       "</div>"
      ],
      "text/plain": [
       "          A    B     C  soma de (a, b, c)\n",
       "Linha 1   1   10   100                111\n",
       "Linha 2   2   20   200                222\n",
       "Linha 3   3   30   300                333\n",
       "Linha 4   4   40   400                444\n",
       "LINHA 5  10  100  1000               1110"
      ]
     },
     "execution_count": 175,
     "metadata": {},
     "output_type": "execute_result"
    }
   ],
   "source": [
    "df.loc['LINHA 5'] = df.apply(nossa_soma, axis=0)\n",
    "df"
   ]
  },
  {
   "cell_type": "markdown",
   "id": "psychological-acrobat",
   "metadata": {},
   "source": [
    "<img src='./imagens/apply_axis_0.png' width=250/>"
   ]
  },
  {
   "cell_type": "markdown",
   "id": "pursuant-metallic",
   "metadata": {},
   "source": [
    "##### Usando `lambda` functions"
   ]
  },
  {
   "cell_type": "code",
   "execution_count": 176,
   "id": "composed-summit",
   "metadata": {},
   "outputs": [
    {
     "data": {
      "text/html": [
       "<div>\n",
       "<style scoped>\n",
       "    .dataframe tbody tr th:only-of-type {\n",
       "        vertical-align: middle;\n",
       "    }\n",
       "\n",
       "    .dataframe tbody tr th {\n",
       "        vertical-align: top;\n",
       "    }\n",
       "\n",
       "    .dataframe thead th {\n",
       "        text-align: right;\n",
       "    }\n",
       "</style>\n",
       "<table border=\"1\" class=\"dataframe\">\n",
       "  <thead>\n",
       "    <tr style=\"text-align: right;\">\n",
       "      <th></th>\n",
       "      <th>A</th>\n",
       "      <th>B</th>\n",
       "      <th>C</th>\n",
       "      <th>soma de (a, b, c)</th>\n",
       "      <th>MEDIA(A,B,C)</th>\n",
       "    </tr>\n",
       "  </thead>\n",
       "  <tbody>\n",
       "    <tr>\n",
       "      <th>Linha 1</th>\n",
       "      <td>1</td>\n",
       "      <td>10</td>\n",
       "      <td>100</td>\n",
       "      <td>111</td>\n",
       "      <td>37.0</td>\n",
       "    </tr>\n",
       "    <tr>\n",
       "      <th>Linha 2</th>\n",
       "      <td>2</td>\n",
       "      <td>20</td>\n",
       "      <td>200</td>\n",
       "      <td>222</td>\n",
       "      <td>74.0</td>\n",
       "    </tr>\n",
       "    <tr>\n",
       "      <th>Linha 3</th>\n",
       "      <td>3</td>\n",
       "      <td>30</td>\n",
       "      <td>300</td>\n",
       "      <td>333</td>\n",
       "      <td>111.0</td>\n",
       "    </tr>\n",
       "    <tr>\n",
       "      <th>Linha 4</th>\n",
       "      <td>4</td>\n",
       "      <td>40</td>\n",
       "      <td>400</td>\n",
       "      <td>444</td>\n",
       "      <td>148.0</td>\n",
       "    </tr>\n",
       "    <tr>\n",
       "      <th>LINHA 5</th>\n",
       "      <td>10</td>\n",
       "      <td>100</td>\n",
       "      <td>1000</td>\n",
       "      <td>1110</td>\n",
       "      <td>370.0</td>\n",
       "    </tr>\n",
       "  </tbody>\n",
       "</table>\n",
       "</div>"
      ],
      "text/plain": [
       "          A    B     C  soma de (a, b, c)  MEDIA(A,B,C)\n",
       "Linha 1   1   10   100                111          37.0\n",
       "Linha 2   2   20   200                222          74.0\n",
       "Linha 3   3   30   300                333         111.0\n",
       "Linha 4   4   40   400                444         148.0\n",
       "LINHA 5  10  100  1000               1110         370.0"
      ]
     },
     "execution_count": 176,
     "metadata": {},
     "output_type": "execute_result"
    }
   ],
   "source": [
    "#lambda é usada para criar funções anônimas, que seram usadas uma unica vez\n",
    "df['MEDIA(A,B,C)'] =df[['A', 'B', 'C']].apply(lambda sires : sires.mean(), axis=1)\n",
    "df"
   ]
  },
  {
   "cell_type": "code",
   "execution_count": 177,
   "id": "modified-timer",
   "metadata": {},
   "outputs": [
    {
     "data": {
      "text/html": [
       "<div>\n",
       "<style scoped>\n",
       "    .dataframe tbody tr th:only-of-type {\n",
       "        vertical-align: middle;\n",
       "    }\n",
       "\n",
       "    .dataframe tbody tr th {\n",
       "        vertical-align: top;\n",
       "    }\n",
       "\n",
       "    .dataframe thead th {\n",
       "        text-align: right;\n",
       "    }\n",
       "</style>\n",
       "<table border=\"1\" class=\"dataframe\">\n",
       "  <thead>\n",
       "    <tr style=\"text-align: right;\">\n",
       "      <th></th>\n",
       "      <th>A</th>\n",
       "      <th>B</th>\n",
       "      <th>C</th>\n",
       "      <th>soma de (a, b, c)</th>\n",
       "      <th>MEDIA(A,B,C)</th>\n",
       "      <th>C*2</th>\n",
       "    </tr>\n",
       "  </thead>\n",
       "  <tbody>\n",
       "    <tr>\n",
       "      <th>Linha 1</th>\n",
       "      <td>1</td>\n",
       "      <td>10</td>\n",
       "      <td>100</td>\n",
       "      <td>111</td>\n",
       "      <td>37.0</td>\n",
       "      <td>200</td>\n",
       "    </tr>\n",
       "    <tr>\n",
       "      <th>Linha 2</th>\n",
       "      <td>2</td>\n",
       "      <td>20</td>\n",
       "      <td>200</td>\n",
       "      <td>222</td>\n",
       "      <td>74.0</td>\n",
       "      <td>400</td>\n",
       "    </tr>\n",
       "    <tr>\n",
       "      <th>Linha 3</th>\n",
       "      <td>3</td>\n",
       "      <td>30</td>\n",
       "      <td>300</td>\n",
       "      <td>333</td>\n",
       "      <td>111.0</td>\n",
       "      <td>600</td>\n",
       "    </tr>\n",
       "    <tr>\n",
       "      <th>Linha 4</th>\n",
       "      <td>4</td>\n",
       "      <td>40</td>\n",
       "      <td>400</td>\n",
       "      <td>444</td>\n",
       "      <td>148.0</td>\n",
       "      <td>800</td>\n",
       "    </tr>\n",
       "    <tr>\n",
       "      <th>LINHA 5</th>\n",
       "      <td>10</td>\n",
       "      <td>100</td>\n",
       "      <td>1000</td>\n",
       "      <td>1110</td>\n",
       "      <td>370.0</td>\n",
       "      <td>2000</td>\n",
       "    </tr>\n",
       "  </tbody>\n",
       "</table>\n",
       "</div>"
      ],
      "text/plain": [
       "          A    B     C  soma de (a, b, c)  MEDIA(A,B,C)   C*2\n",
       "Linha 1   1   10   100                111          37.0   200\n",
       "Linha 2   2   20   200                222          74.0   400\n",
       "Linha 3   3   30   300                333         111.0   600\n",
       "Linha 4   4   40   400                444         148.0   800\n",
       "LINHA 5  10  100  1000               1110         370.0  2000"
      ]
     },
     "execution_count": 177,
     "metadata": {},
     "output_type": "execute_result"
    }
   ],
   "source": [
    "#Usando esse método para criar funções\n",
    "df['C*2'] = df['C'] .apply(lambda x : x * 2)\n",
    "df"
   ]
  },
  {
   "cell_type": "markdown",
   "id": "expensive-thunder",
   "metadata": {},
   "source": [
    "<img src='./imagens/apply_axis_1_mean.png' width=350/>"
   ]
  },
  {
   "cell_type": "code",
   "execution_count": 178,
   "id": "included-realtor",
   "metadata": {},
   "outputs": [
    {
     "data": {
      "text/html": [
       "<div>\n",
       "<style scoped>\n",
       "    .dataframe tbody tr th:only-of-type {\n",
       "        vertical-align: middle;\n",
       "    }\n",
       "\n",
       "    .dataframe tbody tr th {\n",
       "        vertical-align: top;\n",
       "    }\n",
       "\n",
       "    .dataframe thead th {\n",
       "        text-align: right;\n",
       "    }\n",
       "</style>\n",
       "<table border=\"1\" class=\"dataframe\">\n",
       "  <thead>\n",
       "    <tr style=\"text-align: right;\">\n",
       "      <th></th>\n",
       "      <th>A</th>\n",
       "      <th>B</th>\n",
       "      <th>C</th>\n",
       "      <th>soma de (a, b, c)</th>\n",
       "      <th>MEDIA(A,B,C)</th>\n",
       "      <th>C*2</th>\n",
       "      <th>A*2</th>\n",
       "    </tr>\n",
       "  </thead>\n",
       "  <tbody>\n",
       "    <tr>\n",
       "      <th>Linha 1</th>\n",
       "      <td>1</td>\n",
       "      <td>10</td>\n",
       "      <td>100</td>\n",
       "      <td>111</td>\n",
       "      <td>37.0</td>\n",
       "      <td>200</td>\n",
       "      <td>2</td>\n",
       "    </tr>\n",
       "    <tr>\n",
       "      <th>Linha 2</th>\n",
       "      <td>2</td>\n",
       "      <td>20</td>\n",
       "      <td>200</td>\n",
       "      <td>222</td>\n",
       "      <td>74.0</td>\n",
       "      <td>400</td>\n",
       "      <td>4</td>\n",
       "    </tr>\n",
       "    <tr>\n",
       "      <th>Linha 3</th>\n",
       "      <td>3</td>\n",
       "      <td>30</td>\n",
       "      <td>300</td>\n",
       "      <td>333</td>\n",
       "      <td>111.0</td>\n",
       "      <td>600</td>\n",
       "      <td>6</td>\n",
       "    </tr>\n",
       "    <tr>\n",
       "      <th>Linha 4</th>\n",
       "      <td>4</td>\n",
       "      <td>40</td>\n",
       "      <td>400</td>\n",
       "      <td>444</td>\n",
       "      <td>148.0</td>\n",
       "      <td>800</td>\n",
       "      <td>8</td>\n",
       "    </tr>\n",
       "    <tr>\n",
       "      <th>LINHA 5</th>\n",
       "      <td>10</td>\n",
       "      <td>100</td>\n",
       "      <td>1000</td>\n",
       "      <td>1110</td>\n",
       "      <td>370.0</td>\n",
       "      <td>2000</td>\n",
       "      <td>20</td>\n",
       "    </tr>\n",
       "  </tbody>\n",
       "</table>\n",
       "</div>"
      ],
      "text/plain": [
       "          A    B     C  soma de (a, b, c)  MEDIA(A,B,C)   C*2  A*2\n",
       "Linha 1   1   10   100                111          37.0   200    2\n",
       "Linha 2   2   20   200                222          74.0   400    4\n",
       "Linha 3   3   30   300                333         111.0   600    6\n",
       "Linha 4   4   40   400                444         148.0   800    8\n",
       "LINHA 5  10  100  1000               1110         370.0  2000   20"
      ]
     },
     "execution_count": 178,
     "metadata": {},
     "output_type": "execute_result"
    }
   ],
   "source": [
    "#utra forma de fazer isso mais simples\n",
    "\n",
    "df['A*2'] = df['A'] * 2\n",
    "df"
   ]
  },
  {
   "cell_type": "markdown",
   "id": "respective-broadcasting",
   "metadata": {},
   "source": [
    "<br/>\n",
    "\n",
    "`applymap()`: usado para aplicar uma função para **cada elemento** (_element-wise_) de um DataFrame."
   ]
  },
  {
   "cell_type": "code",
   "execution_count": 179,
   "id": "hourly-affairs",
   "metadata": {},
   "outputs": [
    {
     "data": {
      "text/html": [
       "<div>\n",
       "<style scoped>\n",
       "    .dataframe tbody tr th:only-of-type {\n",
       "        vertical-align: middle;\n",
       "    }\n",
       "\n",
       "    .dataframe tbody tr th {\n",
       "        vertical-align: top;\n",
       "    }\n",
       "\n",
       "    .dataframe thead th {\n",
       "        text-align: right;\n",
       "    }\n",
       "</style>\n",
       "<table border=\"1\" class=\"dataframe\">\n",
       "  <thead>\n",
       "    <tr style=\"text-align: right;\">\n",
       "      <th></th>\n",
       "      <th>A</th>\n",
       "      <th>B</th>\n",
       "      <th>C</th>\n",
       "    </tr>\n",
       "  </thead>\n",
       "  <tbody>\n",
       "    <tr>\n",
       "      <th>Linha 1</th>\n",
       "      <td>1</td>\n",
       "      <td>10</td>\n",
       "      <td>100</td>\n",
       "    </tr>\n",
       "    <tr>\n",
       "      <th>Linha 2</th>\n",
       "      <td>2</td>\n",
       "      <td>20</td>\n",
       "      <td>200</td>\n",
       "    </tr>\n",
       "    <tr>\n",
       "      <th>Linha 3</th>\n",
       "      <td>3</td>\n",
       "      <td>30</td>\n",
       "      <td>300</td>\n",
       "    </tr>\n",
       "    <tr>\n",
       "      <th>Linha 4</th>\n",
       "      <td>4</td>\n",
       "      <td>40</td>\n",
       "      <td>400</td>\n",
       "    </tr>\n",
       "  </tbody>\n",
       "</table>\n",
       "</div>"
      ],
      "text/plain": [
       "         A   B    C\n",
       "Linha 1  1  10  100\n",
       "Linha 2  2  20  200\n",
       "Linha 3  3  30  300\n",
       "Linha 4  4  40  400"
      ]
     },
     "execution_count": 179,
     "metadata": {},
     "output_type": "execute_result"
    }
   ],
   "source": [
    "df = pd.DataFrame({ 'A': [1, 2, 3, 4], \n",
    "                    'B': [10, 20, 30, 40],\n",
    "                    'C': [100, 200, 300, 400]}, \n",
    "                     index=['Linha 1', 'Linha 2', 'Linha 3', 'Linha 4'])\n",
    "df"
   ]
  },
  {
   "cell_type": "code",
   "execution_count": 180,
   "id": "strong-subcommittee",
   "metadata": {},
   "outputs": [
    {
     "name": "stderr",
     "output_type": "stream",
     "text": [
      "C:\\Users\\Jair\\AppData\\Local\\Temp\\ipykernel_14664\\1501728136.py:3: FutureWarning: DataFrame.applymap has been deprecated. Use DataFrame.map instead.\n",
      "  df.applymap(lambda x: x**2)\n"
     ]
    },
    {
     "data": {
      "text/html": [
       "<div>\n",
       "<style scoped>\n",
       "    .dataframe tbody tr th:only-of-type {\n",
       "        vertical-align: middle;\n",
       "    }\n",
       "\n",
       "    .dataframe tbody tr th {\n",
       "        vertical-align: top;\n",
       "    }\n",
       "\n",
       "    .dataframe thead th {\n",
       "        text-align: right;\n",
       "    }\n",
       "</style>\n",
       "<table border=\"1\" class=\"dataframe\">\n",
       "  <thead>\n",
       "    <tr style=\"text-align: right;\">\n",
       "      <th></th>\n",
       "      <th>A</th>\n",
       "      <th>B</th>\n",
       "      <th>C</th>\n",
       "    </tr>\n",
       "  </thead>\n",
       "  <tbody>\n",
       "    <tr>\n",
       "      <th>Linha 1</th>\n",
       "      <td>1</td>\n",
       "      <td>100</td>\n",
       "      <td>10000</td>\n",
       "    </tr>\n",
       "    <tr>\n",
       "      <th>Linha 2</th>\n",
       "      <td>4</td>\n",
       "      <td>400</td>\n",
       "      <td>40000</td>\n",
       "    </tr>\n",
       "    <tr>\n",
       "      <th>Linha 3</th>\n",
       "      <td>9</td>\n",
       "      <td>900</td>\n",
       "      <td>90000</td>\n",
       "    </tr>\n",
       "    <tr>\n",
       "      <th>Linha 4</th>\n",
       "      <td>16</td>\n",
       "      <td>1600</td>\n",
       "      <td>160000</td>\n",
       "    </tr>\n",
       "  </tbody>\n",
       "</table>\n",
       "</div>"
      ],
      "text/plain": [
       "          A     B       C\n",
       "Linha 1   1   100   10000\n",
       "Linha 2   4   400   40000\n",
       "Linha 3   9   900   90000\n",
       "Linha 4  16  1600  160000"
      ]
     },
     "execution_count": 180,
     "metadata": {},
     "output_type": "execute_result"
    }
   ],
   "source": [
    "#Retorna outro dataframe com valores ao quadrado\n",
    "#Retorna uma copia do dataframe original\n",
    "df.applymap(lambda x: x**2)\n"
   ]
  },
  {
   "cell_type": "markdown",
   "id": "close-female",
   "metadata": {},
   "source": [
    "<br/>\n",
    "\n",
    "`map()`: usado para aplicar uma função para **cada elemento** (_element-wise_) de uma _Series_."
   ]
  },
  {
   "cell_type": "code",
   "execution_count": 181,
   "id": "unknown-mining",
   "metadata": {},
   "outputs": [
    {
     "data": {
      "text/plain": [
       "0       ana\n",
       "1      joao\n",
       "2    carlos\n",
       "dtype: object"
      ]
     },
     "execution_count": 181,
     "metadata": {},
     "output_type": "execute_result"
    }
   ],
   "source": [
    "nome = pd.Series(['ana', 'joao', 'carlos'])\n",
    "nome"
   ]
  },
  {
   "cell_type": "code",
   "execution_count": 182,
   "id": "exceptional-financing",
   "metadata": {},
   "outputs": [
    {
     "data": {
      "text/plain": [
       "0       ANA\n",
       "1      JOAO\n",
       "2    CARLOS\n",
       "dtype: object"
      ]
     },
     "execution_count": 182,
     "metadata": {},
     "output_type": "execute_result"
    }
   ],
   "source": [
    "#Map usado para aplicar uma função em elementos de siries\n",
    "#POdendo ser usado assim nome.map(lambda x: x.upper()\n",
    "\n",
    "\n",
    "nome.map(lambda siries : siries.upper())"
   ]
  },
  {
   "cell_type": "code",
   "execution_count": 183,
   "id": "velvet-moment",
   "metadata": {},
   "outputs": [
    {
     "data": {
      "text/plain": [
       "0       ANA\n",
       "1      JOAO\n",
       "2    CARLOS\n",
       "dtype: object"
      ]
     },
     "execution_count": 183,
     "metadata": {},
     "output_type": "execute_result"
    }
   ],
   "source": [
    "#Pandas já fornece esse suporte\n",
    "nome.str.upper()"
   ]
  },
  {
   "cell_type": "markdown",
   "id": "increasing-intersection",
   "metadata": {},
   "source": [
    "<h2>5. Agrupamento</h2>\n",
    "<hr/>"
   ]
  },
  {
   "cell_type": "markdown",
   "id": "played-windsor",
   "metadata": {},
   "source": [
    "`groupby`: Usado para criar **grupo de elementos** (e.x., baseado nos valores de um atributo). <br/>\n",
    "**Funções** podem então ser aplicadas para os _elementos de cada grupo_, de modo que os **resultados de cada grupo são combinados**."
   ]
  },
  {
   "cell_type": "code",
   "execution_count": 184,
   "id": "expensive-field",
   "metadata": {},
   "outputs": [],
   "source": [
    "grupos = persona_fim.groupby('NOME')"
   ]
  },
  {
   "cell_type": "code",
   "execution_count": 185,
   "id": "standard-finish",
   "metadata": {},
   "outputs": [
    {
     "data": {
      "text/plain": [
       "{'Luke Skywalker': [0, 3], 'Palpatine': [2], 'Yoda': [1]}"
      ]
     },
     "execution_count": 185,
     "metadata": {},
     "output_type": "execute_result"
    }
   ],
   "source": [
    "#Pode usar para achar os indices\n",
    "grupos.groups"
   ]
  },
  {
   "cell_type": "code",
   "execution_count": 186,
   "id": "failing-blackjack",
   "metadata": {},
   "outputs": [
    {
     "data": {
      "text/plain": [
       "{'Luke Skywalker': array([0, 3]), 'Palpatine': array([2]), 'Yoda': array([1])}"
      ]
     },
     "execution_count": 186,
     "metadata": {},
     "output_type": "execute_result"
    }
   ],
   "source": [
    "#Pode usar para achar os indices\n",
    "\n",
    "grupos.indices"
   ]
  },
  {
   "cell_type": "code",
   "execution_count": 187,
   "id": "filled-encoding",
   "metadata": {},
   "outputs": [
    {
     "data": {
      "text/html": [
       "<div>\n",
       "<style scoped>\n",
       "    .dataframe tbody tr th:only-of-type {\n",
       "        vertical-align: middle;\n",
       "    }\n",
       "\n",
       "    .dataframe tbody tr th {\n",
       "        vertical-align: top;\n",
       "    }\n",
       "\n",
       "    .dataframe thead th {\n",
       "        text-align: right;\n",
       "    }\n",
       "</style>\n",
       "<table border=\"1\" class=\"dataframe\">\n",
       "  <thead>\n",
       "    <tr style=\"text-align: right;\">\n",
       "      <th></th>\n",
       "      <th>Unnamed: 0</th>\n",
       "      <th>NOME</th>\n",
       "      <th>IDADE</th>\n",
       "      <th>PESO</th>\n",
       "      <th>ED_JEDI</th>\n",
       "      <th>PODER</th>\n",
       "      <th>Coluna a partir de lista</th>\n",
       "      <th>PODER(Pós Arco)</th>\n",
       "      <th>ANO</th>\n",
       "      <th>DATA</th>\n",
       "      <th>COISA</th>\n",
       "    </tr>\n",
       "  </thead>\n",
       "  <tbody>\n",
       "    <tr>\n",
       "      <th>0</th>\n",
       "      <td>0</td>\n",
       "      <td>Luke Skywalker</td>\n",
       "      <td>16</td>\n",
       "      <td>70.5</td>\n",
       "      <td>True</td>\n",
       "      <td>0</td>\n",
       "      <td>0</td>\n",
       "      <td>0</td>\n",
       "      <td>2008</td>\n",
       "      <td>2004-05-09</td>\n",
       "      <td>0.0</td>\n",
       "    </tr>\n",
       "    <tr>\n",
       "      <th>3</th>\n",
       "      <td>3</td>\n",
       "      <td>Luke Skywalker</td>\n",
       "      <td>33</td>\n",
       "      <td>75.5</td>\n",
       "      <td>True</td>\n",
       "      <td>3</td>\n",
       "      <td>3</td>\n",
       "      <td>6</td>\n",
       "      <td>2011</td>\n",
       "      <td>2004-05-09</td>\n",
       "      <td>0.0</td>\n",
       "    </tr>\n",
       "  </tbody>\n",
       "</table>\n",
       "</div>"
      ],
      "text/plain": [
       "   Unnamed: 0            NOME  IDADE  PESO  ED_JEDI  PODER  \\\n",
       "0           0  Luke Skywalker     16  70.5     True      0   \n",
       "3           3  Luke Skywalker     33  75.5     True      3   \n",
       "\n",
       "   Coluna a partir de lista  PODER(Pós Arco)   ANO        DATA  COISA  \n",
       "0                         0                0  2008  2004-05-09    0.0  \n",
       "3                         3                6  2011  2004-05-09    0.0  "
      ]
     },
     "execution_count": 187,
     "metadata": {},
     "output_type": "execute_result"
    }
   ],
   "source": [
    "#Pesquisa um determinado grupo\n",
    "#Porem preciSA fazer o agrupamento primeiro\n",
    "#No caso 'grupos = persona_fim.groupby('NOME')'\n",
    "grupos.get_group ('Luke Skywalker')"
   ]
  },
  {
   "cell_type": "code",
   "execution_count": 188,
   "id": "c7d350cb",
   "metadata": {},
   "outputs": [
    {
     "data": {
      "text/html": [
       "<div>\n",
       "<style scoped>\n",
       "    .dataframe tbody tr th:only-of-type {\n",
       "        vertical-align: middle;\n",
       "    }\n",
       "\n",
       "    .dataframe tbody tr th {\n",
       "        vertical-align: top;\n",
       "    }\n",
       "\n",
       "    .dataframe thead tr th {\n",
       "        text-align: left;\n",
       "    }\n",
       "\n",
       "    .dataframe thead tr:last-of-type th {\n",
       "        text-align: right;\n",
       "    }\n",
       "</style>\n",
       "<table border=\"1\" class=\"dataframe\">\n",
       "  <thead>\n",
       "    <tr>\n",
       "      <th></th>\n",
       "      <th colspan=\"8\" halign=\"left\">Unnamed: 0</th>\n",
       "      <th colspan=\"2\" halign=\"left\">IDADE</th>\n",
       "      <th>...</th>\n",
       "      <th colspan=\"2\" halign=\"left\">ANO</th>\n",
       "      <th colspan=\"8\" halign=\"left\">COISA</th>\n",
       "    </tr>\n",
       "    <tr>\n",
       "      <th></th>\n",
       "      <th>count</th>\n",
       "      <th>mean</th>\n",
       "      <th>std</th>\n",
       "      <th>min</th>\n",
       "      <th>25%</th>\n",
       "      <th>50%</th>\n",
       "      <th>75%</th>\n",
       "      <th>max</th>\n",
       "      <th>count</th>\n",
       "      <th>mean</th>\n",
       "      <th>...</th>\n",
       "      <th>75%</th>\n",
       "      <th>max</th>\n",
       "      <th>count</th>\n",
       "      <th>mean</th>\n",
       "      <th>std</th>\n",
       "      <th>min</th>\n",
       "      <th>25%</th>\n",
       "      <th>50%</th>\n",
       "      <th>75%</th>\n",
       "      <th>max</th>\n",
       "    </tr>\n",
       "    <tr>\n",
       "      <th>NOME</th>\n",
       "      <th></th>\n",
       "      <th></th>\n",
       "      <th></th>\n",
       "      <th></th>\n",
       "      <th></th>\n",
       "      <th></th>\n",
       "      <th></th>\n",
       "      <th></th>\n",
       "      <th></th>\n",
       "      <th></th>\n",
       "      <th></th>\n",
       "      <th></th>\n",
       "      <th></th>\n",
       "      <th></th>\n",
       "      <th></th>\n",
       "      <th></th>\n",
       "      <th></th>\n",
       "      <th></th>\n",
       "      <th></th>\n",
       "      <th></th>\n",
       "      <th></th>\n",
       "    </tr>\n",
       "  </thead>\n",
       "  <tbody>\n",
       "    <tr>\n",
       "      <th>Luke Skywalker</th>\n",
       "      <td>2.0</td>\n",
       "      <td>1.5</td>\n",
       "      <td>2.12132</td>\n",
       "      <td>0.0</td>\n",
       "      <td>0.75</td>\n",
       "      <td>1.5</td>\n",
       "      <td>2.25</td>\n",
       "      <td>3.0</td>\n",
       "      <td>2.0</td>\n",
       "      <td>24.5</td>\n",
       "      <td>...</td>\n",
       "      <td>2010.25</td>\n",
       "      <td>2011.0</td>\n",
       "      <td>2.0</td>\n",
       "      <td>0.0</td>\n",
       "      <td>0.0</td>\n",
       "      <td>0.0</td>\n",
       "      <td>0.0</td>\n",
       "      <td>0.0</td>\n",
       "      <td>0.0</td>\n",
       "      <td>0.0</td>\n",
       "    </tr>\n",
       "    <tr>\n",
       "      <th>Palpatine</th>\n",
       "      <td>1.0</td>\n",
       "      <td>2.0</td>\n",
       "      <td>NaN</td>\n",
       "      <td>2.0</td>\n",
       "      <td>2.00</td>\n",
       "      <td>2.0</td>\n",
       "      <td>2.00</td>\n",
       "      <td>2.0</td>\n",
       "      <td>1.0</td>\n",
       "      <td>70.0</td>\n",
       "      <td>...</td>\n",
       "      <td>2012.00</td>\n",
       "      <td>2012.0</td>\n",
       "      <td>1.0</td>\n",
       "      <td>0.0</td>\n",
       "      <td>NaN</td>\n",
       "      <td>0.0</td>\n",
       "      <td>0.0</td>\n",
       "      <td>0.0</td>\n",
       "      <td>0.0</td>\n",
       "      <td>0.0</td>\n",
       "    </tr>\n",
       "    <tr>\n",
       "      <th>Yoda</th>\n",
       "      <td>1.0</td>\n",
       "      <td>1.0</td>\n",
       "      <td>NaN</td>\n",
       "      <td>1.0</td>\n",
       "      <td>1.00</td>\n",
       "      <td>1.0</td>\n",
       "      <td>1.00</td>\n",
       "      <td>1.0</td>\n",
       "      <td>1.0</td>\n",
       "      <td>1000.0</td>\n",
       "      <td>...</td>\n",
       "      <td>2010.00</td>\n",
       "      <td>2010.0</td>\n",
       "      <td>1.0</td>\n",
       "      <td>0.0</td>\n",
       "      <td>NaN</td>\n",
       "      <td>0.0</td>\n",
       "      <td>0.0</td>\n",
       "      <td>0.0</td>\n",
       "      <td>0.0</td>\n",
       "      <td>0.0</td>\n",
       "    </tr>\n",
       "  </tbody>\n",
       "</table>\n",
       "<p>3 rows × 64 columns</p>\n",
       "</div>"
      ],
      "text/plain": [
       "               Unnamed: 0                                          IDADE  \\\n",
       "                    count mean      std  min   25%  50%   75%  max count   \n",
       "NOME                                                                       \n",
       "Luke Skywalker        2.0  1.5  2.12132  0.0  0.75  1.5  2.25  3.0   2.0   \n",
       "Palpatine             1.0  2.0      NaN  2.0  2.00  2.0  2.00  2.0   1.0   \n",
       "Yoda                  1.0  1.0      NaN  1.0  1.00  1.0  1.00  1.0   1.0   \n",
       "\n",
       "                        ...      ANO         COISA                           \\\n",
       "                  mean  ...      75%     max count mean  std  min  25%  50%   \n",
       "NOME                    ...                                                   \n",
       "Luke Skywalker    24.5  ...  2010.25  2011.0   2.0  0.0  0.0  0.0  0.0  0.0   \n",
       "Palpatine         70.0  ...  2012.00  2012.0   1.0  0.0  NaN  0.0  0.0  0.0   \n",
       "Yoda            1000.0  ...  2010.00  2010.0   1.0  0.0  NaN  0.0  0.0  0.0   \n",
       "\n",
       "                          \n",
       "                75%  max  \n",
       "NOME                      \n",
       "Luke Skywalker  0.0  0.0  \n",
       "Palpatine       0.0  0.0  \n",
       "Yoda            0.0  0.0  \n",
       "\n",
       "[3 rows x 64 columns]"
      ]
     },
     "execution_count": 188,
     "metadata": {},
     "output_type": "execute_result"
    }
   ],
   "source": [
    "#DISCREVE  para nós informações do tipo \"nome\" e \"idade\" de um usuário.\n",
    "#Porém isso pode ser um pouco confuso por muita informção\n",
    "grupos.describe()"
   ]
  },
  {
   "cell_type": "code",
   "execution_count": 189,
   "id": "e6a29165",
   "metadata": {},
   "outputs": [
    {
     "data": {
      "text/html": [
       "<div>\n",
       "<style scoped>\n",
       "    .dataframe tbody tr th:only-of-type {\n",
       "        vertical-align: middle;\n",
       "    }\n",
       "\n",
       "    .dataframe tbody tr th {\n",
       "        vertical-align: top;\n",
       "    }\n",
       "\n",
       "    .dataframe thead th {\n",
       "        text-align: right;\n",
       "    }\n",
       "</style>\n",
       "<table border=\"1\" class=\"dataframe\">\n",
       "  <thead>\n",
       "    <tr style=\"text-align: right;\">\n",
       "      <th></th>\n",
       "      <th>Unnamed: 0</th>\n",
       "      <th>IDADE</th>\n",
       "      <th>PESO</th>\n",
       "      <th>ED_JEDI</th>\n",
       "      <th>PODER</th>\n",
       "      <th>Coluna a partir de lista</th>\n",
       "      <th>PODER(Pós Arco)</th>\n",
       "      <th>ANO</th>\n",
       "      <th>DATA</th>\n",
       "      <th>COISA</th>\n",
       "    </tr>\n",
       "    <tr>\n",
       "      <th>NOME</th>\n",
       "      <th></th>\n",
       "      <th></th>\n",
       "      <th></th>\n",
       "      <th></th>\n",
       "      <th></th>\n",
       "      <th></th>\n",
       "      <th></th>\n",
       "      <th></th>\n",
       "      <th></th>\n",
       "      <th></th>\n",
       "    </tr>\n",
       "  </thead>\n",
       "  <tbody>\n",
       "    <tr>\n",
       "      <th>Luke Skywalker</th>\n",
       "      <td>2</td>\n",
       "      <td>2</td>\n",
       "      <td>2</td>\n",
       "      <td>2</td>\n",
       "      <td>2</td>\n",
       "      <td>2</td>\n",
       "      <td>2</td>\n",
       "      <td>2</td>\n",
       "      <td>2</td>\n",
       "      <td>2</td>\n",
       "    </tr>\n",
       "    <tr>\n",
       "      <th>Palpatine</th>\n",
       "      <td>1</td>\n",
       "      <td>1</td>\n",
       "      <td>1</td>\n",
       "      <td>1</td>\n",
       "      <td>1</td>\n",
       "      <td>1</td>\n",
       "      <td>1</td>\n",
       "      <td>1</td>\n",
       "      <td>1</td>\n",
       "      <td>1</td>\n",
       "    </tr>\n",
       "    <tr>\n",
       "      <th>Yoda</th>\n",
       "      <td>1</td>\n",
       "      <td>1</td>\n",
       "      <td>1</td>\n",
       "      <td>1</td>\n",
       "      <td>1</td>\n",
       "      <td>1</td>\n",
       "      <td>1</td>\n",
       "      <td>1</td>\n",
       "      <td>1</td>\n",
       "      <td>1</td>\n",
       "    </tr>\n",
       "  </tbody>\n",
       "</table>\n",
       "</div>"
      ],
      "text/plain": [
       "                Unnamed: 0  IDADE  PESO  ED_JEDI  PODER  \\\n",
       "NOME                                                      \n",
       "Luke Skywalker           2      2     2        2      2   \n",
       "Palpatine                1      1     1        1      1   \n",
       "Yoda                     1      1     1        1      1   \n",
       "\n",
       "                Coluna a partir de lista  PODER(Pós Arco)  ANO  DATA  COISA  \n",
       "NOME                                                                         \n",
       "Luke Skywalker                         2                2    2     2      2  \n",
       "Palpatine                              1                1    1     1      1  \n",
       "Yoda                                   1                1    1     1      1  "
      ]
     },
     "execution_count": 189,
     "metadata": {},
     "output_type": "execute_result"
    }
   ],
   "source": [
    "#Podendo usar os itens do discrabe com funções \n",
    "#assim sendo possivel analizar melhor\n",
    "grupos.count()\n"
   ]
  },
  {
   "cell_type": "code",
   "execution_count": 190,
   "id": "5d2e1dc0",
   "metadata": {},
   "outputs": [
    {
     "data": {
      "text/html": [
       "<div>\n",
       "<style scoped>\n",
       "    .dataframe tbody tr th:only-of-type {\n",
       "        vertical-align: middle;\n",
       "    }\n",
       "\n",
       "    .dataframe tbody tr th {\n",
       "        vertical-align: top;\n",
       "    }\n",
       "\n",
       "    .dataframe thead th {\n",
       "        text-align: right;\n",
       "    }\n",
       "</style>\n",
       "<table border=\"1\" class=\"dataframe\">\n",
       "  <thead>\n",
       "    <tr style=\"text-align: right;\">\n",
       "      <th></th>\n",
       "      <th>Unnamed: 0</th>\n",
       "      <th>IDADE</th>\n",
       "      <th>PESO</th>\n",
       "      <th>ED_JEDI</th>\n",
       "      <th>PODER</th>\n",
       "      <th>Coluna a partir de lista</th>\n",
       "      <th>PODER(Pós Arco)</th>\n",
       "      <th>ANO</th>\n",
       "      <th>DATA</th>\n",
       "      <th>COISA</th>\n",
       "    </tr>\n",
       "    <tr>\n",
       "      <th>NOME</th>\n",
       "      <th></th>\n",
       "      <th></th>\n",
       "      <th></th>\n",
       "      <th></th>\n",
       "      <th></th>\n",
       "      <th></th>\n",
       "      <th></th>\n",
       "      <th></th>\n",
       "      <th></th>\n",
       "      <th></th>\n",
       "    </tr>\n",
       "  </thead>\n",
       "  <tbody>\n",
       "    <tr>\n",
       "      <th>Luke Skywalker</th>\n",
       "      <td>0</td>\n",
       "      <td>16</td>\n",
       "      <td>70.50</td>\n",
       "      <td>True</td>\n",
       "      <td>0</td>\n",
       "      <td>0</td>\n",
       "      <td>0</td>\n",
       "      <td>2008</td>\n",
       "      <td>2004-05-09</td>\n",
       "      <td>0.0</td>\n",
       "    </tr>\n",
       "    <tr>\n",
       "      <th>Palpatine</th>\n",
       "      <td>2</td>\n",
       "      <td>70</td>\n",
       "      <td>60.10</td>\n",
       "      <td>False</td>\n",
       "      <td>2</td>\n",
       "      <td>2</td>\n",
       "      <td>6</td>\n",
       "      <td>2012</td>\n",
       "      <td>2004-05-09</td>\n",
       "      <td>0.0</td>\n",
       "    </tr>\n",
       "    <tr>\n",
       "      <th>Yoda</th>\n",
       "      <td>1</td>\n",
       "      <td>1000</td>\n",
       "      <td>15.12</td>\n",
       "      <td>True</td>\n",
       "      <td>1</td>\n",
       "      <td>1</td>\n",
       "      <td>3</td>\n",
       "      <td>2010</td>\n",
       "      <td>2004-05-09</td>\n",
       "      <td>0.0</td>\n",
       "    </tr>\n",
       "  </tbody>\n",
       "</table>\n",
       "</div>"
      ],
      "text/plain": [
       "                Unnamed: 0  IDADE   PESO  ED_JEDI  PODER  \\\n",
       "NOME                                                       \n",
       "Luke Skywalker           0     16  70.50     True      0   \n",
       "Palpatine                2     70  60.10    False      2   \n",
       "Yoda                     1   1000  15.12     True      1   \n",
       "\n",
       "                Coluna a partir de lista  PODER(Pós Arco)   ANO        DATA  \\\n",
       "NOME                                                                          \n",
       "Luke Skywalker                         0                0  2008  2004-05-09   \n",
       "Palpatine                              2                6  2012  2004-05-09   \n",
       "Yoda                                   1                3  2010  2004-05-09   \n",
       "\n",
       "                COISA  \n",
       "NOME                   \n",
       "Luke Skywalker    0.0  \n",
       "Palpatine         0.0  \n",
       "Yoda              0.0  "
      ]
     },
     "execution_count": 190,
     "metadata": {},
     "output_type": "execute_result"
    }
   ],
   "source": [
    "grupos.min()"
   ]
  },
  {
   "cell_type": "code",
   "execution_count": 191,
   "id": "d8c8c62a",
   "metadata": {},
   "outputs": [
    {
     "data": {
      "text/html": [
       "<div>\n",
       "<style scoped>\n",
       "    .dataframe tbody tr th:only-of-type {\n",
       "        vertical-align: middle;\n",
       "    }\n",
       "\n",
       "    .dataframe tbody tr th {\n",
       "        vertical-align: top;\n",
       "    }\n",
       "\n",
       "    .dataframe thead th {\n",
       "        text-align: right;\n",
       "    }\n",
       "</style>\n",
       "<table border=\"1\" class=\"dataframe\">\n",
       "  <thead>\n",
       "    <tr style=\"text-align: right;\">\n",
       "      <th></th>\n",
       "      <th>Unnamed: 0</th>\n",
       "      <th>IDADE</th>\n",
       "      <th>PESO</th>\n",
       "      <th>ED_JEDI</th>\n",
       "      <th>PODER</th>\n",
       "      <th>Coluna a partir de lista</th>\n",
       "      <th>PODER(Pós Arco)</th>\n",
       "      <th>ANO</th>\n",
       "      <th>DATA</th>\n",
       "      <th>COISA</th>\n",
       "    </tr>\n",
       "    <tr>\n",
       "      <th>NOME</th>\n",
       "      <th></th>\n",
       "      <th></th>\n",
       "      <th></th>\n",
       "      <th></th>\n",
       "      <th></th>\n",
       "      <th></th>\n",
       "      <th></th>\n",
       "      <th></th>\n",
       "      <th></th>\n",
       "      <th></th>\n",
       "    </tr>\n",
       "  </thead>\n",
       "  <tbody>\n",
       "    <tr>\n",
       "      <th>Luke Skywalker</th>\n",
       "      <td>3</td>\n",
       "      <td>33</td>\n",
       "      <td>75.50</td>\n",
       "      <td>True</td>\n",
       "      <td>3</td>\n",
       "      <td>3</td>\n",
       "      <td>6</td>\n",
       "      <td>2011</td>\n",
       "      <td>2004-05-09</td>\n",
       "      <td>0.0</td>\n",
       "    </tr>\n",
       "    <tr>\n",
       "      <th>Palpatine</th>\n",
       "      <td>2</td>\n",
       "      <td>70</td>\n",
       "      <td>60.10</td>\n",
       "      <td>False</td>\n",
       "      <td>2</td>\n",
       "      <td>2</td>\n",
       "      <td>6</td>\n",
       "      <td>2012</td>\n",
       "      <td>2004-05-09</td>\n",
       "      <td>0.0</td>\n",
       "    </tr>\n",
       "    <tr>\n",
       "      <th>Yoda</th>\n",
       "      <td>1</td>\n",
       "      <td>1000</td>\n",
       "      <td>15.12</td>\n",
       "      <td>True</td>\n",
       "      <td>1</td>\n",
       "      <td>1</td>\n",
       "      <td>3</td>\n",
       "      <td>2010</td>\n",
       "      <td>2004-05-09</td>\n",
       "      <td>0.0</td>\n",
       "    </tr>\n",
       "  </tbody>\n",
       "</table>\n",
       "</div>"
      ],
      "text/plain": [
       "                Unnamed: 0  IDADE   PESO  ED_JEDI  PODER  \\\n",
       "NOME                                                       \n",
       "Luke Skywalker           3     33  75.50     True      3   \n",
       "Palpatine                2     70  60.10    False      2   \n",
       "Yoda                     1   1000  15.12     True      1   \n",
       "\n",
       "                Coluna a partir de lista  PODER(Pós Arco)   ANO        DATA  \\\n",
       "NOME                                                                          \n",
       "Luke Skywalker                         3                6  2011  2004-05-09   \n",
       "Palpatine                              2                6  2012  2004-05-09   \n",
       "Yoda                                   1                3  2010  2004-05-09   \n",
       "\n",
       "                COISA  \n",
       "NOME                   \n",
       "Luke Skywalker    0.0  \n",
       "Palpatine         0.0  \n",
       "Yoda              0.0  "
      ]
     },
     "execution_count": 191,
     "metadata": {},
     "output_type": "execute_result"
    }
   ],
   "source": [
    "grupos.max()"
   ]
  },
  {
   "cell_type": "code",
   "execution_count": 192,
   "id": "98e93aa2",
   "metadata": {},
   "outputs": [
    {
     "data": {
      "text/html": [
       "<div>\n",
       "<style scoped>\n",
       "    .dataframe tbody tr th:only-of-type {\n",
       "        vertical-align: middle;\n",
       "    }\n",
       "\n",
       "    .dataframe tbody tr th {\n",
       "        vertical-align: top;\n",
       "    }\n",
       "\n",
       "    .dataframe thead th {\n",
       "        text-align: right;\n",
       "    }\n",
       "</style>\n",
       "<table border=\"1\" class=\"dataframe\">\n",
       "  <thead>\n",
       "    <tr style=\"text-align: right;\">\n",
       "      <th></th>\n",
       "      <th>Unnamed: 0</th>\n",
       "      <th>IDADE</th>\n",
       "      <th>PESO</th>\n",
       "      <th>ED_JEDI</th>\n",
       "      <th>PODER</th>\n",
       "      <th>Coluna a partir de lista</th>\n",
       "      <th>PODER(Pós Arco)</th>\n",
       "      <th>ANO</th>\n",
       "      <th>DATA</th>\n",
       "      <th>COISA</th>\n",
       "    </tr>\n",
       "    <tr>\n",
       "      <th>NOME</th>\n",
       "      <th></th>\n",
       "      <th></th>\n",
       "      <th></th>\n",
       "      <th></th>\n",
       "      <th></th>\n",
       "      <th></th>\n",
       "      <th></th>\n",
       "      <th></th>\n",
       "      <th></th>\n",
       "      <th></th>\n",
       "    </tr>\n",
       "  </thead>\n",
       "  <tbody>\n",
       "    <tr>\n",
       "      <th>Luke Skywalker</th>\n",
       "      <td>0</td>\n",
       "      <td>16</td>\n",
       "      <td>70.50</td>\n",
       "      <td>True</td>\n",
       "      <td>0</td>\n",
       "      <td>0</td>\n",
       "      <td>0</td>\n",
       "      <td>2008</td>\n",
       "      <td>2004-05-09</td>\n",
       "      <td>0.0</td>\n",
       "    </tr>\n",
       "    <tr>\n",
       "      <th>Palpatine</th>\n",
       "      <td>2</td>\n",
       "      <td>70</td>\n",
       "      <td>60.10</td>\n",
       "      <td>False</td>\n",
       "      <td>2</td>\n",
       "      <td>2</td>\n",
       "      <td>6</td>\n",
       "      <td>2012</td>\n",
       "      <td>2004-05-09</td>\n",
       "      <td>0.0</td>\n",
       "    </tr>\n",
       "    <tr>\n",
       "      <th>Yoda</th>\n",
       "      <td>1</td>\n",
       "      <td>1000</td>\n",
       "      <td>15.12</td>\n",
       "      <td>True</td>\n",
       "      <td>1</td>\n",
       "      <td>1</td>\n",
       "      <td>3</td>\n",
       "      <td>2010</td>\n",
       "      <td>2004-05-09</td>\n",
       "      <td>0.0</td>\n",
       "    </tr>\n",
       "  </tbody>\n",
       "</table>\n",
       "</div>"
      ],
      "text/plain": [
       "                Unnamed: 0  IDADE   PESO  ED_JEDI  PODER  \\\n",
       "NOME                                                       \n",
       "Luke Skywalker           0     16  70.50     True      0   \n",
       "Palpatine                2     70  60.10    False      2   \n",
       "Yoda                     1   1000  15.12     True      1   \n",
       "\n",
       "                Coluna a partir de lista  PODER(Pós Arco)   ANO        DATA  \\\n",
       "NOME                                                                          \n",
       "Luke Skywalker                         0                0  2008  2004-05-09   \n",
       "Palpatine                              2                6  2012  2004-05-09   \n",
       "Yoda                                   1                3  2010  2004-05-09   \n",
       "\n",
       "                COISA  \n",
       "NOME                   \n",
       "Luke Skywalker    0.0  \n",
       "Palpatine         0.0  \n",
       "Yoda              0.0  "
      ]
     },
     "execution_count": 192,
     "metadata": {},
     "output_type": "execute_result"
    }
   ],
   "source": [
    "#Podendo ser usada dessa forma\n",
    "persona_fim.groupby('NOME').min()"
   ]
  },
  {
   "cell_type": "markdown",
   "id": "charged-money",
   "metadata": {},
   "source": [
    "<br/>\n",
    "\n",
    "Também podemos ter agrupamentos por mais de um atributo."
   ]
  },
  {
   "cell_type": "code",
   "execution_count": 193,
   "id": "db89d163",
   "metadata": {},
   "outputs": [
    {
     "data": {
      "text/html": [
       "<div>\n",
       "<style scoped>\n",
       "    .dataframe tbody tr th:only-of-type {\n",
       "        vertical-align: middle;\n",
       "    }\n",
       "\n",
       "    .dataframe tbody tr th {\n",
       "        vertical-align: top;\n",
       "    }\n",
       "\n",
       "    .dataframe thead th {\n",
       "        text-align: right;\n",
       "    }\n",
       "</style>\n",
       "<table border=\"1\" class=\"dataframe\">\n",
       "  <thead>\n",
       "    <tr style=\"text-align: right;\">\n",
       "      <th></th>\n",
       "      <th>Unnamed: 0</th>\n",
       "      <th>NOME</th>\n",
       "      <th>IDADE</th>\n",
       "      <th>PESO</th>\n",
       "      <th>ED_JEDI</th>\n",
       "      <th>PODER</th>\n",
       "      <th>Coluna a partir de lista</th>\n",
       "      <th>PODER(Pós Arco)</th>\n",
       "      <th>ANO</th>\n",
       "      <th>DATA</th>\n",
       "      <th>COISA</th>\n",
       "    </tr>\n",
       "  </thead>\n",
       "  <tbody>\n",
       "    <tr>\n",
       "      <th>0</th>\n",
       "      <td>0</td>\n",
       "      <td>Luke Skywalker</td>\n",
       "      <td>16</td>\n",
       "      <td>70.50</td>\n",
       "      <td>True</td>\n",
       "      <td>0</td>\n",
       "      <td>0</td>\n",
       "      <td>0</td>\n",
       "      <td>2008</td>\n",
       "      <td>2004-05-09</td>\n",
       "      <td>0.0</td>\n",
       "    </tr>\n",
       "    <tr>\n",
       "      <th>1</th>\n",
       "      <td>1</td>\n",
       "      <td>Yoda</td>\n",
       "      <td>1000</td>\n",
       "      <td>15.12</td>\n",
       "      <td>True</td>\n",
       "      <td>1</td>\n",
       "      <td>1</td>\n",
       "      <td>3</td>\n",
       "      <td>2010</td>\n",
       "      <td>2004-05-09</td>\n",
       "      <td>0.0</td>\n",
       "    </tr>\n",
       "    <tr>\n",
       "      <th>2</th>\n",
       "      <td>2</td>\n",
       "      <td>Palpatine</td>\n",
       "      <td>70</td>\n",
       "      <td>60.10</td>\n",
       "      <td>False</td>\n",
       "      <td>2</td>\n",
       "      <td>2</td>\n",
       "      <td>6</td>\n",
       "      <td>2012</td>\n",
       "      <td>2004-05-09</td>\n",
       "      <td>0.0</td>\n",
       "    </tr>\n",
       "    <tr>\n",
       "      <th>3</th>\n",
       "      <td>3</td>\n",
       "      <td>Luke Skywalker</td>\n",
       "      <td>33</td>\n",
       "      <td>75.50</td>\n",
       "      <td>True</td>\n",
       "      <td>3</td>\n",
       "      <td>3</td>\n",
       "      <td>6</td>\n",
       "      <td>2011</td>\n",
       "      <td>2004-05-09</td>\n",
       "      <td>0.0</td>\n",
       "    </tr>\n",
       "  </tbody>\n",
       "</table>\n",
       "</div>"
      ],
      "text/plain": [
       "   Unnamed: 0            NOME  IDADE   PESO  ED_JEDI  PODER  \\\n",
       "0           0  Luke Skywalker     16  70.50     True      0   \n",
       "1           1            Yoda   1000  15.12     True      1   \n",
       "2           2       Palpatine     70  60.10    False      2   \n",
       "3           3  Luke Skywalker     33  75.50     True      3   \n",
       "\n",
       "   Coluna a partir de lista  PODER(Pós Arco)   ANO        DATA  COISA  \n",
       "0                         0                0  2008  2004-05-09    0.0  \n",
       "1                         1                3  2010  2004-05-09    0.0  \n",
       "2                         2                6  2012  2004-05-09    0.0  \n",
       "3                         3                6  2011  2004-05-09    0.0  "
      ]
     },
     "execution_count": 193,
     "metadata": {},
     "output_type": "execute_result"
    }
   ],
   "source": [
    "persona_fim"
   ]
  },
  {
   "cell_type": "code",
   "execution_count": 194,
   "id": "legitimate-webster",
   "metadata": {},
   "outputs": [
    {
     "data": {
      "text/plain": [
       "<pandas.core.groupby.generic.DataFrameGroupBy object at 0x00000226DC09D350>"
      ]
     },
     "execution_count": 194,
     "metadata": {},
     "output_type": "execute_result"
    }
   ],
   "source": [
    "juncao = persona_fim.groupby(['NOME', 'PESO'])\n",
    "juncao"
   ]
  },
  {
   "cell_type": "code",
   "execution_count": 195,
   "id": "nuclear-quarter",
   "metadata": {},
   "outputs": [
    {
     "data": {
      "text/html": [
       "<div>\n",
       "<style scoped>\n",
       "    .dataframe tbody tr th:only-of-type {\n",
       "        vertical-align: middle;\n",
       "    }\n",
       "\n",
       "    .dataframe tbody tr th {\n",
       "        vertical-align: top;\n",
       "    }\n",
       "\n",
       "    .dataframe thead tr th {\n",
       "        text-align: left;\n",
       "    }\n",
       "\n",
       "    .dataframe thead tr:last-of-type th {\n",
       "        text-align: right;\n",
       "    }\n",
       "</style>\n",
       "<table border=\"1\" class=\"dataframe\">\n",
       "  <thead>\n",
       "    <tr>\n",
       "      <th></th>\n",
       "      <th></th>\n",
       "      <th colspan=\"8\" halign=\"left\">Unnamed: 0</th>\n",
       "      <th colspan=\"2\" halign=\"left\">IDADE</th>\n",
       "      <th>...</th>\n",
       "      <th colspan=\"2\" halign=\"left\">ANO</th>\n",
       "      <th colspan=\"8\" halign=\"left\">COISA</th>\n",
       "    </tr>\n",
       "    <tr>\n",
       "      <th></th>\n",
       "      <th></th>\n",
       "      <th>count</th>\n",
       "      <th>mean</th>\n",
       "      <th>std</th>\n",
       "      <th>min</th>\n",
       "      <th>25%</th>\n",
       "      <th>50%</th>\n",
       "      <th>75%</th>\n",
       "      <th>max</th>\n",
       "      <th>count</th>\n",
       "      <th>mean</th>\n",
       "      <th>...</th>\n",
       "      <th>75%</th>\n",
       "      <th>max</th>\n",
       "      <th>count</th>\n",
       "      <th>mean</th>\n",
       "      <th>std</th>\n",
       "      <th>min</th>\n",
       "      <th>25%</th>\n",
       "      <th>50%</th>\n",
       "      <th>75%</th>\n",
       "      <th>max</th>\n",
       "    </tr>\n",
       "    <tr>\n",
       "      <th>NOME</th>\n",
       "      <th>PESO</th>\n",
       "      <th></th>\n",
       "      <th></th>\n",
       "      <th></th>\n",
       "      <th></th>\n",
       "      <th></th>\n",
       "      <th></th>\n",
       "      <th></th>\n",
       "      <th></th>\n",
       "      <th></th>\n",
       "      <th></th>\n",
       "      <th></th>\n",
       "      <th></th>\n",
       "      <th></th>\n",
       "      <th></th>\n",
       "      <th></th>\n",
       "      <th></th>\n",
       "      <th></th>\n",
       "      <th></th>\n",
       "      <th></th>\n",
       "      <th></th>\n",
       "      <th></th>\n",
       "    </tr>\n",
       "  </thead>\n",
       "  <tbody>\n",
       "    <tr>\n",
       "      <th rowspan=\"2\" valign=\"top\">Luke Skywalker</th>\n",
       "      <th>70.50</th>\n",
       "      <td>1.0</td>\n",
       "      <td>0.0</td>\n",
       "      <td>NaN</td>\n",
       "      <td>0.0</td>\n",
       "      <td>0.0</td>\n",
       "      <td>0.0</td>\n",
       "      <td>0.0</td>\n",
       "      <td>0.0</td>\n",
       "      <td>1.0</td>\n",
       "      <td>16.0</td>\n",
       "      <td>...</td>\n",
       "      <td>2008.0</td>\n",
       "      <td>2008.0</td>\n",
       "      <td>1.0</td>\n",
       "      <td>0.0</td>\n",
       "      <td>NaN</td>\n",
       "      <td>0.0</td>\n",
       "      <td>0.0</td>\n",
       "      <td>0.0</td>\n",
       "      <td>0.0</td>\n",
       "      <td>0.0</td>\n",
       "    </tr>\n",
       "    <tr>\n",
       "      <th>75.50</th>\n",
       "      <td>1.0</td>\n",
       "      <td>3.0</td>\n",
       "      <td>NaN</td>\n",
       "      <td>3.0</td>\n",
       "      <td>3.0</td>\n",
       "      <td>3.0</td>\n",
       "      <td>3.0</td>\n",
       "      <td>3.0</td>\n",
       "      <td>1.0</td>\n",
       "      <td>33.0</td>\n",
       "      <td>...</td>\n",
       "      <td>2011.0</td>\n",
       "      <td>2011.0</td>\n",
       "      <td>1.0</td>\n",
       "      <td>0.0</td>\n",
       "      <td>NaN</td>\n",
       "      <td>0.0</td>\n",
       "      <td>0.0</td>\n",
       "      <td>0.0</td>\n",
       "      <td>0.0</td>\n",
       "      <td>0.0</td>\n",
       "    </tr>\n",
       "    <tr>\n",
       "      <th>Palpatine</th>\n",
       "      <th>60.10</th>\n",
       "      <td>1.0</td>\n",
       "      <td>2.0</td>\n",
       "      <td>NaN</td>\n",
       "      <td>2.0</td>\n",
       "      <td>2.0</td>\n",
       "      <td>2.0</td>\n",
       "      <td>2.0</td>\n",
       "      <td>2.0</td>\n",
       "      <td>1.0</td>\n",
       "      <td>70.0</td>\n",
       "      <td>...</td>\n",
       "      <td>2012.0</td>\n",
       "      <td>2012.0</td>\n",
       "      <td>1.0</td>\n",
       "      <td>0.0</td>\n",
       "      <td>NaN</td>\n",
       "      <td>0.0</td>\n",
       "      <td>0.0</td>\n",
       "      <td>0.0</td>\n",
       "      <td>0.0</td>\n",
       "      <td>0.0</td>\n",
       "    </tr>\n",
       "    <tr>\n",
       "      <th>Yoda</th>\n",
       "      <th>15.12</th>\n",
       "      <td>1.0</td>\n",
       "      <td>1.0</td>\n",
       "      <td>NaN</td>\n",
       "      <td>1.0</td>\n",
       "      <td>1.0</td>\n",
       "      <td>1.0</td>\n",
       "      <td>1.0</td>\n",
       "      <td>1.0</td>\n",
       "      <td>1.0</td>\n",
       "      <td>1000.0</td>\n",
       "      <td>...</td>\n",
       "      <td>2010.0</td>\n",
       "      <td>2010.0</td>\n",
       "      <td>1.0</td>\n",
       "      <td>0.0</td>\n",
       "      <td>NaN</td>\n",
       "      <td>0.0</td>\n",
       "      <td>0.0</td>\n",
       "      <td>0.0</td>\n",
       "      <td>0.0</td>\n",
       "      <td>0.0</td>\n",
       "    </tr>\n",
       "  </tbody>\n",
       "</table>\n",
       "<p>4 rows × 56 columns</p>\n",
       "</div>"
      ],
      "text/plain": [
       "                     Unnamed: 0                                   IDADE  \\\n",
       "                          count mean std  min  25%  50%  75%  max count   \n",
       "NOME           PESO                                                       \n",
       "Luke Skywalker 70.50        1.0  0.0 NaN  0.0  0.0  0.0  0.0  0.0   1.0   \n",
       "               75.50        1.0  3.0 NaN  3.0  3.0  3.0  3.0  3.0   1.0   \n",
       "Palpatine      60.10        1.0  2.0 NaN  2.0  2.0  2.0  2.0  2.0   1.0   \n",
       "Yoda           15.12        1.0  1.0 NaN  1.0  1.0  1.0  1.0  1.0   1.0   \n",
       "\n",
       "                              ...     ANO         COISA                     \\\n",
       "                        mean  ...     75%     max count mean std  min  25%   \n",
       "NOME           PESO           ...                                            \n",
       "Luke Skywalker 70.50    16.0  ...  2008.0  2008.0   1.0  0.0 NaN  0.0  0.0   \n",
       "               75.50    33.0  ...  2011.0  2011.0   1.0  0.0 NaN  0.0  0.0   \n",
       "Palpatine      60.10    70.0  ...  2012.0  2012.0   1.0  0.0 NaN  0.0  0.0   \n",
       "Yoda           15.12  1000.0  ...  2010.0  2010.0   1.0  0.0 NaN  0.0  0.0   \n",
       "\n",
       "                                     \n",
       "                      50%  75%  max  \n",
       "NOME           PESO                  \n",
       "Luke Skywalker 70.50  0.0  0.0  0.0  \n",
       "               75.50  0.0  0.0  0.0  \n",
       "Palpatine      60.10  0.0  0.0  0.0  \n",
       "Yoda           15.12  0.0  0.0  0.0  \n",
       "\n",
       "[4 rows x 56 columns]"
      ]
     },
     "execution_count": 195,
     "metadata": {},
     "output_type": "execute_result"
    }
   ],
   "source": [
    "juncao.describe()"
   ]
  },
  {
   "cell_type": "code",
   "execution_count": 196,
   "id": "future-tonight",
   "metadata": {},
   "outputs": [],
   "source": [
    "#juncao.mean()"
   ]
  },
  {
   "cell_type": "markdown",
   "id": "sonic-running",
   "metadata": {},
   "source": [
    "<br/>\n",
    "\n",
    "`.agg`: **agrega (roda)** uma série de funções para os elementos de um dataframe ou de grupos de um dataframe."
   ]
  },
  {
   "cell_type": "code",
   "execution_count": 197,
   "id": "challenging-stanford",
   "metadata": {},
   "outputs": [
    {
     "data": {
      "text/html": [
       "<div>\n",
       "<style scoped>\n",
       "    .dataframe tbody tr th:only-of-type {\n",
       "        vertical-align: middle;\n",
       "    }\n",
       "\n",
       "    .dataframe tbody tr th {\n",
       "        vertical-align: top;\n",
       "    }\n",
       "\n",
       "    .dataframe thead th {\n",
       "        text-align: right;\n",
       "    }\n",
       "</style>\n",
       "<table border=\"1\" class=\"dataframe\">\n",
       "  <thead>\n",
       "    <tr style=\"text-align: right;\">\n",
       "      <th></th>\n",
       "      <th>A</th>\n",
       "      <th>B</th>\n",
       "      <th>C</th>\n",
       "    </tr>\n",
       "  </thead>\n",
       "  <tbody>\n",
       "    <tr>\n",
       "      <th>0</th>\n",
       "      <td>1.0</td>\n",
       "      <td>2.0</td>\n",
       "      <td>3.0</td>\n",
       "    </tr>\n",
       "    <tr>\n",
       "      <th>1</th>\n",
       "      <td>4.0</td>\n",
       "      <td>5.0</td>\n",
       "      <td>6.0</td>\n",
       "    </tr>\n",
       "    <tr>\n",
       "      <th>2</th>\n",
       "      <td>7.0</td>\n",
       "      <td>8.0</td>\n",
       "      <td>9.0</td>\n",
       "    </tr>\n",
       "    <tr>\n",
       "      <th>3</th>\n",
       "      <td>NaN</td>\n",
       "      <td>NaN</td>\n",
       "      <td>NaN</td>\n",
       "    </tr>\n",
       "  </tbody>\n",
       "</table>\n",
       "</div>"
      ],
      "text/plain": [
       "     A    B    C\n",
       "0  1.0  2.0  3.0\n",
       "1  4.0  5.0  6.0\n",
       "2  7.0  8.0  9.0\n",
       "3  NaN  NaN  NaN"
      ]
     },
     "execution_count": 197,
     "metadata": {},
     "output_type": "execute_result"
    }
   ],
   "source": [
    "df = pd.DataFrame([[1, 2, 3],\n",
    "                   [4, 5, 6],\n",
    "                   [7, 8, 9],\n",
    "                   [np.nan, np.nan, np.nan]],\n",
    "                  columns=['A', 'B', 'C'])\n",
    "df"
   ]
  },
  {
   "cell_type": "code",
   "execution_count": 198,
   "id": "critical-analyst",
   "metadata": {},
   "outputs": [
    {
     "name": "stderr",
     "output_type": "stream",
     "text": [
      "C:\\Users\\Jair\\AppData\\Local\\Temp\\ipykernel_14664\\3466668650.py:2: FutureWarning: The provided callable <built-in function sum> is currently using Series.sum. In a future version of pandas, the provided callable will be used directly. To keep current behavior pass the string \"sum\" instead.\n",
      "  df.agg([sum, min])\n",
      "C:\\Users\\Jair\\AppData\\Local\\Temp\\ipykernel_14664\\3466668650.py:2: FutureWarning: The provided callable <built-in function min> is currently using Series.min. In a future version of pandas, the provided callable will be used directly. To keep current behavior pass the string \"min\" instead.\n",
      "  df.agg([sum, min])\n"
     ]
    },
    {
     "data": {
      "text/html": [
       "<div>\n",
       "<style scoped>\n",
       "    .dataframe tbody tr th:only-of-type {\n",
       "        vertical-align: middle;\n",
       "    }\n",
       "\n",
       "    .dataframe tbody tr th {\n",
       "        vertical-align: top;\n",
       "    }\n",
       "\n",
       "    .dataframe thead th {\n",
       "        text-align: right;\n",
       "    }\n",
       "</style>\n",
       "<table border=\"1\" class=\"dataframe\">\n",
       "  <thead>\n",
       "    <tr style=\"text-align: right;\">\n",
       "      <th></th>\n",
       "      <th>A</th>\n",
       "      <th>B</th>\n",
       "      <th>C</th>\n",
       "    </tr>\n",
       "  </thead>\n",
       "  <tbody>\n",
       "    <tr>\n",
       "      <th>sum</th>\n",
       "      <td>12.0</td>\n",
       "      <td>15.0</td>\n",
       "      <td>18.0</td>\n",
       "    </tr>\n",
       "    <tr>\n",
       "      <th>min</th>\n",
       "      <td>1.0</td>\n",
       "      <td>2.0</td>\n",
       "      <td>3.0</td>\n",
       "    </tr>\n",
       "  </tbody>\n",
       "</table>\n",
       "</div>"
      ],
      "text/plain": [
       "        A     B     C\n",
       "sum  12.0  15.0  18.0\n",
       "min   1.0   2.0   3.0"
      ]
     },
     "execution_count": 198,
     "metadata": {},
     "output_type": "execute_result"
    }
   ],
   "source": [
    "# a função agg é usada para usar mais de uma função \n",
    "df.agg([sum, min])"
   ]
  },
  {
   "cell_type": "code",
   "execution_count": 199,
   "id": "wrong-handy",
   "metadata": {},
   "outputs": [
    {
     "data": {
      "text/plain": [
       "<pandas.core.groupby.generic.DataFrameGroupBy object at 0x00000226DCFF6A10>"
      ]
     },
     "execution_count": 199,
     "metadata": {},
     "output_type": "execute_result"
    }
   ],
   "source": [
    "#Separei um gupro pelo NOME\n",
    "jun = persona_fim.groupby('NOME')\n",
    "jun"
   ]
  },
  {
   "cell_type": "code",
   "execution_count": 200,
   "id": "968044d1",
   "metadata": {},
   "outputs": [
    {
     "name": "stderr",
     "output_type": "stream",
     "text": [
      "C:\\Users\\Jair\\AppData\\Local\\Temp\\ipykernel_14664\\723161173.py:3: FutureWarning: The provided callable <built-in function max> is currently using SeriesGroupBy.max. In a future version of pandas, the provided callable will be used directly. To keep current behavior pass the string \"max\" instead.\n",
      "  jun['PESO'].agg([max , min])\n",
      "C:\\Users\\Jair\\AppData\\Local\\Temp\\ipykernel_14664\\723161173.py:3: FutureWarning: The provided callable <built-in function min> is currently using SeriesGroupBy.min. In a future version of pandas, the provided callable will be used directly. To keep current behavior pass the string \"min\" instead.\n",
      "  jun['PESO'].agg([max , min])\n"
     ]
    },
    {
     "data": {
      "text/html": [
       "<div>\n",
       "<style scoped>\n",
       "    .dataframe tbody tr th:only-of-type {\n",
       "        vertical-align: middle;\n",
       "    }\n",
       "\n",
       "    .dataframe tbody tr th {\n",
       "        vertical-align: top;\n",
       "    }\n",
       "\n",
       "    .dataframe thead th {\n",
       "        text-align: right;\n",
       "    }\n",
       "</style>\n",
       "<table border=\"1\" class=\"dataframe\">\n",
       "  <thead>\n",
       "    <tr style=\"text-align: right;\">\n",
       "      <th></th>\n",
       "      <th>max</th>\n",
       "      <th>min</th>\n",
       "    </tr>\n",
       "    <tr>\n",
       "      <th>NOME</th>\n",
       "      <th></th>\n",
       "      <th></th>\n",
       "    </tr>\n",
       "  </thead>\n",
       "  <tbody>\n",
       "    <tr>\n",
       "      <th>Luke Skywalker</th>\n",
       "      <td>75.50</td>\n",
       "      <td>70.50</td>\n",
       "    </tr>\n",
       "    <tr>\n",
       "      <th>Palpatine</th>\n",
       "      <td>60.10</td>\n",
       "      <td>60.10</td>\n",
       "    </tr>\n",
       "    <tr>\n",
       "      <th>Yoda</th>\n",
       "      <td>15.12</td>\n",
       "      <td>15.12</td>\n",
       "    </tr>\n",
       "  </tbody>\n",
       "</table>\n",
       "</div>"
      ],
      "text/plain": [
       "                  max    min\n",
       "NOME                        \n",
       "Luke Skywalker  75.50  70.50\n",
       "Palpatine       60.10  60.10\n",
       "Yoda            15.12  15.12"
      ]
     },
     "execution_count": 200,
     "metadata": {},
     "output_type": "execute_result"
    }
   ],
   "source": [
    "#Pesquisei o peso de acordo com os nomes \n",
    "#Como o Luke Skywalker é repetido aparece o dado minimo e maximo\n",
    "jun['PESO'].agg([max , min])"
   ]
  },
  {
   "cell_type": "markdown",
   "id": "grave-massage",
   "metadata": {},
   "source": [
    "<h2>6. Ordenação</h2>\n",
    "<hr/>"
   ]
  },
  {
   "cell_type": "code",
   "execution_count": 201,
   "id": "increasing-delicious",
   "metadata": {},
   "outputs": [
    {
     "data": {
      "text/html": [
       "<div>\n",
       "<style scoped>\n",
       "    .dataframe tbody tr th:only-of-type {\n",
       "        vertical-align: middle;\n",
       "    }\n",
       "\n",
       "    .dataframe tbody tr th {\n",
       "        vertical-align: top;\n",
       "    }\n",
       "\n",
       "    .dataframe thead th {\n",
       "        text-align: right;\n",
       "    }\n",
       "</style>\n",
       "<table border=\"1\" class=\"dataframe\">\n",
       "  <thead>\n",
       "    <tr style=\"text-align: right;\">\n",
       "      <th></th>\n",
       "      <th>nome</th>\n",
       "      <th>idade</th>\n",
       "      <th>nota_final</th>\n",
       "    </tr>\n",
       "  </thead>\n",
       "  <tbody>\n",
       "    <tr>\n",
       "      <th>0</th>\n",
       "      <td>João</td>\n",
       "      <td>20</td>\n",
       "      <td>5.0</td>\n",
       "    </tr>\n",
       "    <tr>\n",
       "      <th>1</th>\n",
       "      <td>Maria</td>\n",
       "      <td>21</td>\n",
       "      <td>10.0</td>\n",
       "    </tr>\n",
       "    <tr>\n",
       "      <th>2</th>\n",
       "      <td>José</td>\n",
       "      <td>19</td>\n",
       "      <td>6.0</td>\n",
       "    </tr>\n",
       "    <tr>\n",
       "      <th>3</th>\n",
       "      <td>Alice</td>\n",
       "      <td>20</td>\n",
       "      <td>10.0</td>\n",
       "    </tr>\n",
       "  </tbody>\n",
       "</table>\n",
       "</div>"
      ],
      "text/plain": [
       "    nome  idade  nota_final\n",
       "0   João     20         5.0\n",
       "1  Maria     21        10.0\n",
       "2   José     19         6.0\n",
       "3  Alice     20        10.0"
      ]
     },
     "execution_count": 201,
     "metadata": {},
     "output_type": "execute_result"
    }
   ],
   "source": [
    "notas = pd.DataFrame({\n",
    "    'nome': ['João', 'Maria', 'José', 'Alice'],\n",
    "    'idade': [20, 21, 19, 20],\n",
    "    'nota_final': [5.0, 10.0, 6.0, 10.0]\n",
    "})\n",
    "notas"
   ]
  },
  {
   "cell_type": "markdown",
   "id": "harmful-director",
   "metadata": {},
   "source": [
    "`.sort_values()`: ordena valores ao longo de um eixo."
   ]
  },
  {
   "cell_type": "code",
   "execution_count": 202,
   "id": "whole-allowance",
   "metadata": {},
   "outputs": [
    {
     "data": {
      "text/html": [
       "<div>\n",
       "<style scoped>\n",
       "    .dataframe tbody tr th:only-of-type {\n",
       "        vertical-align: middle;\n",
       "    }\n",
       "\n",
       "    .dataframe tbody tr th {\n",
       "        vertical-align: top;\n",
       "    }\n",
       "\n",
       "    .dataframe thead th {\n",
       "        text-align: right;\n",
       "    }\n",
       "</style>\n",
       "<table border=\"1\" class=\"dataframe\">\n",
       "  <thead>\n",
       "    <tr style=\"text-align: right;\">\n",
       "      <th></th>\n",
       "      <th>nome</th>\n",
       "      <th>idade</th>\n",
       "      <th>nota_final</th>\n",
       "    </tr>\n",
       "  </thead>\n",
       "  <tbody>\n",
       "    <tr>\n",
       "      <th>0</th>\n",
       "      <td>João</td>\n",
       "      <td>20</td>\n",
       "      <td>5.0</td>\n",
       "    </tr>\n",
       "    <tr>\n",
       "      <th>2</th>\n",
       "      <td>José</td>\n",
       "      <td>19</td>\n",
       "      <td>6.0</td>\n",
       "    </tr>\n",
       "    <tr>\n",
       "      <th>1</th>\n",
       "      <td>Maria</td>\n",
       "      <td>21</td>\n",
       "      <td>10.0</td>\n",
       "    </tr>\n",
       "    <tr>\n",
       "      <th>3</th>\n",
       "      <td>Alice</td>\n",
       "      <td>20</td>\n",
       "      <td>10.0</td>\n",
       "    </tr>\n",
       "  </tbody>\n",
       "</table>\n",
       "</div>"
      ],
      "text/plain": [
       "    nome  idade  nota_final\n",
       "0   João     20         5.0\n",
       "2   José     19         6.0\n",
       "1  Maria     21        10.0\n",
       "3  Alice     20        10.0"
      ]
     },
     "execution_count": 202,
     "metadata": {},
     "output_type": "execute_result"
    }
   ],
   "source": [
    "#Essa função ordena de acordo com oq voce bota para ordenar\n",
    "#neste caso foi nota_final\n",
    "notas.sort_values(by= 'nota_final')"
   ]
  },
  {
   "cell_type": "markdown",
   "id": "american-blues",
   "metadata": {},
   "source": [
    "Por padrão, o método retorna uma cópia dos dados ordenados em **ordem crescente (ascendente)**. Podemos alterar isso pelo argumento `ascending`."
   ]
  },
  {
   "cell_type": "code",
   "execution_count": 203,
   "id": "comparative-burke",
   "metadata": {},
   "outputs": [
    {
     "data": {
      "text/html": [
       "<div>\n",
       "<style scoped>\n",
       "    .dataframe tbody tr th:only-of-type {\n",
       "        vertical-align: middle;\n",
       "    }\n",
       "\n",
       "    .dataframe tbody tr th {\n",
       "        vertical-align: top;\n",
       "    }\n",
       "\n",
       "    .dataframe thead th {\n",
       "        text-align: right;\n",
       "    }\n",
       "</style>\n",
       "<table border=\"1\" class=\"dataframe\">\n",
       "  <thead>\n",
       "    <tr style=\"text-align: right;\">\n",
       "      <th></th>\n",
       "      <th>nome</th>\n",
       "      <th>idade</th>\n",
       "      <th>nota_final</th>\n",
       "    </tr>\n",
       "  </thead>\n",
       "  <tbody>\n",
       "    <tr>\n",
       "      <th>1</th>\n",
       "      <td>Maria</td>\n",
       "      <td>21</td>\n",
       "      <td>10.0</td>\n",
       "    </tr>\n",
       "    <tr>\n",
       "      <th>3</th>\n",
       "      <td>Alice</td>\n",
       "      <td>20</td>\n",
       "      <td>10.0</td>\n",
       "    </tr>\n",
       "    <tr>\n",
       "      <th>2</th>\n",
       "      <td>José</td>\n",
       "      <td>19</td>\n",
       "      <td>6.0</td>\n",
       "    </tr>\n",
       "    <tr>\n",
       "      <th>0</th>\n",
       "      <td>João</td>\n",
       "      <td>20</td>\n",
       "      <td>5.0</td>\n",
       "    </tr>\n",
       "  </tbody>\n",
       "</table>\n",
       "</div>"
      ],
      "text/plain": [
       "    nome  idade  nota_final\n",
       "1  Maria     21        10.0\n",
       "3  Alice     20        10.0\n",
       "2   José     19         6.0\n",
       "0   João     20         5.0"
      ]
     },
     "execution_count": 203,
     "metadata": {},
     "output_type": "execute_result"
    }
   ],
   "source": [
    "#Usando o ascending=False podemos organizar em ordem decrescente\n",
    "#Porem os indeces antigos n mundam\n",
    "notas.sort_values(by= 'nota_final', ascending=False)"
   ]
  },
  {
   "cell_type": "code",
   "execution_count": 204,
   "id": "692c690a",
   "metadata": {},
   "outputs": [
    {
     "data": {
      "text/html": [
       "<div>\n",
       "<style scoped>\n",
       "    .dataframe tbody tr th:only-of-type {\n",
       "        vertical-align: middle;\n",
       "    }\n",
       "\n",
       "    .dataframe tbody tr th {\n",
       "        vertical-align: top;\n",
       "    }\n",
       "\n",
       "    .dataframe thead th {\n",
       "        text-align: right;\n",
       "    }\n",
       "</style>\n",
       "<table border=\"1\" class=\"dataframe\">\n",
       "  <thead>\n",
       "    <tr style=\"text-align: right;\">\n",
       "      <th></th>\n",
       "      <th>nome</th>\n",
       "      <th>idade</th>\n",
       "      <th>nota_final</th>\n",
       "    </tr>\n",
       "  </thead>\n",
       "  <tbody>\n",
       "    <tr>\n",
       "      <th>0</th>\n",
       "      <td>Maria</td>\n",
       "      <td>21</td>\n",
       "      <td>10.0</td>\n",
       "    </tr>\n",
       "    <tr>\n",
       "      <th>1</th>\n",
       "      <td>Alice</td>\n",
       "      <td>20</td>\n",
       "      <td>10.0</td>\n",
       "    </tr>\n",
       "    <tr>\n",
       "      <th>2</th>\n",
       "      <td>José</td>\n",
       "      <td>19</td>\n",
       "      <td>6.0</td>\n",
       "    </tr>\n",
       "    <tr>\n",
       "      <th>3</th>\n",
       "      <td>João</td>\n",
       "      <td>20</td>\n",
       "      <td>5.0</td>\n",
       "    </tr>\n",
       "  </tbody>\n",
       "</table>\n",
       "</div>"
      ],
      "text/plain": [
       "    nome  idade  nota_final\n",
       "0  Maria     21        10.0\n",
       "1  Alice     20        10.0\n",
       "2   José     19         6.0\n",
       "3   João     20         5.0"
      ]
     },
     "execution_count": 204,
     "metadata": {},
     "output_type": "execute_result"
    }
   ],
   "source": [
    "#Caso quira resetar os indices\n",
    "notas.sort_values(by= 'nota_final', ascending=False).reset_index(drop=True)"
   ]
  },
  {
   "cell_type": "markdown",
   "id": "previous-polls",
   "metadata": {},
   "source": [
    "<br/>\n",
    "\n",
    "Podemos ordenar a partir de **mais de uma coluna**:"
   ]
  },
  {
   "cell_type": "code",
   "execution_count": 205,
   "id": "derived-saying",
   "metadata": {},
   "outputs": [
    {
     "data": {
      "text/html": [
       "<div>\n",
       "<style scoped>\n",
       "    .dataframe tbody tr th:only-of-type {\n",
       "        vertical-align: middle;\n",
       "    }\n",
       "\n",
       "    .dataframe tbody tr th {\n",
       "        vertical-align: top;\n",
       "    }\n",
       "\n",
       "    .dataframe thead th {\n",
       "        text-align: right;\n",
       "    }\n",
       "</style>\n",
       "<table border=\"1\" class=\"dataframe\">\n",
       "  <thead>\n",
       "    <tr style=\"text-align: right;\">\n",
       "      <th></th>\n",
       "      <th>nome</th>\n",
       "      <th>idade</th>\n",
       "      <th>nota_final</th>\n",
       "    </tr>\n",
       "  </thead>\n",
       "  <tbody>\n",
       "    <tr>\n",
       "      <th>0</th>\n",
       "      <td>João</td>\n",
       "      <td>20</td>\n",
       "      <td>5.0</td>\n",
       "    </tr>\n",
       "    <tr>\n",
       "      <th>2</th>\n",
       "      <td>José</td>\n",
       "      <td>19</td>\n",
       "      <td>6.0</td>\n",
       "    </tr>\n",
       "    <tr>\n",
       "      <th>3</th>\n",
       "      <td>Alice</td>\n",
       "      <td>20</td>\n",
       "      <td>10.0</td>\n",
       "    </tr>\n",
       "    <tr>\n",
       "      <th>1</th>\n",
       "      <td>Maria</td>\n",
       "      <td>21</td>\n",
       "      <td>10.0</td>\n",
       "    </tr>\n",
       "  </tbody>\n",
       "</table>\n",
       "</div>"
      ],
      "text/plain": [
       "    nome  idade  nota_final\n",
       "0   João     20         5.0\n",
       "2   José     19         6.0\n",
       "3  Alice     20        10.0\n",
       "1  Maria     21        10.0"
      ]
     },
     "execution_count": 205,
     "metadata": {},
     "output_type": "execute_result"
    }
   ],
   "source": [
    "#Ordenando primeiro pelo nota_final e depois pelo nome\n",
    "#Caso aja empate  da nota_final o desenpate vai ser pelo nome\n",
    "notas.sort_values(['nota_final', 'nome'])"
   ]
  },
  {
   "cell_type": "code",
   "execution_count": 206,
   "id": "8898b732",
   "metadata": {},
   "outputs": [
    {
     "data": {
      "text/html": [
       "<div>\n",
       "<style scoped>\n",
       "    .dataframe tbody tr th:only-of-type {\n",
       "        vertical-align: middle;\n",
       "    }\n",
       "\n",
       "    .dataframe tbody tr th {\n",
       "        vertical-align: top;\n",
       "    }\n",
       "\n",
       "    .dataframe thead th {\n",
       "        text-align: right;\n",
       "    }\n",
       "</style>\n",
       "<table border=\"1\" class=\"dataframe\">\n",
       "  <thead>\n",
       "    <tr style=\"text-align: right;\">\n",
       "      <th></th>\n",
       "      <th>nome</th>\n",
       "      <th>idade</th>\n",
       "      <th>nota_final</th>\n",
       "    </tr>\n",
       "  </thead>\n",
       "  <tbody>\n",
       "    <tr>\n",
       "      <th>1</th>\n",
       "      <td>Maria</td>\n",
       "      <td>21</td>\n",
       "      <td>10.0</td>\n",
       "    </tr>\n",
       "    <tr>\n",
       "      <th>3</th>\n",
       "      <td>Alice</td>\n",
       "      <td>20</td>\n",
       "      <td>10.0</td>\n",
       "    </tr>\n",
       "    <tr>\n",
       "      <th>2</th>\n",
       "      <td>José</td>\n",
       "      <td>19</td>\n",
       "      <td>6.0</td>\n",
       "    </tr>\n",
       "    <tr>\n",
       "      <th>0</th>\n",
       "      <td>João</td>\n",
       "      <td>20</td>\n",
       "      <td>5.0</td>\n",
       "    </tr>\n",
       "  </tbody>\n",
       "</table>\n",
       "</div>"
      ],
      "text/plain": [
       "    nome  idade  nota_final\n",
       "1  Maria     21        10.0\n",
       "3  Alice     20        10.0\n",
       "2   José     19         6.0\n",
       "0   João     20         5.0"
      ]
     },
     "execution_count": 206,
     "metadata": {},
     "output_type": "execute_result"
    }
   ],
   "source": [
    "#Veja que o criterio de nots tme que ser decrescente ou seja do maoir para o menor\n",
    "#Já no caso dos nome tem que ser crescente ou seja do A para o Z\n",
    "notas.sort_values(['nota_final', 'nome'], ascending=False)"
   ]
  },
  {
   "cell_type": "code",
   "execution_count": 207,
   "id": "ef1d93f0",
   "metadata": {},
   "outputs": [
    {
     "data": {
      "text/html": [
       "<div>\n",
       "<style scoped>\n",
       "    .dataframe tbody tr th:only-of-type {\n",
       "        vertical-align: middle;\n",
       "    }\n",
       "\n",
       "    .dataframe tbody tr th {\n",
       "        vertical-align: top;\n",
       "    }\n",
       "\n",
       "    .dataframe thead th {\n",
       "        text-align: right;\n",
       "    }\n",
       "</style>\n",
       "<table border=\"1\" class=\"dataframe\">\n",
       "  <thead>\n",
       "    <tr style=\"text-align: right;\">\n",
       "      <th></th>\n",
       "      <th>nome</th>\n",
       "      <th>idade</th>\n",
       "      <th>nota_final</th>\n",
       "    </tr>\n",
       "  </thead>\n",
       "  <tbody>\n",
       "    <tr>\n",
       "      <th>3</th>\n",
       "      <td>Alice</td>\n",
       "      <td>20</td>\n",
       "      <td>10.0</td>\n",
       "    </tr>\n",
       "    <tr>\n",
       "      <th>1</th>\n",
       "      <td>Maria</td>\n",
       "      <td>21</td>\n",
       "      <td>10.0</td>\n",
       "    </tr>\n",
       "    <tr>\n",
       "      <th>2</th>\n",
       "      <td>José</td>\n",
       "      <td>19</td>\n",
       "      <td>6.0</td>\n",
       "    </tr>\n",
       "    <tr>\n",
       "      <th>0</th>\n",
       "      <td>João</td>\n",
       "      <td>20</td>\n",
       "      <td>5.0</td>\n",
       "    </tr>\n",
       "  </tbody>\n",
       "</table>\n",
       "</div>"
      ],
      "text/plain": [
       "    nome  idade  nota_final\n",
       "3  Alice     20        10.0\n",
       "1  Maria     21        10.0\n",
       "2   José     19         6.0\n",
       "0   João     20         5.0"
      ]
     },
     "execution_count": 207,
     "metadata": {},
     "output_type": "execute_result"
    }
   ],
   "source": [
    "#Já no caso dos nome tem que ser crescente ou seja do A para o Z\n",
    "\n",
    "notas.sort_values(['nota_final', 'nome'],ascending=[False,True])"
   ]
  },
  {
   "cell_type": "markdown",
   "id": "experienced-husband",
   "metadata": {},
   "source": [
    "Ordena os registros, primeiramente, pela coluna 'nota_final' em **ordem descrente**. <br/>\n",
    "Então, reordena os registros _\"empatados\"_, ou seja, com a **mesma nota final**, em _ordem alfabética_ (ordem crescente)."
   ]
  },
  {
   "cell_type": "markdown",
   "id": "original-december",
   "metadata": {},
   "source": [
    "<br/>\n",
    "\n",
    "Note que o dataframe original **não foi alterado** após a ordenação."
   ]
  },
  {
   "cell_type": "code",
   "execution_count": 208,
   "id": "numeric-vietnam",
   "metadata": {},
   "outputs": [
    {
     "data": {
      "text/html": [
       "<div>\n",
       "<style scoped>\n",
       "    .dataframe tbody tr th:only-of-type {\n",
       "        vertical-align: middle;\n",
       "    }\n",
       "\n",
       "    .dataframe tbody tr th {\n",
       "        vertical-align: top;\n",
       "    }\n",
       "\n",
       "    .dataframe thead th {\n",
       "        text-align: right;\n",
       "    }\n",
       "</style>\n",
       "<table border=\"1\" class=\"dataframe\">\n",
       "  <thead>\n",
       "    <tr style=\"text-align: right;\">\n",
       "      <th></th>\n",
       "      <th>nome</th>\n",
       "      <th>idade</th>\n",
       "      <th>nota_final</th>\n",
       "    </tr>\n",
       "  </thead>\n",
       "  <tbody>\n",
       "    <tr>\n",
       "      <th>0</th>\n",
       "      <td>João</td>\n",
       "      <td>20</td>\n",
       "      <td>5.0</td>\n",
       "    </tr>\n",
       "    <tr>\n",
       "      <th>1</th>\n",
       "      <td>Maria</td>\n",
       "      <td>21</td>\n",
       "      <td>10.0</td>\n",
       "    </tr>\n",
       "    <tr>\n",
       "      <th>2</th>\n",
       "      <td>José</td>\n",
       "      <td>19</td>\n",
       "      <td>6.0</td>\n",
       "    </tr>\n",
       "    <tr>\n",
       "      <th>3</th>\n",
       "      <td>Alice</td>\n",
       "      <td>20</td>\n",
       "      <td>10.0</td>\n",
       "    </tr>\n",
       "  </tbody>\n",
       "</table>\n",
       "</div>"
      ],
      "text/plain": [
       "    nome  idade  nota_final\n",
       "0   João     20         5.0\n",
       "1  Maria     21        10.0\n",
       "2   José     19         6.0\n",
       "3  Alice     20        10.0"
      ]
     },
     "execution_count": 208,
     "metadata": {},
     "output_type": "execute_result"
    }
   ],
   "source": [
    "notas"
   ]
  },
  {
   "cell_type": "markdown",
   "id": "focal-compact",
   "metadata": {},
   "source": [
    "Para alterá-lo, use o argumento `inplace=True`:"
   ]
  },
  {
   "cell_type": "code",
   "execution_count": 209,
   "id": "advanced-aberdeen",
   "metadata": {},
   "outputs": [
    {
     "data": {
      "text/html": [
       "<div>\n",
       "<style scoped>\n",
       "    .dataframe tbody tr th:only-of-type {\n",
       "        vertical-align: middle;\n",
       "    }\n",
       "\n",
       "    .dataframe tbody tr th {\n",
       "        vertical-align: top;\n",
       "    }\n",
       "\n",
       "    .dataframe thead th {\n",
       "        text-align: right;\n",
       "    }\n",
       "</style>\n",
       "<table border=\"1\" class=\"dataframe\">\n",
       "  <thead>\n",
       "    <tr style=\"text-align: right;\">\n",
       "      <th></th>\n",
       "      <th>nome</th>\n",
       "      <th>idade</th>\n",
       "      <th>nota_final</th>\n",
       "    </tr>\n",
       "  </thead>\n",
       "  <tbody>\n",
       "    <tr>\n",
       "      <th>3</th>\n",
       "      <td>Alice</td>\n",
       "      <td>20</td>\n",
       "      <td>10.0</td>\n",
       "    </tr>\n",
       "    <tr>\n",
       "      <th>1</th>\n",
       "      <td>Maria</td>\n",
       "      <td>21</td>\n",
       "      <td>10.0</td>\n",
       "    </tr>\n",
       "    <tr>\n",
       "      <th>2</th>\n",
       "      <td>José</td>\n",
       "      <td>19</td>\n",
       "      <td>6.0</td>\n",
       "    </tr>\n",
       "    <tr>\n",
       "      <th>0</th>\n",
       "      <td>João</td>\n",
       "      <td>20</td>\n",
       "      <td>5.0</td>\n",
       "    </tr>\n",
       "  </tbody>\n",
       "</table>\n",
       "</div>"
      ],
      "text/plain": [
       "    nome  idade  nota_final\n",
       "3  Alice     20        10.0\n",
       "1  Maria     21        10.0\n",
       "2   José     19         6.0\n",
       "0   João     20         5.0"
      ]
     },
     "execution_count": 209,
     "metadata": {},
     "output_type": "execute_result"
    }
   ],
   "source": [
    "#Usando o inplace=True gravamos a matriz no propio dataframe original\n",
    "notas.sort_values(['nota_final', 'nome'], ascending=[False,True], inplace=True)\n",
    "notas"
   ]
  },
  {
   "cell_type": "code",
   "execution_count": 210,
   "id": "announced-genetics",
   "metadata": {},
   "outputs": [
    {
     "data": {
      "text/html": [
       "<div>\n",
       "<style scoped>\n",
       "    .dataframe tbody tr th:only-of-type {\n",
       "        vertical-align: middle;\n",
       "    }\n",
       "\n",
       "    .dataframe tbody tr th {\n",
       "        vertical-align: top;\n",
       "    }\n",
       "\n",
       "    .dataframe thead th {\n",
       "        text-align: right;\n",
       "    }\n",
       "</style>\n",
       "<table border=\"1\" class=\"dataframe\">\n",
       "  <thead>\n",
       "    <tr style=\"text-align: right;\">\n",
       "      <th></th>\n",
       "      <th>nome</th>\n",
       "      <th>idade</th>\n",
       "      <th>nota_final</th>\n",
       "    </tr>\n",
       "  </thead>\n",
       "  <tbody>\n",
       "    <tr>\n",
       "      <th>0</th>\n",
       "      <td>Alice</td>\n",
       "      <td>20</td>\n",
       "      <td>10.0</td>\n",
       "    </tr>\n",
       "    <tr>\n",
       "      <th>1</th>\n",
       "      <td>Maria</td>\n",
       "      <td>21</td>\n",
       "      <td>10.0</td>\n",
       "    </tr>\n",
       "    <tr>\n",
       "      <th>2</th>\n",
       "      <td>José</td>\n",
       "      <td>19</td>\n",
       "      <td>6.0</td>\n",
       "    </tr>\n",
       "    <tr>\n",
       "      <th>3</th>\n",
       "      <td>João</td>\n",
       "      <td>20</td>\n",
       "      <td>5.0</td>\n",
       "    </tr>\n",
       "  </tbody>\n",
       "</table>\n",
       "</div>"
      ],
      "text/plain": [
       "    nome  idade  nota_final\n",
       "0  Alice     20        10.0\n",
       "1  Maria     21        10.0\n",
       "2   José     19         6.0\n",
       "3   João     20         5.0"
      ]
     },
     "execution_count": 210,
     "metadata": {},
     "output_type": "execute_result"
    }
   ],
   "source": [
    "#agora corrigindo os indices\n",
    "notas.reset_index(drop=True)"
   ]
  },
  {
   "cell_type": "markdown",
   "id": "functional-clark",
   "metadata": {},
   "source": [
    "<h2>7. Exercícios</h2>\n",
    "<hr/>"
   ]
  },
  {
   "cell_type": "markdown",
   "id": "democratic-commonwealth",
   "metadata": {},
   "source": [
    "Vamos aplicar os conceitos que vimos em alguns exercícios. <br/>\n",
    "Para isso, utilizaremos o dataset de _preços de combustíveis no Brasil_.\n",
    "\n",
    "Como há apenas medições de janeiro a junho para o ano de 2019, resolvemos **remover os dados** deste ano da análise."
   ]
  },
  {
   "cell_type": "code",
   "execution_count": null,
   "id": "cardiovascular-daily",
   "metadata": {},
   "outputs": [],
   "source": []
  },
  {
   "cell_type": "markdown",
   "id": "mexican-guinea",
   "metadata": {},
   "source": [
    "Note que temos um novo dataframe com 99739 linhas, mas com índices fora desse intervalo. <br/>\n",
    "Acontece que os registros mantiveram seus índices originais após a query. <br/>\n",
    "\n",
    "Para resetar os índices de _0 a num_linhas-1_, basta usarmos o método `.reset_index()`. "
   ]
  },
  {
   "cell_type": "code",
   "execution_count": null,
   "id": "combined-release",
   "metadata": {},
   "outputs": [],
   "source": []
  },
  {
   "cell_type": "markdown",
   "id": "transparent-cannon",
   "metadata": {},
   "source": [
    "Os índices agora foram **resetados**. Porém, os índices antigos se transformaram em _uma nova coluna_ chamada 'index'. <br/>\n",
    "Para removê-la durante o _reset_, basta passarmos o argumento `drop=True`."
   ]
  },
  {
   "cell_type": "code",
   "execution_count": null,
   "id": "registered-walnut",
   "metadata": {},
   "outputs": [],
   "source": []
  },
  {
   "cell_type": "code",
   "execution_count": null,
   "id": "jewish-cancer",
   "metadata": {},
   "outputs": [],
   "source": []
  },
  {
   "cell_type": "markdown",
   "id": "worth-running",
   "metadata": {},
   "source": [
    "### 7.1 Qual a proporção de postos pesquisados para cada combustível em cada região"
   ]
  },
  {
   "cell_type": "code",
   "execution_count": null,
   "id": "corrected-major",
   "metadata": {},
   "outputs": [],
   "source": []
  },
  {
   "cell_type": "code",
   "execution_count": null,
   "id": "returning-premium",
   "metadata": {},
   "outputs": [],
   "source": []
  },
  {
   "cell_type": "markdown",
   "id": "improving-corporation",
   "metadata": {},
   "source": [
    "### 7.2 Como os preços da Gasolina Comum em São Paulo variaram em 2018?"
   ]
  },
  {
   "cell_type": "code",
   "execution_count": null,
   "id": "damaged-horse",
   "metadata": {},
   "outputs": [],
   "source": []
  },
  {
   "cell_type": "code",
   "execution_count": null,
   "id": "complicated-louis",
   "metadata": {},
   "outputs": [],
   "source": []
  },
  {
   "cell_type": "markdown",
   "id": "ecological-pavilion",
   "metadata": {},
   "source": [
    "#### **Estatísticas Descritivas**"
   ]
  },
  {
   "cell_type": "code",
   "execution_count": null,
   "id": "scientific-acrylic",
   "metadata": {},
   "outputs": [],
   "source": []
  },
  {
   "cell_type": "code",
   "execution_count": null,
   "id": "touched-irrigation",
   "metadata": {},
   "outputs": [],
   "source": []
  },
  {
   "cell_type": "markdown",
   "id": "freelance-python",
   "metadata": {},
   "source": [
    "### 7.3 Como os preços da Gasolina Comum e do Etanol em São Paulo variaram em 2018?"
   ]
  },
  {
   "cell_type": "code",
   "execution_count": null,
   "id": "diagnostic-replacement",
   "metadata": {},
   "outputs": [],
   "source": []
  },
  {
   "cell_type": "code",
   "execution_count": null,
   "id": "necessary-absolute",
   "metadata": {},
   "outputs": [],
   "source": []
  },
  {
   "cell_type": "code",
   "execution_count": null,
   "id": "selected-confidentiality",
   "metadata": {},
   "outputs": [],
   "source": []
  },
  {
   "cell_type": "code",
   "execution_count": null,
   "id": "minute-september",
   "metadata": {},
   "outputs": [],
   "source": []
  },
  {
   "cell_type": "code",
   "execution_count": null,
   "id": "phantom-environment",
   "metadata": {},
   "outputs": [],
   "source": []
  },
  {
   "cell_type": "markdown",
   "id": "phantom-focus",
   "metadata": {},
   "source": [
    "<h2>8. Assuntos para continuar os estudos</h2>\n",
    "<hr/>\n",
    "\n",
    "- join\n",
    "- concat\n",
    "- plot\n",
    "- data cleaning"
   ]
  }
 ],
 "metadata": {
  "kernelspec": {
   "display_name": "Python 3",
   "language": "python",
   "name": "python3"
  },
  "language_info": {
   "codemirror_mode": {
    "name": "ipython",
    "version": 3
   },
   "file_extension": ".py",
   "mimetype": "text/x-python",
   "name": "python",
   "nbconvert_exporter": "python",
   "pygments_lexer": "ipython3",
   "version": "3.11.9"
  }
 },
 "nbformat": 4,
 "nbformat_minor": 5
}
